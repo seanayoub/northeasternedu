{
 "cells": [
  {
   "cell_type": "markdown",
   "metadata": {},
   "source": [
    "# DS 3000 HW 1 \n",
    "\n",
    "Due: Tuesday Sep 18 @ 11:59 PM EST\n",
    "\n",
    "### Submission Instructions\n",
    "Submit this `ipynb` file to Gradescope (this can also be done via the assignment on Canvas).  To ensure that your submitted `ipynb` file represents your latest code, make sure to give a fresh `Kernel > Restart & Run All` just before uploading the `ipynb` file to gradescope.\n",
    "\n",
    "### Tips for success\n",
    "- Start early\n",
    "- Make use of Piazza (also accessible through Canvas)\n",
    "- Make use of Office Hours\n",
    "- Remember to use cells and headings to make the notebook easy to read (if a grader cannot find the answer to a problem, you will receive no points for it)\n",
    "- Under no circumstances may one student view or share their ungraded homework or quiz with another student [(see also)](http://www.northeastern.edu/osccr/academic-integrity), though you are welcome to **talk about** (*not* show each other your answers to) the problems."
   ]
  },
  {
   "cell_type": "markdown",
   "metadata": {},
   "source": [
    "# Part 1 (25 points): Markdown in Jupyter\n",
    "\n",
    "Use the markdown language below to create your own brief wikipedia-esque description of any subject of interest. \n",
    "\n",
    "Your mini-wiki page must include:\n",
    "- three headers: a title, subtitle and subsubtitle (the #, ##, ### syntax)\n",
    "- an embedded image from a web address (use an [image hosting site](https://makeawebsitehub.com/free-photo-hosting/) if you'd like to upload your own)\n",
    "- a table of size at least 3 rows x 3 columns (needn't be correct, but must make sense)\n",
    "- a list\n",
    "- a link to another website\n",
    "\n",
    "Please be brief in your text.  Aim for roughly 3 sentences total of text.  We won't grade based on content, but keep it appropriate for class.  If you make the grader smile, no extra credit will be awarded beyond the satisfaction of having made somebody's day better :)"
   ]
  },
  {
   "cell_type": "markdown",
   "metadata": {},
   "source": [
    "# This is a Heading\n",
    "\n",
    "## With a Subheading Under It\n",
    "\n",
    "    - This is a list\n",
    "    - Of minimal length\n",
    "    - With several points to make\n",
    "    - And a bonus extra item\n",
    "    \n",
    "I wasn't really sure what to write about so I just made it something random. I'll add another sentence to increase the length of the text. And another that's more interesting than the last.\n",
    "\n",
    "### A Smaller Subheading\n",
    "[And a link to the NY Times](https://www.nytimes.com)\n",
    "\n",
    "| Color  | Fruit  | Status | Cost |\n",
    "|--------|--------|--------|------|\n",
    "| Red    | Apple  | Ripe   | 4    |\n",
    "| Green  | Pear   | Ripe   | 3    |\n",
    "| Yellow | Banana | Ripe   | 1    |\n",
    "\n",
    "![alt text](https://images.unsplash.com/photo-1598755257130-c2aaca1f061c?ixlib=rb-4.0.3&ixid=M3wxMjA3fDB8MHxzZWFyY2h8M3x8d2lsZCUyMGFuaW1hbHxlbnwwfHwwfHx8MA%3D%3D&w=1000&q=80)"
   ]
  },
  {
   "cell_type": "markdown",
   "metadata": {},
   "source": [
    "# Part 2: Lists and Flow and Functions, Oh my! \n",
    "## Part 2.1: Manual Data Entry (20 points)\n",
    "\n",
    "**Beware**: to complete this part of the assignment, you *must* do it during a weekday when the stock market is open!\n",
    "\n",
    "How would you collect data on a stock's performance without a computer doing it automatically? Go to [this website](https://www.tradingview.com/) and look up a stock (any stock). You are going to write a function that takes live input of the stock's value (entered by you), saves all inputs in a list, stops once you enter 10 values **or** three consecutive decreasing values (whichever comes first), and returns the values.\n",
    "\n",
    "For this problem:\n",
    "\n",
    "- Call your function `my_stock`\n",
    "- Make sure that you use the `input()` option within your function to accept entries\n",
    "- Make sure you are saving all entries in a list\n",
    "- Use `if-else` and a `while` loop\n",
    "- When you have written the function, call:\n",
    "\n",
    "`manual_data_entry = my_stock()`\n",
    "\n",
    "`manual_data_entry`\n",
    "\n",
    "and click between (or have the pages open side by side) this notebook and the stock to manually enter the stock's value over time (the website updates every 5 seconds).\n",
    "\n",
    "**Note**: There may be multiple ways to get this function to work, but to receive full points, your function **must** have the five components listed above."
   ]
  },
  {
   "cell_type": "code",
   "execution_count": 1,
   "metadata": {},
   "outputs": [],
   "source": [
    "def my_stock():\n",
    "    \"\"\" collects stock data in a list. returns after 10 inputs or three consecutive decreasing values\n",
    "    \n",
    "    Returns:\n",
    "        data (list): stock values over time\n",
    "        \n",
    "    \"\"\"\n",
    "    data = []\n",
    "    \n",
    "    count = 0\n",
    "    while count < 10:\n",
    "        value = float(input(\"What is the current value of the stock? \"))\n",
    "        data.append(value)\n",
    "        \n",
    "        # test for three consecutive decreasing values\n",
    "        if data[count] < data[count - 1] < data[count - 2]:\n",
    "            break\n",
    "        else:\n",
    "            count += 1\n",
    "        \n",
    "    return data"
   ]
  },
  {
   "cell_type": "code",
   "execution_count": 2,
   "metadata": {},
   "outputs": [
    {
     "name": "stdout",
     "output_type": "stream",
     "text": [
      "What is the current value of the stock? 176.27\n",
      "What is the current value of the stock? 176.27\n",
      "What is the current value of the stock? 176.28\n",
      "What is the current value of the stock? 176.30\n",
      "What is the current value of the stock? 176.29\n",
      "What is the current value of the stock? 176.28\n"
     ]
    },
    {
     "data": {
      "text/plain": [
       "[176.27, 176.27, 176.28, 176.3, 176.29, 176.28]"
      ]
     },
     "execution_count": 2,
     "metadata": {},
     "output_type": "execute_result"
    }
   ],
   "source": [
    "manual_data_entry = my_stock()\n",
    "\n",
    "manual_data_entry"
   ]
  },
  {
   "cell_type": "markdown",
   "metadata": {},
   "source": [
    "## Part 2.2: Thinking (5 pts)\n",
    "\n",
    "In a markdown (text) cell, discuss at least **two** drawbacks to using the function you wrote in Part 2.1 to collect the data the way we did. Make sure you **discuss** the drawbacks, instead of simply listing them. What did we do that was sub-optimal and how could we improve it?"
   ]
  },
  {
   "cell_type": "markdown",
   "metadata": {},
   "source": []
  },
  {
   "cell_type": "markdown",
   "metadata": {},
   "source": [
    "# Part 3: Numpy\n",
    "## Part 3.1: Creating Arrays (10 points)\n",
    "\n",
    "Create the following two arrays using the NumPy library. Call the first array `array_a` and the second array `array_b` (make sure you keep the `import` statement below):\n",
    "\n",
    "$$\\mathbf{array_a} = \\begin{bmatrix}3 & 8 & -2 & 3\\\\\n",
    ".5 & -1 & 6 & 4\\\\\n",
    "-5 & 7 & -42 & 2\n",
    "\\end{bmatrix}$$\n",
    "\n",
    "$$\\mathbf{array_b} = \\begin{bmatrix}42 & 38 & 34\\\\\n",
    "30 & 26 & 22\\\\\n",
    "18 & 14 & 10\\\\\n",
    "6 & 2 & -2\\\\\n",
    "-6 & -10 & -14\n",
    "\\end{bmatrix}$$"
   ]
  },
  {
   "cell_type": "code",
   "execution_count": 3,
   "metadata": {},
   "outputs": [],
   "source": [
    "# make sure to import numpy library\n",
    "import numpy as np"
   ]
  },
  {
   "cell_type": "code",
   "execution_count": 4,
   "metadata": {},
   "outputs": [],
   "source": [
    "array_a = np.array([[3, 8, -2, 3],\n",
    "                   [.5, -1, 6, 4],\n",
    "                   [-5, 7, -42, 2]])\n",
    "\n",
    "array_b = np.array([[42, 38, 34],\n",
    "                    [30, 26, 22],\n",
    "                    [18, 14, 10],\n",
    "                    [6, 2, -2],\n",
    "                    [-6, -10, -14]])"
   ]
  },
  {
   "cell_type": "code",
   "execution_count": 5,
   "metadata": {},
   "outputs": [
    {
     "data": {
      "text/plain": [
       "array([[  3. ,   8. ,  -2. ,   3. ],\n",
       "       [  0.5,  -1. ,   6. ,   4. ],\n",
       "       [ -5. ,   7. , -42. ,   2. ]])"
      ]
     },
     "execution_count": 5,
     "metadata": {},
     "output_type": "execute_result"
    }
   ],
   "source": [
    "array_a"
   ]
  },
  {
   "cell_type": "code",
   "execution_count": 6,
   "metadata": {},
   "outputs": [
    {
     "data": {
      "text/plain": [
       "array([[ 42,  38,  34],\n",
       "       [ 30,  26,  22],\n",
       "       [ 18,  14,  10],\n",
       "       [  6,   2,  -2],\n",
       "       [ -6, -10, -14]])"
      ]
     },
     "execution_count": 6,
     "metadata": {},
     "output_type": "execute_result"
    }
   ],
   "source": [
    "array_b"
   ]
  },
  {
   "cell_type": "markdown",
   "metadata": {},
   "source": [
    "## Part 3.2: Exploring Arrays (15 points)\n",
    "\n",
    "1. Give the shape, size, ndim, and nbytes for each of the two arrays.\n",
    "1. Take the transpose of both arrays. Call these `t_array_a` and `t_array_b`.\n",
    "1. Try to add `array_a` and `t_array_b`, then remove the last column of `t_array_b` and try to add them again. In a markdown cell, explain what happened."
   ]
  },
  {
   "cell_type": "code",
   "execution_count": 7,
   "metadata": {},
   "outputs": [
    {
     "name": "stdout",
     "output_type": "stream",
     "text": [
      "(3, 4)\n",
      "12\n",
      "2\n",
      "96\n"
     ]
    }
   ],
   "source": [
    "# array a stats\n",
    "print(array_a.shape)\n",
    "print(array_a.size)\n",
    "print(array_a.ndim)\n",
    "print(array_a.nbytes)"
   ]
  },
  {
   "cell_type": "code",
   "execution_count": 8,
   "metadata": {},
   "outputs": [
    {
     "name": "stdout",
     "output_type": "stream",
     "text": [
      "(5, 3)\n",
      "15\n",
      "2\n",
      "60\n"
     ]
    }
   ],
   "source": [
    "# array b stats\n",
    "print(array_b.shape)\n",
    "print(array_b.size)\n",
    "print(array_b.ndim)\n",
    "print(array_b.nbytes)"
   ]
  },
  {
   "cell_type": "code",
   "execution_count": 9,
   "metadata": {},
   "outputs": [],
   "source": [
    "# transpose array a and b\n",
    "t_array_a = np.transpose(array_a)\n",
    "t_array_b = np.transpose(array_b)"
   ]
  },
  {
   "cell_type": "code",
   "execution_count": 10,
   "metadata": {},
   "outputs": [
    {
     "ename": "ValueError",
     "evalue": "operands could not be broadcast together with shapes (3,4) (3,5) ",
     "output_type": "error",
     "traceback": [
      "\u001b[1;31m---------------------------------------------------------------------------\u001b[0m",
      "\u001b[1;31mValueError\u001b[0m                                Traceback (most recent call last)",
      "Cell \u001b[1;32mIn[10], line 2\u001b[0m\n\u001b[0;32m      1\u001b[0m \u001b[38;5;66;03m# adding arrays\u001b[39;00m\n\u001b[1;32m----> 2\u001b[0m \u001b[43mnp\u001b[49m\u001b[38;5;241;43m.\u001b[39;49m\u001b[43madd\u001b[49m\u001b[43m(\u001b[49m\u001b[43marray_a\u001b[49m\u001b[43m,\u001b[49m\u001b[43m \u001b[49m\u001b[43mt_array_b\u001b[49m\u001b[43m)\u001b[49m\n",
      "\u001b[1;31mValueError\u001b[0m: operands could not be broadcast together with shapes (3,4) (3,5) "
     ]
    }
   ],
   "source": [
    "# adding arrays\n",
    "np.add(array_a, t_array_b)"
   ]
  },
  {
   "cell_type": "code",
   "execution_count": 11,
   "metadata": {},
   "outputs": [],
   "source": [
    "# delete a column from t_array_b\n",
    "t_array_b = np.delete(t_array_b, 4, 1)"
   ]
  },
  {
   "cell_type": "code",
   "execution_count": 12,
   "metadata": {},
   "outputs": [
    {
     "data": {
      "text/plain": [
       "array([[ 45. ,  38. ,  16. ,   9. ],\n",
       "       [ 38.5,  25. ,  20. ,   6. ],\n",
       "       [ 29. ,  29. , -32. ,   0. ]])"
      ]
     },
     "execution_count": 12,
     "metadata": {},
     "output_type": "execute_result"
    }
   ],
   "source": [
    "# adding arrays part two\n",
    "np.add(array_a, t_array_b)"
   ]
  },
  {
   "cell_type": "markdown",
   "metadata": {},
   "source": [
    "In order to add two numpy arrays together, both arrays have to have the same length. The reason adding the two arrays didn't work the first time was because t_array_b was longer by one column. By removing this colomn, the two arrays were the same shape and were able to be added together."
   ]
  },
  {
   "cell_type": "markdown",
   "metadata": {},
   "source": [
    "# Part 4: Pandas Pokémon\n",
    "## Part 4.1: Reading in Data (5 points)\n",
    "\n",
    "On Canvas is the `pokedata.csv` file. Read this data set in, using the `Pokedex` as the index column, and print the first few rows of the data. Make sure you keep the `import` statement below!"
   ]
  },
  {
   "cell_type": "code",
   "execution_count": 13,
   "metadata": {},
   "outputs": [],
   "source": [
    "# make sure to import pandas library\n",
    "import pandas as pd"
   ]
  },
  {
   "cell_type": "code",
   "execution_count": 14,
   "metadata": {},
   "outputs": [
    {
     "data": {
      "text/html": [
       "<div>\n",
       "<style scoped>\n",
       "    .dataframe tbody tr th:only-of-type {\n",
       "        vertical-align: middle;\n",
       "    }\n",
       "\n",
       "    .dataframe tbody tr th {\n",
       "        vertical-align: top;\n",
       "    }\n",
       "\n",
       "    .dataframe thead th {\n",
       "        text-align: right;\n",
       "    }\n",
       "</style>\n",
       "<table border=\"1\" class=\"dataframe\">\n",
       "  <thead>\n",
       "    <tr style=\"text-align: right;\">\n",
       "      <th></th>\n",
       "      <th>Pokemon</th>\n",
       "      <th>MainType</th>\n",
       "      <th>SecondaryType</th>\n",
       "      <th>Height</th>\n",
       "      <th>Weight</th>\n",
       "      <th>Damage</th>\n",
       "      <th>BaseSpeed</th>\n",
       "      <th>Attack</th>\n",
       "      <th>Defense</th>\n",
       "    </tr>\n",
       "    <tr>\n",
       "      <th>Pokedex</th>\n",
       "      <th></th>\n",
       "      <th></th>\n",
       "      <th></th>\n",
       "      <th></th>\n",
       "      <th></th>\n",
       "      <th></th>\n",
       "      <th></th>\n",
       "      <th></th>\n",
       "      <th></th>\n",
       "    </tr>\n",
       "  </thead>\n",
       "  <tbody>\n",
       "    <tr>\n",
       "      <th>1</th>\n",
       "      <td>Bulbasaur</td>\n",
       "      <td>Grass</td>\n",
       "      <td>Poison</td>\n",
       "      <td>24</td>\n",
       "      <td>25.2</td>\n",
       "      <td>45</td>\n",
       "      <td>45</td>\n",
       "      <td>49</td>\n",
       "      <td>49</td>\n",
       "    </tr>\n",
       "    <tr>\n",
       "      <th>2</th>\n",
       "      <td>Ivysaur</td>\n",
       "      <td>Grass</td>\n",
       "      <td>Poison</td>\n",
       "      <td>39</td>\n",
       "      <td>28.7</td>\n",
       "      <td>60</td>\n",
       "      <td>60</td>\n",
       "      <td>62</td>\n",
       "      <td>63</td>\n",
       "    </tr>\n",
       "    <tr>\n",
       "      <th>3</th>\n",
       "      <td>Venusaur</td>\n",
       "      <td>Grass</td>\n",
       "      <td>Poison</td>\n",
       "      <td>79</td>\n",
       "      <td>220.5</td>\n",
       "      <td>80</td>\n",
       "      <td>80</td>\n",
       "      <td>82</td>\n",
       "      <td>83</td>\n",
       "    </tr>\n",
       "    <tr>\n",
       "      <th>4</th>\n",
       "      <td>Charmander</td>\n",
       "      <td>Fire</td>\n",
       "      <td>NaN</td>\n",
       "      <td>24</td>\n",
       "      <td>18.7</td>\n",
       "      <td>39</td>\n",
       "      <td>65</td>\n",
       "      <td>52</td>\n",
       "      <td>43</td>\n",
       "    </tr>\n",
       "    <tr>\n",
       "      <th>5</th>\n",
       "      <td>Charmeleon</td>\n",
       "      <td>Fire</td>\n",
       "      <td>NaN</td>\n",
       "      <td>43</td>\n",
       "      <td>41.9</td>\n",
       "      <td>58</td>\n",
       "      <td>80</td>\n",
       "      <td>64</td>\n",
       "      <td>58</td>\n",
       "    </tr>\n",
       "  </tbody>\n",
       "</table>\n",
       "</div>"
      ],
      "text/plain": [
       "            Pokemon MainType SecondaryType  Height  Weight  Damage  BaseSpeed  \\\n",
       "Pokedex                                                                         \n",
       "1         Bulbasaur    Grass        Poison      24    25.2      45         45   \n",
       "2           Ivysaur    Grass        Poison      39    28.7      60         60   \n",
       "3          Venusaur    Grass        Poison      79   220.5      80         80   \n",
       "4        Charmander     Fire           NaN      24    18.7      39         65   \n",
       "5        Charmeleon     Fire           NaN      43    41.9      58         80   \n",
       "\n",
       "         Attack  Defense  \n",
       "Pokedex                   \n",
       "1            49       49  \n",
       "2            62       63  \n",
       "3            82       83  \n",
       "4            52       43  \n",
       "5            64       58  "
      ]
     },
     "execution_count": 14,
     "metadata": {},
     "output_type": "execute_result"
    }
   ],
   "source": [
    "df_pokedex = pd.read_csv(\"pokedata.csv\") \n",
    "\n",
    "df_pokedex.set_index(\"Pokedex\", inplace = True)\n",
    "\n",
    "df_pokedex.head()"
   ]
  },
  {
   "cell_type": "markdown",
   "metadata": {},
   "source": [
    "## Part 4.2: Manipulating Data (20 points)\n",
    "\n",
    "1. Add a new column to the data set that calculates the BMI of the Pokémon. The formula for BMI using Imperial Units (such as these data contain) is = $703 \\times \\frac{Weight}{Height^2}$. Print the first few rows.\n",
    "    - Find out which Pokémon have (a) the highest BMI and (b) the lowest BMI.\n",
    "1. Create a subset of the Pokémon Data that you created in (1) which (a) includes only Pokémon that have `BaseSpeed >= 60` and (b) **excludes** all Pokémon with the Grass `MainType`. Make sure to save this subset as a new data frame and print the first few rows of the data.\n",
    "1. Use the `.describe()` function to produce summary statistics for the **full** Pokémon Data from the data from (1). Create a markdown cell and explain:\n",
    "    - What Series did the `.describe()` function run on? What Series did it not run on? What is the difference, and what does this mean the `.describe()` function is used for?"
   ]
  },
  {
   "cell_type": "code",
   "execution_count": 15,
   "metadata": {},
   "outputs": [
    {
     "data": {
      "text/html": [
       "<div>\n",
       "<style scoped>\n",
       "    .dataframe tbody tr th:only-of-type {\n",
       "        vertical-align: middle;\n",
       "    }\n",
       "\n",
       "    .dataframe tbody tr th {\n",
       "        vertical-align: top;\n",
       "    }\n",
       "\n",
       "    .dataframe thead th {\n",
       "        text-align: right;\n",
       "    }\n",
       "</style>\n",
       "<table border=\"1\" class=\"dataframe\">\n",
       "  <thead>\n",
       "    <tr style=\"text-align: right;\">\n",
       "      <th></th>\n",
       "      <th>Pokemon</th>\n",
       "      <th>MainType</th>\n",
       "      <th>SecondaryType</th>\n",
       "      <th>Height</th>\n",
       "      <th>Weight</th>\n",
       "      <th>Damage</th>\n",
       "      <th>BaseSpeed</th>\n",
       "      <th>Attack</th>\n",
       "      <th>Defense</th>\n",
       "      <th>BMI</th>\n",
       "    </tr>\n",
       "    <tr>\n",
       "      <th>Pokedex</th>\n",
       "      <th></th>\n",
       "      <th></th>\n",
       "      <th></th>\n",
       "      <th></th>\n",
       "      <th></th>\n",
       "      <th></th>\n",
       "      <th></th>\n",
       "      <th></th>\n",
       "      <th></th>\n",
       "      <th></th>\n",
       "    </tr>\n",
       "  </thead>\n",
       "  <tbody>\n",
       "    <tr>\n",
       "      <th>1</th>\n",
       "      <td>Bulbasaur</td>\n",
       "      <td>Grass</td>\n",
       "      <td>Poison</td>\n",
       "      <td>24</td>\n",
       "      <td>25.2</td>\n",
       "      <td>45</td>\n",
       "      <td>45</td>\n",
       "      <td>49</td>\n",
       "      <td>49</td>\n",
       "      <td>30.756250</td>\n",
       "    </tr>\n",
       "    <tr>\n",
       "      <th>2</th>\n",
       "      <td>Ivysaur</td>\n",
       "      <td>Grass</td>\n",
       "      <td>Poison</td>\n",
       "      <td>39</td>\n",
       "      <td>28.7</td>\n",
       "      <td>60</td>\n",
       "      <td>60</td>\n",
       "      <td>62</td>\n",
       "      <td>63</td>\n",
       "      <td>13.265023</td>\n",
       "    </tr>\n",
       "    <tr>\n",
       "      <th>3</th>\n",
       "      <td>Venusaur</td>\n",
       "      <td>Grass</td>\n",
       "      <td>Poison</td>\n",
       "      <td>79</td>\n",
       "      <td>220.5</td>\n",
       "      <td>80</td>\n",
       "      <td>80</td>\n",
       "      <td>82</td>\n",
       "      <td>83</td>\n",
       "      <td>24.837606</td>\n",
       "    </tr>\n",
       "    <tr>\n",
       "      <th>4</th>\n",
       "      <td>Charmander</td>\n",
       "      <td>Fire</td>\n",
       "      <td>NaN</td>\n",
       "      <td>24</td>\n",
       "      <td>18.7</td>\n",
       "      <td>39</td>\n",
       "      <td>65</td>\n",
       "      <td>52</td>\n",
       "      <td>43</td>\n",
       "      <td>22.823090</td>\n",
       "    </tr>\n",
       "    <tr>\n",
       "      <th>5</th>\n",
       "      <td>Charmeleon</td>\n",
       "      <td>Fire</td>\n",
       "      <td>NaN</td>\n",
       "      <td>43</td>\n",
       "      <td>41.9</td>\n",
       "      <td>58</td>\n",
       "      <td>80</td>\n",
       "      <td>64</td>\n",
       "      <td>58</td>\n",
       "      <td>15.930611</td>\n",
       "    </tr>\n",
       "  </tbody>\n",
       "</table>\n",
       "</div>"
      ],
      "text/plain": [
       "            Pokemon MainType SecondaryType  Height  Weight  Damage  BaseSpeed  \\\n",
       "Pokedex                                                                         \n",
       "1         Bulbasaur    Grass        Poison      24    25.2      45         45   \n",
       "2           Ivysaur    Grass        Poison      39    28.7      60         60   \n",
       "3          Venusaur    Grass        Poison      79   220.5      80         80   \n",
       "4        Charmander     Fire           NaN      24    18.7      39         65   \n",
       "5        Charmeleon     Fire           NaN      43    41.9      58         80   \n",
       "\n",
       "         Attack  Defense        BMI  \n",
       "Pokedex                              \n",
       "1            49       49  30.756250  \n",
       "2            62       63  13.265023  \n",
       "3            82       83  24.837606  \n",
       "4            52       43  22.823090  \n",
       "5            64       58  15.930611  "
      ]
     },
     "execution_count": 15,
     "metadata": {},
     "output_type": "execute_result"
    }
   ],
   "source": [
    "# 1.\n",
    "bmi_series = []\n",
    "\n",
    "# iterate over every row, extract height and weight, and calculate\n",
    "for index, row in df_pokedex.iterrows():\n",
    "    height = row[\"Height\"]\n",
    "    weight = row[\"Weight\"]\n",
    "    bmi = 703 * (weight / (height ** 2))\n",
    "    bmi_series.append(bmi)\n",
    "\n",
    "df_pokedex[\"BMI\"] = bmi_series\n",
    "\n",
    "df_pokedex.head()"
   ]
  },
  {
   "cell_type": "code",
   "execution_count": 16,
   "metadata": {},
   "outputs": [
    {
     "data": {
      "text/plain": [
       "Pokemon               Golem\n",
       "MainType             Ground\n",
       "SecondaryType          Rock\n",
       "Height                   55\n",
       "Weight                661.4\n",
       "Damage                   80\n",
       "BaseSpeed                45\n",
       "Attack                  120\n",
       "Defense                 130\n",
       "BMI              153.707174\n",
       "Name: 76, dtype: object"
      ]
     },
     "execution_count": 16,
     "metadata": {},
     "output_type": "execute_result"
    }
   ],
   "source": [
    "# Highest BMI\n",
    "index = df_pokedex[\"BMI\"].argmax()\n",
    "df_pokedex.iloc[index, :]"
   ]
  },
  {
   "cell_type": "code",
   "execution_count": 17,
   "metadata": {},
   "outputs": [
    {
     "data": {
      "text/plain": [
       "Pokemon           Haunter\n",
       "MainType            Ghost\n",
       "SecondaryType      Poison\n",
       "Height                 63\n",
       "Weight                0.2\n",
       "Damage                 45\n",
       "BaseSpeed              95\n",
       "Attack                 50\n",
       "Defense                45\n",
       "BMI              0.035425\n",
       "Name: 93, dtype: object"
      ]
     },
     "execution_count": 17,
     "metadata": {},
     "output_type": "execute_result"
    }
   ],
   "source": [
    "# Lowest BMI\n",
    "index = df_pokedex[\"BMI\"].argmin()\n",
    "df_pokedex.iloc[index, :]"
   ]
  },
  {
   "cell_type": "code",
   "execution_count": 18,
   "metadata": {},
   "outputs": [
    {
     "data": {
      "text/html": [
       "<div>\n",
       "<style scoped>\n",
       "    .dataframe tbody tr th:only-of-type {\n",
       "        vertical-align: middle;\n",
       "    }\n",
       "\n",
       "    .dataframe tbody tr th {\n",
       "        vertical-align: top;\n",
       "    }\n",
       "\n",
       "    .dataframe thead th {\n",
       "        text-align: right;\n",
       "    }\n",
       "</style>\n",
       "<table border=\"1\" class=\"dataframe\">\n",
       "  <thead>\n",
       "    <tr style=\"text-align: right;\">\n",
       "      <th></th>\n",
       "      <th>Pokemon</th>\n",
       "      <th>MainType</th>\n",
       "      <th>SecondaryType</th>\n",
       "      <th>Height</th>\n",
       "      <th>Weight</th>\n",
       "      <th>Damage</th>\n",
       "      <th>BaseSpeed</th>\n",
       "      <th>Attack</th>\n",
       "      <th>Defense</th>\n",
       "      <th>BMI</th>\n",
       "    </tr>\n",
       "    <tr>\n",
       "      <th>Pokedex</th>\n",
       "      <th></th>\n",
       "      <th></th>\n",
       "      <th></th>\n",
       "      <th></th>\n",
       "      <th></th>\n",
       "      <th></th>\n",
       "      <th></th>\n",
       "      <th></th>\n",
       "      <th></th>\n",
       "      <th></th>\n",
       "    </tr>\n",
       "  </thead>\n",
       "  <tbody>\n",
       "    <tr>\n",
       "      <th>4</th>\n",
       "      <td>Charmander</td>\n",
       "      <td>Fire</td>\n",
       "      <td>NaN</td>\n",
       "      <td>24</td>\n",
       "      <td>18.7</td>\n",
       "      <td>39</td>\n",
       "      <td>65</td>\n",
       "      <td>52</td>\n",
       "      <td>43</td>\n",
       "      <td>22.823090</td>\n",
       "    </tr>\n",
       "    <tr>\n",
       "      <th>5</th>\n",
       "      <td>Charmeleon</td>\n",
       "      <td>Fire</td>\n",
       "      <td>NaN</td>\n",
       "      <td>43</td>\n",
       "      <td>41.9</td>\n",
       "      <td>58</td>\n",
       "      <td>80</td>\n",
       "      <td>64</td>\n",
       "      <td>58</td>\n",
       "      <td>15.930611</td>\n",
       "    </tr>\n",
       "    <tr>\n",
       "      <th>6</th>\n",
       "      <td>Charizard</td>\n",
       "      <td>Fire</td>\n",
       "      <td>Flying</td>\n",
       "      <td>67</td>\n",
       "      <td>199.5</td>\n",
       "      <td>78</td>\n",
       "      <td>100</td>\n",
       "      <td>84</td>\n",
       "      <td>78</td>\n",
       "      <td>31.242704</td>\n",
       "    </tr>\n",
       "    <tr>\n",
       "      <th>9</th>\n",
       "      <td>Blastoise</td>\n",
       "      <td>Water</td>\n",
       "      <td>NaN</td>\n",
       "      <td>63</td>\n",
       "      <td>188.5</td>\n",
       "      <td>79</td>\n",
       "      <td>78</td>\n",
       "      <td>83</td>\n",
       "      <td>100</td>\n",
       "      <td>33.387629</td>\n",
       "    </tr>\n",
       "    <tr>\n",
       "      <th>12</th>\n",
       "      <td>Butterfree</td>\n",
       "      <td>Bug</td>\n",
       "      <td>Flying</td>\n",
       "      <td>43</td>\n",
       "      <td>70.5</td>\n",
       "      <td>60</td>\n",
       "      <td>70</td>\n",
       "      <td>45</td>\n",
       "      <td>50</td>\n",
       "      <td>26.804489</td>\n",
       "    </tr>\n",
       "  </tbody>\n",
       "</table>\n",
       "</div>"
      ],
      "text/plain": [
       "            Pokemon MainType SecondaryType  Height  Weight  Damage  BaseSpeed  \\\n",
       "Pokedex                                                                         \n",
       "4        Charmander     Fire           NaN      24    18.7      39         65   \n",
       "5        Charmeleon     Fire           NaN      43    41.9      58         80   \n",
       "6         Charizard     Fire        Flying      67   199.5      78        100   \n",
       "9         Blastoise    Water           NaN      63   188.5      79         78   \n",
       "12       Butterfree      Bug        Flying      43    70.5      60         70   \n",
       "\n",
       "         Attack  Defense        BMI  \n",
       "Pokedex                              \n",
       "4            52       43  22.823090  \n",
       "5            64       58  15.930611  \n",
       "6            84       78  31.242704  \n",
       "9            83      100  33.387629  \n",
       "12           45       50  26.804489  "
      ]
     },
     "execution_count": 18,
     "metadata": {},
     "output_type": "execute_result"
    }
   ],
   "source": [
    "# 2.\n",
    "\n",
    "# filter basespeed and maintype, then print\n",
    "df_filtered = df_pokedex[(df_pokedex[\"BaseSpeed\"] >= 60) & (df_pokedex[\"MainType\"] != \"Grass\")]\n",
    "df_filtered.head()"
   ]
  },
  {
   "cell_type": "code",
   "execution_count": 19,
   "metadata": {},
   "outputs": [
    {
     "data": {
      "text/html": [
       "<div>\n",
       "<style scoped>\n",
       "    .dataframe tbody tr th:only-of-type {\n",
       "        vertical-align: middle;\n",
       "    }\n",
       "\n",
       "    .dataframe tbody tr th {\n",
       "        vertical-align: top;\n",
       "    }\n",
       "\n",
       "    .dataframe thead th {\n",
       "        text-align: right;\n",
       "    }\n",
       "</style>\n",
       "<table border=\"1\" class=\"dataframe\">\n",
       "  <thead>\n",
       "    <tr style=\"text-align: right;\">\n",
       "      <th></th>\n",
       "      <th>Height</th>\n",
       "      <th>Weight</th>\n",
       "      <th>Damage</th>\n",
       "      <th>BaseSpeed</th>\n",
       "      <th>Attack</th>\n",
       "      <th>Defense</th>\n",
       "      <th>BMI</th>\n",
       "    </tr>\n",
       "  </thead>\n",
       "  <tbody>\n",
       "    <tr>\n",
       "      <th>count</th>\n",
       "      <td>151.000000</td>\n",
       "      <td>151.000000</td>\n",
       "      <td>151.000000</td>\n",
       "      <td>151.000000</td>\n",
       "      <td>151.000000</td>\n",
       "      <td>151.000000</td>\n",
       "      <td>151.000000</td>\n",
       "    </tr>\n",
       "    <tr>\n",
       "      <th>mean</th>\n",
       "      <td>46.894040</td>\n",
       "      <td>100.766954</td>\n",
       "      <td>64.218543</td>\n",
       "      <td>68.933775</td>\n",
       "      <td>72.913907</td>\n",
       "      <td>68.225166</td>\n",
       "      <td>32.764506</td>\n",
       "    </tr>\n",
       "    <tr>\n",
       "      <th>std</th>\n",
       "      <td>37.880717</td>\n",
       "      <td>131.299070</td>\n",
       "      <td>28.585519</td>\n",
       "      <td>26.746880</td>\n",
       "      <td>26.755421</td>\n",
       "      <td>26.916704</td>\n",
       "      <td>23.189403</td>\n",
       "    </tr>\n",
       "    <tr>\n",
       "      <th>min</th>\n",
       "      <td>8.000000</td>\n",
       "      <td>0.200000</td>\n",
       "      <td>10.000000</td>\n",
       "      <td>15.000000</td>\n",
       "      <td>5.000000</td>\n",
       "      <td>5.000000</td>\n",
       "      <td>0.035425</td>\n",
       "    </tr>\n",
       "    <tr>\n",
       "      <th>25%</th>\n",
       "      <td>28.000000</td>\n",
       "      <td>21.800000</td>\n",
       "      <td>45.000000</td>\n",
       "      <td>46.500000</td>\n",
       "      <td>51.000000</td>\n",
       "      <td>50.000000</td>\n",
       "      <td>20.856877</td>\n",
       "    </tr>\n",
       "    <tr>\n",
       "      <th>50%</th>\n",
       "      <td>39.000000</td>\n",
       "      <td>66.100000</td>\n",
       "      <td>60.000000</td>\n",
       "      <td>70.000000</td>\n",
       "      <td>70.000000</td>\n",
       "      <td>65.000000</td>\n",
       "      <td>30.042735</td>\n",
       "    </tr>\n",
       "    <tr>\n",
       "      <th>75%</th>\n",
       "      <td>59.000000</td>\n",
       "      <td>124.250000</td>\n",
       "      <td>80.000000</td>\n",
       "      <td>90.000000</td>\n",
       "      <td>92.000000</td>\n",
       "      <td>84.000000</td>\n",
       "      <td>38.245600</td>\n",
       "    </tr>\n",
       "    <tr>\n",
       "      <th>max</th>\n",
       "      <td>346.000000</td>\n",
       "      <td>1014.100000</td>\n",
       "      <td>250.000000</td>\n",
       "      <td>140.000000</td>\n",
       "      <td>134.000000</td>\n",
       "      <td>180.000000</td>\n",
       "      <td>153.707174</td>\n",
       "    </tr>\n",
       "  </tbody>\n",
       "</table>\n",
       "</div>"
      ],
      "text/plain": [
       "           Height       Weight      Damage   BaseSpeed      Attack  \\\n",
       "count  151.000000   151.000000  151.000000  151.000000  151.000000   \n",
       "mean    46.894040   100.766954   64.218543   68.933775   72.913907   \n",
       "std     37.880717   131.299070   28.585519   26.746880   26.755421   \n",
       "min      8.000000     0.200000   10.000000   15.000000    5.000000   \n",
       "25%     28.000000    21.800000   45.000000   46.500000   51.000000   \n",
       "50%     39.000000    66.100000   60.000000   70.000000   70.000000   \n",
       "75%     59.000000   124.250000   80.000000   90.000000   92.000000   \n",
       "max    346.000000  1014.100000  250.000000  140.000000  134.000000   \n",
       "\n",
       "          Defense         BMI  \n",
       "count  151.000000  151.000000  \n",
       "mean    68.225166   32.764506  \n",
       "std     26.916704   23.189403  \n",
       "min      5.000000    0.035425  \n",
       "25%     50.000000   20.856877  \n",
       "50%     65.000000   30.042735  \n",
       "75%     84.000000   38.245600  \n",
       "max    180.000000  153.707174  "
      ]
     },
     "execution_count": 19,
     "metadata": {},
     "output_type": "execute_result"
    }
   ],
   "source": [
    "# 3.\n",
    "df_pokedex.describe()"
   ]
  },
  {
   "cell_type": "markdown",
   "metadata": {},
   "source": [
    "the .describe() function only ran on seven of the ten original columns. it's missing the pokemon, maintype, and secondarytype columns. that's because these columns contain **categorical data**. the .describe() function excluded these columns because it can only calculate statistics on **numerical data**, as shown above."
   ]
  }
 ],
 "metadata": {
  "kernelspec": {
   "display_name": "Python 3 (ipykernel)",
   "language": "python",
   "name": "python3"
  },
  "language_info": {
   "codemirror_mode": {
    "name": "ipython",
    "version": 3
   },
   "file_extension": ".py",
   "mimetype": "text/x-python",
   "name": "python",
   "nbconvert_exporter": "python",
   "pygments_lexer": "ipython3",
   "version": "3.11.5"
  }
 },
 "nbformat": 4,
 "nbformat_minor": 4
}
