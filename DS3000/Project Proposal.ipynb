{
 "cells": [
  {
   "cell_type": "markdown",
   "id": "647a447e",
   "metadata": {},
   "source": [
    "# DS 3000 Project Proposal\n",
    "## Pet Adoptions\n",
    "### By Sean Ayoub"
   ]
  },
  {
   "cell_type": "markdown",
   "id": "bd8e3792",
   "metadata": {},
   "source": [
    "## Description\n",
    "\n",
    "The Humane Society of the United States estimates that 2.4 million healthy, adoptable cats and dogs are euthanized each year in the US because of a lack of homes. And at some no-kill shelters, \"unplaceable\" animals end up confined to cages for years. There is a moral obligation to ensure the well-being of animals. Many pets in shelters are abandoned, abused, or neglected, and adopting them provides a chance for a better life. Furthermore, shelters and rescue organizations spend significant resources on caring for animals. Coupled with the fact that the pet population is often far greater than the demand for pets, this leads to overcrowded shelters and, in many cases, euthanizing animals due to a lack of resources. There must be a way to encourage more people to adopt a pet.\n",
    "\n",
    "Some questions to investigate:\n",
    "- Can we determine what features about a pet are most important in leading to them being adopted?\n",
    "- Can we predict whether a certain pet will be adopted?\n",
    "    - What can we do to increase a pet's chance of being adopted?"
   ]
  },
  {
   "cell_type": "markdown",
   "id": "7e2dfbb9",
   "metadata": {},
   "source": [
    "## Data Source\n",
    "\n",
    "For this project, I will be using the [Petfinder API](https://www.petfinder.com/developers/v2/docs/#introduction). The API allows us to search by location so we can restrict our data to only animals within the Northeast region. For each animal, we can find information on type, breed, size, gender, age, color, adoption status, whether they are good with children, as well as other attributes such as whether they're spayed and neutered, declawed, house trained, or have special needs. The documentation suggests we can obtain pictures and video of the animal. There does not seem to be a rate limit on this API so that will not be a concern. After retrieving data on animals in the region, the data will be cleaned and made into a Dataframe to display only the necessary information (age, gender, species, breed, description ...etc). Charts and graphs will also be made to display the information."
   ]
  },
  {
   "cell_type": "markdown",
   "id": "87c9b2e0",
   "metadata": {},
   "source": [
    "## Usage of Data\n",
    "\n",
    "Once the data is cleaned and visualized, we can apply a machine learning model to answer the above questions. Since we are using largely categorical data, it is best to use a classification model. For example, we may use a k-nearest neighbors model in order to determine whether a certain animal is similar to others that have been adopted and therefore predict the likelihood of it being adopted as well. Similarly, we may use a decision tree or a random forest approach to determine which features are most important in determining whether a pet is adopted or not."
   ]
  }
 ],
 "metadata": {
  "kernelspec": {
   "display_name": "Python 3 (ipykernel)",
   "language": "python",
   "name": "python3"
  },
  "language_info": {
   "codemirror_mode": {
    "name": "ipython",
    "version": 3
   },
   "file_extension": ".py",
   "mimetype": "text/x-python",
   "name": "python",
   "nbconvert_exporter": "python",
   "pygments_lexer": "ipython3",
   "version": "3.11.5"
  }
 },
 "nbformat": 4,
 "nbformat_minor": 5
}
