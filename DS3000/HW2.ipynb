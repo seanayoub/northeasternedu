{
 "cells": [
  {
   "cell_type": "markdown",
   "metadata": {},
   "source": [
    "# DS 3000 HW 2\n",
    "\n",
    "Due: Tuesday Oct 10 @ 11:59 PM EST\n",
    "\n",
    "### Submission Instructions\n",
    "Submit this `ipynb` file to Gradescope (this can also be done via the assignment on Canvas).  To ensure that your submitted `ipynb` file represents your latest code, make sure to give a fresh `Kernel > Restart & Run All` just before uploading the `ipynb` file to gradescope.\n",
    "\n",
    "### Tips for success\n",
    "- Start early\n",
    "- Make use of Piazza (also accessible through Canvas)\n",
    "- Make use of Office Hours\n",
    "- Remember to use cells and headings to make the notebook easy to read (if a grader cannot find the answer to a problem, you will receive no points for it)\n",
    "- Under no circumstances may one student view or share their ungraded homework or quiz with another student [(see also)](http://www.northeastern.edu/osccr/academic-integrity), though you are welcome to **talk about** (*not* show each other your answers to) the problems.\n",
    "\n",
    "### Finally:\n",
    "\n",
    "I designed this homework to provide **less** guidance in each subsequent part; this is on purpose, so that you slowly get used to thinking more critically about how to approach the various tasks. If you are confused as you are working, especially with the later parts, please don't hesitate to reach out for help."
   ]
  },
  {
   "cell_type": "markdown",
   "metadata": {},
   "source": [
    "# Part 1: Sunrise-Sunset API\n",
    "\n",
    "This first part of the homework asks you to complete the pipeline which, given the lattitude / longitude and timezone of some cities:\n",
    "\n",
    "``` python\n",
    "loc_dict = {'Boston': (42.3601, -71.0589, 'US/Eastern'),\n",
    "            'Lusaka': (-15.3875, 28.3228, 'Africa/Lusaka'),\n",
    "            'Sydney': (-33.8688, 151.2093, 'Australia/Sydney')}\n",
    "```\n",
    "\n",
    "the keys are the `name` of the city and the values are tuples of `lat, lon, timezone_name\n",
    "\n",
    "is able to:\n",
    "- query a sunrise / sunset API\n",
    "- clean and process data (timezone management & building `datetime` objects)\n",
    "- For extra credit: produce the a graph of daylight through the year like this:\n",
    "\n",
    "<img src=\"https://i.ibb.co/CBhWtCY/newdaylight.png\" alt=\"newdaylight\" style=\"width: 500px;\"/>"
   ]
  },
  {
   "cell_type": "markdown",
   "metadata": {},
   "source": [
    "## Part 1.1: Getting Sunrise Sunset via API (5 points)\n",
    "Write the `get_sunrise_sunset()` function below so that it uses [this sunrise sunset API](https://sunrise-sunset.org/api) to produce the output (the dictionary) shown in the test case below so that it passes the case.\n",
    "\n",
    "It may be helpful to know that this particular API...\n",
    "- requires no api key\n",
    "- returns about 2.5 queries per second\n",
    "- did not block me when I tried to make 100 consecutive calls as quickly as possible"
   ]
  },
  {
   "cell_type": "code",
   "execution_count": 1,
   "metadata": {},
   "outputs": [],
   "source": [
    "# make sure you have these modules installed\n",
    "import requests\n",
    "import json"
   ]
  },
  {
   "cell_type": "code",
   "execution_count": 2,
   "metadata": {},
   "outputs": [],
   "source": [
    "def get_sunrise_sunset(lat, lng, date):\n",
    "    \"\"\" retrieves sunrise and sunset data from an api\n",
    "    \n",
    "    Args:\n",
    "        lat (float): latitude of desired location\n",
    "        lng (float): longitude of desired location\n",
    "        date (str): desired date formatted as \"YYYY-MM-DD\"\n",
    "        \n",
    "    Returns:\n",
    "        sun_dict (dict): contains sunrise and sunset data from api\n",
    "    \n",
    "    \"\"\"   \n",
    "    # build url\n",
    "    url = f\"https://api.sunrise-sunset.org/json?lat={lat}&lng={lng}&date={date}\"\n",
    "    \n",
    "    # api call\n",
    "    url_text = requests.get(url).text\n",
    "    \n",
    "    # convert into a dict\n",
    "    sun_dict = json.loads(url_text)\n",
    "    \n",
    "    # add info to dict\n",
    "    sun_dict[\"lat-lng\"] = (lat, lng)\n",
    "    sun_dict[\"date\"] = date\n",
    "    \n",
    "    return sun_dict"
   ]
  },
  {
   "cell_type": "code",
   "execution_count": 3,
   "metadata": {},
   "outputs": [],
   "source": [
    "sun_dict = get_sunrise_sunset(lat=42.3601, lng=-71.0589, date='2022-02-15')\n",
    "sun_dict_expected = \\\n",
    "{'results': {'sunrise': '11:38:48 AM',\n",
    "            'sunset': '10:17:50 PM',\n",
    "            'solar_noon': '4:58:19 PM',\n",
    "            'day_length': '10:39:02',\n",
    "            'civil_twilight_begin': '11:11:30 AM',\n",
    "            'civil_twilight_end': '10:45:08 PM',\n",
    "            'nautical_twilight_begin': '10:38:37 AM',\n",
    "            'nautical_twilight_end': '11:18:00 PM',\n",
    "            'astronomical_twilight_begin': '10:06:05 AM',\n",
    "            'astronomical_twilight_end': '11:50:33 PM'},\n",
    " 'status': 'OK',\n",
    " 'lat-lng': (42.3601, -71.0589),\n",
    " 'date': '2022-02-15'}\n",
    "\n",
    "assert sun_dict == sun_dict_expected, 'get_sunrise_sunset() error'"
   ]
  },
  {
   "cell_type": "markdown",
   "metadata": {},
   "source": [
    "## Part 1.2 Timezone Considerations: (5 points)\n",
    "\n",
    "It may appear the test case above works, but a look at the API's documentation reminds us: \n",
    "\n",
    "    \"NOTE: All times are in UTC and summer time adjustments are not included in the returned data.\"\n",
    "    \n",
    "Meaning that we would need to change the timezone ourself if comparing different locations. \n",
    "\n",
    "Complete the `change_tz()` below so that it passes the given test case. "
   ]
  },
  {
   "cell_type": "code",
   "execution_count": 4,
   "metadata": {},
   "outputs": [],
   "source": [
    "import pytz\n",
    "from datetime import datetime"
   ]
  },
  {
   "cell_type": "code",
   "execution_count": 5,
   "metadata": {},
   "outputs": [],
   "source": [
    "def change_tz(dt, timezone_from, timezone_to):\n",
    "    \"\"\" converts timezone of a timezone naive datetime object\n",
    "    \n",
    "    Args:\n",
    "        dt (datetime): datetime (or time) object without timezone\n",
    "        timezone_from (str): timezone of input\n",
    "        timezone_to (str): timezone of output datetime\n",
    "        \n",
    "    Returns:\n",
    "        dt (datetime): datetime object corresponding to \n",
    "            unix_time\n",
    "    \"\"\"\n",
    "    dt_from = pytz.timezone(timezone_from).localize(dt)\n",
    "    \n",
    "    new_tz = pytz.timezone(timezone_to)\n",
    "    dt = dt_from.astimezone(new_tz)\n",
    "\n",
    "    return dt"
   ]
  },
  {
   "cell_type": "code",
   "execution_count": 6,
   "metadata": {},
   "outputs": [],
   "source": [
    "# build test case input / output\n",
    "dt_no_tz = datetime(2021, 2, 13, 9, 54, 4, 270088)\n",
    "dt_expect = datetime(2021, 2, 13, 14, 54, 4, 270088, tzinfo=pytz.timezone('GMT'))\n",
    "\n",
    "# compute actual output\n",
    "dt = change_tz(dt_no_tz, timezone_from='US/Eastern', timezone_to='GMT')\n",
    "\n",
    "assert dt == dt_expect, 'change_tz() error'"
   ]
  },
  {
   "cell_type": "code",
   "execution_count": 7,
   "metadata": {},
   "outputs": [],
   "source": [
    "# build test case input / output\n",
    "dt_no_tz = datetime(2021, 2, 13, 9, 54, 4, 270088)\n",
    "dt_expect = datetime(2021, 2, 13, 9, 54, 4, 270088, tzinfo=pytz.timezone('GMT'))\n",
    "\n",
    "# compute actual output\n",
    "dt = change_tz(dt_no_tz, timezone_from='GMT', timezone_to='GMT')\n",
    "\n",
    "assert dt == dt_expect, 'change_tz() error'"
   ]
  },
  {
   "cell_type": "markdown",
   "metadata": {},
   "source": [
    "## Part 1.3: Turning the dictionary into a Series (5 points)\n",
    "Build `clean_sun_dict()` to pass each of the two test cases below.  Note that:\n",
    "- sunrise and sunset are `time` objects which account for daylight's saving:\n",
    "    - include the date when building these objects\n",
    "    - use `change_tz()` above to cast them to the proper timezone\n",
    "    - build `time` objects by calling `datetime.time()` to discard the date of a `datetime`\n",
    "    - importing `pandas as pd` and using `pd.to_datetime` may also be helpful\n",
    "- `sunrise_hr` and `sunset_hr` are the hours since the day began in local timezone (more easily graphed)\n",
    "    - you may use `.strftime()` and `int()` to cast time objects to strings and then integers (which may be helpful) \n",
    "    \n",
    "**NOTE:** There may be more than one way to accomplish writing this function; as long as the function passes both `assert` test cases, you may continue. Just do be sure to comment and present your code as cleanly as possible. **NOTE ALSO** that because of the way *I* made the solution, the `sunrise_hr` and `sunset_hr` values are rounded strangely. If you are getting something *close*, you **may** change the test case to match your so that the `assert` works."
   ]
  },
  {
   "cell_type": "code",
   "execution_count": 2,
   "metadata": {},
   "outputs": [],
   "source": [
    "from datetime import datetime, time\n",
    "import pandas as pd"
   ]
  },
  {
   "cell_type": "code",
   "execution_count": 45,
   "metadata": {},
   "outputs": [],
   "source": [
    "def clean_sun_dict(sun_dict, timezone_to):\n",
    "    \"\"\" builds pandas series and cleans output of API\n",
    "    \n",
    "    Args:\n",
    "        sun_dict (dict): dict of json (see ex below)\n",
    "        timezone_to (str): timezone of outputs (API returns\n",
    "            UTC times)\n",
    "            \n",
    "    Returns:\n",
    "        sun_series (pd.Series): all times converted to\n",
    "            time objects\n",
    "    \n",
    "    example sun_series:\n",
    "    \n",
    "    date            2021-02-13 00:00:00\n",
    "    lat-lng        (36.72016, -4.42034)\n",
    "    sunrise                    02:11:06\n",
    "    sunrise_hr                    2.185\n",
    "    sunset                     13:00:34\n",
    "    sunset_hr                   13.0094\n",
    "    dtype: object\n",
    "    \"\"\"\n",
    "    clean_sun_dict = dict({})\n",
    "    \n",
    "    # clean date\n",
    "    date = sun_dict[\"date\"]\n",
    "    clean_date = datetime.strptime(date, \"%Y-%m-%d\")\n",
    "    \n",
    "    clean_sun_dict[\"date\"] = clean_date\n",
    "    \n",
    "    # clean lat-lng\n",
    "    clean_sun_dict[\"lat-lng\"] = sun_dict[\"lat-lng\"]\n",
    "    \n",
    "    # clean and convert sunrise\n",
    "    sunrise = sun_dict[\"results\"][\"sunrise\"]\n",
    "    stripped_time = datetime.strptime(sunrise, \"%I:%M:%S %p\")\n",
    "    converted_time = change_tz(stripped_time, \"UTC\", timezone_to)\n",
    "    sunrise_time = converted_time.time()\n",
    "    \n",
    "    clean_sun_dict[\"sunrise\"] = sunrise_time\n",
    "    \n",
    "    # compute sunrise hr\n",
    "    total_seconds = ((sunrise_time.minute * 60) + sunrise_time.second) / 3600\n",
    "    elapsed = sunrise_time.hour + total_seconds\n",
    "    \n",
    "    clean_sun_dict[\"sunrise_hr\"] = elapsed\n",
    "    \n",
    "    # clean and convert sunset\n",
    "    sunset = sun_dict[\"results\"][\"sunset\"]\n",
    "    stripped_time = datetime.strptime(sunset, \"%I:%M:%S %p\")\n",
    "    converted_time = change_tz(stripped_time, \"UTC\", timezone_to)\n",
    "    sunset_time = converted_time.time()\n",
    "    \n",
    "    clean_sun_dict[\"sunset\"] = sunset_time\n",
    "    \n",
    "    # compute sunset hr\n",
    "    total_seconds = ((sunset_time.minute * 60) + sunset_time.second) / 3600\n",
    "    elapsed = sunset_time.hour + total_seconds\n",
    "    \n",
    "    clean_sun_dict[\"sunset_hr\"] = elapsed\n",
    "    \n",
    "    # create series\n",
    "    sun_series = pd.Series(clean_sun_dict)\n",
    "    return sun_series"
   ]
  },
  {
   "cell_type": "code",
   "execution_count": 46,
   "metadata": {},
   "outputs": [],
   "source": [
    "sun_dict = {'results': {'sunrise': '11:38:48 AM',\n",
    "                        'sunset': '10:17:50 PM',\n",
    "                        'solar_noon': '4:58:19 PM',\n",
    "                        'day_length': '10:39:02',\n",
    "                        'civil_twilight_begin': '11:11:30 AM',\n",
    "                        'civil_twilight_end': '10:45:08 PM',\n",
    "                        'nautical_twilight_begin': '10:38:37 AM',\n",
    "                        'nautical_twilight_end': '11:18:00 PM',\n",
    "                        'astronomical_twilight_begin': '10:06:05 AM',\n",
    "                        'astronomical_twilight_end': '11:50:33 PM'},\n",
    "             'status': 'OK',\n",
    "             'lat-lng': (42.3601, -71.0589),\n",
    "             'date': '2022-02-15'}\n",
    "\n",
    "# test without timezone conversion\n",
    "sun_series = clean_sun_dict(sun_dict, timezone_to='GMT')\n",
    "\n",
    "sun_series_exp = pd.Series(\n",
    "{'date': datetime(year=2022, month=2, day=15),\n",
    "'lat-lng': (42.3601, -71.0589),\n",
    "'sunrise': time(hour=11, minute=38, second=48),\n",
    "'sunrise_hr': 11.646666666666667,\n",
    "'sunset': time(hour=22, minute=17, second=50),\n",
    "'sunset_hr': 22.29722222222222})\n",
    "\n",
    "assert sun_series.eq(sun_series_exp).all(), 'clean_sun_dict() error (GMT)'"
   ]
  },
  {
   "cell_type": "code",
   "execution_count": 47,
   "metadata": {},
   "outputs": [],
   "source": [
    "# test with timezone conversion\n",
    "sun_series = clean_sun_dict(sun_dict, timezone_to='US/Eastern',)\n",
    "\n",
    "sun_series_exp = pd.Series(\n",
    "{'date': datetime(year=2022, month=2, day=15),\n",
    "'lat-lng': (42.3601, -71.0589),\n",
    "'sunrise': time(hour=6, minute=42, second=48),\n",
    "'sunrise_hr': 6.713333333333333,\n",
    "'sunset': time(hour=17, minute=21, second=50),\n",
    "'sunset_hr': 17.363888888888887})\n",
    "\n",
    "assert sun_series.eq(sun_series_exp).all(), 'clean_sun_dict() error (EST)'"
   ]
  },
  {
   "cell_type": "markdown",
   "metadata": {},
   "source": [
    "## Part 1.4: Getting our Data Frame (5 points)\n",
    "\n",
    "Write the `get_annual_sun_data()` function so that it produces the outputs shown below.  This function should make use of:\n",
    " - `get_sunrise_sunset()`\n",
    " - `clean_sun_dict()`\n",
    "   \n",
    "as built above. I will start the function for you to help!"
   ]
  },
  {
   "cell_type": "markdown",
   "metadata": {},
   "source": [
    "The following snippet:\n",
    "\n",
    "```python\n",
    "loc_dict = {'Boston': (42.3601, -71.0589, 'US/Eastern'),\n",
    "            'Lusaka': (-15.3875, 28.3228, 'Africa/Lusaka'),\n",
    "            'Sydney': (-33.8688, 151.2093, 'Australia/Sydney')}\n",
    "df_annual_sun = get_annual_sun_data(loc_dict, year=2021, period_day=30)\n",
    "df_annual_sun.head(6)\n",
    "```\n",
    "\n",
    "should generate:\n",
    "\n",
    "|    |   city |       date |              lat-lng |  sunrise | sunrise_hr |   sunset | sunset_hr |\n",
    "|---:|-------:|-----------:|---------------------:|---------:|-----------:|---------:|----------:|\n",
    "|  0 | Boston | 2021-01-01 |  (42.3601, -71.0589) | 07:11:49 |   7.196944 | 16:24:12 | 16.403333 |\n",
    "|  1 | Lusaka | 2021-01-01 |  (-15.3875, 28.3228) | 05:38:33 |   5.642500 | 18:42:09 | 18.702500 |\n",
    "|  2 | Sydney | 2021-01-01 | (-33.8688, 151.2093) | 05:46:24 |   5.773333 | 20:10:53 | 20.181389 |\n",
    "|  3 | Boston | 2021-01-31 |  (42.3601, -71.0589) | 06:56:43 |   6.945278 | 16:58:42 | 16.978333 |\n",
    "|  4 | Lusaka | 2021-01-31 |  (-15.3875, 28.3228) | 05:55:43 |   5.928611 | 18:44:35 | 18.743056 |\n",
    "|  5 | Sydney | 2021-01-31 | (-33.8688, 151.2093) | 06:14:24 |   6.240000 | 20:02:42 | 20.045000 |"
   ]
  },
  {
   "cell_type": "code",
   "execution_count": 64,
   "metadata": {},
   "outputs": [],
   "source": [
    "# could be useful\n",
    "from datetime import timedelta"
   ]
  },
  {
   "cell_type": "code",
   "execution_count": 71,
   "metadata": {},
   "outputs": [],
   "source": [
    "def get_annual_sun_data(loc_dict, year=2021, period_day=30): \n",
    "    \"\"\" pulls evenly spaced sunrise / sunsets from API over year per city\n",
    "    \n",
    "    Args:\n",
    "        loc_dict (dict): keys are cities, values are tuples of \n",
    "            (lat, lon, tz_str) where tz_str is a timezone\n",
    "            string included in pytz.all_timezones\n",
    "        year (int): year to query\n",
    "        period_day (int): how many days between data queries\n",
    "            (i.e. period_day=1 will get every day for the year)\n",
    "            \n",
    "    Returns:\n",
    "        df_annual_sun (DataFrame): each row represents a \n",
    "            sunrise / sunset datapoint, see get_sunrise_sunset()\n",
    "    \"\"\"\n",
    "    cycle_day = pd.to_datetime(f'{year}-01-01')\n",
    "    cycle_city = loc_dict.keys()\n",
    "    df_annual_sun = pd.DataFrame()\n",
    "    \n",
    "    while cycle_day.year == year:\n",
    "        for city in cycle_city:\n",
    "            city_series = pd.Series({'city': city})\n",
    "            \n",
    "            date = cycle_day.strftime(\"%Y-%m-%d\")\n",
    "            sun_dict = get_sunrise_sunset(loc_dict[city][0], loc_dict[city][1], date)\n",
    "            sun_series = clean_sun_dict(sun_dict, loc_dict[city][2])\n",
    "            \n",
    "            city_series = pd.concat([city_series, sun_series])\n",
    "            df_annual_sun = pd.concat([df_annual_sun, city_series.to_frame().T])\n",
    "\n",
    "        cycle_day = cycle_day + timedelta(days = period_day)\n",
    "\n",
    "    return df_annual_sun"
   ]
  },
  {
   "cell_type": "code",
   "execution_count": 73,
   "metadata": {},
   "outputs": [],
   "source": [
    "loc_dict = {'Boston': (42.3601, -71.0589, 'US/Eastern'),\n",
    "            'Lusaka': (-15.3875, 28.3228, 'Africa/Lusaka'),\n",
    "            'Sydney': (-33.8688, 151.2093, 'Australia/Sydney')}\n",
    "\n",
    "# you may find that setting period_day to a larger value is quicker for debug\n",
    "# period_day=5 takes about a minute or so given the API does 2-3 requests / sec\n",
    "df_annual_sun = get_annual_sun_data(loc_dict, year=2021, period_day=30)"
   ]
  },
  {
   "cell_type": "markdown",
   "metadata": {},
   "source": [
    "## Part 1.5: Plotting the data (5 points)\n",
    "\n",
    "Using [plt.fillbetween()](https://matplotlib.org/3.1.1/api/_as_gen/matplotlib.pyplot.fill_between.html), like [this example](https://colab.research.google.com/drive/1eYuuwGwQKEa6x84fqpdVlf46sXLDmhCZ?usp=sharing), write the `plot_daylight()` function so that:\n",
    "\n",
    "``` python\n",
    "plot_daylight(df_annual_sun)\n",
    "```\n",
    "\n",
    "produces a similar graph to:\n",
    "\n",
    "<img src=\"https://i.ibb.co/CBhWtCY/newdaylight.png\" alt=\"newdaylight\" style=\"width: 500px;\"/>\n",
    "\n",
    "Be sure that your graph displays in Jupyter notebook (no need to save it in another form)."
   ]
  },
  {
   "cell_type": "code",
   "execution_count": 74,
   "metadata": {},
   "outputs": [],
   "source": [
    "# modules you might use\n",
    "import seaborn as sns\n",
    "import matplotlib.pyplot as plt"
   ]
  },
  {
   "cell_type": "code",
   "execution_count": 89,
   "metadata": {},
   "outputs": [],
   "source": [
    "sns.set(font_scale=1.2)\n",
    "\n",
    "def plot_daylight(df_annual_sun):\n",
    "    \"\"\" produces a plot of daylight seen across cities\n",
    "    \n",
    "    Args:\n",
    "        df_annual_sun (DataFrame): each row represents a \n",
    "            sunrise / sunset datapoint, see get_sunrise_sunset()\n",
    "    \"\"\"\n",
    "    for city in [\"Boston\", \"Lusaka\", \"Sydney\"]:\n",
    "        x = []\n",
    "        y1 = []\n",
    "        y2 = []\n",
    "        \n",
    "        for index, row in df_annual_sun.iterrows():\n",
    "            if row[\"city\"] == city:\n",
    "                x.append(row[\"date\"])\n",
    "                y1.append(row[\"sunrise_hr\"])\n",
    "                y2.append(row[\"sunset_hr\"])\n",
    "        \n",
    "        plt.fill_between(x, y1, y2, alpha = .4, label = city)\n",
    "    \n",
    "    plt.title(\"daylight at each location\")\n",
    "    plt.xlabel(\"date\")\n",
    "    plt.ylabel(\"local military time\")\n",
    "    plt.legend()\n",
    "    plt.show()"
   ]
  },
  {
   "cell_type": "code",
   "execution_count": 91,
   "metadata": {},
   "outputs": [],
   "source": [
    "# takes about a minute to run with period_day=7, worth the wait to characterize\n",
    "# the sudden jumps due to daylight savings times\n",
    "df_annual_sun = get_annual_sun_data(loc_dict, year=2021, period_day=7)"
   ]
  },
  {
   "cell_type": "code",
   "execution_count": 92,
   "metadata": {},
   "outputs": [
    {
     "data": {
      "image/png": "[encoded data removed]",
      "text/plain": [
       "<Figure size 640x480 with 1 Axes>"
      ]
     },
     "metadata": {},
     "output_type": "display_data"
    }
   ],
   "source": [
    "plot_daylight(df_annual_sun)"
   ]
  },
  {
   "cell_type": "markdown",
   "metadata": {},
   "source": [
    "# Part 2: Spotify API (Spotipy)\n",
    "\n",
    "**Note**: The following is copied verbatim from the end of Day2_APIs on Canvas.\n",
    "\n",
    "The Spotify API is quite powerful and gives us access to any song/artist in its libraries, plus even more information that you might not have thought of. There is also a module that has been created to access the API within python. Open up a terminal (or do it in jupyter notebook; this is a magic module) and run:\n",
    "\n",
    "`pip install spotipy`"
   ]
  },
  {
   "cell_type": "code",
   "execution_count": 16,
   "metadata": {},
   "outputs": [],
   "source": [
    "# after installation\n",
    "import spotipy\n",
    "from spotipy.oauth2 import SpotifyClientCredentials"
   ]
  },
  {
   "cell_type": "markdown",
   "metadata": {},
   "source": [
    "Just like with OpenWeather, we need to make an account [here](https://developer.spotify.com/) (this is essentially the same as making a regular Spotify account) and then get an API key (Spotify requires two things, actually, a Client ID and a secret key). At the above website, go to:\n",
    "\n",
    "- Dashboard\n",
    "- Log into your Spotify account (make one if you don't have one)\n",
    "- Accept the terms of using the API\n",
    "- Create an app (you can call it anything, I called mine `DS3000_Spotify`)\n",
    "- Get a client ID (mine is `592acf2d2dc84d94bbc652f2f1d72375`, though it is usually good practice to **not** share this) and a client secret (**never share this with anyone**: save it in a separate file like we did with our OpenWeather API key earlier)"
   ]
  },
  {
   "cell_type": "markdown",
   "metadata": {},
   "source": [
    "There exists a file `spotify_secret.py` in same directory as this jupyter notebook which contains:\n",
    "    \n",
    "    secret = 'professorgerberssecretspotify'"
   ]
  },
  {
   "cell_type": "code",
   "execution_count": 21,
   "metadata": {},
   "outputs": [],
   "source": [
    "# make sure you have named your file spotify_secret.py\n",
    "from spotify_secret import secret"
   ]
  },
  {
   "cell_type": "code",
   "execution_count": 22,
   "metadata": {},
   "outputs": [],
   "source": [
    "# Authentication\n",
    "# Make sure you use your OWN client ID (DO NOT leave mine in there!!)\n",
    "cid = '585ed639249a495fa4d02d56d05a6c9f'\n",
    "\n",
    "client_credentials_manager = SpotifyClientCredentials(client_id=cid, client_secret=secret)\n",
    "sp = spotipy.Spotify(client_credentials_manager = client_credentials_manager)"
   ]
  },
  {
   "cell_type": "markdown",
   "metadata": {},
   "source": [
    "## Part 2.1: Uniform Resource Identifiers (URI) (5 points)\n",
    "\n",
    "An important component of using the Spotify API is the use of the uniform resource identifiers, pointing at each object in the API. We need a URI to perform any function with the API referring to an object in Spotify. The URI of any Spotify object is contained in its shareable link. For example, the link to the Global top songs playlist, when found from the Spotify desktop application, is:"
   ]
  },
  {
   "cell_type": "code",
   "execution_count": 42,
   "metadata": {},
   "outputs": [],
   "source": [
    "# if you receive a couldn't read cache or write token error, it should simply be a warning and not be a problem\n",
    "playlist_link = \"https://open.spotify.com/playlist/37i9dQZF1DXcBWIGoYBM5M\"\n",
    "playlist_URI = playlist_link.split(\"/\")[-1].split(\"?\")[0]\n",
    "track_uris = [x[\"track\"][\"uri\"] for x in sp.playlist_tracks(playlist_URI)[\"items\"]]"
   ]
  },
  {
   "cell_type": "code",
   "execution_count": 44,
   "metadata": {},
   "outputs": [],
   "source": [
    "# take a look at a single track from the playlist\n",
    "# it is commented out because it will produce a lot of output! You can uncomment it out to see what it looks like.\n",
    "\n",
    "# sp.playlist_tracks(playlist_URI)[\"items\"][0]"
   ]
  },
  {
   "cell_type": "markdown",
   "metadata": {},
   "source": [
    "On the Getting to Know You form, I asked what the theme song for the TV show of your life would be. Below is the url for the Spotify playlist created from those songs. Read it into python the way we did the above playlist.\n",
    "\n",
    "`playlist_link = \"https://open.spotify.com/playlist/6Bl2siSxFI0mmdzOwy562o\"`"
   ]
  },
  {
   "cell_type": "code",
   "execution_count": 140,
   "metadata": {},
   "outputs": [],
   "source": [
    "playlist_link = \"https://open.spotify.com/playlist/6Bl2siSxFI0mmdzOwy562o\"\n",
    "playlist_URI = playlist_link.split(\"/\")[-1].split(\"?\")[0]\n",
    "track_uris = [x[\"track\"][\"uri\"] for x in sp.playlist_tracks(playlist_URI)[\"items\"]]"
   ]
  },
  {
   "cell_type": "markdown",
   "metadata": {},
   "source": [
    "## Part 2.2: Build a dictionary of track info (5 points)\n",
    "\n",
    "I have initialized the `playlist_dict` dictionary for you below, complete with keys and empty lists. Use a for loop to loop through the tracks in our class's playlist and `.append()` the associated values for each track to each of the lists, building out the dictionary. You may write a function to do this, but you don't have to. **Note**: if you know of a faster way to do this than with a for loop, you are welcome to use it."
   ]
  },
  {
   "cell_type": "code",
   "execution_count": 62,
   "metadata": {},
   "outputs": [],
   "source": [
    "playlist_dict = {'track_uri': list(),\n",
    "                'track_name': list(),\n",
    "                'artist_uri': list(),\n",
    "                'artist_name': list(),\n",
    "                'artist_pop': list(),\n",
    "                'artist_genres': list(),\n",
    "                'album': list(),\n",
    "                'track_pop': list()}"
   ]
  },
  {
   "cell_type": "code",
   "execution_count": 100,
   "metadata": {},
   "outputs": [],
   "source": [
    "for song in sp.playlist_tracks(playlist_URI)[\"items\"]:\n",
    "    playlist_dict[\"track_uri\"].append(song[\"track\"][\"uri\"])\n",
    "    \n",
    "    playlist_dict[\"track_name\"].append(song[\"track\"][\"name\"])\n",
    "    \n",
    "    artist_uri = song[\"track\"][\"artists\"][0][\"uri\"]\n",
    "    playlist_dict[\"artist_uri\"].append(artist_uri)\n",
    "    \n",
    "    playlist_dict[\"artist_name\"].append(song[\"track\"][\"artists\"][0][\"name\"])\n",
    "    \n",
    "    playlist_dict[\"artist_pop\"].append(sp.artist(artist_uri)[\"popularity\"])\n",
    "    \n",
    "    playlist_dict[\"artist_genres\"].append(sp.artist(artist_uri)[\"genres\"])\n",
    "    \n",
    "    playlist_dict[\"album\"].append(song[\"track\"][\"album\"][\"name\"])\n",
    "    \n",
    "    playlist_dict[\"track_pop\"].append(song[\"track\"][\"popularity\"])"
   ]
  },
  {
   "cell_type": "markdown",
   "metadata": {},
   "source": [
    "## Part 2.3: Extracting Features from Tracks (5 points)\n",
    "\n",
    "Now that we have a list of track URIs, we can extract features from these tracks. Spotify has a list of these features for each of its tracks, from analysis of the audio. We can access these with a single method of the spotify object `audio_features(uri)`. This gives us a list of mostly numerical features that we can use for analysis."
   ]
  },
  {
   "cell_type": "code",
   "execution_count": 165,
   "metadata": {},
   "outputs": [
    {
     "data": {
      "text/plain": [
       "[{'danceability': 0.631,\n",
       "  'energy': 0.605,\n",
       "  'key': 0,\n",
       "  'loudness': -8.73,\n",
       "  'mode': 1,\n",
       "  'speechiness': 0.0386,\n",
       "  'acousticness': 0.453,\n",
       "  'instrumentalness': 0.000184,\n",
       "  'liveness': 0.291,\n",
       "  'valence': 0.25,\n",
       "  'tempo': 115.281,\n",
       "  'type': 'audio_features',\n",
       "  'id': '4LVDnRxfljiEerC26z3JW4',\n",
       "  'uri': 'spotify:track:4LVDnRxfljiEerC26z3JW4',\n",
       "  'track_href': 'https://api.spotify.com/v1/tracks/4LVDnRxfljiEerC26z3JW4',\n",
       "  'analysis_url': 'https://api.spotify.com/v1/audio-analysis/4LVDnRxfljiEerC26z3JW4',\n",
       "  'duration_ms': 295293,\n",
       "  'time_signature': 4}]"
      ]
     },
     "execution_count": 165,
     "metadata": {},
     "output_type": "execute_result"
    }
   ],
   "source": [
    "# note that .audio_features returns a dictionary in a list of 1\n",
    "sp.audio_features(playlist_dict['track_uri'][0])"
   ]
  },
  {
   "cell_type": "markdown",
   "metadata": {},
   "source": [
    "I have initiated an empty `song_dict` for you below. Loop through the track URIs of our `playlist_dict` from the previous part then for each song, loop through the audio features and add corresponding key-value pairs to the dictionary. Finally, after you have created the dictionary, cast it to a Data Frame called `song_df` using pandas. **Note**: if you know of a faster way to do this than with a nested for loop, you are welcome to use it."
   ]
  },
  {
   "cell_type": "code",
   "execution_count": 272,
   "metadata": {},
   "outputs": [],
   "source": [
    "from collections import defaultdict\n",
    "import pandas as pd\n",
    "\n",
    "song_dict = {'danceability': [],\n",
    "             'energy': [],\n",
    "             'key': [],\n",
    "             'loudness': [],\n",
    "             'mode': [],\n",
    "             'speechiness': [],\n",
    "             'acousticness': [],\n",
    "             'instrumentalness': [],\n",
    "             'liveness': [],\n",
    "             'valence': [],\n",
    "             'tempo': [],\n",
    "             'type': [],\n",
    "             'id': [],\n",
    "             'uri': [],\n",
    "             'track_href': [],\n",
    "             'analysis_url': [],\n",
    "             'duration_ms': [],\n",
    "             'time_signature': []}"
   ]
  },
  {
   "cell_type": "code",
   "execution_count": 273,
   "metadata": {},
   "outputs": [
    {
     "name": "stderr",
     "output_type": "stream",
     "text": [
      "Max Retries reached\n"
     ]
    },
    {
     "ename": "SpotifyException",
     "evalue": "http status: 429, code:-1 - /v1/audio-features/?ids=4ZPdLEztrlZqbJkgHNw54L:\n Max Retries, reason: too many 429 error responses",
     "output_type": "error",
     "traceback": [
      "\u001b[1;31m---------------------------------------------------------------------------\u001b[0m",
      "\u001b[1;31mResponseError\u001b[0m                             Traceback (most recent call last)",
      "\u001b[1;31mResponseError\u001b[0m: too many 429 error responses",
      "\nThe above exception was the direct cause of the following exception:\n",
      "\u001b[1;31mMaxRetryError\u001b[0m                             Traceback (most recent call last)",
      "File \u001b[1;32m~\\AppData\\Local\\Packages\\PythonSoftwareFoundation.Python.3.11_qbz5n2kfra8p0\\LocalCache\\local-packages\\Python311\\site-packages\\requests\\adapters.py:486\u001b[0m, in \u001b[0;36mHTTPAdapter.send\u001b[1;34m(self, request, stream, timeout, verify, cert, proxies)\u001b[0m\n\u001b[0;32m    485\u001b[0m \u001b[38;5;28;01mtry\u001b[39;00m:\n\u001b[1;32m--> 486\u001b[0m     resp \u001b[38;5;241m=\u001b[39m \u001b[43mconn\u001b[49m\u001b[38;5;241;43m.\u001b[39;49m\u001b[43murlopen\u001b[49m\u001b[43m(\u001b[49m\n\u001b[0;32m    487\u001b[0m \u001b[43m        \u001b[49m\u001b[43mmethod\u001b[49m\u001b[38;5;241;43m=\u001b[39;49m\u001b[43mrequest\u001b[49m\u001b[38;5;241;43m.\u001b[39;49m\u001b[43mmethod\u001b[49m\u001b[43m,\u001b[49m\n\u001b[0;32m    488\u001b[0m \u001b[43m        \u001b[49m\u001b[43murl\u001b[49m\u001b[38;5;241;43m=\u001b[39;49m\u001b[43murl\u001b[49m\u001b[43m,\u001b[49m\n\u001b[0;32m    489\u001b[0m \u001b[43m        \u001b[49m\u001b[43mbody\u001b[49m\u001b[38;5;241;43m=\u001b[39;49m\u001b[43mrequest\u001b[49m\u001b[38;5;241;43m.\u001b[39;49m\u001b[43mbody\u001b[49m\u001b[43m,\u001b[49m\n\u001b[0;32m    490\u001b[0m \u001b[43m        \u001b[49m\u001b[43mheaders\u001b[49m\u001b[38;5;241;43m=\u001b[39;49m\u001b[43mrequest\u001b[49m\u001b[38;5;241;43m.\u001b[39;49m\u001b[43mheaders\u001b[49m\u001b[43m,\u001b[49m\n\u001b[0;32m    491\u001b[0m \u001b[43m        \u001b[49m\u001b[43mredirect\u001b[49m\u001b[38;5;241;43m=\u001b[39;49m\u001b[38;5;28;43;01mFalse\u001b[39;49;00m\u001b[43m,\u001b[49m\n\u001b[0;32m    492\u001b[0m \u001b[43m        \u001b[49m\u001b[43massert_same_host\u001b[49m\u001b[38;5;241;43m=\u001b[39;49m\u001b[38;5;28;43;01mFalse\u001b[39;49;00m\u001b[43m,\u001b[49m\n\u001b[0;32m    493\u001b[0m \u001b[43m        \u001b[49m\u001b[43mpreload_content\u001b[49m\u001b[38;5;241;43m=\u001b[39;49m\u001b[38;5;28;43;01mFalse\u001b[39;49;00m\u001b[43m,\u001b[49m\n\u001b[0;32m    494\u001b[0m \u001b[43m        \u001b[49m\u001b[43mdecode_content\u001b[49m\u001b[38;5;241;43m=\u001b[39;49m\u001b[38;5;28;43;01mFalse\u001b[39;49;00m\u001b[43m,\u001b[49m\n\u001b[0;32m    495\u001b[0m \u001b[43m        \u001b[49m\u001b[43mretries\u001b[49m\u001b[38;5;241;43m=\u001b[39;49m\u001b[38;5;28;43mself\u001b[39;49m\u001b[38;5;241;43m.\u001b[39;49m\u001b[43mmax_retries\u001b[49m\u001b[43m,\u001b[49m\n\u001b[0;32m    496\u001b[0m \u001b[43m        \u001b[49m\u001b[43mtimeout\u001b[49m\u001b[38;5;241;43m=\u001b[39;49m\u001b[43mtimeout\u001b[49m\u001b[43m,\u001b[49m\n\u001b[0;32m    497\u001b[0m \u001b[43m        \u001b[49m\u001b[43mchunked\u001b[49m\u001b[38;5;241;43m=\u001b[39;49m\u001b[43mchunked\u001b[49m\u001b[43m,\u001b[49m\n\u001b[0;32m    498\u001b[0m \u001b[43m    \u001b[49m\u001b[43m)\u001b[49m\n\u001b[0;32m    500\u001b[0m \u001b[38;5;28;01mexcept\u001b[39;00m (ProtocolError, \u001b[38;5;167;01mOSError\u001b[39;00m) \u001b[38;5;28;01mas\u001b[39;00m err:\n",
      "File \u001b[1;32m~\\AppData\\Local\\Packages\\PythonSoftwareFoundation.Python.3.11_qbz5n2kfra8p0\\LocalCache\\local-packages\\Python311\\site-packages\\urllib3\\connectionpool.py:941\u001b[0m, in \u001b[0;36mHTTPConnectionPool.urlopen\u001b[1;34m(self, method, url, body, headers, retries, redirect, assert_same_host, timeout, pool_timeout, release_conn, chunked, body_pos, preload_content, decode_content, **response_kw)\u001b[0m\n\u001b[0;32m    940\u001b[0m     log\u001b[38;5;241m.\u001b[39mdebug(\u001b[38;5;124m\"\u001b[39m\u001b[38;5;124mRetry: \u001b[39m\u001b[38;5;132;01m%s\u001b[39;00m\u001b[38;5;124m\"\u001b[39m, url)\n\u001b[1;32m--> 941\u001b[0m     \u001b[38;5;28;01mreturn\u001b[39;00m \u001b[38;5;28;43mself\u001b[39;49m\u001b[38;5;241;43m.\u001b[39;49m\u001b[43murlopen\u001b[49m\u001b[43m(\u001b[49m\n\u001b[0;32m    942\u001b[0m \u001b[43m        \u001b[49m\u001b[43mmethod\u001b[49m\u001b[43m,\u001b[49m\n\u001b[0;32m    943\u001b[0m \u001b[43m        \u001b[49m\u001b[43murl\u001b[49m\u001b[43m,\u001b[49m\n\u001b[0;32m    944\u001b[0m \u001b[43m        \u001b[49m\u001b[43mbody\u001b[49m\u001b[43m,\u001b[49m\n\u001b[0;32m    945\u001b[0m \u001b[43m        \u001b[49m\u001b[43mheaders\u001b[49m\u001b[43m,\u001b[49m\n\u001b[0;32m    946\u001b[0m \u001b[43m        \u001b[49m\u001b[43mretries\u001b[49m\u001b[38;5;241;43m=\u001b[39;49m\u001b[43mretries\u001b[49m\u001b[43m,\u001b[49m\n\u001b[0;32m    947\u001b[0m \u001b[43m        \u001b[49m\u001b[43mredirect\u001b[49m\u001b[38;5;241;43m=\u001b[39;49m\u001b[43mredirect\u001b[49m\u001b[43m,\u001b[49m\n\u001b[0;32m    948\u001b[0m \u001b[43m        \u001b[49m\u001b[43massert_same_host\u001b[49m\u001b[38;5;241;43m=\u001b[39;49m\u001b[43massert_same_host\u001b[49m\u001b[43m,\u001b[49m\n\u001b[0;32m    949\u001b[0m \u001b[43m        \u001b[49m\u001b[43mtimeout\u001b[49m\u001b[38;5;241;43m=\u001b[39;49m\u001b[43mtimeout\u001b[49m\u001b[43m,\u001b[49m\n\u001b[0;32m    950\u001b[0m \u001b[43m        \u001b[49m\u001b[43mpool_timeout\u001b[49m\u001b[38;5;241;43m=\u001b[39;49m\u001b[43mpool_timeout\u001b[49m\u001b[43m,\u001b[49m\n\u001b[0;32m    951\u001b[0m \u001b[43m        \u001b[49m\u001b[43mrelease_conn\u001b[49m\u001b[38;5;241;43m=\u001b[39;49m\u001b[43mrelease_conn\u001b[49m\u001b[43m,\u001b[49m\n\u001b[0;32m    952\u001b[0m \u001b[43m        \u001b[49m\u001b[43mchunked\u001b[49m\u001b[38;5;241;43m=\u001b[39;49m\u001b[43mchunked\u001b[49m\u001b[43m,\u001b[49m\n\u001b[0;32m    953\u001b[0m \u001b[43m        \u001b[49m\u001b[43mbody_pos\u001b[49m\u001b[38;5;241;43m=\u001b[39;49m\u001b[43mbody_pos\u001b[49m\u001b[43m,\u001b[49m\n\u001b[0;32m    954\u001b[0m \u001b[43m        \u001b[49m\u001b[43mpreload_content\u001b[49m\u001b[38;5;241;43m=\u001b[39;49m\u001b[43mpreload_content\u001b[49m\u001b[43m,\u001b[49m\n\u001b[0;32m    955\u001b[0m \u001b[43m        \u001b[49m\u001b[43mdecode_content\u001b[49m\u001b[38;5;241;43m=\u001b[39;49m\u001b[43mdecode_content\u001b[49m\u001b[43m,\u001b[49m\n\u001b[0;32m    956\u001b[0m \u001b[43m        \u001b[49m\u001b[38;5;241;43m*\u001b[39;49m\u001b[38;5;241;43m*\u001b[39;49m\u001b[43mresponse_kw\u001b[49m\u001b[43m,\u001b[49m\n\u001b[0;32m    957\u001b[0m \u001b[43m    \u001b[49m\u001b[43m)\u001b[49m\n\u001b[0;32m    959\u001b[0m \u001b[38;5;28;01mreturn\u001b[39;00m response\n",
      "File \u001b[1;32m~\\AppData\\Local\\Packages\\PythonSoftwareFoundation.Python.3.11_qbz5n2kfra8p0\\LocalCache\\local-packages\\Python311\\site-packages\\urllib3\\connectionpool.py:941\u001b[0m, in \u001b[0;36mHTTPConnectionPool.urlopen\u001b[1;34m(self, method, url, body, headers, retries, redirect, assert_same_host, timeout, pool_timeout, release_conn, chunked, body_pos, preload_content, decode_content, **response_kw)\u001b[0m\n\u001b[0;32m    940\u001b[0m     log\u001b[38;5;241m.\u001b[39mdebug(\u001b[38;5;124m\"\u001b[39m\u001b[38;5;124mRetry: \u001b[39m\u001b[38;5;132;01m%s\u001b[39;00m\u001b[38;5;124m\"\u001b[39m, url)\n\u001b[1;32m--> 941\u001b[0m     \u001b[38;5;28;01mreturn\u001b[39;00m \u001b[38;5;28;43mself\u001b[39;49m\u001b[38;5;241;43m.\u001b[39;49m\u001b[43murlopen\u001b[49m\u001b[43m(\u001b[49m\n\u001b[0;32m    942\u001b[0m \u001b[43m        \u001b[49m\u001b[43mmethod\u001b[49m\u001b[43m,\u001b[49m\n\u001b[0;32m    943\u001b[0m \u001b[43m        \u001b[49m\u001b[43murl\u001b[49m\u001b[43m,\u001b[49m\n\u001b[0;32m    944\u001b[0m \u001b[43m        \u001b[49m\u001b[43mbody\u001b[49m\u001b[43m,\u001b[49m\n\u001b[0;32m    945\u001b[0m \u001b[43m        \u001b[49m\u001b[43mheaders\u001b[49m\u001b[43m,\u001b[49m\n\u001b[0;32m    946\u001b[0m \u001b[43m        \u001b[49m\u001b[43mretries\u001b[49m\u001b[38;5;241;43m=\u001b[39;49m\u001b[43mretries\u001b[49m\u001b[43m,\u001b[49m\n\u001b[0;32m    947\u001b[0m \u001b[43m        \u001b[49m\u001b[43mredirect\u001b[49m\u001b[38;5;241;43m=\u001b[39;49m\u001b[43mredirect\u001b[49m\u001b[43m,\u001b[49m\n\u001b[0;32m    948\u001b[0m \u001b[43m        \u001b[49m\u001b[43massert_same_host\u001b[49m\u001b[38;5;241;43m=\u001b[39;49m\u001b[43massert_same_host\u001b[49m\u001b[43m,\u001b[49m\n\u001b[0;32m    949\u001b[0m \u001b[43m        \u001b[49m\u001b[43mtimeout\u001b[49m\u001b[38;5;241;43m=\u001b[39;49m\u001b[43mtimeout\u001b[49m\u001b[43m,\u001b[49m\n\u001b[0;32m    950\u001b[0m \u001b[43m        \u001b[49m\u001b[43mpool_timeout\u001b[49m\u001b[38;5;241;43m=\u001b[39;49m\u001b[43mpool_timeout\u001b[49m\u001b[43m,\u001b[49m\n\u001b[0;32m    951\u001b[0m \u001b[43m        \u001b[49m\u001b[43mrelease_conn\u001b[49m\u001b[38;5;241;43m=\u001b[39;49m\u001b[43mrelease_conn\u001b[49m\u001b[43m,\u001b[49m\n\u001b[0;32m    952\u001b[0m \u001b[43m        \u001b[49m\u001b[43mchunked\u001b[49m\u001b[38;5;241;43m=\u001b[39;49m\u001b[43mchunked\u001b[49m\u001b[43m,\u001b[49m\n\u001b[0;32m    953\u001b[0m \u001b[43m        \u001b[49m\u001b[43mbody_pos\u001b[49m\u001b[38;5;241;43m=\u001b[39;49m\u001b[43mbody_pos\u001b[49m\u001b[43m,\u001b[49m\n\u001b[0;32m    954\u001b[0m \u001b[43m        \u001b[49m\u001b[43mpreload_content\u001b[49m\u001b[38;5;241;43m=\u001b[39;49m\u001b[43mpreload_content\u001b[49m\u001b[43m,\u001b[49m\n\u001b[0;32m    955\u001b[0m \u001b[43m        \u001b[49m\u001b[43mdecode_content\u001b[49m\u001b[38;5;241;43m=\u001b[39;49m\u001b[43mdecode_content\u001b[49m\u001b[43m,\u001b[49m\n\u001b[0;32m    956\u001b[0m \u001b[43m        \u001b[49m\u001b[38;5;241;43m*\u001b[39;49m\u001b[38;5;241;43m*\u001b[39;49m\u001b[43mresponse_kw\u001b[49m\u001b[43m,\u001b[49m\n\u001b[0;32m    957\u001b[0m \u001b[43m    \u001b[49m\u001b[43m)\u001b[49m\n\u001b[0;32m    959\u001b[0m \u001b[38;5;28;01mreturn\u001b[39;00m response\n",
      "File \u001b[1;32m~\\AppData\\Local\\Packages\\PythonSoftwareFoundation.Python.3.11_qbz5n2kfra8p0\\LocalCache\\local-packages\\Python311\\site-packages\\urllib3\\connectionpool.py:941\u001b[0m, in \u001b[0;36mHTTPConnectionPool.urlopen\u001b[1;34m(self, method, url, body, headers, retries, redirect, assert_same_host, timeout, pool_timeout, release_conn, chunked, body_pos, preload_content, decode_content, **response_kw)\u001b[0m\n\u001b[0;32m    940\u001b[0m     log\u001b[38;5;241m.\u001b[39mdebug(\u001b[38;5;124m\"\u001b[39m\u001b[38;5;124mRetry: \u001b[39m\u001b[38;5;132;01m%s\u001b[39;00m\u001b[38;5;124m\"\u001b[39m, url)\n\u001b[1;32m--> 941\u001b[0m     \u001b[38;5;28;01mreturn\u001b[39;00m \u001b[38;5;28;43mself\u001b[39;49m\u001b[38;5;241;43m.\u001b[39;49m\u001b[43murlopen\u001b[49m\u001b[43m(\u001b[49m\n\u001b[0;32m    942\u001b[0m \u001b[43m        \u001b[49m\u001b[43mmethod\u001b[49m\u001b[43m,\u001b[49m\n\u001b[0;32m    943\u001b[0m \u001b[43m        \u001b[49m\u001b[43murl\u001b[49m\u001b[43m,\u001b[49m\n\u001b[0;32m    944\u001b[0m \u001b[43m        \u001b[49m\u001b[43mbody\u001b[49m\u001b[43m,\u001b[49m\n\u001b[0;32m    945\u001b[0m \u001b[43m        \u001b[49m\u001b[43mheaders\u001b[49m\u001b[43m,\u001b[49m\n\u001b[0;32m    946\u001b[0m \u001b[43m        \u001b[49m\u001b[43mretries\u001b[49m\u001b[38;5;241;43m=\u001b[39;49m\u001b[43mretries\u001b[49m\u001b[43m,\u001b[49m\n\u001b[0;32m    947\u001b[0m \u001b[43m        \u001b[49m\u001b[43mredirect\u001b[49m\u001b[38;5;241;43m=\u001b[39;49m\u001b[43mredirect\u001b[49m\u001b[43m,\u001b[49m\n\u001b[0;32m    948\u001b[0m \u001b[43m        \u001b[49m\u001b[43massert_same_host\u001b[49m\u001b[38;5;241;43m=\u001b[39;49m\u001b[43massert_same_host\u001b[49m\u001b[43m,\u001b[49m\n\u001b[0;32m    949\u001b[0m \u001b[43m        \u001b[49m\u001b[43mtimeout\u001b[49m\u001b[38;5;241;43m=\u001b[39;49m\u001b[43mtimeout\u001b[49m\u001b[43m,\u001b[49m\n\u001b[0;32m    950\u001b[0m \u001b[43m        \u001b[49m\u001b[43mpool_timeout\u001b[49m\u001b[38;5;241;43m=\u001b[39;49m\u001b[43mpool_timeout\u001b[49m\u001b[43m,\u001b[49m\n\u001b[0;32m    951\u001b[0m \u001b[43m        \u001b[49m\u001b[43mrelease_conn\u001b[49m\u001b[38;5;241;43m=\u001b[39;49m\u001b[43mrelease_conn\u001b[49m\u001b[43m,\u001b[49m\n\u001b[0;32m    952\u001b[0m \u001b[43m        \u001b[49m\u001b[43mchunked\u001b[49m\u001b[38;5;241;43m=\u001b[39;49m\u001b[43mchunked\u001b[49m\u001b[43m,\u001b[49m\n\u001b[0;32m    953\u001b[0m \u001b[43m        \u001b[49m\u001b[43mbody_pos\u001b[49m\u001b[38;5;241;43m=\u001b[39;49m\u001b[43mbody_pos\u001b[49m\u001b[43m,\u001b[49m\n\u001b[0;32m    954\u001b[0m \u001b[43m        \u001b[49m\u001b[43mpreload_content\u001b[49m\u001b[38;5;241;43m=\u001b[39;49m\u001b[43mpreload_content\u001b[49m\u001b[43m,\u001b[49m\n\u001b[0;32m    955\u001b[0m \u001b[43m        \u001b[49m\u001b[43mdecode_content\u001b[49m\u001b[38;5;241;43m=\u001b[39;49m\u001b[43mdecode_content\u001b[49m\u001b[43m,\u001b[49m\n\u001b[0;32m    956\u001b[0m \u001b[43m        \u001b[49m\u001b[38;5;241;43m*\u001b[39;49m\u001b[38;5;241;43m*\u001b[39;49m\u001b[43mresponse_kw\u001b[49m\u001b[43m,\u001b[49m\n\u001b[0;32m    957\u001b[0m \u001b[43m    \u001b[49m\u001b[43m)\u001b[49m\n\u001b[0;32m    959\u001b[0m \u001b[38;5;28;01mreturn\u001b[39;00m response\n",
      "File \u001b[1;32m~\\AppData\\Local\\Packages\\PythonSoftwareFoundation.Python.3.11_qbz5n2kfra8p0\\LocalCache\\local-packages\\Python311\\site-packages\\urllib3\\connectionpool.py:931\u001b[0m, in \u001b[0;36mHTTPConnectionPool.urlopen\u001b[1;34m(self, method, url, body, headers, retries, redirect, assert_same_host, timeout, pool_timeout, release_conn, chunked, body_pos, preload_content, decode_content, **response_kw)\u001b[0m\n\u001b[0;32m    930\u001b[0m \u001b[38;5;28;01mtry\u001b[39;00m:\n\u001b[1;32m--> 931\u001b[0m     retries \u001b[38;5;241m=\u001b[39m \u001b[43mretries\u001b[49m\u001b[38;5;241;43m.\u001b[39;49m\u001b[43mincrement\u001b[49m\u001b[43m(\u001b[49m\u001b[43mmethod\u001b[49m\u001b[43m,\u001b[49m\u001b[43m \u001b[49m\u001b[43murl\u001b[49m\u001b[43m,\u001b[49m\u001b[43m \u001b[49m\u001b[43mresponse\u001b[49m\u001b[38;5;241;43m=\u001b[39;49m\u001b[43mresponse\u001b[49m\u001b[43m,\u001b[49m\u001b[43m \u001b[49m\u001b[43m_pool\u001b[49m\u001b[38;5;241;43m=\u001b[39;49m\u001b[38;5;28;43mself\u001b[39;49m\u001b[43m)\u001b[49m\n\u001b[0;32m    932\u001b[0m \u001b[38;5;28;01mexcept\u001b[39;00m MaxRetryError:\n",
      "File \u001b[1;32m~\\AppData\\Local\\Packages\\PythonSoftwareFoundation.Python.3.11_qbz5n2kfra8p0\\LocalCache\\local-packages\\Python311\\site-packages\\urllib3\\util\\retry.py:515\u001b[0m, in \u001b[0;36mRetry.increment\u001b[1;34m(self, method, url, response, error, _pool, _stacktrace)\u001b[0m\n\u001b[0;32m    514\u001b[0m     reason \u001b[38;5;241m=\u001b[39m error \u001b[38;5;129;01mor\u001b[39;00m ResponseError(cause)\n\u001b[1;32m--> 515\u001b[0m     \u001b[38;5;28;01mraise\u001b[39;00m MaxRetryError(_pool, url, reason) \u001b[38;5;28;01mfrom\u001b[39;00m \u001b[38;5;21;01mreason\u001b[39;00m  \u001b[38;5;66;03m# type: ignore[arg-type]\u001b[39;00m\n\u001b[0;32m    517\u001b[0m log\u001b[38;5;241m.\u001b[39mdebug(\u001b[38;5;124m\"\u001b[39m\u001b[38;5;124mIncremented Retry for (url=\u001b[39m\u001b[38;5;124m'\u001b[39m\u001b[38;5;132;01m%s\u001b[39;00m\u001b[38;5;124m'\u001b[39m\u001b[38;5;124m): \u001b[39m\u001b[38;5;132;01m%r\u001b[39;00m\u001b[38;5;124m\"\u001b[39m, url, new_retry)\n",
      "\u001b[1;31mMaxRetryError\u001b[0m: HTTPSConnectionPool(host='api.spotify.com', port=443): Max retries exceeded with url: /v1/audio-features/?ids=4ZPdLEztrlZqbJkgHNw54L (Caused by ResponseError('too many 429 error responses'))",
      "\nDuring handling of the above exception, another exception occurred:\n",
      "\u001b[1;31mRetryError\u001b[0m                                Traceback (most recent call last)",
      "File \u001b[1;32m~\\AppData\\Local\\Packages\\PythonSoftwareFoundation.Python.3.11_qbz5n2kfra8p0\\LocalCache\\local-packages\\Python311\\site-packages\\spotipy\\client.py:266\u001b[0m, in \u001b[0;36mSpotify._internal_call\u001b[1;34m(self, method, url, payload, params)\u001b[0m\n\u001b[0;32m    265\u001b[0m \u001b[38;5;28;01mtry\u001b[39;00m:\n\u001b[1;32m--> 266\u001b[0m     response \u001b[38;5;241m=\u001b[39m \u001b[38;5;28;43mself\u001b[39;49m\u001b[38;5;241;43m.\u001b[39;49m\u001b[43m_session\u001b[49m\u001b[38;5;241;43m.\u001b[39;49m\u001b[43mrequest\u001b[49m\u001b[43m(\u001b[49m\n\u001b[0;32m    267\u001b[0m \u001b[43m        \u001b[49m\u001b[43mmethod\u001b[49m\u001b[43m,\u001b[49m\u001b[43m \u001b[49m\u001b[43murl\u001b[49m\u001b[43m,\u001b[49m\u001b[43m \u001b[49m\u001b[43mheaders\u001b[49m\u001b[38;5;241;43m=\u001b[39;49m\u001b[43mheaders\u001b[49m\u001b[43m,\u001b[49m\u001b[43m \u001b[49m\u001b[43mproxies\u001b[49m\u001b[38;5;241;43m=\u001b[39;49m\u001b[38;5;28;43mself\u001b[39;49m\u001b[38;5;241;43m.\u001b[39;49m\u001b[43mproxies\u001b[49m\u001b[43m,\u001b[49m\n\u001b[0;32m    268\u001b[0m \u001b[43m        \u001b[49m\u001b[43mtimeout\u001b[49m\u001b[38;5;241;43m=\u001b[39;49m\u001b[38;5;28;43mself\u001b[39;49m\u001b[38;5;241;43m.\u001b[39;49m\u001b[43mrequests_timeout\u001b[49m\u001b[43m,\u001b[49m\u001b[43m \u001b[49m\u001b[38;5;241;43m*\u001b[39;49m\u001b[38;5;241;43m*\u001b[39;49m\u001b[43margs\u001b[49m\n\u001b[0;32m    269\u001b[0m \u001b[43m    \u001b[49m\u001b[43m)\u001b[49m\n\u001b[0;32m    271\u001b[0m     response\u001b[38;5;241m.\u001b[39mraise_for_status()\n",
      "File \u001b[1;32m~\\AppData\\Local\\Packages\\PythonSoftwareFoundation.Python.3.11_qbz5n2kfra8p0\\LocalCache\\local-packages\\Python311\\site-packages\\requests\\sessions.py:589\u001b[0m, in \u001b[0;36mSession.request\u001b[1;34m(self, method, url, params, data, headers, cookies, files, auth, timeout, allow_redirects, proxies, hooks, stream, verify, cert, json)\u001b[0m\n\u001b[0;32m    588\u001b[0m send_kwargs\u001b[38;5;241m.\u001b[39mupdate(settings)\n\u001b[1;32m--> 589\u001b[0m resp \u001b[38;5;241m=\u001b[39m \u001b[38;5;28;43mself\u001b[39;49m\u001b[38;5;241;43m.\u001b[39;49m\u001b[43msend\u001b[49m\u001b[43m(\u001b[49m\u001b[43mprep\u001b[49m\u001b[43m,\u001b[49m\u001b[43m \u001b[49m\u001b[38;5;241;43m*\u001b[39;49m\u001b[38;5;241;43m*\u001b[39;49m\u001b[43msend_kwargs\u001b[49m\u001b[43m)\u001b[49m\n\u001b[0;32m    591\u001b[0m \u001b[38;5;28;01mreturn\u001b[39;00m resp\n",
      "File \u001b[1;32m~\\AppData\\Local\\Packages\\PythonSoftwareFoundation.Python.3.11_qbz5n2kfra8p0\\LocalCache\\local-packages\\Python311\\site-packages\\requests\\sessions.py:703\u001b[0m, in \u001b[0;36mSession.send\u001b[1;34m(self, request, **kwargs)\u001b[0m\n\u001b[0;32m    702\u001b[0m \u001b[38;5;66;03m# Send the request\u001b[39;00m\n\u001b[1;32m--> 703\u001b[0m r \u001b[38;5;241m=\u001b[39m \u001b[43madapter\u001b[49m\u001b[38;5;241;43m.\u001b[39;49m\u001b[43msend\u001b[49m\u001b[43m(\u001b[49m\u001b[43mrequest\u001b[49m\u001b[43m,\u001b[49m\u001b[43m \u001b[49m\u001b[38;5;241;43m*\u001b[39;49m\u001b[38;5;241;43m*\u001b[39;49m\u001b[43mkwargs\u001b[49m\u001b[43m)\u001b[49m\n\u001b[0;32m    705\u001b[0m \u001b[38;5;66;03m# Total elapsed time of the request (approximately)\u001b[39;00m\n",
      "File \u001b[1;32m~\\AppData\\Local\\Packages\\PythonSoftwareFoundation.Python.3.11_qbz5n2kfra8p0\\LocalCache\\local-packages\\Python311\\site-packages\\requests\\adapters.py:510\u001b[0m, in \u001b[0;36mHTTPAdapter.send\u001b[1;34m(self, request, stream, timeout, verify, cert, proxies)\u001b[0m\n\u001b[0;32m    509\u001b[0m \u001b[38;5;28;01mif\u001b[39;00m \u001b[38;5;28misinstance\u001b[39m(e\u001b[38;5;241m.\u001b[39mreason, ResponseError):\n\u001b[1;32m--> 510\u001b[0m     \u001b[38;5;28;01mraise\u001b[39;00m RetryError(e, request\u001b[38;5;241m=\u001b[39mrequest)\n\u001b[0;32m    512\u001b[0m \u001b[38;5;28;01mif\u001b[39;00m \u001b[38;5;28misinstance\u001b[39m(e\u001b[38;5;241m.\u001b[39mreason, _ProxyError):\n",
      "\u001b[1;31mRetryError\u001b[0m: HTTPSConnectionPool(host='api.spotify.com', port=443): Max retries exceeded with url: /v1/audio-features/?ids=4ZPdLEztrlZqbJkgHNw54L (Caused by ResponseError('too many 429 error responses'))",
      "\nDuring handling of the above exception, another exception occurred:\n",
      "\u001b[1;31mSpotifyException\u001b[0m                          Traceback (most recent call last)",
      "Cell \u001b[1;32mIn[273], line 2\u001b[0m\n\u001b[0;32m      1\u001b[0m \u001b[38;5;28;01mfor\u001b[39;00m song \u001b[38;5;129;01min\u001b[39;00m playlist_dict[\u001b[38;5;124m\"\u001b[39m\u001b[38;5;124mtrack_uri\u001b[39m\u001b[38;5;124m\"\u001b[39m]:\n\u001b[1;32m----> 2\u001b[0m     audio_feats \u001b[38;5;241m=\u001b[39m \u001b[43msp\u001b[49m\u001b[38;5;241;43m.\u001b[39;49m\u001b[43maudio_features\u001b[49m\u001b[43m(\u001b[49m\u001b[43msong\u001b[49m\u001b[43m)\u001b[49m[\u001b[38;5;241m0\u001b[39m]\n\u001b[0;32m      3\u001b[0m     \u001b[38;5;28;01mfor\u001b[39;00m key, value \u001b[38;5;129;01min\u001b[39;00m audio_feats\u001b[38;5;241m.\u001b[39mitems():\n\u001b[0;32m      4\u001b[0m         song_dict[key]\u001b[38;5;241m.\u001b[39mappend(value)\n",
      "File \u001b[1;32m~\\AppData\\Local\\Packages\\PythonSoftwareFoundation.Python.3.11_qbz5n2kfra8p0\\LocalCache\\local-packages\\Python311\\site-packages\\spotipy\\client.py:1734\u001b[0m, in \u001b[0;36mSpotify.audio_features\u001b[1;34m(self, tracks)\u001b[0m\n\u001b[0;32m   1732\u001b[0m \u001b[38;5;28;01mif\u001b[39;00m \u001b[38;5;28misinstance\u001b[39m(tracks, \u001b[38;5;28mstr\u001b[39m):\n\u001b[0;32m   1733\u001b[0m     trackid \u001b[38;5;241m=\u001b[39m \u001b[38;5;28mself\u001b[39m\u001b[38;5;241m.\u001b[39m_get_id(\u001b[38;5;124m\"\u001b[39m\u001b[38;5;124mtrack\u001b[39m\u001b[38;5;124m\"\u001b[39m, tracks)\n\u001b[1;32m-> 1734\u001b[0m     results \u001b[38;5;241m=\u001b[39m \u001b[38;5;28;43mself\u001b[39;49m\u001b[38;5;241;43m.\u001b[39;49m\u001b[43m_get\u001b[49m\u001b[43m(\u001b[49m\u001b[38;5;124;43m\"\u001b[39;49m\u001b[38;5;124;43maudio-features/?ids=\u001b[39;49m\u001b[38;5;124;43m\"\u001b[39;49m\u001b[43m \u001b[49m\u001b[38;5;241;43m+\u001b[39;49m\u001b[43m \u001b[49m\u001b[43mtrackid\u001b[49m\u001b[43m)\u001b[49m\n\u001b[0;32m   1735\u001b[0m \u001b[38;5;28;01melse\u001b[39;00m:\n\u001b[0;32m   1736\u001b[0m     tlist \u001b[38;5;241m=\u001b[39m [\u001b[38;5;28mself\u001b[39m\u001b[38;5;241m.\u001b[39m_get_id(\u001b[38;5;124m\"\u001b[39m\u001b[38;5;124mtrack\u001b[39m\u001b[38;5;124m\"\u001b[39m, t) \u001b[38;5;28;01mfor\u001b[39;00m t \u001b[38;5;129;01min\u001b[39;00m tracks]\n",
      "File \u001b[1;32m~\\AppData\\Local\\Packages\\PythonSoftwareFoundation.Python.3.11_qbz5n2kfra8p0\\LocalCache\\local-packages\\Python311\\site-packages\\spotipy\\client.py:323\u001b[0m, in \u001b[0;36mSpotify._get\u001b[1;34m(self, url, args, payload, **kwargs)\u001b[0m\n\u001b[0;32m    320\u001b[0m \u001b[38;5;28;01mif\u001b[39;00m args:\n\u001b[0;32m    321\u001b[0m     kwargs\u001b[38;5;241m.\u001b[39mupdate(args)\n\u001b[1;32m--> 323\u001b[0m \u001b[38;5;28;01mreturn\u001b[39;00m \u001b[38;5;28;43mself\u001b[39;49m\u001b[38;5;241;43m.\u001b[39;49m\u001b[43m_internal_call\u001b[49m\u001b[43m(\u001b[49m\u001b[38;5;124;43m\"\u001b[39;49m\u001b[38;5;124;43mGET\u001b[39;49m\u001b[38;5;124;43m\"\u001b[39;49m\u001b[43m,\u001b[49m\u001b[43m \u001b[49m\u001b[43murl\u001b[49m\u001b[43m,\u001b[49m\u001b[43m \u001b[49m\u001b[43mpayload\u001b[49m\u001b[43m,\u001b[49m\u001b[43m \u001b[49m\u001b[43mkwargs\u001b[49m\u001b[43m)\u001b[49m\n",
      "File \u001b[1;32m~\\AppData\\Local\\Packages\\PythonSoftwareFoundation.Python.3.11_qbz5n2kfra8p0\\LocalCache\\local-packages\\Python311\\site-packages\\spotipy\\client.py:307\u001b[0m, in \u001b[0;36mSpotify._internal_call\u001b[1;34m(self, method, url, payload, params)\u001b[0m\n\u001b[0;32m    305\u001b[0m     \u001b[38;5;28;01mexcept\u001b[39;00m (\u001b[38;5;167;01mIndexError\u001b[39;00m, \u001b[38;5;167;01mAttributeError\u001b[39;00m):\n\u001b[0;32m    306\u001b[0m         reason \u001b[38;5;241m=\u001b[39m \u001b[38;5;28;01mNone\u001b[39;00m\n\u001b[1;32m--> 307\u001b[0m     \u001b[38;5;28;01mraise\u001b[39;00m SpotifyException(\n\u001b[0;32m    308\u001b[0m         \u001b[38;5;241m429\u001b[39m,\n\u001b[0;32m    309\u001b[0m         \u001b[38;5;241m-\u001b[39m\u001b[38;5;241m1\u001b[39m,\n\u001b[0;32m    310\u001b[0m         \u001b[38;5;124m\"\u001b[39m\u001b[38;5;132;01m%s\u001b[39;00m\u001b[38;5;124m:\u001b[39m\u001b[38;5;130;01m\\n\u001b[39;00m\u001b[38;5;124m \u001b[39m\u001b[38;5;132;01m%s\u001b[39;00m\u001b[38;5;124m\"\u001b[39m \u001b[38;5;241m%\u001b[39m (request\u001b[38;5;241m.\u001b[39mpath_url, \u001b[38;5;124m\"\u001b[39m\u001b[38;5;124mMax Retries\u001b[39m\u001b[38;5;124m\"\u001b[39m),\n\u001b[0;32m    311\u001b[0m         reason\u001b[38;5;241m=\u001b[39mreason\n\u001b[0;32m    312\u001b[0m     )\n\u001b[0;32m    313\u001b[0m \u001b[38;5;28;01mexcept\u001b[39;00m \u001b[38;5;167;01mValueError\u001b[39;00m:\n\u001b[0;32m    314\u001b[0m     results \u001b[38;5;241m=\u001b[39m \u001b[38;5;28;01mNone\u001b[39;00m\n",
      "\u001b[1;31mSpotifyException\u001b[0m: http status: 429, code:-1 - /v1/audio-features/?ids=4ZPdLEztrlZqbJkgHNw54L:\n Max Retries, reason: too many 429 error responses"
     ]
    }
   ],
   "source": [
    "for song in playlist_dict[\"track_uri\"]:\n",
    "    audio_feats = sp.audio_features(song)[0]\n",
    "    for key, value in audio_feats.items():\n",
    "        song_dict[key].append(value)"
   ]
  },
  {
   "cell_type": "code",
   "execution_count": 274,
   "metadata": {},
   "outputs": [],
   "source": [
    "song_df = pd.DataFrame.from_dict(song_dict)"
   ]
  },
  {
   "cell_type": "code",
   "execution_count": 277,
   "metadata": {},
   "outputs": [
    {
     "data": {
      "text/html": [
       "<div>\n",
       "<style scoped>\n",
       "    .dataframe tbody tr th:only-of-type {\n",
       "        vertical-align: middle;\n",
       "    }\n",
       "\n",
       "    .dataframe tbody tr th {\n",
       "        vertical-align: top;\n",
       "    }\n",
       "\n",
       "    .dataframe thead th {\n",
       "        text-align: right;\n",
       "    }\n",
       "</style>\n",
       "<table border=\"1\" class=\"dataframe\">\n",
       "  <thead>\n",
       "    <tr style=\"text-align: right;\">\n",
       "      <th></th>\n",
       "      <th>danceability</th>\n",
       "      <th>energy</th>\n",
       "      <th>key</th>\n",
       "      <th>loudness</th>\n",
       "      <th>mode</th>\n",
       "      <th>speechiness</th>\n",
       "      <th>acousticness</th>\n",
       "      <th>instrumentalness</th>\n",
       "      <th>liveness</th>\n",
       "      <th>valence</th>\n",
       "      <th>tempo</th>\n",
       "      <th>type</th>\n",
       "      <th>id</th>\n",
       "      <th>uri</th>\n",
       "      <th>track_href</th>\n",
       "      <th>analysis_url</th>\n",
       "      <th>duration_ms</th>\n",
       "      <th>time_signature</th>\n",
       "    </tr>\n",
       "  </thead>\n",
       "  <tbody>\n",
       "    <tr>\n",
       "      <th>0</th>\n",
       "      <td>0.631</td>\n",
       "      <td>0.605</td>\n",
       "      <td>0</td>\n",
       "      <td>-8.730</td>\n",
       "      <td>1</td>\n",
       "      <td>0.0386</td>\n",
       "      <td>0.45300</td>\n",
       "      <td>0.000184</td>\n",
       "      <td>0.2910</td>\n",
       "      <td>0.250</td>\n",
       "      <td>115.281</td>\n",
       "      <td>audio_features</td>\n",
       "      <td>4LVDnRxfljiEerC26z3JW4</td>\n",
       "      <td>spotify:track:4LVDnRxfljiEerC26z3JW4</td>\n",
       "      <td>https://api.spotify.com/v1/tracks/4LVDnRxfljiE...</td>\n",
       "      <td>https://api.spotify.com/v1/audio-analysis/4LVD...</td>\n",
       "      <td>295293</td>\n",
       "      <td>4</td>\n",
       "    </tr>\n",
       "    <tr>\n",
       "      <th>1</th>\n",
       "      <td>0.531</td>\n",
       "      <td>0.766</td>\n",
       "      <td>8</td>\n",
       "      <td>-7.692</td>\n",
       "      <td>1</td>\n",
       "      <td>0.0582</td>\n",
       "      <td>0.00560</td>\n",
       "      <td>0.000000</td>\n",
       "      <td>0.2010</td>\n",
       "      <td>0.532</td>\n",
       "      <td>130.048</td>\n",
       "      <td>audio_features</td>\n",
       "      <td>1rS3J4u1G8f6hbmTosa8Nf</td>\n",
       "      <td>spotify:track:1rS3J4u1G8f6hbmTosa8Nf</td>\n",
       "      <td>https://api.spotify.com/v1/tracks/1rS3J4u1G8f6...</td>\n",
       "      <td>https://api.spotify.com/v1/audio-analysis/1rS3...</td>\n",
       "      <td>179493</td>\n",
       "      <td>4</td>\n",
       "    </tr>\n",
       "    <tr>\n",
       "      <th>2</th>\n",
       "      <td>0.561</td>\n",
       "      <td>0.965</td>\n",
       "      <td>7</td>\n",
       "      <td>-3.673</td>\n",
       "      <td>0</td>\n",
       "      <td>0.0343</td>\n",
       "      <td>0.00383</td>\n",
       "      <td>0.000007</td>\n",
       "      <td>0.3710</td>\n",
       "      <td>0.304</td>\n",
       "      <td>128.040</td>\n",
       "      <td>audio_features</td>\n",
       "      <td>4uUG5RXrOk84mYEfFvj3cK</td>\n",
       "      <td>spotify:track:4uUG5RXrOk84mYEfFvj3cK</td>\n",
       "      <td>https://api.spotify.com/v1/tracks/4uUG5RXrOk84...</td>\n",
       "      <td>https://api.spotify.com/v1/audio-analysis/4uUG...</td>\n",
       "      <td>175238</td>\n",
       "      <td>4</td>\n",
       "    </tr>\n",
       "    <tr>\n",
       "      <th>3</th>\n",
       "      <td>0.620</td>\n",
       "      <td>0.712</td>\n",
       "      <td>9</td>\n",
       "      <td>-6.434</td>\n",
       "      <td>1</td>\n",
       "      <td>0.1000</td>\n",
       "      <td>0.22800</td>\n",
       "      <td>0.000003</td>\n",
       "      <td>0.0561</td>\n",
       "      <td>0.830</td>\n",
       "      <td>170.234</td>\n",
       "      <td>audio_features</td>\n",
       "      <td>4dRqYKhLVujxiBXcq50YzG</td>\n",
       "      <td>spotify:track:4dRqYKhLVujxiBXcq50YzG</td>\n",
       "      <td>https://api.spotify.com/v1/tracks/4dRqYKhLVujx...</td>\n",
       "      <td>https://api.spotify.com/v1/audio-analysis/4dRq...</td>\n",
       "      <td>268600</td>\n",
       "      <td>4</td>\n",
       "    </tr>\n",
       "    <tr>\n",
       "      <th>4</th>\n",
       "      <td>0.787</td>\n",
       "      <td>0.655</td>\n",
       "      <td>6</td>\n",
       "      <td>-8.339</td>\n",
       "      <td>0</td>\n",
       "      <td>0.0431</td>\n",
       "      <td>0.23800</td>\n",
       "      <td>0.000171</td>\n",
       "      <td>0.1380</td>\n",
       "      <td>0.650</td>\n",
       "      <td>102.485</td>\n",
       "      <td>audio_features</td>\n",
       "      <td>6shRGWCtBUOPFLFTTqXZIC</td>\n",
       "      <td>spotify:track:6shRGWCtBUOPFLFTTqXZIC</td>\n",
       "      <td>https://api.spotify.com/v1/tracks/6shRGWCtBUOP...</td>\n",
       "      <td>https://api.spotify.com/v1/audio-analysis/6shR...</td>\n",
       "      <td>208653</td>\n",
       "      <td>4</td>\n",
       "    </tr>\n",
       "  </tbody>\n",
       "</table>\n",
       "</div>"
      ],
      "text/plain": [
       "   danceability  energy  key  loudness  mode  speechiness  acousticness  \\\n",
       "0         0.631   0.605    0    -8.730     1       0.0386       0.45300   \n",
       "1         0.531   0.766    8    -7.692     1       0.0582       0.00560   \n",
       "2         0.561   0.965    7    -3.673     0       0.0343       0.00383   \n",
       "3         0.620   0.712    9    -6.434     1       0.1000       0.22800   \n",
       "4         0.787   0.655    6    -8.339     0       0.0431       0.23800   \n",
       "\n",
       "   instrumentalness  liveness  valence    tempo            type  \\\n",
       "0          0.000184    0.2910    0.250  115.281  audio_features   \n",
       "1          0.000000    0.2010    0.532  130.048  audio_features   \n",
       "2          0.000007    0.3710    0.304  128.040  audio_features   \n",
       "3          0.000003    0.0561    0.830  170.234  audio_features   \n",
       "4          0.000171    0.1380    0.650  102.485  audio_features   \n",
       "\n",
       "                       id                                   uri  \\\n",
       "0  4LVDnRxfljiEerC26z3JW4  spotify:track:4LVDnRxfljiEerC26z3JW4   \n",
       "1  1rS3J4u1G8f6hbmTosa8Nf  spotify:track:1rS3J4u1G8f6hbmTosa8Nf   \n",
       "2  4uUG5RXrOk84mYEfFvj3cK  spotify:track:4uUG5RXrOk84mYEfFvj3cK   \n",
       "3  4dRqYKhLVujxiBXcq50YzG  spotify:track:4dRqYKhLVujxiBXcq50YzG   \n",
       "4  6shRGWCtBUOPFLFTTqXZIC  spotify:track:6shRGWCtBUOPFLFTTqXZIC   \n",
       "\n",
       "                                          track_href  \\\n",
       "0  https://api.spotify.com/v1/tracks/4LVDnRxfljiE...   \n",
       "1  https://api.spotify.com/v1/tracks/1rS3J4u1G8f6...   \n",
       "2  https://api.spotify.com/v1/tracks/4uUG5RXrOk84...   \n",
       "3  https://api.spotify.com/v1/tracks/4dRqYKhLVujx...   \n",
       "4  https://api.spotify.com/v1/tracks/6shRGWCtBUOP...   \n",
       "\n",
       "                                        analysis_url  duration_ms  \\\n",
       "0  https://api.spotify.com/v1/audio-analysis/4LVD...       295293   \n",
       "1  https://api.spotify.com/v1/audio-analysis/1rS3...       179493   \n",
       "2  https://api.spotify.com/v1/audio-analysis/4uUG...       175238   \n",
       "3  https://api.spotify.com/v1/audio-analysis/4dRq...       268600   \n",
       "4  https://api.spotify.com/v1/audio-analysis/6shR...       208653   \n",
       "\n",
       "   time_signature  \n",
       "0               4  \n",
       "1               4  \n",
       "2               4  \n",
       "3               4  \n",
       "4               4  "
      ]
     },
     "execution_count": 277,
     "metadata": {},
     "output_type": "execute_result"
    }
   ],
   "source": [
    "# uncomment the below to see if you completed your task\n",
    "song_df.head()"
   ]
  },
  {
   "cell_type": "markdown",
   "metadata": {},
   "source": [
    "## Part 2.4: Cleaning/manipulating (5 points)\n",
    "\n",
    "Look at the information in `playlist_dict` and the information in `song_df`. What information would you like to add to `song_df` from `playlist_dict`? What information is in `song_df` that is not very useful?\n",
    "\n",
    "**Briefly discuss** your answers to those two questions in a markdown cell, then make the changes to `song_df`. That is: add the columns to the Data Frame that you wish to add, and delete the columns that are not useful. Keep in mind that there are many \"correct\" answers here."
   ]
  },
  {
   "cell_type": "markdown",
   "metadata": {},
   "source": [
    "From playlist_dict, I think it would be useful to add track name and artist name to the dataframe. It would be okay to remove the type column, id, uri, track_href, and analysis_url."
   ]
  },
  {
   "cell_type": "code",
   "execution_count": 283,
   "metadata": {},
   "outputs": [
    {
     "data": {
      "text/html": [
       "<div>\n",
       "<style scoped>\n",
       "    .dataframe tbody tr th:only-of-type {\n",
       "        vertical-align: middle;\n",
       "    }\n",
       "\n",
       "    .dataframe tbody tr th {\n",
       "        vertical-align: top;\n",
       "    }\n",
       "\n",
       "    .dataframe thead th {\n",
       "        text-align: right;\n",
       "    }\n",
       "</style>\n",
       "<table border=\"1\" class=\"dataframe\">\n",
       "  <thead>\n",
       "    <tr style=\"text-align: right;\">\n",
       "      <th></th>\n",
       "      <th>danceability</th>\n",
       "      <th>energy</th>\n",
       "      <th>key</th>\n",
       "      <th>loudness</th>\n",
       "      <th>mode</th>\n",
       "      <th>speechiness</th>\n",
       "      <th>acousticness</th>\n",
       "      <th>instrumentalness</th>\n",
       "      <th>liveness</th>\n",
       "      <th>valence</th>\n",
       "      <th>tempo</th>\n",
       "      <th>duration_ms</th>\n",
       "      <th>time_signature</th>\n",
       "      <th>track_name</th>\n",
       "      <th>artist_name</th>\n",
       "    </tr>\n",
       "  </thead>\n",
       "  <tbody>\n",
       "    <tr>\n",
       "      <th>0</th>\n",
       "      <td>0.631</td>\n",
       "      <td>0.605</td>\n",
       "      <td>0</td>\n",
       "      <td>-8.730</td>\n",
       "      <td>1</td>\n",
       "      <td>0.0386</td>\n",
       "      <td>0.45300</td>\n",
       "      <td>0.000184</td>\n",
       "      <td>0.2910</td>\n",
       "      <td>0.250</td>\n",
       "      <td>115.281</td>\n",
       "      <td>295293</td>\n",
       "      <td>4</td>\n",
       "      <td>Pursuit Of Happiness (nightmare)</td>\n",
       "      <td>Kid Cudi</td>\n",
       "    </tr>\n",
       "    <tr>\n",
       "      <th>1</th>\n",
       "      <td>0.531</td>\n",
       "      <td>0.766</td>\n",
       "      <td>8</td>\n",
       "      <td>-7.692</td>\n",
       "      <td>1</td>\n",
       "      <td>0.0582</td>\n",
       "      <td>0.00560</td>\n",
       "      <td>0.000000</td>\n",
       "      <td>0.2010</td>\n",
       "      <td>0.532</td>\n",
       "      <td>130.048</td>\n",
       "      <td>179493</td>\n",
       "      <td>4</td>\n",
       "      <td>I Found A Way</td>\n",
       "      <td>Drake Bell</td>\n",
       "    </tr>\n",
       "    <tr>\n",
       "      <th>2</th>\n",
       "      <td>0.561</td>\n",
       "      <td>0.965</td>\n",
       "      <td>7</td>\n",
       "      <td>-3.673</td>\n",
       "      <td>0</td>\n",
       "      <td>0.0343</td>\n",
       "      <td>0.00383</td>\n",
       "      <td>0.000007</td>\n",
       "      <td>0.3710</td>\n",
       "      <td>0.304</td>\n",
       "      <td>128.040</td>\n",
       "      <td>175238</td>\n",
       "      <td>4</td>\n",
       "      <td>I'm Good (Blue)</td>\n",
       "      <td>David Guetta</td>\n",
       "    </tr>\n",
       "    <tr>\n",
       "      <th>3</th>\n",
       "      <td>0.620</td>\n",
       "      <td>0.712</td>\n",
       "      <td>9</td>\n",
       "      <td>-6.434</td>\n",
       "      <td>1</td>\n",
       "      <td>0.1000</td>\n",
       "      <td>0.22800</td>\n",
       "      <td>0.000003</td>\n",
       "      <td>0.0561</td>\n",
       "      <td>0.830</td>\n",
       "      <td>170.234</td>\n",
       "      <td>268600</td>\n",
       "      <td>4</td>\n",
       "      <td>This Life</td>\n",
       "      <td>Vampire Weekend</td>\n",
       "    </tr>\n",
       "    <tr>\n",
       "      <th>4</th>\n",
       "      <td>0.787</td>\n",
       "      <td>0.655</td>\n",
       "      <td>6</td>\n",
       "      <td>-8.339</td>\n",
       "      <td>0</td>\n",
       "      <td>0.0431</td>\n",
       "      <td>0.23800</td>\n",
       "      <td>0.000171</td>\n",
       "      <td>0.1380</td>\n",
       "      <td>0.650</td>\n",
       "      <td>102.485</td>\n",
       "      <td>208653</td>\n",
       "      <td>4</td>\n",
       "      <td>Upside Down</td>\n",
       "      <td>Jack Johnson</td>\n",
       "    </tr>\n",
       "  </tbody>\n",
       "</table>\n",
       "</div>"
      ],
      "text/plain": [
       "   danceability  energy  key  loudness  mode  speechiness  acousticness  \\\n",
       "0         0.631   0.605    0    -8.730     1       0.0386       0.45300   \n",
       "1         0.531   0.766    8    -7.692     1       0.0582       0.00560   \n",
       "2         0.561   0.965    7    -3.673     0       0.0343       0.00383   \n",
       "3         0.620   0.712    9    -6.434     1       0.1000       0.22800   \n",
       "4         0.787   0.655    6    -8.339     0       0.0431       0.23800   \n",
       "\n",
       "   instrumentalness  liveness  valence    tempo  duration_ms  time_signature  \\\n",
       "0          0.000184    0.2910    0.250  115.281       295293               4   \n",
       "1          0.000000    0.2010    0.532  130.048       179493               4   \n",
       "2          0.000007    0.3710    0.304  128.040       175238               4   \n",
       "3          0.000003    0.0561    0.830  170.234       268600               4   \n",
       "4          0.000171    0.1380    0.650  102.485       208653               4   \n",
       "\n",
       "                         track_name      artist_name  \n",
       "0  Pursuit Of Happiness (nightmare)         Kid Cudi  \n",
       "1                     I Found A Way       Drake Bell  \n",
       "2                   I'm Good (Blue)     David Guetta  \n",
       "3                         This Life  Vampire Weekend  \n",
       "4                       Upside Down     Jack Johnson  "
      ]
     },
     "execution_count": 283,
     "metadata": {},
     "output_type": "execute_result"
    }
   ],
   "source": [
    "song_df = song_df.drop([\"type\", \"id\", \"uri\", \"track_href\", \"analysis_url\"], axis = 1)\n",
    "\n",
    "song_df[\"track_name\"] = playlist_dict[\"track_name\"][:197]\n",
    "song_df[\"artist_name\"] = playlist_dict[\"artist_name\"][:197]\n",
    "\n",
    "song_df.head()"
   ]
  },
  {
   "cell_type": "markdown",
   "metadata": {},
   "source": [
    "## Part 2.5: Plotting (5 points)\n",
    "\n",
    "Using plotly, make two plots (in separate code cells):\n",
    "- of energy (x-axis) versus danceability (y-axis) that has the song title as hover data.\n",
    "- of acousticness (x-axis) versus loudness (y-axis) that has the song title as hover data.\n",
    "\n",
    "**Then**, in a markdown cell, discuss the relationships (if any) you see in these plots and whether those relationships make sense to you/what you would have expected to see."
   ]
  },
  {
   "cell_type": "code",
   "execution_count": 284,
   "metadata": {},
   "outputs": [],
   "source": [
    "import plotly.express as px"
   ]
  },
  {
   "cell_type": "code",
   "execution_count": 285,
   "metadata": {},
   "outputs": [
    {
     "data": {
      "application/vnd.plotly.v1+json": {
       "config": {
        "plotlyServerURL": "https://plot.ly"
       },
       "data": [
        {
         "customdata": [
          [
           "Pursuit Of Happiness (nightmare)"
          ],
          [
           "I Found A Way"
          ],
          [
           "I'm Good (Blue)"
          ],
          [
           "This Life"
          ],
          [
           "Upside Down"
          ],
          [
           "quiet motions"
          ],
          [
           "Better in Stereo - Theme Song Version"
          ],
          [
           "Them Changes"
          ],
          [
           "Merry-Go-Round of Life - from 'Howl's Moving Castle'"
          ],
          [
           "august"
          ],
          [
           "Never Gonna Give You Up"
          ],
          [
           "Bill Nye The Science Guy"
          ],
          [
           "These Are The Days"
          ],
          [
           "The Spins"
          ],
          [
           "We Didn’t Start The Fire"
          ],
          [
           "One More Year"
          ],
          [
           "Dancing In The Courthouse"
          ],
          [
           "SAD GIRLZ LUV MONEY Remix (feat. Kali Uchis and Moliy)"
          ],
          [
           "life hack"
          ],
          [
           "Escapism."
          ],
          [
           "Driving Myself Home"
          ],
          [
           "Seinfeld Theme"
          ],
          [
           "Vienna"
          ],
          [
           "I Wonder"
          ],
          [
           "Peace Sign"
          ],
          [
           "Boss Bitch"
          ],
          [
           "Queencard"
          ],
          [
           "Friday The 13th Main Theme (feat. Jason Voorhees) - From Friday The 13th"
          ],
          [
           "Pink + White"
          ],
          [
           "Hot Wings (I Wanna Party)"
          ],
          [
           "Happy"
          ],
          [
           "Sticky"
          ],
          [
           "D'yer Mak'er - Remaster"
          ],
          [
           "Gettin' Jiggy Wit It"
          ],
          [
           "Happiness is a butterfly"
          ],
          [
           "Food for the Soul"
          ],
          [
           "Loud And Fast"
          ],
          [
           "Heading South"
          ],
          [
           "The Coast"
          ],
          [
           "Going Up The Country"
          ],
          [
           "Ooh La La"
          ],
          [
           "striptease"
          ],
          [
           "Finesse"
          ],
          [
           "july 16th"
          ],
          [
           "Life is a Highway"
          ],
          [
           "CAN'T STOP THE FEELING! (from DreamWorks Animation's \"TROLLS\")"
          ],
          [
           "Giant Steps - 2020 Remaster"
          ],
          [
           "I'll Be There for You - Theme From \"Friends\""
          ],
          [
           "ハートフェルトファンシー"
          ],
          [
           "No Wind Resistance!"
          ],
          [
           "Breathe (In the Air)"
          ],
          [
           "Chamber Of Reflection"
          ],
          [
           "Day ‘n’ Nite"
          ],
          [
           "Girei (Pain's Theme)"
          ],
          [
           "Hustle"
          ],
          [
           "All Of The Lights"
          ],
          [
           "ブルーアーカイブ (Blue Archive OST 59 Soundtrack)"
          ],
          [
           "Cherry Waves"
          ],
          [
           "Wildest Dreams"
          ],
          [
           "That Girl"
          ],
          [
           "Stargazing"
          ],
          [
           "Future Nostalgia"
          ],
          [
           "American Teenager"
          ],
          [
           "Road Trippin'"
          ],
          [
           "My Favorite Things"
          ],
          [
           "Walking On A Dream"
          ],
          [
           "Levitating"
          ],
          [
           "Champagne Coast"
          ],
          [
           "Time After Time"
          ],
          [
           "Lake Shore Drive"
          ],
          [
           "Bitter"
          ],
          [
           "Natural"
          ],
          [
           "Suit & Tie (feat. Jay-Z)"
          ],
          [
           "You're On Your Own, Kid"
          ],
          [
           "Calm Down"
          ],
          [
           "Break It Out"
          ],
          [
           "Alone in the Mountains"
          ],
          [
           "Put Your Records On"
          ],
          [
           "Out of Tune"
          ],
          [
           "I Took A Pill In Ibiza - Seeb Remix"
          ],
          [
           "Take Two"
          ],
          [
           "Pressure"
          ],
          [
           "Imagine - Remastered 2010"
          ],
          [
           "The King"
          ],
          [
           "Honey, Honey"
          ],
          [
           "Call Me, Beep Me! (The Kim Possible Song)"
          ],
          [
           "Good News"
          ],
          [
           "Succession (Main Title Theme)"
          ],
          [
           "All My Love"
          ],
          [
           "Don't Delete The Kisses"
          ],
          [
           "Bad Luck"
          ],
          [
           "Homecoming"
          ],
          [
           "BONVOYAGE"
          ],
          [
           "Washed Wine"
          ],
          [
           "Song 2"
          ],
          [
           "Sweetly"
          ],
          [
           "Sweet Dreams (Are Made of This) - Remastered"
          ],
          [
           "Good Life"
          ],
          [
           "Sunday Best"
          ],
          [
           "That's Life"
          ],
          [
           "Pursuit Of Happiness (nightmare)"
          ],
          [
           "I Found A Way"
          ],
          [
           "I'm Good (Blue)"
          ],
          [
           "This Life"
          ],
          [
           "Upside Down"
          ],
          [
           "quiet motions"
          ],
          [
           "Better in Stereo - Theme Song Version"
          ],
          [
           "Them Changes"
          ],
          [
           "Merry-Go-Round of Life - from 'Howl's Moving Castle'"
          ],
          [
           "august"
          ],
          [
           "Never Gonna Give You Up"
          ],
          [
           "Bill Nye The Science Guy"
          ],
          [
           "These Are The Days"
          ],
          [
           "The Spins"
          ],
          [
           "We Didn’t Start The Fire"
          ],
          [
           "One More Year"
          ],
          [
           "Dancing In The Courthouse"
          ],
          [
           "SAD GIRLZ LUV MONEY Remix (feat. Kali Uchis and Moliy)"
          ],
          [
           "life hack"
          ],
          [
           "Escapism."
          ],
          [
           "Driving Myself Home"
          ],
          [
           "Seinfeld Theme"
          ],
          [
           "Vienna"
          ],
          [
           "I Wonder"
          ],
          [
           "Peace Sign"
          ],
          [
           "Boss Bitch"
          ],
          [
           "Queencard"
          ],
          [
           "Friday The 13th Main Theme (feat. Jason Voorhees) - From Friday The 13th"
          ],
          [
           "Pink + White"
          ],
          [
           "Hot Wings (I Wanna Party)"
          ],
          [
           "Happy"
          ],
          [
           "Sticky"
          ],
          [
           "D'yer Mak'er - Remaster"
          ],
          [
           "Gettin' Jiggy Wit It"
          ],
          [
           "Happiness is a butterfly"
          ],
          [
           "Food for the Soul"
          ],
          [
           "Loud And Fast"
          ],
          [
           "Heading South"
          ],
          [
           "The Coast"
          ],
          [
           "Going Up The Country"
          ],
          [
           "Ooh La La"
          ],
          [
           "striptease"
          ],
          [
           "Finesse"
          ],
          [
           "july 16th"
          ],
          [
           "Life is a Highway"
          ],
          [
           "CAN'T STOP THE FEELING! (from DreamWorks Animation's \"TROLLS\")"
          ],
          [
           "Giant Steps - 2020 Remaster"
          ],
          [
           "I'll Be There for You - Theme From \"Friends\""
          ],
          [
           "ハートフェルトファンシー"
          ],
          [
           "No Wind Resistance!"
          ],
          [
           "Breathe (In the Air)"
          ],
          [
           "Chamber Of Reflection"
          ],
          [
           "Day ‘n’ Nite"
          ],
          [
           "Girei (Pain's Theme)"
          ],
          [
           "Hustle"
          ],
          [
           "All Of The Lights"
          ],
          [
           "ブルーアーカイブ (Blue Archive OST 59 Soundtrack)"
          ],
          [
           "Cherry Waves"
          ],
          [
           "Wildest Dreams"
          ],
          [
           "That Girl"
          ],
          [
           "Stargazing"
          ],
          [
           "Future Nostalgia"
          ],
          [
           "American Teenager"
          ],
          [
           "Road Trippin'"
          ],
          [
           "My Favorite Things"
          ],
          [
           "Walking On A Dream"
          ],
          [
           "Levitating"
          ],
          [
           "Champagne Coast"
          ],
          [
           "Time After Time"
          ],
          [
           "Lake Shore Drive"
          ],
          [
           "Bitter"
          ],
          [
           "Natural"
          ],
          [
           "Suit & Tie (feat. Jay-Z)"
          ],
          [
           "You're On Your Own, Kid"
          ],
          [
           "Calm Down"
          ],
          [
           "Break It Out"
          ],
          [
           "Alone in the Mountains"
          ],
          [
           "Put Your Records On"
          ],
          [
           "Out of Tune"
          ],
          [
           "I Took A Pill In Ibiza - Seeb Remix"
          ],
          [
           "Take Two"
          ],
          [
           "Pressure"
          ],
          [
           "Imagine - Remastered 2010"
          ],
          [
           "The King"
          ],
          [
           "Honey, Honey"
          ],
          [
           "Call Me, Beep Me! (The Kim Possible Song)"
          ],
          [
           "Good News"
          ],
          [
           "Succession (Main Title Theme)"
          ],
          [
           "All My Love"
          ],
          [
           "Don't Delete The Kisses"
          ],
          [
           "Bad Luck"
          ],
          [
           "Homecoming"
          ],
          [
           "BONVOYAGE"
          ],
          [
           "Washed Wine"
          ],
          [
           "Song 2"
          ],
          [
           "Sweetly"
          ],
          [
           "Sweet Dreams (Are Made of This) - Remastered"
          ]
         ],
         "hovertemplate": "energy=%{x}<br>danceability=%{y}<br>track_name=%{customdata[0]}<extra></extra>",
         "legendgroup": "",
         "marker": {
          "color": "#636efa",
          "symbol": "circle"
         },
         "mode": "markers",
         "name": "",
         "orientation": "v",
         "showlegend": false,
         "type": "scatter",
         "x": [
          0.605,
          0.766,
          0.965,
          0.712,
          0.655,
          0.614,
          0.827,
          0.562,
          0.287,
          0.623,
          0.939,
          0.655,
          0.955,
          0.766,
          0.961,
          0.88,
          0.741,
          0.523,
          0.655,
          0.742,
          0.491,
          0.884,
          0.495,
          0.465,
          0.79,
          0.955,
          0.834,
          0.317,
          0.545,
          0.686,
          0.439,
          0.492,
          0.929,
          0.874,
          0.119,
          0.714,
          0.73,
          0.246,
          0.535,
          0.239,
          0.574,
          0.575,
          0.798,
          0.213,
          0.952,
          0.744,
          0.42,
          0.917,
          0.777,
          0.496,
          0.373,
          0.557,
          0.477,
          0.37,
          0.794,
          0.803,
          0.985,
          0.859,
          0.666,
          0.797,
          0.483,
          0.813,
          0.748,
          0.474,
          0.247,
          0.701,
          0.884,
          0.406,
          0.449,
          0.885,
          0.672,
          0.6,
          0.596,
          0.396,
          0.789,
          0.952,
          0.686,
          0.491,
          0.526,
          0.714,
          0.589,
          0.56,
          0.257,
          0.668,
          0.804,
          0.795,
          0.32,
          0.471,
          0.651,
          0.789,
          0.52,
          0.747,
          0.858,
          0.486,
          0.709,
          0.401,
          0.711,
          0.808,
          0.525,
          0.434,
          0.605,
          0.766,
          0.965,
          0.712,
          0.655,
          0.614,
          0.827,
          0.562,
          0.287,
          0.623,
          0.939,
          0.655,
          0.955,
          0.766,
          0.961,
          0.88,
          0.741,
          0.523,
          0.655,
          0.742,
          0.491,
          0.884,
          0.495,
          0.465,
          0.79,
          0.955,
          0.834,
          0.317,
          0.545,
          0.686,
          0.439,
          0.492,
          0.929,
          0.874,
          0.119,
          0.714,
          0.73,
          0.246,
          0.535,
          0.239,
          0.574,
          0.575,
          0.798,
          0.213,
          0.952,
          0.744,
          0.42,
          0.917,
          0.777,
          0.496,
          0.373,
          0.557,
          0.477,
          0.37,
          0.794,
          0.803,
          0.985,
          0.859,
          0.666,
          0.797,
          0.483,
          0.813,
          0.748,
          0.474,
          0.247,
          0.701,
          0.884,
          0.406,
          0.449,
          0.885,
          0.672,
          0.6,
          0.596,
          0.396,
          0.789,
          0.952,
          0.686,
          0.491,
          0.526,
          0.714,
          0.589,
          0.56,
          0.257,
          0.668,
          0.804,
          0.795,
          0.32,
          0.471,
          0.651,
          0.789,
          0.52,
          0.747,
          0.858,
          0.486,
          0.709,
          0.401,
          0.711
         ],
         "xaxis": "x",
         "y": [
          0.631,
          0.531,
          0.561,
          0.62,
          0.787,
          0.52,
          0.699,
          0.657,
          0.239,
          0.532,
          0.721,
          0.632,
          0.51,
          0.794,
          0.567,
          0.602,
          0.621,
          0.87,
          0.711,
          0.538,
          0.575,
          0.791,
          0.532,
          0.541,
          0.403,
          0.707,
          0.815,
          0.233,
          0.545,
          0.739,
          0.792,
          0.854,
          0.525,
          0.881,
          0.467,
          0.655,
          0.646,
          0.68,
          0.667,
          0.653,
          0.601,
          0.693,
          0.741,
          0.373,
          0.582,
          0.671,
          0.417,
          0.32,
          0.444,
          0.695,
          0.431,
          0.538,
          0.883,
          0.209,
          0.716,
          0.531,
          0.353,
          0.47,
          0.554,
          0.643,
          0.512,
          0.875,
          0.415,
          0.378,
          0.622,
          0.871,
          0.695,
          0.813,
          0.726,
          0.434,
          0.833,
          0.538,
          0.795,
          0.696,
          0.814,
          0.571,
          0.713,
          0.399,
          0.435,
          0.664,
          0.617,
          0.277,
          0.547,
          0.632,
          0.474,
          0.885,
          0.794,
          0.366,
          0.637,
          0.604,
          0.432,
          0.667,
          0.487,
          0.746,
          0.658,
          0.803,
          0.692,
          0.439,
          0.878,
          0.56,
          0.631,
          0.531,
          0.561,
          0.62,
          0.787,
          0.52,
          0.699,
          0.657,
          0.239,
          0.532,
          0.721,
          0.632,
          0.51,
          0.794,
          0.567,
          0.602,
          0.621,
          0.87,
          0.711,
          0.538,
          0.575,
          0.791,
          0.532,
          0.541,
          0.403,
          0.707,
          0.815,
          0.233,
          0.545,
          0.739,
          0.792,
          0.854,
          0.525,
          0.881,
          0.467,
          0.655,
          0.646,
          0.68,
          0.667,
          0.653,
          0.601,
          0.693,
          0.741,
          0.373,
          0.582,
          0.671,
          0.417,
          0.32,
          0.444,
          0.695,
          0.431,
          0.538,
          0.883,
          0.209,
          0.716,
          0.531,
          0.353,
          0.47,
          0.554,
          0.643,
          0.512,
          0.875,
          0.415,
          0.378,
          0.622,
          0.871,
          0.695,
          0.813,
          0.726,
          0.434,
          0.833,
          0.538,
          0.795,
          0.696,
          0.814,
          0.571,
          0.713,
          0.399,
          0.435,
          0.664,
          0.617,
          0.277,
          0.547,
          0.632,
          0.474,
          0.885,
          0.794,
          0.366,
          0.637,
          0.604,
          0.432,
          0.667,
          0.487,
          0.746,
          0.658,
          0.803,
          0.692
         ],
         "yaxis": "y"
        }
       ],
       "layout": {
        "legend": {
         "tracegroupgap": 0
        },
        "template": {
         "data": {
          "bar": [
           {
            "error_x": {
             "color": "#2a3f5f"
            },
            "error_y": {
             "color": "#2a3f5f"
            },
            "marker": {
             "line": {
              "color": "#E5ECF6",
              "width": 0.5
             },
             "pattern": {
              "fillmode": "overlay",
              "size": 10,
              "solidity": 0.2
             }
            },
            "type": "bar"
           }
          ],
          "barpolar": [
           {
            "marker": {
             "line": {
              "color": "#E5ECF6",
              "width": 0.5
             },
             "pattern": {
              "fillmode": "overlay",
              "size": 10,
              "solidity": 0.2
             }
            },
            "type": "barpolar"
           }
          ],
          "carpet": [
           {
            "aaxis": {
             "endlinecolor": "#2a3f5f",
             "gridcolor": "white",
             "linecolor": "white",
             "minorgridcolor": "white",
             "startlinecolor": "#2a3f5f"
            },
            "baxis": {
             "endlinecolor": "#2a3f5f",
             "gridcolor": "white",
             "linecolor": "white",
             "minorgridcolor": "white",
             "startlinecolor": "#2a3f5f"
            },
            "type": "carpet"
           }
          ],
          "choropleth": [
           {
            "colorbar": {
             "outlinewidth": 0,
             "ticks": ""
            },
            "type": "choropleth"
           }
          ],
          "contour": [
           {
            "colorbar": {
             "outlinewidth": 0,
             "ticks": ""
            },
            "colorscale": [
             [
              0,
              "#0d0887"
             ],
             [
              0.1111111111111111,
              "#46039f"
             ],
             [
              0.2222222222222222,
              "#7201a8"
             ],
             [
              0.3333333333333333,
              "#9c179e"
             ],
             [
              0.4444444444444444,
              "#bd3786"
             ],
             [
              0.5555555555555556,
              "#d8576b"
             ],
             [
              0.6666666666666666,
              "#ed7953"
             ],
             [
              0.7777777777777778,
              "#fb9f3a"
             ],
             [
              0.8888888888888888,
              "#fdca26"
             ],
             [
              1,
              "#f0f921"
             ]
            ],
            "type": "contour"
           }
          ],
          "contourcarpet": [
           {
            "colorbar": {
             "outlinewidth": 0,
             "ticks": ""
            },
            "type": "contourcarpet"
           }
          ],
          "heatmap": [
           {
            "colorbar": {
             "outlinewidth": 0,
             "ticks": ""
            },
            "colorscale": [
             [
              0,
              "#0d0887"
             ],
             [
              0.1111111111111111,
              "#46039f"
             ],
             [
              0.2222222222222222,
              "#7201a8"
             ],
             [
              0.3333333333333333,
              "#9c179e"
             ],
             [
              0.4444444444444444,
              "#bd3786"
             ],
             [
              0.5555555555555556,
              "#d8576b"
             ],
             [
              0.6666666666666666,
              "#ed7953"
             ],
             [
              0.7777777777777778,
              "#fb9f3a"
             ],
             [
              0.8888888888888888,
              "#fdca26"
             ],
             [
              1,
              "#f0f921"
             ]
            ],
            "type": "heatmap"
           }
          ],
          "heatmapgl": [
           {
            "colorbar": {
             "outlinewidth": 0,
             "ticks": ""
            },
            "colorscale": [
             [
              0,
              "#0d0887"
             ],
             [
              0.1111111111111111,
              "#46039f"
             ],
             [
              0.2222222222222222,
              "#7201a8"
             ],
             [
              0.3333333333333333,
              "#9c179e"
             ],
             [
              0.4444444444444444,
              "#bd3786"
             ],
             [
              0.5555555555555556,
              "#d8576b"
             ],
             [
              0.6666666666666666,
              "#ed7953"
             ],
             [
              0.7777777777777778,
              "#fb9f3a"
             ],
             [
              0.8888888888888888,
              "#fdca26"
             ],
             [
              1,
              "#f0f921"
             ]
            ],
            "type": "heatmapgl"
           }
          ],
          "histogram": [
           {
            "marker": {
             "pattern": {
              "fillmode": "overlay",
              "size": 10,
              "solidity": 0.2
             }
            },
            "type": "histogram"
           }
          ],
          "histogram2d": [
           {
            "colorbar": {
             "outlinewidth": 0,
             "ticks": ""
            },
            "colorscale": [
             [
              0,
              "#0d0887"
             ],
             [
              0.1111111111111111,
              "#46039f"
             ],
             [
              0.2222222222222222,
              "#7201a8"
             ],
             [
              0.3333333333333333,
              "#9c179e"
             ],
             [
              0.4444444444444444,
              "#bd3786"
             ],
             [
              0.5555555555555556,
              "#d8576b"
             ],
             [
              0.6666666666666666,
              "#ed7953"
             ],
             [
              0.7777777777777778,
              "#fb9f3a"
             ],
             [
              0.8888888888888888,
              "#fdca26"
             ],
             [
              1,
              "#f0f921"
             ]
            ],
            "type": "histogram2d"
           }
          ],
          "histogram2dcontour": [
           {
            "colorbar": {
             "outlinewidth": 0,
             "ticks": ""
            },
            "colorscale": [
             [
              0,
              "#0d0887"
             ],
             [
              0.1111111111111111,
              "#46039f"
             ],
             [
              0.2222222222222222,
              "#7201a8"
             ],
             [
              0.3333333333333333,
              "#9c179e"
             ],
             [
              0.4444444444444444,
              "#bd3786"
             ],
             [
              0.5555555555555556,
              "#d8576b"
             ],
             [
              0.6666666666666666,
              "#ed7953"
             ],
             [
              0.7777777777777778,
              "#fb9f3a"
             ],
             [
              0.8888888888888888,
              "#fdca26"
             ],
             [
              1,
              "#f0f921"
             ]
            ],
            "type": "histogram2dcontour"
           }
          ],
          "mesh3d": [
           {
            "colorbar": {
             "outlinewidth": 0,
             "ticks": ""
            },
            "type": "mesh3d"
           }
          ],
          "parcoords": [
           {
            "line": {
             "colorbar": {
              "outlinewidth": 0,
              "ticks": ""
             }
            },
            "type": "parcoords"
           }
          ],
          "pie": [
           {
            "automargin": true,
            "type": "pie"
           }
          ],
          "scatter": [
           {
            "fillpattern": {
             "fillmode": "overlay",
             "size": 10,
             "solidity": 0.2
            },
            "type": "scatter"
           }
          ],
          "scatter3d": [
           {
            "line": {
             "colorbar": {
              "outlinewidth": 0,
              "ticks": ""
             }
            },
            "marker": {
             "colorbar": {
              "outlinewidth": 0,
              "ticks": ""
             }
            },
            "type": "scatter3d"
           }
          ],
          "scattercarpet": [
           {
            "marker": {
             "colorbar": {
              "outlinewidth": 0,
              "ticks": ""
             }
            },
            "type": "scattercarpet"
           }
          ],
          "scattergeo": [
           {
            "marker": {
             "colorbar": {
              "outlinewidth": 0,
              "ticks": ""
             }
            },
            "type": "scattergeo"
           }
          ],
          "scattergl": [
           {
            "marker": {
             "colorbar": {
              "outlinewidth": 0,
              "ticks": ""
             }
            },
            "type": "scattergl"
           }
          ],
          "scattermapbox": [
           {
            "marker": {
             "colorbar": {
              "outlinewidth": 0,
              "ticks": ""
             }
            },
            "type": "scattermapbox"
           }
          ],
          "scatterpolar": [
           {
            "marker": {
             "colorbar": {
              "outlinewidth": 0,
              "ticks": ""
             }
            },
            "type": "scatterpolar"
           }
          ],
          "scatterpolargl": [
           {
            "marker": {
             "colorbar": {
              "outlinewidth": 0,
              "ticks": ""
             }
            },
            "type": "scatterpolargl"
           }
          ],
          "scatterternary": [
           {
            "marker": {
             "colorbar": {
              "outlinewidth": 0,
              "ticks": ""
             }
            },
            "type": "scatterternary"
           }
          ],
          "surface": [
           {
            "colorbar": {
             "outlinewidth": 0,
             "ticks": ""
            },
            "colorscale": [
             [
              0,
              "#0d0887"
             ],
             [
              0.1111111111111111,
              "#46039f"
             ],
             [
              0.2222222222222222,
              "#7201a8"
             ],
             [
              0.3333333333333333,
              "#9c179e"
             ],
             [
              0.4444444444444444,
              "#bd3786"
             ],
             [
              0.5555555555555556,
              "#d8576b"
             ],
             [
              0.6666666666666666,
              "#ed7953"
             ],
             [
              0.7777777777777778,
              "#fb9f3a"
             ],
             [
              0.8888888888888888,
              "#fdca26"
             ],
             [
              1,
              "#f0f921"
             ]
            ],
            "type": "surface"
           }
          ],
          "table": [
           {
            "cells": {
             "fill": {
              "color": "#EBF0F8"
             },
             "line": {
              "color": "white"
             }
            },
            "header": {
             "fill": {
              "color": "#C8D4E3"
             },
             "line": {
              "color": "white"
             }
            },
            "type": "table"
           }
          ]
         },
         "layout": {
          "annotationdefaults": {
           "arrowcolor": "#2a3f5f",
           "arrowhead": 0,
           "arrowwidth": 1
          },
          "autotypenumbers": "strict",
          "coloraxis": {
           "colorbar": {
            "outlinewidth": 0,
            "ticks": ""
           }
          },
          "colorscale": {
           "diverging": [
            [
             0,
             "#8e0152"
            ],
            [
             0.1,
             "#c51b7d"
            ],
            [
             0.2,
             "#de77ae"
            ],
            [
             0.3,
             "#f1b6da"
            ],
            [
             0.4,
             "#fde0ef"
            ],
            [
             0.5,
             "#f7f7f7"
            ],
            [
             0.6,
             "#e6f5d0"
            ],
            [
             0.7,
             "#b8e186"
            ],
            [
             0.8,
             "#7fbc41"
            ],
            [
             0.9,
             "#4d9221"
            ],
            [
             1,
             "#276419"
            ]
           ],
           "sequential": [
            [
             0,
             "#0d0887"
            ],
            [
             0.1111111111111111,
             "#46039f"
            ],
            [
             0.2222222222222222,
             "#7201a8"
            ],
            [
             0.3333333333333333,
             "#9c179e"
            ],
            [
             0.4444444444444444,
             "#bd3786"
            ],
            [
             0.5555555555555556,
             "#d8576b"
            ],
            [
             0.6666666666666666,
             "#ed7953"
            ],
            [
             0.7777777777777778,
             "#fb9f3a"
            ],
            [
             0.8888888888888888,
             "#fdca26"
            ],
            [
             1,
             "#f0f921"
            ]
           ],
           "sequentialminus": [
            [
             0,
             "#0d0887"
            ],
            [
             0.1111111111111111,
             "#46039f"
            ],
            [
             0.2222222222222222,
             "#7201a8"
            ],
            [
             0.3333333333333333,
             "#9c179e"
            ],
            [
             0.4444444444444444,
             "#bd3786"
            ],
            [
             0.5555555555555556,
             "#d8576b"
            ],
            [
             0.6666666666666666,
             "#ed7953"
            ],
            [
             0.7777777777777778,
             "#fb9f3a"
            ],
            [
             0.8888888888888888,
             "#fdca26"
            ],
            [
             1,
             "#f0f921"
            ]
           ]
          },
          "colorway": [
           "#636efa",
           "#EF553B",
           "#00cc96",
           "#ab63fa",
           "#FFA15A",
           "#19d3f3",
           "#FF6692",
           "#B6E880",
           "#FF97FF",
           "#FECB52"
          ],
          "font": {
           "color": "#2a3f5f"
          },
          "geo": {
           "bgcolor": "white",
           "lakecolor": "white",
           "landcolor": "#E5ECF6",
           "showlakes": true,
           "showland": true,
           "subunitcolor": "white"
          },
          "hoverlabel": {
           "align": "left"
          },
          "hovermode": "closest",
          "mapbox": {
           "style": "light"
          },
          "paper_bgcolor": "white",
          "plot_bgcolor": "#E5ECF6",
          "polar": {
           "angularaxis": {
            "gridcolor": "white",
            "linecolor": "white",
            "ticks": ""
           },
           "bgcolor": "#E5ECF6",
           "radialaxis": {
            "gridcolor": "white",
            "linecolor": "white",
            "ticks": ""
           }
          },
          "scene": {
           "xaxis": {
            "backgroundcolor": "#E5ECF6",
            "gridcolor": "white",
            "gridwidth": 2,
            "linecolor": "white",
            "showbackground": true,
            "ticks": "",
            "zerolinecolor": "white"
           },
           "yaxis": {
            "backgroundcolor": "#E5ECF6",
            "gridcolor": "white",
            "gridwidth": 2,
            "linecolor": "white",
            "showbackground": true,
            "ticks": "",
            "zerolinecolor": "white"
           },
           "zaxis": {
            "backgroundcolor": "#E5ECF6",
            "gridcolor": "white",
            "gridwidth": 2,
            "linecolor": "white",
            "showbackground": true,
            "ticks": "",
            "zerolinecolor": "white"
           }
          },
          "shapedefaults": {
           "line": {
            "color": "#2a3f5f"
           }
          },
          "ternary": {
           "aaxis": {
            "gridcolor": "white",
            "linecolor": "white",
            "ticks": ""
           },
           "baxis": {
            "gridcolor": "white",
            "linecolor": "white",
            "ticks": ""
           },
           "bgcolor": "#E5ECF6",
           "caxis": {
            "gridcolor": "white",
            "linecolor": "white",
            "ticks": ""
           }
          },
          "title": {
           "x": 0.05
          },
          "xaxis": {
           "automargin": true,
           "gridcolor": "white",
           "linecolor": "white",
           "ticks": "",
           "title": {
            "standoff": 15
           },
           "zerolinecolor": "white",
           "zerolinewidth": 2
          },
          "yaxis": {
           "automargin": true,
           "gridcolor": "white",
           "linecolor": "white",
           "ticks": "",
           "title": {
            "standoff": 15
           },
           "zerolinecolor": "white",
           "zerolinewidth": 2
          }
         }
        },
        "title": {
         "text": "energy vs. danceability"
        },
        "xaxis": {
         "anchor": "y",
         "domain": [
          0,
          1
         ],
         "title": {
          "text": "energy"
         }
        },
        "yaxis": {
         "anchor": "x",
         "domain": [
          0,
          1
         ],
         "title": {
          "text": "danceability"
         }
        }
       }
      },
      "text/html": [
       "<div>                            <div id=\"6ba147df-460a-4862-965c-071c705b2c07\" class=\"plotly-graph-div\" style=\"height:525px; width:100%;\"></div>            <script type=\"text/javascript\">                require([\"plotly\"], function(Plotly) {                    window.PLOTLYENV=window.PLOTLYENV || {};                                    if (document.getElementById(\"6ba147df-460a-4862-965c-071c705b2c07\")) {                    Plotly.newPlot(                        \"6ba147df-460a-4862-965c-071c705b2c07\",                        [{\"customdata\":[[\"Pursuit Of Happiness (nightmare)\"],[\"I Found A Way\"],[\"I'm Good (Blue)\"],[\"This Life\"],[\"Upside Down\"],[\"quiet motions\"],[\"Better in Stereo - Theme Song Version\"],[\"Them Changes\"],[\"Merry-Go-Round of Life - from 'Howl's Moving Castle'\"],[\"august\"],[\"Never Gonna Give You Up\"],[\"Bill Nye The Science Guy\"],[\"These Are The Days\"],[\"The Spins\"],[\"We Didn\\u2019t Start The Fire\"],[\"One More Year\"],[\"Dancing In The Courthouse\"],[\"SAD GIRLZ LUV MONEY Remix (feat. Kali Uchis and Moliy)\"],[\"life hack\"],[\"Escapism.\"],[\"Driving Myself Home\"],[\"Seinfeld Theme\"],[\"Vienna\"],[\"I Wonder\"],[\"Peace Sign\"],[\"Boss Bitch\"],[\"Queencard\"],[\"Friday The 13th Main Theme (feat. Jason Voorhees) - From Friday The 13th\"],[\"Pink + White\"],[\"Hot Wings (I Wanna Party)\"],[\"Happy\"],[\"Sticky\"],[\"D'yer Mak'er - Remaster\"],[\"Gettin' Jiggy Wit It\"],[\"Happiness is a butterfly\"],[\"Food for the Soul\"],[\"Loud And Fast\"],[\"Heading South\"],[\"The Coast\"],[\"Going Up The Country\"],[\"Ooh La La\"],[\"striptease\"],[\"Finesse\"],[\"july 16th\"],[\"Life is a Highway\"],[\"CAN'T STOP THE FEELING! (from DreamWorks Animation's \\\"TROLLS\\\")\"],[\"Giant Steps - 2020 Remaster\"],[\"I'll Be There for You - Theme From \\\"Friends\\\"\"],[\"\\u30cf\\u30fc\\u30c8\\u30d5\\u30a7\\u30eb\\u30c8\\u30d5\\u30a1\\u30f3\\u30b7\\u30fc\"],[\"No Wind Resistance!\"],[\"Breathe (In the Air)\"],[\"Chamber Of Reflection\"],[\"Day \\u2018n\\u2019 Nite\"],[\"Girei (Pain's Theme)\"],[\"Hustle\"],[\"All Of The Lights\"],[\"\\u30d6\\u30eb\\u30fc\\u30a2\\u30fc\\u30ab\\u30a4\\u30d6 (Blue Archive OST 59 Soundtrack)\"],[\"Cherry Waves\"],[\"Wildest Dreams\"],[\"That Girl\"],[\"Stargazing\"],[\"Future Nostalgia\"],[\"American Teenager\"],[\"Road Trippin'\"],[\"My Favorite Things\"],[\"Walking On A Dream\"],[\"Levitating\"],[\"Champagne Coast\"],[\"Time After Time\"],[\"Lake Shore Drive\"],[\"Bitter\"],[\"Natural\"],[\"Suit & Tie (feat. Jay-Z)\"],[\"You're On Your Own, Kid\"],[\"Calm Down\"],[\"Break It Out\"],[\"Alone in the Mountains\"],[\"Put Your Records On\"],[\"Out of Tune\"],[\"I Took A Pill In Ibiza - Seeb Remix\"],[\"Take Two\"],[\"Pressure\"],[\"Imagine - Remastered 2010\"],[\"The King\"],[\"Honey, Honey\"],[\"Call Me, Beep Me! (The Kim Possible Song)\"],[\"Good News\"],[\"Succession (Main Title Theme)\"],[\"All My Love\"],[\"Don't Delete The Kisses\"],[\"Bad Luck\"],[\"Homecoming\"],[\"BONVOYAGE\"],[\"Washed Wine\"],[\"Song 2\"],[\"Sweetly\"],[\"Sweet Dreams (Are Made of This) - Remastered\"],[\"Good Life\"],[\"Sunday Best\"],[\"That's Life\"],[\"Pursuit Of Happiness (nightmare)\"],[\"I Found A Way\"],[\"I'm Good (Blue)\"],[\"This Life\"],[\"Upside Down\"],[\"quiet motions\"],[\"Better in Stereo - Theme Song Version\"],[\"Them Changes\"],[\"Merry-Go-Round of Life - from 'Howl's Moving Castle'\"],[\"august\"],[\"Never Gonna Give You Up\"],[\"Bill Nye The Science Guy\"],[\"These Are The Days\"],[\"The Spins\"],[\"We Didn\\u2019t Start The Fire\"],[\"One More Year\"],[\"Dancing In The Courthouse\"],[\"SAD GIRLZ LUV MONEY Remix (feat. Kali Uchis and Moliy)\"],[\"life hack\"],[\"Escapism.\"],[\"Driving Myself Home\"],[\"Seinfeld Theme\"],[\"Vienna\"],[\"I Wonder\"],[\"Peace Sign\"],[\"Boss Bitch\"],[\"Queencard\"],[\"Friday The 13th Main Theme (feat. Jason Voorhees) - From Friday The 13th\"],[\"Pink + White\"],[\"Hot Wings (I Wanna Party)\"],[\"Happy\"],[\"Sticky\"],[\"D'yer Mak'er - Remaster\"],[\"Gettin' Jiggy Wit It\"],[\"Happiness is a butterfly\"],[\"Food for the Soul\"],[\"Loud And Fast\"],[\"Heading South\"],[\"The Coast\"],[\"Going Up The Country\"],[\"Ooh La La\"],[\"striptease\"],[\"Finesse\"],[\"july 16th\"],[\"Life is a Highway\"],[\"CAN'T STOP THE FEELING! (from DreamWorks Animation's \\\"TROLLS\\\")\"],[\"Giant Steps - 2020 Remaster\"],[\"I'll Be There for You - Theme From \\\"Friends\\\"\"],[\"\\u30cf\\u30fc\\u30c8\\u30d5\\u30a7\\u30eb\\u30c8\\u30d5\\u30a1\\u30f3\\u30b7\\u30fc\"],[\"No Wind Resistance!\"],[\"Breathe (In the Air)\"],[\"Chamber Of Reflection\"],[\"Day \\u2018n\\u2019 Nite\"],[\"Girei (Pain's Theme)\"],[\"Hustle\"],[\"All Of The Lights\"],[\"\\u30d6\\u30eb\\u30fc\\u30a2\\u30fc\\u30ab\\u30a4\\u30d6 (Blue Archive OST 59 Soundtrack)\"],[\"Cherry Waves\"],[\"Wildest Dreams\"],[\"That Girl\"],[\"Stargazing\"],[\"Future Nostalgia\"],[\"American Teenager\"],[\"Road Trippin'\"],[\"My Favorite Things\"],[\"Walking On A Dream\"],[\"Levitating\"],[\"Champagne Coast\"],[\"Time After Time\"],[\"Lake Shore Drive\"],[\"Bitter\"],[\"Natural\"],[\"Suit & Tie (feat. Jay-Z)\"],[\"You're On Your Own, Kid\"],[\"Calm Down\"],[\"Break It Out\"],[\"Alone in the Mountains\"],[\"Put Your Records On\"],[\"Out of Tune\"],[\"I Took A Pill In Ibiza - Seeb Remix\"],[\"Take Two\"],[\"Pressure\"],[\"Imagine - Remastered 2010\"],[\"The King\"],[\"Honey, Honey\"],[\"Call Me, Beep Me! (The Kim Possible Song)\"],[\"Good News\"],[\"Succession (Main Title Theme)\"],[\"All My Love\"],[\"Don't Delete The Kisses\"],[\"Bad Luck\"],[\"Homecoming\"],[\"BONVOYAGE\"],[\"Washed Wine\"],[\"Song 2\"],[\"Sweetly\"],[\"Sweet Dreams (Are Made of This) - Remastered\"]],\"hovertemplate\":\"energy=%{x}\\u003cbr\\u003edanceability=%{y}\\u003cbr\\u003etrack_name=%{customdata[0]}\\u003cextra\\u003e\\u003c\\u002fextra\\u003e\",\"legendgroup\":\"\",\"marker\":{\"color\":\"#636efa\",\"symbol\":\"circle\"},\"mode\":\"markers\",\"name\":\"\",\"orientation\":\"v\",\"showlegend\":false,\"x\":[0.605,0.766,0.965,0.712,0.655,0.614,0.827,0.562,0.287,0.623,0.939,0.655,0.955,0.766,0.961,0.88,0.741,0.523,0.655,0.742,0.491,0.884,0.495,0.465,0.79,0.955,0.834,0.317,0.545,0.686,0.439,0.492,0.929,0.874,0.119,0.714,0.73,0.246,0.535,0.239,0.574,0.575,0.798,0.213,0.952,0.744,0.42,0.917,0.777,0.496,0.373,0.557,0.477,0.37,0.794,0.803,0.985,0.859,0.666,0.797,0.483,0.813,0.748,0.474,0.247,0.701,0.884,0.406,0.449,0.885,0.672,0.6,0.596,0.396,0.789,0.952,0.686,0.491,0.526,0.714,0.589,0.56,0.257,0.668,0.804,0.795,0.32,0.471,0.651,0.789,0.52,0.747,0.858,0.486,0.709,0.401,0.711,0.808,0.525,0.434,0.605,0.766,0.965,0.712,0.655,0.614,0.827,0.562,0.287,0.623,0.939,0.655,0.955,0.766,0.961,0.88,0.741,0.523,0.655,0.742,0.491,0.884,0.495,0.465,0.79,0.955,0.834,0.317,0.545,0.686,0.439,0.492,0.929,0.874,0.119,0.714,0.73,0.246,0.535,0.239,0.574,0.575,0.798,0.213,0.952,0.744,0.42,0.917,0.777,0.496,0.373,0.557,0.477,0.37,0.794,0.803,0.985,0.859,0.666,0.797,0.483,0.813,0.748,0.474,0.247,0.701,0.884,0.406,0.449,0.885,0.672,0.6,0.596,0.396,0.789,0.952,0.686,0.491,0.526,0.714,0.589,0.56,0.257,0.668,0.804,0.795,0.32,0.471,0.651,0.789,0.52,0.747,0.858,0.486,0.709,0.401,0.711],\"xaxis\":\"x\",\"y\":[0.631,0.531,0.561,0.62,0.787,0.52,0.699,0.657,0.239,0.532,0.721,0.632,0.51,0.794,0.567,0.602,0.621,0.87,0.711,0.538,0.575,0.791,0.532,0.541,0.403,0.707,0.815,0.233,0.545,0.739,0.792,0.854,0.525,0.881,0.467,0.655,0.646,0.68,0.667,0.653,0.601,0.693,0.741,0.373,0.582,0.671,0.417,0.32,0.444,0.695,0.431,0.538,0.883,0.209,0.716,0.531,0.353,0.47,0.554,0.643,0.512,0.875,0.415,0.378,0.622,0.871,0.695,0.813,0.726,0.434,0.833,0.538,0.795,0.696,0.814,0.571,0.713,0.399,0.435,0.664,0.617,0.277,0.547,0.632,0.474,0.885,0.794,0.366,0.637,0.604,0.432,0.667,0.487,0.746,0.658,0.803,0.692,0.439,0.878,0.56,0.631,0.531,0.561,0.62,0.787,0.52,0.699,0.657,0.239,0.532,0.721,0.632,0.51,0.794,0.567,0.602,0.621,0.87,0.711,0.538,0.575,0.791,0.532,0.541,0.403,0.707,0.815,0.233,0.545,0.739,0.792,0.854,0.525,0.881,0.467,0.655,0.646,0.68,0.667,0.653,0.601,0.693,0.741,0.373,0.582,0.671,0.417,0.32,0.444,0.695,0.431,0.538,0.883,0.209,0.716,0.531,0.353,0.47,0.554,0.643,0.512,0.875,0.415,0.378,0.622,0.871,0.695,0.813,0.726,0.434,0.833,0.538,0.795,0.696,0.814,0.571,0.713,0.399,0.435,0.664,0.617,0.277,0.547,0.632,0.474,0.885,0.794,0.366,0.637,0.604,0.432,0.667,0.487,0.746,0.658,0.803,0.692],\"yaxis\":\"y\",\"type\":\"scatter\"}],                        {\"template\":{\"data\":{\"histogram2dcontour\":[{\"type\":\"histogram2dcontour\",\"colorbar\":{\"outlinewidth\":0,\"ticks\":\"\"},\"colorscale\":[[0.0,\"#0d0887\"],[0.1111111111111111,\"#46039f\"],[0.2222222222222222,\"#7201a8\"],[0.3333333333333333,\"#9c179e\"],[0.4444444444444444,\"#bd3786\"],[0.5555555555555556,\"#d8576b\"],[0.6666666666666666,\"#ed7953\"],[0.7777777777777778,\"#fb9f3a\"],[0.8888888888888888,\"#fdca26\"],[1.0,\"#f0f921\"]]}],\"choropleth\":[{\"type\":\"choropleth\",\"colorbar\":{\"outlinewidth\":0,\"ticks\":\"\"}}],\"histogram2d\":[{\"type\":\"histogram2d\",\"colorbar\":{\"outlinewidth\":0,\"ticks\":\"\"},\"colorscale\":[[0.0,\"#0d0887\"],[0.1111111111111111,\"#46039f\"],[0.2222222222222222,\"#7201a8\"],[0.3333333333333333,\"#9c179e\"],[0.4444444444444444,\"#bd3786\"],[0.5555555555555556,\"#d8576b\"],[0.6666666666666666,\"#ed7953\"],[0.7777777777777778,\"#fb9f3a\"],[0.8888888888888888,\"#fdca26\"],[1.0,\"#f0f921\"]]}],\"heatmap\":[{\"type\":\"heatmap\",\"colorbar\":{\"outlinewidth\":0,\"ticks\":\"\"},\"colorscale\":[[0.0,\"#0d0887\"],[0.1111111111111111,\"#46039f\"],[0.2222222222222222,\"#7201a8\"],[0.3333333333333333,\"#9c179e\"],[0.4444444444444444,\"#bd3786\"],[0.5555555555555556,\"#d8576b\"],[0.6666666666666666,\"#ed7953\"],[0.7777777777777778,\"#fb9f3a\"],[0.8888888888888888,\"#fdca26\"],[1.0,\"#f0f921\"]]}],\"heatmapgl\":[{\"type\":\"heatmapgl\",\"colorbar\":{\"outlinewidth\":0,\"ticks\":\"\"},\"colorscale\":[[0.0,\"#0d0887\"],[0.1111111111111111,\"#46039f\"],[0.2222222222222222,\"#7201a8\"],[0.3333333333333333,\"#9c179e\"],[0.4444444444444444,\"#bd3786\"],[0.5555555555555556,\"#d8576b\"],[0.6666666666666666,\"#ed7953\"],[0.7777777777777778,\"#fb9f3a\"],[0.8888888888888888,\"#fdca26\"],[1.0,\"#f0f921\"]]}],\"contourcarpet\":[{\"type\":\"contourcarpet\",\"colorbar\":{\"outlinewidth\":0,\"ticks\":\"\"}}],\"contour\":[{\"type\":\"contour\",\"colorbar\":{\"outlinewidth\":0,\"ticks\":\"\"},\"colorscale\":[[0.0,\"#0d0887\"],[0.1111111111111111,\"#46039f\"],[0.2222222222222222,\"#7201a8\"],[0.3333333333333333,\"#9c179e\"],[0.4444444444444444,\"#bd3786\"],[0.5555555555555556,\"#d8576b\"],[0.6666666666666666,\"#ed7953\"],[0.7777777777777778,\"#fb9f3a\"],[0.8888888888888888,\"#fdca26\"],[1.0,\"#f0f921\"]]}],\"surface\":[{\"type\":\"surface\",\"colorbar\":{\"outlinewidth\":0,\"ticks\":\"\"},\"colorscale\":[[0.0,\"#0d0887\"],[0.1111111111111111,\"#46039f\"],[0.2222222222222222,\"#7201a8\"],[0.3333333333333333,\"#9c179e\"],[0.4444444444444444,\"#bd3786\"],[0.5555555555555556,\"#d8576b\"],[0.6666666666666666,\"#ed7953\"],[0.7777777777777778,\"#fb9f3a\"],[0.8888888888888888,\"#fdca26\"],[1.0,\"#f0f921\"]]}],\"mesh3d\":[{\"type\":\"mesh3d\",\"colorbar\":{\"outlinewidth\":0,\"ticks\":\"\"}}],\"scatter\":[{\"fillpattern\":{\"fillmode\":\"overlay\",\"size\":10,\"solidity\":0.2},\"type\":\"scatter\"}],\"parcoords\":[{\"type\":\"parcoords\",\"line\":{\"colorbar\":{\"outlinewidth\":0,\"ticks\":\"\"}}}],\"scatterpolargl\":[{\"type\":\"scatterpolargl\",\"marker\":{\"colorbar\":{\"outlinewidth\":0,\"ticks\":\"\"}}}],\"bar\":[{\"error_x\":{\"color\":\"#2a3f5f\"},\"error_y\":{\"color\":\"#2a3f5f\"},\"marker\":{\"line\":{\"color\":\"#E5ECF6\",\"width\":0.5},\"pattern\":{\"fillmode\":\"overlay\",\"size\":10,\"solidity\":0.2}},\"type\":\"bar\"}],\"scattergeo\":[{\"type\":\"scattergeo\",\"marker\":{\"colorbar\":{\"outlinewidth\":0,\"ticks\":\"\"}}}],\"scatterpolar\":[{\"type\":\"scatterpolar\",\"marker\":{\"colorbar\":{\"outlinewidth\":0,\"ticks\":\"\"}}}],\"histogram\":[{\"marker\":{\"pattern\":{\"fillmode\":\"overlay\",\"size\":10,\"solidity\":0.2}},\"type\":\"histogram\"}],\"scattergl\":[{\"type\":\"scattergl\",\"marker\":{\"colorbar\":{\"outlinewidth\":0,\"ticks\":\"\"}}}],\"scatter3d\":[{\"type\":\"scatter3d\",\"line\":{\"colorbar\":{\"outlinewidth\":0,\"ticks\":\"\"}},\"marker\":{\"colorbar\":{\"outlinewidth\":0,\"ticks\":\"\"}}}],\"scattermapbox\":[{\"type\":\"scattermapbox\",\"marker\":{\"colorbar\":{\"outlinewidth\":0,\"ticks\":\"\"}}}],\"scatterternary\":[{\"type\":\"scatterternary\",\"marker\":{\"colorbar\":{\"outlinewidth\":0,\"ticks\":\"\"}}}],\"scattercarpet\":[{\"type\":\"scattercarpet\",\"marker\":{\"colorbar\":{\"outlinewidth\":0,\"ticks\":\"\"}}}],\"carpet\":[{\"aaxis\":{\"endlinecolor\":\"#2a3f5f\",\"gridcolor\":\"white\",\"linecolor\":\"white\",\"minorgridcolor\":\"white\",\"startlinecolor\":\"#2a3f5f\"},\"baxis\":{\"endlinecolor\":\"#2a3f5f\",\"gridcolor\":\"white\",\"linecolor\":\"white\",\"minorgridcolor\":\"white\",\"startlinecolor\":\"#2a3f5f\"},\"type\":\"carpet\"}],\"table\":[{\"cells\":{\"fill\":{\"color\":\"#EBF0F8\"},\"line\":{\"color\":\"white\"}},\"header\":{\"fill\":{\"color\":\"#C8D4E3\"},\"line\":{\"color\":\"white\"}},\"type\":\"table\"}],\"barpolar\":[{\"marker\":{\"line\":{\"color\":\"#E5ECF6\",\"width\":0.5},\"pattern\":{\"fillmode\":\"overlay\",\"size\":10,\"solidity\":0.2}},\"type\":\"barpolar\"}],\"pie\":[{\"automargin\":true,\"type\":\"pie\"}]},\"layout\":{\"autotypenumbers\":\"strict\",\"colorway\":[\"#636efa\",\"#EF553B\",\"#00cc96\",\"#ab63fa\",\"#FFA15A\",\"#19d3f3\",\"#FF6692\",\"#B6E880\",\"#FF97FF\",\"#FECB52\"],\"font\":{\"color\":\"#2a3f5f\"},\"hovermode\":\"closest\",\"hoverlabel\":{\"align\":\"left\"},\"paper_bgcolor\":\"white\",\"plot_bgcolor\":\"#E5ECF6\",\"polar\":{\"bgcolor\":\"#E5ECF6\",\"angularaxis\":{\"gridcolor\":\"white\",\"linecolor\":\"white\",\"ticks\":\"\"},\"radialaxis\":{\"gridcolor\":\"white\",\"linecolor\":\"white\",\"ticks\":\"\"}},\"ternary\":{\"bgcolor\":\"#E5ECF6\",\"aaxis\":{\"gridcolor\":\"white\",\"linecolor\":\"white\",\"ticks\":\"\"},\"baxis\":{\"gridcolor\":\"white\",\"linecolor\":\"white\",\"ticks\":\"\"},\"caxis\":{\"gridcolor\":\"white\",\"linecolor\":\"white\",\"ticks\":\"\"}},\"coloraxis\":{\"colorbar\":{\"outlinewidth\":0,\"ticks\":\"\"}},\"colorscale\":{\"sequential\":[[0.0,\"#0d0887\"],[0.1111111111111111,\"#46039f\"],[0.2222222222222222,\"#7201a8\"],[0.3333333333333333,\"#9c179e\"],[0.4444444444444444,\"#bd3786\"],[0.5555555555555556,\"#d8576b\"],[0.6666666666666666,\"#ed7953\"],[0.7777777777777778,\"#fb9f3a\"],[0.8888888888888888,\"#fdca26\"],[1.0,\"#f0f921\"]],\"sequentialminus\":[[0.0,\"#0d0887\"],[0.1111111111111111,\"#46039f\"],[0.2222222222222222,\"#7201a8\"],[0.3333333333333333,\"#9c179e\"],[0.4444444444444444,\"#bd3786\"],[0.5555555555555556,\"#d8576b\"],[0.6666666666666666,\"#ed7953\"],[0.7777777777777778,\"#fb9f3a\"],[0.8888888888888888,\"#fdca26\"],[1.0,\"#f0f921\"]],\"diverging\":[[0,\"#8e0152\"],[0.1,\"#c51b7d\"],[0.2,\"#de77ae\"],[0.3,\"#f1b6da\"],[0.4,\"#fde0ef\"],[0.5,\"#f7f7f7\"],[0.6,\"#e6f5d0\"],[0.7,\"#b8e186\"],[0.8,\"#7fbc41\"],[0.9,\"#4d9221\"],[1,\"#276419\"]]},\"xaxis\":{\"gridcolor\":\"white\",\"linecolor\":\"white\",\"ticks\":\"\",\"title\":{\"standoff\":15},\"zerolinecolor\":\"white\",\"automargin\":true,\"zerolinewidth\":2},\"yaxis\":{\"gridcolor\":\"white\",\"linecolor\":\"white\",\"ticks\":\"\",\"title\":{\"standoff\":15},\"zerolinecolor\":\"white\",\"automargin\":true,\"zerolinewidth\":2},\"scene\":{\"xaxis\":{\"backgroundcolor\":\"#E5ECF6\",\"gridcolor\":\"white\",\"linecolor\":\"white\",\"showbackground\":true,\"ticks\":\"\",\"zerolinecolor\":\"white\",\"gridwidth\":2},\"yaxis\":{\"backgroundcolor\":\"#E5ECF6\",\"gridcolor\":\"white\",\"linecolor\":\"white\",\"showbackground\":true,\"ticks\":\"\",\"zerolinecolor\":\"white\",\"gridwidth\":2},\"zaxis\":{\"backgroundcolor\":\"#E5ECF6\",\"gridcolor\":\"white\",\"linecolor\":\"white\",\"showbackground\":true,\"ticks\":\"\",\"zerolinecolor\":\"white\",\"gridwidth\":2}},\"shapedefaults\":{\"line\":{\"color\":\"#2a3f5f\"}},\"annotationdefaults\":{\"arrowcolor\":\"#2a3f5f\",\"arrowhead\":0,\"arrowwidth\":1},\"geo\":{\"bgcolor\":\"white\",\"landcolor\":\"#E5ECF6\",\"subunitcolor\":\"white\",\"showland\":true,\"showlakes\":true,\"lakecolor\":\"white\"},\"title\":{\"x\":0.05},\"mapbox\":{\"style\":\"light\"}}},\"xaxis\":{\"anchor\":\"y\",\"domain\":[0.0,1.0],\"title\":{\"text\":\"energy\"}},\"yaxis\":{\"anchor\":\"x\",\"domain\":[0.0,1.0],\"title\":{\"text\":\"danceability\"}},\"legend\":{\"tracegroupgap\":0},\"title\":{\"text\":\"energy vs. danceability\"}},                        {\"responsive\": true}                    ).then(function(){\n",
       "                            \n",
       "var gd = document.getElementById('6ba147df-460a-4862-965c-071c705b2c07');\n",
       "var x = new MutationObserver(function (mutations, observer) {{\n",
       "        var display = window.getComputedStyle(gd).display;\n",
       "        if (!display || display === 'none') {{\n",
       "            console.log([gd, 'removed!']);\n",
       "            Plotly.purge(gd);\n",
       "            observer.disconnect();\n",
       "        }}\n",
       "}});\n",
       "\n",
       "// Listen for the removal of the full notebook cells\n",
       "var notebookContainer = gd.closest('#notebook-container');\n",
       "if (notebookContainer) {{\n",
       "    x.observe(notebookContainer, {childList: true});\n",
       "}}\n",
       "\n",
       "// Listen for the clearing of the current output cell\n",
       "var outputEl = gd.closest('.output');\n",
       "if (outputEl) {{\n",
       "    x.observe(outputEl, {childList: true});\n",
       "}}\n",
       "\n",
       "                        })                };                });            </script>        </div>"
      ]
     },
     "metadata": {},
     "output_type": "display_data"
    }
   ],
   "source": [
    "fig = px.scatter(song_df, x = \"energy\", y = \"danceability\", hover_data = [\"track_name\"], title = \"energy vs. danceability\")\n",
    "fig"
   ]
  },
  {
   "cell_type": "code",
   "execution_count": 287,
   "metadata": {},
   "outputs": [
    {
     "data": {
      "application/vnd.plotly.v1+json": {
       "config": {
        "plotlyServerURL": "https://plot.ly"
       },
       "data": [
        {
         "customdata": [
          [
           "Pursuit Of Happiness (nightmare)"
          ],
          [
           "I Found A Way"
          ],
          [
           "I'm Good (Blue)"
          ],
          [
           "This Life"
          ],
          [
           "Upside Down"
          ],
          [
           "quiet motions"
          ],
          [
           "Better in Stereo - Theme Song Version"
          ],
          [
           "Them Changes"
          ],
          [
           "Merry-Go-Round of Life - from 'Howl's Moving Castle'"
          ],
          [
           "august"
          ],
          [
           "Never Gonna Give You Up"
          ],
          [
           "Bill Nye The Science Guy"
          ],
          [
           "These Are The Days"
          ],
          [
           "The Spins"
          ],
          [
           "We Didn’t Start The Fire"
          ],
          [
           "One More Year"
          ],
          [
           "Dancing In The Courthouse"
          ],
          [
           "SAD GIRLZ LUV MONEY Remix (feat. Kali Uchis and Moliy)"
          ],
          [
           "life hack"
          ],
          [
           "Escapism."
          ],
          [
           "Driving Myself Home"
          ],
          [
           "Seinfeld Theme"
          ],
          [
           "Vienna"
          ],
          [
           "I Wonder"
          ],
          [
           "Peace Sign"
          ],
          [
           "Boss Bitch"
          ],
          [
           "Queencard"
          ],
          [
           "Friday The 13th Main Theme (feat. Jason Voorhees) - From Friday The 13th"
          ],
          [
           "Pink + White"
          ],
          [
           "Hot Wings (I Wanna Party)"
          ],
          [
           "Happy"
          ],
          [
           "Sticky"
          ],
          [
           "D'yer Mak'er - Remaster"
          ],
          [
           "Gettin' Jiggy Wit It"
          ],
          [
           "Happiness is a butterfly"
          ],
          [
           "Food for the Soul"
          ],
          [
           "Loud And Fast"
          ],
          [
           "Heading South"
          ],
          [
           "The Coast"
          ],
          [
           "Going Up The Country"
          ],
          [
           "Ooh La La"
          ],
          [
           "striptease"
          ],
          [
           "Finesse"
          ],
          [
           "july 16th"
          ],
          [
           "Life is a Highway"
          ],
          [
           "CAN'T STOP THE FEELING! (from DreamWorks Animation's \"TROLLS\")"
          ],
          [
           "Giant Steps - 2020 Remaster"
          ],
          [
           "I'll Be There for You - Theme From \"Friends\""
          ],
          [
           "ハートフェルトファンシー"
          ],
          [
           "No Wind Resistance!"
          ],
          [
           "Breathe (In the Air)"
          ],
          [
           "Chamber Of Reflection"
          ],
          [
           "Day ‘n’ Nite"
          ],
          [
           "Girei (Pain's Theme)"
          ],
          [
           "Hustle"
          ],
          [
           "All Of The Lights"
          ],
          [
           "ブルーアーカイブ (Blue Archive OST 59 Soundtrack)"
          ],
          [
           "Cherry Waves"
          ],
          [
           "Wildest Dreams"
          ],
          [
           "That Girl"
          ],
          [
           "Stargazing"
          ],
          [
           "Future Nostalgia"
          ],
          [
           "American Teenager"
          ],
          [
           "Road Trippin'"
          ],
          [
           "My Favorite Things"
          ],
          [
           "Walking On A Dream"
          ],
          [
           "Levitating"
          ],
          [
           "Champagne Coast"
          ],
          [
           "Time After Time"
          ],
          [
           "Lake Shore Drive"
          ],
          [
           "Bitter"
          ],
          [
           "Natural"
          ],
          [
           "Suit & Tie (feat. Jay-Z)"
          ],
          [
           "You're On Your Own, Kid"
          ],
          [
           "Calm Down"
          ],
          [
           "Break It Out"
          ],
          [
           "Alone in the Mountains"
          ],
          [
           "Put Your Records On"
          ],
          [
           "Out of Tune"
          ],
          [
           "I Took A Pill In Ibiza - Seeb Remix"
          ],
          [
           "Take Two"
          ],
          [
           "Pressure"
          ],
          [
           "Imagine - Remastered 2010"
          ],
          [
           "The King"
          ],
          [
           "Honey, Honey"
          ],
          [
           "Call Me, Beep Me! (The Kim Possible Song)"
          ],
          [
           "Good News"
          ],
          [
           "Succession (Main Title Theme)"
          ],
          [
           "All My Love"
          ],
          [
           "Don't Delete The Kisses"
          ],
          [
           "Bad Luck"
          ],
          [
           "Homecoming"
          ],
          [
           "BONVOYAGE"
          ],
          [
           "Washed Wine"
          ],
          [
           "Song 2"
          ],
          [
           "Sweetly"
          ],
          [
           "Sweet Dreams (Are Made of This) - Remastered"
          ],
          [
           "Good Life"
          ],
          [
           "Sunday Best"
          ],
          [
           "That's Life"
          ],
          [
           "Pursuit Of Happiness (nightmare)"
          ],
          [
           "I Found A Way"
          ],
          [
           "I'm Good (Blue)"
          ],
          [
           "This Life"
          ],
          [
           "Upside Down"
          ],
          [
           "quiet motions"
          ],
          [
           "Better in Stereo - Theme Song Version"
          ],
          [
           "Them Changes"
          ],
          [
           "Merry-Go-Round of Life - from 'Howl's Moving Castle'"
          ],
          [
           "august"
          ],
          [
           "Never Gonna Give You Up"
          ],
          [
           "Bill Nye The Science Guy"
          ],
          [
           "These Are The Days"
          ],
          [
           "The Spins"
          ],
          [
           "We Didn’t Start The Fire"
          ],
          [
           "One More Year"
          ],
          [
           "Dancing In The Courthouse"
          ],
          [
           "SAD GIRLZ LUV MONEY Remix (feat. Kali Uchis and Moliy)"
          ],
          [
           "life hack"
          ],
          [
           "Escapism."
          ],
          [
           "Driving Myself Home"
          ],
          [
           "Seinfeld Theme"
          ],
          [
           "Vienna"
          ],
          [
           "I Wonder"
          ],
          [
           "Peace Sign"
          ],
          [
           "Boss Bitch"
          ],
          [
           "Queencard"
          ],
          [
           "Friday The 13th Main Theme (feat. Jason Voorhees) - From Friday The 13th"
          ],
          [
           "Pink + White"
          ],
          [
           "Hot Wings (I Wanna Party)"
          ],
          [
           "Happy"
          ],
          [
           "Sticky"
          ],
          [
           "D'yer Mak'er - Remaster"
          ],
          [
           "Gettin' Jiggy Wit It"
          ],
          [
           "Happiness is a butterfly"
          ],
          [
           "Food for the Soul"
          ],
          [
           "Loud And Fast"
          ],
          [
           "Heading South"
          ],
          [
           "The Coast"
          ],
          [
           "Going Up The Country"
          ],
          [
           "Ooh La La"
          ],
          [
           "striptease"
          ],
          [
           "Finesse"
          ],
          [
           "july 16th"
          ],
          [
           "Life is a Highway"
          ],
          [
           "CAN'T STOP THE FEELING! (from DreamWorks Animation's \"TROLLS\")"
          ],
          [
           "Giant Steps - 2020 Remaster"
          ],
          [
           "I'll Be There for You - Theme From \"Friends\""
          ],
          [
           "ハートフェルトファンシー"
          ],
          [
           "No Wind Resistance!"
          ],
          [
           "Breathe (In the Air)"
          ],
          [
           "Chamber Of Reflection"
          ],
          [
           "Day ‘n’ Nite"
          ],
          [
           "Girei (Pain's Theme)"
          ],
          [
           "Hustle"
          ],
          [
           "All Of The Lights"
          ],
          [
           "ブルーアーカイブ (Blue Archive OST 59 Soundtrack)"
          ],
          [
           "Cherry Waves"
          ],
          [
           "Wildest Dreams"
          ],
          [
           "That Girl"
          ],
          [
           "Stargazing"
          ],
          [
           "Future Nostalgia"
          ],
          [
           "American Teenager"
          ],
          [
           "Road Trippin'"
          ],
          [
           "My Favorite Things"
          ],
          [
           "Walking On A Dream"
          ],
          [
           "Levitating"
          ],
          [
           "Champagne Coast"
          ],
          [
           "Time After Time"
          ],
          [
           "Lake Shore Drive"
          ],
          [
           "Bitter"
          ],
          [
           "Natural"
          ],
          [
           "Suit & Tie (feat. Jay-Z)"
          ],
          [
           "You're On Your Own, Kid"
          ],
          [
           "Calm Down"
          ],
          [
           "Break It Out"
          ],
          [
           "Alone in the Mountains"
          ],
          [
           "Put Your Records On"
          ],
          [
           "Out of Tune"
          ],
          [
           "I Took A Pill In Ibiza - Seeb Remix"
          ],
          [
           "Take Two"
          ],
          [
           "Pressure"
          ],
          [
           "Imagine - Remastered 2010"
          ],
          [
           "The King"
          ],
          [
           "Honey, Honey"
          ],
          [
           "Call Me, Beep Me! (The Kim Possible Song)"
          ],
          [
           "Good News"
          ],
          [
           "Succession (Main Title Theme)"
          ],
          [
           "All My Love"
          ],
          [
           "Don't Delete The Kisses"
          ],
          [
           "Bad Luck"
          ],
          [
           "Homecoming"
          ],
          [
           "BONVOYAGE"
          ],
          [
           "Washed Wine"
          ],
          [
           "Song 2"
          ],
          [
           "Sweetly"
          ],
          [
           "Sweet Dreams (Are Made of This) - Remastered"
          ]
         ],
         "hovertemplate": "acousticness=%{x}<br>loudness=%{y}<br>track_name=%{customdata[0]}<extra></extra>",
         "legendgroup": "",
         "marker": {
          "color": "#636efa",
          "symbol": "circle"
         },
         "mode": "markers",
         "name": "",
         "orientation": "v",
         "showlegend": false,
         "type": "scatter",
         "x": [
          0.453,
          0.0056,
          0.00383,
          0.228,
          0.238,
          0.309,
          0.222,
          0.54,
          0.876,
          0.538,
          0.115,
          0.0207,
          0.00935,
          0.0135,
          0.00139,
          0.057,
          0.187,
          0.433,
          0.0233,
          0.138,
          0.73,
          0.208,
          0.659,
          0.125,
          0.00161,
          0.127,
          0.0327,
          0.245,
          0.667,
          0.00507,
          0.726,
          0.13,
          0.262,
          0.0175,
          0.969,
          0.0512,
          0.138,
          0.783,
          0.864,
          0.806,
          0.579,
          0.124,
          0.00781,
          0.931,
          0.00324,
          0.0111,
          0.186,
          0.0717,
          0.354,
          0.234,
          0.389,
          0.262,
          0.753,
          0.881,
          0.0802,
          0.0796,
          0.000286,
          0.000362,
          0.0702,
          0.311,
          0.00304,
          0.00618,
          0.00305,
          0.28,
          0.87,
          0.257,
          0.0561,
          0.0203,
          0.487,
          0.204,
          0.463,
          0.429,
          0.103,
          0.401,
          0.365,
          0.0186,
          0.159,
          0.0563,
          0.0111,
          0.0353,
          0.0268,
          0.00318,
          0.907,
          0.078,
          0.309,
          0.089,
          0.853,
          0.000226,
          0.32,
          0.0011,
          0.277,
          0.337,
          0.00417,
          0.00644,
          0.00188,
          0.612,
          0.225,
          0.00305,
          0.183,
          0.55,
          0.453,
          0.0056,
          0.00383,
          0.228,
          0.238,
          0.309,
          0.222,
          0.54,
          0.876,
          0.538,
          0.115,
          0.0207,
          0.00935,
          0.0135,
          0.00139,
          0.057,
          0.187,
          0.433,
          0.0233,
          0.138,
          0.73,
          0.208,
          0.659,
          0.125,
          0.00161,
          0.127,
          0.0327,
          0.245,
          0.667,
          0.00507,
          0.726,
          0.13,
          0.262,
          0.0175,
          0.969,
          0.0512,
          0.138,
          0.783,
          0.864,
          0.806,
          0.579,
          0.124,
          0.00781,
          0.931,
          0.00324,
          0.0111,
          0.186,
          0.0717,
          0.354,
          0.234,
          0.389,
          0.262,
          0.753,
          0.881,
          0.0802,
          0.0796,
          0.000286,
          0.000362,
          0.0702,
          0.311,
          0.00304,
          0.00618,
          0.00305,
          0.28,
          0.87,
          0.257,
          0.0561,
          0.0203,
          0.487,
          0.204,
          0.463,
          0.429,
          0.103,
          0.401,
          0.365,
          0.0186,
          0.159,
          0.0563,
          0.0111,
          0.0353,
          0.0268,
          0.00318,
          0.907,
          0.078,
          0.309,
          0.089,
          0.853,
          0.000226,
          0.32,
          0.0011,
          0.277,
          0.337,
          0.00417,
          0.00644,
          0.00188,
          0.612,
          0.225
         ],
         "xaxis": "x",
         "y": [
          -8.73,
          -7.692,
          -3.673,
          -6.434,
          -8.339,
          -8.287,
          -3.469,
          -8.6,
          -12.565,
          -9.208,
          -11.823,
          -7.769,
          -5.64,
          -3.894,
          -4.084,
          -5.414,
          -4.479,
          -8.052,
          -5.987,
          -5.355,
          -5.57,
          -10.339,
          -6.662,
          -8.562,
          -5.119,
          -4.593,
          -2.828,
          -15.266,
          -7.362,
          -6.386,
          -18.813,
          -14.779,
          -8.56,
          -4.505,
          -10.99,
          -7.78,
          -7.3,
          -14.112,
          -14.987,
          -18.54,
          -8.166,
          -8.887,
          -5.342,
          -13.034,
          -3.848,
          -8.215,
          -13.046,
          -5.903,
          -7.625,
          -12.199,
          -15.142,
          -8.678,
          -5.791,
          -14.152,
          -5.138,
          -3.284,
          -3.676,
          -3.663,
          -7.414,
          -5.588,
          -7.798,
          -4.502,
          -5.008,
          -8.202,
          -12.472,
          -5.594,
          -2.278,
          -12.626,
          -9.206,
          -7.367,
          -5.899,
          -10.241,
          -3.799,
          -10.289,
          -6.29,
          -1.893,
          -9.894,
          -10.778,
          -8.621,
          -6.645,
          -5.978,
          -8.127,
          -12.358,
          -6.196,
          -7.763,
          -5.027,
          -12.92,
          -6.369,
          -7.089,
          -6.259,
          -5.515,
          -7.059,
          -3.915,
          -5.428,
          -6.736,
          -13.28,
          -7.498,
          -6.881,
          -6.832,
          -14.151,
          -8.73,
          -7.692,
          -3.673,
          -6.434,
          -8.339,
          -8.287,
          -3.469,
          -8.6,
          -12.565,
          -9.208,
          -11.823,
          -7.769,
          -5.64,
          -3.894,
          -4.084,
          -5.414,
          -4.479,
          -8.052,
          -5.987,
          -5.355,
          -5.57,
          -10.339,
          -6.662,
          -8.562,
          -5.119,
          -4.593,
          -2.828,
          -15.266,
          -7.362,
          -6.386,
          -18.813,
          -14.779,
          -8.56,
          -4.505,
          -10.99,
          -7.78,
          -7.3,
          -14.112,
          -14.987,
          -18.54,
          -8.166,
          -8.887,
          -5.342,
          -13.034,
          -3.848,
          -8.215,
          -13.046,
          -5.903,
          -7.625,
          -12.199,
          -15.142,
          -8.678,
          -5.791,
          -14.152,
          -5.138,
          -3.284,
          -3.676,
          -3.663,
          -7.414,
          -5.588,
          -7.798,
          -4.502,
          -5.008,
          -8.202,
          -12.472,
          -5.594,
          -2.278,
          -12.626,
          -9.206,
          -7.367,
          -5.899,
          -10.241,
          -3.799,
          -10.289,
          -6.29,
          -1.893,
          -9.894,
          -10.778,
          -8.621,
          -6.645,
          -5.978,
          -8.127,
          -12.358,
          -6.196,
          -7.763,
          -5.027,
          -12.92,
          -6.369,
          -7.089,
          -6.259,
          -5.515,
          -7.059,
          -3.915,
          -5.428,
          -6.736,
          -13.28,
          -7.498
         ],
         "yaxis": "y"
        }
       ],
       "layout": {
        "legend": {
         "tracegroupgap": 0
        },
        "template": {
         "data": {
          "bar": [
           {
            "error_x": {
             "color": "#2a3f5f"
            },
            "error_y": {
             "color": "#2a3f5f"
            },
            "marker": {
             "line": {
              "color": "#E5ECF6",
              "width": 0.5
             },
             "pattern": {
              "fillmode": "overlay",
              "size": 10,
              "solidity": 0.2
             }
            },
            "type": "bar"
           }
          ],
          "barpolar": [
           {
            "marker": {
             "line": {
              "color": "#E5ECF6",
              "width": 0.5
             },
             "pattern": {
              "fillmode": "overlay",
              "size": 10,
              "solidity": 0.2
             }
            },
            "type": "barpolar"
           }
          ],
          "carpet": [
           {
            "aaxis": {
             "endlinecolor": "#2a3f5f",
             "gridcolor": "white",
             "linecolor": "white",
             "minorgridcolor": "white",
             "startlinecolor": "#2a3f5f"
            },
            "baxis": {
             "endlinecolor": "#2a3f5f",
             "gridcolor": "white",
             "linecolor": "white",
             "minorgridcolor": "white",
             "startlinecolor": "#2a3f5f"
            },
            "type": "carpet"
           }
          ],
          "choropleth": [
           {
            "colorbar": {
             "outlinewidth": 0,
             "ticks": ""
            },
            "type": "choropleth"
           }
          ],
          "contour": [
           {
            "colorbar": {
             "outlinewidth": 0,
             "ticks": ""
            },
            "colorscale": [
             [
              0,
              "#0d0887"
             ],
             [
              0.1111111111111111,
              "#46039f"
             ],
             [
              0.2222222222222222,
              "#7201a8"
             ],
             [
              0.3333333333333333,
              "#9c179e"
             ],
             [
              0.4444444444444444,
              "#bd3786"
             ],
             [
              0.5555555555555556,
              "#d8576b"
             ],
             [
              0.6666666666666666,
              "#ed7953"
             ],
             [
              0.7777777777777778,
              "#fb9f3a"
             ],
             [
              0.8888888888888888,
              "#fdca26"
             ],
             [
              1,
              "#f0f921"
             ]
            ],
            "type": "contour"
           }
          ],
          "contourcarpet": [
           {
            "colorbar": {
             "outlinewidth": 0,
             "ticks": ""
            },
            "type": "contourcarpet"
           }
          ],
          "heatmap": [
           {
            "colorbar": {
             "outlinewidth": 0,
             "ticks": ""
            },
            "colorscale": [
             [
              0,
              "#0d0887"
             ],
             [
              0.1111111111111111,
              "#46039f"
             ],
             [
              0.2222222222222222,
              "#7201a8"
             ],
             [
              0.3333333333333333,
              "#9c179e"
             ],
             [
              0.4444444444444444,
              "#bd3786"
             ],
             [
              0.5555555555555556,
              "#d8576b"
             ],
             [
              0.6666666666666666,
              "#ed7953"
             ],
             [
              0.7777777777777778,
              "#fb9f3a"
             ],
             [
              0.8888888888888888,
              "#fdca26"
             ],
             [
              1,
              "#f0f921"
             ]
            ],
            "type": "heatmap"
           }
          ],
          "heatmapgl": [
           {
            "colorbar": {
             "outlinewidth": 0,
             "ticks": ""
            },
            "colorscale": [
             [
              0,
              "#0d0887"
             ],
             [
              0.1111111111111111,
              "#46039f"
             ],
             [
              0.2222222222222222,
              "#7201a8"
             ],
             [
              0.3333333333333333,
              "#9c179e"
             ],
             [
              0.4444444444444444,
              "#bd3786"
             ],
             [
              0.5555555555555556,
              "#d8576b"
             ],
             [
              0.6666666666666666,
              "#ed7953"
             ],
             [
              0.7777777777777778,
              "#fb9f3a"
             ],
             [
              0.8888888888888888,
              "#fdca26"
             ],
             [
              1,
              "#f0f921"
             ]
            ],
            "type": "heatmapgl"
           }
          ],
          "histogram": [
           {
            "marker": {
             "pattern": {
              "fillmode": "overlay",
              "size": 10,
              "solidity": 0.2
             }
            },
            "type": "histogram"
           }
          ],
          "histogram2d": [
           {
            "colorbar": {
             "outlinewidth": 0,
             "ticks": ""
            },
            "colorscale": [
             [
              0,
              "#0d0887"
             ],
             [
              0.1111111111111111,
              "#46039f"
             ],
             [
              0.2222222222222222,
              "#7201a8"
             ],
             [
              0.3333333333333333,
              "#9c179e"
             ],
             [
              0.4444444444444444,
              "#bd3786"
             ],
             [
              0.5555555555555556,
              "#d8576b"
             ],
             [
              0.6666666666666666,
              "#ed7953"
             ],
             [
              0.7777777777777778,
              "#fb9f3a"
             ],
             [
              0.8888888888888888,
              "#fdca26"
             ],
             [
              1,
              "#f0f921"
             ]
            ],
            "type": "histogram2d"
           }
          ],
          "histogram2dcontour": [
           {
            "colorbar": {
             "outlinewidth": 0,
             "ticks": ""
            },
            "colorscale": [
             [
              0,
              "#0d0887"
             ],
             [
              0.1111111111111111,
              "#46039f"
             ],
             [
              0.2222222222222222,
              "#7201a8"
             ],
             [
              0.3333333333333333,
              "#9c179e"
             ],
             [
              0.4444444444444444,
              "#bd3786"
             ],
             [
              0.5555555555555556,
              "#d8576b"
             ],
             [
              0.6666666666666666,
              "#ed7953"
             ],
             [
              0.7777777777777778,
              "#fb9f3a"
             ],
             [
              0.8888888888888888,
              "#fdca26"
             ],
             [
              1,
              "#f0f921"
             ]
            ],
            "type": "histogram2dcontour"
           }
          ],
          "mesh3d": [
           {
            "colorbar": {
             "outlinewidth": 0,
             "ticks": ""
            },
            "type": "mesh3d"
           }
          ],
          "parcoords": [
           {
            "line": {
             "colorbar": {
              "outlinewidth": 0,
              "ticks": ""
             }
            },
            "type": "parcoords"
           }
          ],
          "pie": [
           {
            "automargin": true,
            "type": "pie"
           }
          ],
          "scatter": [
           {
            "fillpattern": {
             "fillmode": "overlay",
             "size": 10,
             "solidity": 0.2
            },
            "type": "scatter"
           }
          ],
          "scatter3d": [
           {
            "line": {
             "colorbar": {
              "outlinewidth": 0,
              "ticks": ""
             }
            },
            "marker": {
             "colorbar": {
              "outlinewidth": 0,
              "ticks": ""
             }
            },
            "type": "scatter3d"
           }
          ],
          "scattercarpet": [
           {
            "marker": {
             "colorbar": {
              "outlinewidth": 0,
              "ticks": ""
             }
            },
            "type": "scattercarpet"
           }
          ],
          "scattergeo": [
           {
            "marker": {
             "colorbar": {
              "outlinewidth": 0,
              "ticks": ""
             }
            },
            "type": "scattergeo"
           }
          ],
          "scattergl": [
           {
            "marker": {
             "colorbar": {
              "outlinewidth": 0,
              "ticks": ""
             }
            },
            "type": "scattergl"
           }
          ],
          "scattermapbox": [
           {
            "marker": {
             "colorbar": {
              "outlinewidth": 0,
              "ticks": ""
             }
            },
            "type": "scattermapbox"
           }
          ],
          "scatterpolar": [
           {
            "marker": {
             "colorbar": {
              "outlinewidth": 0,
              "ticks": ""
             }
            },
            "type": "scatterpolar"
           }
          ],
          "scatterpolargl": [
           {
            "marker": {
             "colorbar": {
              "outlinewidth": 0,
              "ticks": ""
             }
            },
            "type": "scatterpolargl"
           }
          ],
          "scatterternary": [
           {
            "marker": {
             "colorbar": {
              "outlinewidth": 0,
              "ticks": ""
             }
            },
            "type": "scatterternary"
           }
          ],
          "surface": [
           {
            "colorbar": {
             "outlinewidth": 0,
             "ticks": ""
            },
            "colorscale": [
             [
              0,
              "#0d0887"
             ],
             [
              0.1111111111111111,
              "#46039f"
             ],
             [
              0.2222222222222222,
              "#7201a8"
             ],
             [
              0.3333333333333333,
              "#9c179e"
             ],
             [
              0.4444444444444444,
              "#bd3786"
             ],
             [
              0.5555555555555556,
              "#d8576b"
             ],
             [
              0.6666666666666666,
              "#ed7953"
             ],
             [
              0.7777777777777778,
              "#fb9f3a"
             ],
             [
              0.8888888888888888,
              "#fdca26"
             ],
             [
              1,
              "#f0f921"
             ]
            ],
            "type": "surface"
           }
          ],
          "table": [
           {
            "cells": {
             "fill": {
              "color": "#EBF0F8"
             },
             "line": {
              "color": "white"
             }
            },
            "header": {
             "fill": {
              "color": "#C8D4E3"
             },
             "line": {
              "color": "white"
             }
            },
            "type": "table"
           }
          ]
         },
         "layout": {
          "annotationdefaults": {
           "arrowcolor": "#2a3f5f",
           "arrowhead": 0,
           "arrowwidth": 1
          },
          "autotypenumbers": "strict",
          "coloraxis": {
           "colorbar": {
            "outlinewidth": 0,
            "ticks": ""
           }
          },
          "colorscale": {
           "diverging": [
            [
             0,
             "#8e0152"
            ],
            [
             0.1,
             "#c51b7d"
            ],
            [
             0.2,
             "#de77ae"
            ],
            [
             0.3,
             "#f1b6da"
            ],
            [
             0.4,
             "#fde0ef"
            ],
            [
             0.5,
             "#f7f7f7"
            ],
            [
             0.6,
             "#e6f5d0"
            ],
            [
             0.7,
             "#b8e186"
            ],
            [
             0.8,
             "#7fbc41"
            ],
            [
             0.9,
             "#4d9221"
            ],
            [
             1,
             "#276419"
            ]
           ],
           "sequential": [
            [
             0,
             "#0d0887"
            ],
            [
             0.1111111111111111,
             "#46039f"
            ],
            [
             0.2222222222222222,
             "#7201a8"
            ],
            [
             0.3333333333333333,
             "#9c179e"
            ],
            [
             0.4444444444444444,
             "#bd3786"
            ],
            [
             0.5555555555555556,
             "#d8576b"
            ],
            [
             0.6666666666666666,
             "#ed7953"
            ],
            [
             0.7777777777777778,
             "#fb9f3a"
            ],
            [
             0.8888888888888888,
             "#fdca26"
            ],
            [
             1,
             "#f0f921"
            ]
           ],
           "sequentialminus": [
            [
             0,
             "#0d0887"
            ],
            [
             0.1111111111111111,
             "#46039f"
            ],
            [
             0.2222222222222222,
             "#7201a8"
            ],
            [
             0.3333333333333333,
             "#9c179e"
            ],
            [
             0.4444444444444444,
             "#bd3786"
            ],
            [
             0.5555555555555556,
             "#d8576b"
            ],
            [
             0.6666666666666666,
             "#ed7953"
            ],
            [
             0.7777777777777778,
             "#fb9f3a"
            ],
            [
             0.8888888888888888,
             "#fdca26"
            ],
            [
             1,
             "#f0f921"
            ]
           ]
          },
          "colorway": [
           "#636efa",
           "#EF553B",
           "#00cc96",
           "#ab63fa",
           "#FFA15A",
           "#19d3f3",
           "#FF6692",
           "#B6E880",
           "#FF97FF",
           "#FECB52"
          ],
          "font": {
           "color": "#2a3f5f"
          },
          "geo": {
           "bgcolor": "white",
           "lakecolor": "white",
           "landcolor": "#E5ECF6",
           "showlakes": true,
           "showland": true,
           "subunitcolor": "white"
          },
          "hoverlabel": {
           "align": "left"
          },
          "hovermode": "closest",
          "mapbox": {
           "style": "light"
          },
          "paper_bgcolor": "white",
          "plot_bgcolor": "#E5ECF6",
          "polar": {
           "angularaxis": {
            "gridcolor": "white",
            "linecolor": "white",
            "ticks": ""
           },
           "bgcolor": "#E5ECF6",
           "radialaxis": {
            "gridcolor": "white",
            "linecolor": "white",
            "ticks": ""
           }
          },
          "scene": {
           "xaxis": {
            "backgroundcolor": "#E5ECF6",
            "gridcolor": "white",
            "gridwidth": 2,
            "linecolor": "white",
            "showbackground": true,
            "ticks": "",
            "zerolinecolor": "white"
           },
           "yaxis": {
            "backgroundcolor": "#E5ECF6",
            "gridcolor": "white",
            "gridwidth": 2,
            "linecolor": "white",
            "showbackground": true,
            "ticks": "",
            "zerolinecolor": "white"
           },
           "zaxis": {
            "backgroundcolor": "#E5ECF6",
            "gridcolor": "white",
            "gridwidth": 2,
            "linecolor": "white",
            "showbackground": true,
            "ticks": "",
            "zerolinecolor": "white"
           }
          },
          "shapedefaults": {
           "line": {
            "color": "#2a3f5f"
           }
          },
          "ternary": {
           "aaxis": {
            "gridcolor": "white",
            "linecolor": "white",
            "ticks": ""
           },
           "baxis": {
            "gridcolor": "white",
            "linecolor": "white",
            "ticks": ""
           },
           "bgcolor": "#E5ECF6",
           "caxis": {
            "gridcolor": "white",
            "linecolor": "white",
            "ticks": ""
           }
          },
          "title": {
           "x": 0.05
          },
          "xaxis": {
           "automargin": true,
           "gridcolor": "white",
           "linecolor": "white",
           "ticks": "",
           "title": {
            "standoff": 15
           },
           "zerolinecolor": "white",
           "zerolinewidth": 2
          },
          "yaxis": {
           "automargin": true,
           "gridcolor": "white",
           "linecolor": "white",
           "ticks": "",
           "title": {
            "standoff": 15
           },
           "zerolinecolor": "white",
           "zerolinewidth": 2
          }
         }
        },
        "title": {
         "text": "acousticness vs. loudness"
        },
        "xaxis": {
         "anchor": "y",
         "domain": [
          0,
          1
         ],
         "title": {
          "text": "acousticness"
         }
        },
        "yaxis": {
         "anchor": "x",
         "domain": [
          0,
          1
         ],
         "title": {
          "text": "loudness"
         }
        }
       }
      },
      "text/html": [
       "<div>                            <div id=\"1419c125-11f6-49e5-8a34-fbb2bbccc032\" class=\"plotly-graph-div\" style=\"height:525px; width:100%;\"></div>            <script type=\"text/javascript\">                require([\"plotly\"], function(Plotly) {                    window.PLOTLYENV=window.PLOTLYENV || {};                                    if (document.getElementById(\"1419c125-11f6-49e5-8a34-fbb2bbccc032\")) {                    Plotly.newPlot(                        \"1419c125-11f6-49e5-8a34-fbb2bbccc032\",                        [{\"customdata\":[[\"Pursuit Of Happiness (nightmare)\"],[\"I Found A Way\"],[\"I'm Good (Blue)\"],[\"This Life\"],[\"Upside Down\"],[\"quiet motions\"],[\"Better in Stereo - Theme Song Version\"],[\"Them Changes\"],[\"Merry-Go-Round of Life - from 'Howl's Moving Castle'\"],[\"august\"],[\"Never Gonna Give You Up\"],[\"Bill Nye The Science Guy\"],[\"These Are The Days\"],[\"The Spins\"],[\"We Didn\\u2019t Start The Fire\"],[\"One More Year\"],[\"Dancing In The Courthouse\"],[\"SAD GIRLZ LUV MONEY Remix (feat. Kali Uchis and Moliy)\"],[\"life hack\"],[\"Escapism.\"],[\"Driving Myself Home\"],[\"Seinfeld Theme\"],[\"Vienna\"],[\"I Wonder\"],[\"Peace Sign\"],[\"Boss Bitch\"],[\"Queencard\"],[\"Friday The 13th Main Theme (feat. Jason Voorhees) - From Friday The 13th\"],[\"Pink + White\"],[\"Hot Wings (I Wanna Party)\"],[\"Happy\"],[\"Sticky\"],[\"D'yer Mak'er - Remaster\"],[\"Gettin' Jiggy Wit It\"],[\"Happiness is a butterfly\"],[\"Food for the Soul\"],[\"Loud And Fast\"],[\"Heading South\"],[\"The Coast\"],[\"Going Up The Country\"],[\"Ooh La La\"],[\"striptease\"],[\"Finesse\"],[\"july 16th\"],[\"Life is a Highway\"],[\"CAN'T STOP THE FEELING! (from DreamWorks Animation's \\\"TROLLS\\\")\"],[\"Giant Steps - 2020 Remaster\"],[\"I'll Be There for You - Theme From \\\"Friends\\\"\"],[\"\\u30cf\\u30fc\\u30c8\\u30d5\\u30a7\\u30eb\\u30c8\\u30d5\\u30a1\\u30f3\\u30b7\\u30fc\"],[\"No Wind Resistance!\"],[\"Breathe (In the Air)\"],[\"Chamber Of Reflection\"],[\"Day \\u2018n\\u2019 Nite\"],[\"Girei (Pain's Theme)\"],[\"Hustle\"],[\"All Of The Lights\"],[\"\\u30d6\\u30eb\\u30fc\\u30a2\\u30fc\\u30ab\\u30a4\\u30d6 (Blue Archive OST 59 Soundtrack)\"],[\"Cherry Waves\"],[\"Wildest Dreams\"],[\"That Girl\"],[\"Stargazing\"],[\"Future Nostalgia\"],[\"American Teenager\"],[\"Road Trippin'\"],[\"My Favorite Things\"],[\"Walking On A Dream\"],[\"Levitating\"],[\"Champagne Coast\"],[\"Time After Time\"],[\"Lake Shore Drive\"],[\"Bitter\"],[\"Natural\"],[\"Suit & Tie (feat. Jay-Z)\"],[\"You're On Your Own, Kid\"],[\"Calm Down\"],[\"Break It Out\"],[\"Alone in the Mountains\"],[\"Put Your Records On\"],[\"Out of Tune\"],[\"I Took A Pill In Ibiza - Seeb Remix\"],[\"Take Two\"],[\"Pressure\"],[\"Imagine - Remastered 2010\"],[\"The King\"],[\"Honey, Honey\"],[\"Call Me, Beep Me! (The Kim Possible Song)\"],[\"Good News\"],[\"Succession (Main Title Theme)\"],[\"All My Love\"],[\"Don't Delete The Kisses\"],[\"Bad Luck\"],[\"Homecoming\"],[\"BONVOYAGE\"],[\"Washed Wine\"],[\"Song 2\"],[\"Sweetly\"],[\"Sweet Dreams (Are Made of This) - Remastered\"],[\"Good Life\"],[\"Sunday Best\"],[\"That's Life\"],[\"Pursuit Of Happiness (nightmare)\"],[\"I Found A Way\"],[\"I'm Good (Blue)\"],[\"This Life\"],[\"Upside Down\"],[\"quiet motions\"],[\"Better in Stereo - Theme Song Version\"],[\"Them Changes\"],[\"Merry-Go-Round of Life - from 'Howl's Moving Castle'\"],[\"august\"],[\"Never Gonna Give You Up\"],[\"Bill Nye The Science Guy\"],[\"These Are The Days\"],[\"The Spins\"],[\"We Didn\\u2019t Start The Fire\"],[\"One More Year\"],[\"Dancing In The Courthouse\"],[\"SAD GIRLZ LUV MONEY Remix (feat. Kali Uchis and Moliy)\"],[\"life hack\"],[\"Escapism.\"],[\"Driving Myself Home\"],[\"Seinfeld Theme\"],[\"Vienna\"],[\"I Wonder\"],[\"Peace Sign\"],[\"Boss Bitch\"],[\"Queencard\"],[\"Friday The 13th Main Theme (feat. Jason Voorhees) - From Friday The 13th\"],[\"Pink + White\"],[\"Hot Wings (I Wanna Party)\"],[\"Happy\"],[\"Sticky\"],[\"D'yer Mak'er - Remaster\"],[\"Gettin' Jiggy Wit It\"],[\"Happiness is a butterfly\"],[\"Food for the Soul\"],[\"Loud And Fast\"],[\"Heading South\"],[\"The Coast\"],[\"Going Up The Country\"],[\"Ooh La La\"],[\"striptease\"],[\"Finesse\"],[\"july 16th\"],[\"Life is a Highway\"],[\"CAN'T STOP THE FEELING! (from DreamWorks Animation's \\\"TROLLS\\\")\"],[\"Giant Steps - 2020 Remaster\"],[\"I'll Be There for You - Theme From \\\"Friends\\\"\"],[\"\\u30cf\\u30fc\\u30c8\\u30d5\\u30a7\\u30eb\\u30c8\\u30d5\\u30a1\\u30f3\\u30b7\\u30fc\"],[\"No Wind Resistance!\"],[\"Breathe (In the Air)\"],[\"Chamber Of Reflection\"],[\"Day \\u2018n\\u2019 Nite\"],[\"Girei (Pain's Theme)\"],[\"Hustle\"],[\"All Of The Lights\"],[\"\\u30d6\\u30eb\\u30fc\\u30a2\\u30fc\\u30ab\\u30a4\\u30d6 (Blue Archive OST 59 Soundtrack)\"],[\"Cherry Waves\"],[\"Wildest Dreams\"],[\"That Girl\"],[\"Stargazing\"],[\"Future Nostalgia\"],[\"American Teenager\"],[\"Road Trippin'\"],[\"My Favorite Things\"],[\"Walking On A Dream\"],[\"Levitating\"],[\"Champagne Coast\"],[\"Time After Time\"],[\"Lake Shore Drive\"],[\"Bitter\"],[\"Natural\"],[\"Suit & Tie (feat. Jay-Z)\"],[\"You're On Your Own, Kid\"],[\"Calm Down\"],[\"Break It Out\"],[\"Alone in the Mountains\"],[\"Put Your Records On\"],[\"Out of Tune\"],[\"I Took A Pill In Ibiza - Seeb Remix\"],[\"Take Two\"],[\"Pressure\"],[\"Imagine - Remastered 2010\"],[\"The King\"],[\"Honey, Honey\"],[\"Call Me, Beep Me! (The Kim Possible Song)\"],[\"Good News\"],[\"Succession (Main Title Theme)\"],[\"All My Love\"],[\"Don't Delete The Kisses\"],[\"Bad Luck\"],[\"Homecoming\"],[\"BONVOYAGE\"],[\"Washed Wine\"],[\"Song 2\"],[\"Sweetly\"],[\"Sweet Dreams (Are Made of This) - Remastered\"]],\"hovertemplate\":\"acousticness=%{x}\\u003cbr\\u003eloudness=%{y}\\u003cbr\\u003etrack_name=%{customdata[0]}\\u003cextra\\u003e\\u003c\\u002fextra\\u003e\",\"legendgroup\":\"\",\"marker\":{\"color\":\"#636efa\",\"symbol\":\"circle\"},\"mode\":\"markers\",\"name\":\"\",\"orientation\":\"v\",\"showlegend\":false,\"x\":[0.453,0.0056,0.00383,0.228,0.238,0.309,0.222,0.54,0.876,0.538,0.115,0.0207,0.00935,0.0135,0.00139,0.057,0.187,0.433,0.0233,0.138,0.73,0.208,0.659,0.125,0.00161,0.127,0.0327,0.245,0.667,0.00507,0.726,0.13,0.262,0.0175,0.969,0.0512,0.138,0.783,0.864,0.806,0.579,0.124,0.00781,0.931,0.00324,0.0111,0.186,0.0717,0.354,0.234,0.389,0.262,0.753,0.881,0.0802,0.0796,0.000286,0.000362,0.0702,0.311,0.00304,0.00618,0.00305,0.28,0.87,0.257,0.0561,0.0203,0.487,0.204,0.463,0.429,0.103,0.401,0.365,0.0186,0.159,0.0563,0.0111,0.0353,0.0268,0.00318,0.907,0.078,0.309,0.089,0.853,0.000226,0.32,0.0011,0.277,0.337,0.00417,0.00644,0.00188,0.612,0.225,0.00305,0.183,0.55,0.453,0.0056,0.00383,0.228,0.238,0.309,0.222,0.54,0.876,0.538,0.115,0.0207,0.00935,0.0135,0.00139,0.057,0.187,0.433,0.0233,0.138,0.73,0.208,0.659,0.125,0.00161,0.127,0.0327,0.245,0.667,0.00507,0.726,0.13,0.262,0.0175,0.969,0.0512,0.138,0.783,0.864,0.806,0.579,0.124,0.00781,0.931,0.00324,0.0111,0.186,0.0717,0.354,0.234,0.389,0.262,0.753,0.881,0.0802,0.0796,0.000286,0.000362,0.0702,0.311,0.00304,0.00618,0.00305,0.28,0.87,0.257,0.0561,0.0203,0.487,0.204,0.463,0.429,0.103,0.401,0.365,0.0186,0.159,0.0563,0.0111,0.0353,0.0268,0.00318,0.907,0.078,0.309,0.089,0.853,0.000226,0.32,0.0011,0.277,0.337,0.00417,0.00644,0.00188,0.612,0.225],\"xaxis\":\"x\",\"y\":[-8.73,-7.692,-3.673,-6.434,-8.339,-8.287,-3.469,-8.6,-12.565,-9.208,-11.823,-7.769,-5.64,-3.894,-4.084,-5.414,-4.479,-8.052,-5.987,-5.355,-5.57,-10.339,-6.662,-8.562,-5.119,-4.593,-2.828,-15.266,-7.362,-6.386,-18.813,-14.779,-8.56,-4.505,-10.99,-7.78,-7.3,-14.112,-14.987,-18.54,-8.166,-8.887,-5.342,-13.034,-3.848,-8.215,-13.046,-5.903,-7.625,-12.199,-15.142,-8.678,-5.791,-14.152,-5.138,-3.284,-3.676,-3.663,-7.414,-5.588,-7.798,-4.502,-5.008,-8.202,-12.472,-5.594,-2.278,-12.626,-9.206,-7.367,-5.899,-10.241,-3.799,-10.289,-6.29,-1.893,-9.894,-10.778,-8.621,-6.645,-5.978,-8.127,-12.358,-6.196,-7.763,-5.027,-12.92,-6.369,-7.089,-6.259,-5.515,-7.059,-3.915,-5.428,-6.736,-13.28,-7.498,-6.881,-6.832,-14.151,-8.73,-7.692,-3.673,-6.434,-8.339,-8.287,-3.469,-8.6,-12.565,-9.208,-11.823,-7.769,-5.64,-3.894,-4.084,-5.414,-4.479,-8.052,-5.987,-5.355,-5.57,-10.339,-6.662,-8.562,-5.119,-4.593,-2.828,-15.266,-7.362,-6.386,-18.813,-14.779,-8.56,-4.505,-10.99,-7.78,-7.3,-14.112,-14.987,-18.54,-8.166,-8.887,-5.342,-13.034,-3.848,-8.215,-13.046,-5.903,-7.625,-12.199,-15.142,-8.678,-5.791,-14.152,-5.138,-3.284,-3.676,-3.663,-7.414,-5.588,-7.798,-4.502,-5.008,-8.202,-12.472,-5.594,-2.278,-12.626,-9.206,-7.367,-5.899,-10.241,-3.799,-10.289,-6.29,-1.893,-9.894,-10.778,-8.621,-6.645,-5.978,-8.127,-12.358,-6.196,-7.763,-5.027,-12.92,-6.369,-7.089,-6.259,-5.515,-7.059,-3.915,-5.428,-6.736,-13.28,-7.498],\"yaxis\":\"y\",\"type\":\"scatter\"}],                        {\"template\":{\"data\":{\"histogram2dcontour\":[{\"type\":\"histogram2dcontour\",\"colorbar\":{\"outlinewidth\":0,\"ticks\":\"\"},\"colorscale\":[[0.0,\"#0d0887\"],[0.1111111111111111,\"#46039f\"],[0.2222222222222222,\"#7201a8\"],[0.3333333333333333,\"#9c179e\"],[0.4444444444444444,\"#bd3786\"],[0.5555555555555556,\"#d8576b\"],[0.6666666666666666,\"#ed7953\"],[0.7777777777777778,\"#fb9f3a\"],[0.8888888888888888,\"#fdca26\"],[1.0,\"#f0f921\"]]}],\"choropleth\":[{\"type\":\"choropleth\",\"colorbar\":{\"outlinewidth\":0,\"ticks\":\"\"}}],\"histogram2d\":[{\"type\":\"histogram2d\",\"colorbar\":{\"outlinewidth\":0,\"ticks\":\"\"},\"colorscale\":[[0.0,\"#0d0887\"],[0.1111111111111111,\"#46039f\"],[0.2222222222222222,\"#7201a8\"],[0.3333333333333333,\"#9c179e\"],[0.4444444444444444,\"#bd3786\"],[0.5555555555555556,\"#d8576b\"],[0.6666666666666666,\"#ed7953\"],[0.7777777777777778,\"#fb9f3a\"],[0.8888888888888888,\"#fdca26\"],[1.0,\"#f0f921\"]]}],\"heatmap\":[{\"type\":\"heatmap\",\"colorbar\":{\"outlinewidth\":0,\"ticks\":\"\"},\"colorscale\":[[0.0,\"#0d0887\"],[0.1111111111111111,\"#46039f\"],[0.2222222222222222,\"#7201a8\"],[0.3333333333333333,\"#9c179e\"],[0.4444444444444444,\"#bd3786\"],[0.5555555555555556,\"#d8576b\"],[0.6666666666666666,\"#ed7953\"],[0.7777777777777778,\"#fb9f3a\"],[0.8888888888888888,\"#fdca26\"],[1.0,\"#f0f921\"]]}],\"heatmapgl\":[{\"type\":\"heatmapgl\",\"colorbar\":{\"outlinewidth\":0,\"ticks\":\"\"},\"colorscale\":[[0.0,\"#0d0887\"],[0.1111111111111111,\"#46039f\"],[0.2222222222222222,\"#7201a8\"],[0.3333333333333333,\"#9c179e\"],[0.4444444444444444,\"#bd3786\"],[0.5555555555555556,\"#d8576b\"],[0.6666666666666666,\"#ed7953\"],[0.7777777777777778,\"#fb9f3a\"],[0.8888888888888888,\"#fdca26\"],[1.0,\"#f0f921\"]]}],\"contourcarpet\":[{\"type\":\"contourcarpet\",\"colorbar\":{\"outlinewidth\":0,\"ticks\":\"\"}}],\"contour\":[{\"type\":\"contour\",\"colorbar\":{\"outlinewidth\":0,\"ticks\":\"\"},\"colorscale\":[[0.0,\"#0d0887\"],[0.1111111111111111,\"#46039f\"],[0.2222222222222222,\"#7201a8\"],[0.3333333333333333,\"#9c179e\"],[0.4444444444444444,\"#bd3786\"],[0.5555555555555556,\"#d8576b\"],[0.6666666666666666,\"#ed7953\"],[0.7777777777777778,\"#fb9f3a\"],[0.8888888888888888,\"#fdca26\"],[1.0,\"#f0f921\"]]}],\"surface\":[{\"type\":\"surface\",\"colorbar\":{\"outlinewidth\":0,\"ticks\":\"\"},\"colorscale\":[[0.0,\"#0d0887\"],[0.1111111111111111,\"#46039f\"],[0.2222222222222222,\"#7201a8\"],[0.3333333333333333,\"#9c179e\"],[0.4444444444444444,\"#bd3786\"],[0.5555555555555556,\"#d8576b\"],[0.6666666666666666,\"#ed7953\"],[0.7777777777777778,\"#fb9f3a\"],[0.8888888888888888,\"#fdca26\"],[1.0,\"#f0f921\"]]}],\"mesh3d\":[{\"type\":\"mesh3d\",\"colorbar\":{\"outlinewidth\":0,\"ticks\":\"\"}}],\"scatter\":[{\"fillpattern\":{\"fillmode\":\"overlay\",\"size\":10,\"solidity\":0.2},\"type\":\"scatter\"}],\"parcoords\":[{\"type\":\"parcoords\",\"line\":{\"colorbar\":{\"outlinewidth\":0,\"ticks\":\"\"}}}],\"scatterpolargl\":[{\"type\":\"scatterpolargl\",\"marker\":{\"colorbar\":{\"outlinewidth\":0,\"ticks\":\"\"}}}],\"bar\":[{\"error_x\":{\"color\":\"#2a3f5f\"},\"error_y\":{\"color\":\"#2a3f5f\"},\"marker\":{\"line\":{\"color\":\"#E5ECF6\",\"width\":0.5},\"pattern\":{\"fillmode\":\"overlay\",\"size\":10,\"solidity\":0.2}},\"type\":\"bar\"}],\"scattergeo\":[{\"type\":\"scattergeo\",\"marker\":{\"colorbar\":{\"outlinewidth\":0,\"ticks\":\"\"}}}],\"scatterpolar\":[{\"type\":\"scatterpolar\",\"marker\":{\"colorbar\":{\"outlinewidth\":0,\"ticks\":\"\"}}}],\"histogram\":[{\"marker\":{\"pattern\":{\"fillmode\":\"overlay\",\"size\":10,\"solidity\":0.2}},\"type\":\"histogram\"}],\"scattergl\":[{\"type\":\"scattergl\",\"marker\":{\"colorbar\":{\"outlinewidth\":0,\"ticks\":\"\"}}}],\"scatter3d\":[{\"type\":\"scatter3d\",\"line\":{\"colorbar\":{\"outlinewidth\":0,\"ticks\":\"\"}},\"marker\":{\"colorbar\":{\"outlinewidth\":0,\"ticks\":\"\"}}}],\"scattermapbox\":[{\"type\":\"scattermapbox\",\"marker\":{\"colorbar\":{\"outlinewidth\":0,\"ticks\":\"\"}}}],\"scatterternary\":[{\"type\":\"scatterternary\",\"marker\":{\"colorbar\":{\"outlinewidth\":0,\"ticks\":\"\"}}}],\"scattercarpet\":[{\"type\":\"scattercarpet\",\"marker\":{\"colorbar\":{\"outlinewidth\":0,\"ticks\":\"\"}}}],\"carpet\":[{\"aaxis\":{\"endlinecolor\":\"#2a3f5f\",\"gridcolor\":\"white\",\"linecolor\":\"white\",\"minorgridcolor\":\"white\",\"startlinecolor\":\"#2a3f5f\"},\"baxis\":{\"endlinecolor\":\"#2a3f5f\",\"gridcolor\":\"white\",\"linecolor\":\"white\",\"minorgridcolor\":\"white\",\"startlinecolor\":\"#2a3f5f\"},\"type\":\"carpet\"}],\"table\":[{\"cells\":{\"fill\":{\"color\":\"#EBF0F8\"},\"line\":{\"color\":\"white\"}},\"header\":{\"fill\":{\"color\":\"#C8D4E3\"},\"line\":{\"color\":\"white\"}},\"type\":\"table\"}],\"barpolar\":[{\"marker\":{\"line\":{\"color\":\"#E5ECF6\",\"width\":0.5},\"pattern\":{\"fillmode\":\"overlay\",\"size\":10,\"solidity\":0.2}},\"type\":\"barpolar\"}],\"pie\":[{\"automargin\":true,\"type\":\"pie\"}]},\"layout\":{\"autotypenumbers\":\"strict\",\"colorway\":[\"#636efa\",\"#EF553B\",\"#00cc96\",\"#ab63fa\",\"#FFA15A\",\"#19d3f3\",\"#FF6692\",\"#B6E880\",\"#FF97FF\",\"#FECB52\"],\"font\":{\"color\":\"#2a3f5f\"},\"hovermode\":\"closest\",\"hoverlabel\":{\"align\":\"left\"},\"paper_bgcolor\":\"white\",\"plot_bgcolor\":\"#E5ECF6\",\"polar\":{\"bgcolor\":\"#E5ECF6\",\"angularaxis\":{\"gridcolor\":\"white\",\"linecolor\":\"white\",\"ticks\":\"\"},\"radialaxis\":{\"gridcolor\":\"white\",\"linecolor\":\"white\",\"ticks\":\"\"}},\"ternary\":{\"bgcolor\":\"#E5ECF6\",\"aaxis\":{\"gridcolor\":\"white\",\"linecolor\":\"white\",\"ticks\":\"\"},\"baxis\":{\"gridcolor\":\"white\",\"linecolor\":\"white\",\"ticks\":\"\"},\"caxis\":{\"gridcolor\":\"white\",\"linecolor\":\"white\",\"ticks\":\"\"}},\"coloraxis\":{\"colorbar\":{\"outlinewidth\":0,\"ticks\":\"\"}},\"colorscale\":{\"sequential\":[[0.0,\"#0d0887\"],[0.1111111111111111,\"#46039f\"],[0.2222222222222222,\"#7201a8\"],[0.3333333333333333,\"#9c179e\"],[0.4444444444444444,\"#bd3786\"],[0.5555555555555556,\"#d8576b\"],[0.6666666666666666,\"#ed7953\"],[0.7777777777777778,\"#fb9f3a\"],[0.8888888888888888,\"#fdca26\"],[1.0,\"#f0f921\"]],\"sequentialminus\":[[0.0,\"#0d0887\"],[0.1111111111111111,\"#46039f\"],[0.2222222222222222,\"#7201a8\"],[0.3333333333333333,\"#9c179e\"],[0.4444444444444444,\"#bd3786\"],[0.5555555555555556,\"#d8576b\"],[0.6666666666666666,\"#ed7953\"],[0.7777777777777778,\"#fb9f3a\"],[0.8888888888888888,\"#fdca26\"],[1.0,\"#f0f921\"]],\"diverging\":[[0,\"#8e0152\"],[0.1,\"#c51b7d\"],[0.2,\"#de77ae\"],[0.3,\"#f1b6da\"],[0.4,\"#fde0ef\"],[0.5,\"#f7f7f7\"],[0.6,\"#e6f5d0\"],[0.7,\"#b8e186\"],[0.8,\"#7fbc41\"],[0.9,\"#4d9221\"],[1,\"#276419\"]]},\"xaxis\":{\"gridcolor\":\"white\",\"linecolor\":\"white\",\"ticks\":\"\",\"title\":{\"standoff\":15},\"zerolinecolor\":\"white\",\"automargin\":true,\"zerolinewidth\":2},\"yaxis\":{\"gridcolor\":\"white\",\"linecolor\":\"white\",\"ticks\":\"\",\"title\":{\"standoff\":15},\"zerolinecolor\":\"white\",\"automargin\":true,\"zerolinewidth\":2},\"scene\":{\"xaxis\":{\"backgroundcolor\":\"#E5ECF6\",\"gridcolor\":\"white\",\"linecolor\":\"white\",\"showbackground\":true,\"ticks\":\"\",\"zerolinecolor\":\"white\",\"gridwidth\":2},\"yaxis\":{\"backgroundcolor\":\"#E5ECF6\",\"gridcolor\":\"white\",\"linecolor\":\"white\",\"showbackground\":true,\"ticks\":\"\",\"zerolinecolor\":\"white\",\"gridwidth\":2},\"zaxis\":{\"backgroundcolor\":\"#E5ECF6\",\"gridcolor\":\"white\",\"linecolor\":\"white\",\"showbackground\":true,\"ticks\":\"\",\"zerolinecolor\":\"white\",\"gridwidth\":2}},\"shapedefaults\":{\"line\":{\"color\":\"#2a3f5f\"}},\"annotationdefaults\":{\"arrowcolor\":\"#2a3f5f\",\"arrowhead\":0,\"arrowwidth\":1},\"geo\":{\"bgcolor\":\"white\",\"landcolor\":\"#E5ECF6\",\"subunitcolor\":\"white\",\"showland\":true,\"showlakes\":true,\"lakecolor\":\"white\"},\"title\":{\"x\":0.05},\"mapbox\":{\"style\":\"light\"}}},\"xaxis\":{\"anchor\":\"y\",\"domain\":[0.0,1.0],\"title\":{\"text\":\"acousticness\"}},\"yaxis\":{\"anchor\":\"x\",\"domain\":[0.0,1.0],\"title\":{\"text\":\"loudness\"}},\"legend\":{\"tracegroupgap\":0},\"title\":{\"text\":\"acousticness vs. loudness\"}},                        {\"responsive\": true}                    ).then(function(){\n",
       "                            \n",
       "var gd = document.getElementById('1419c125-11f6-49e5-8a34-fbb2bbccc032');\n",
       "var x = new MutationObserver(function (mutations, observer) {{\n",
       "        var display = window.getComputedStyle(gd).display;\n",
       "        if (!display || display === 'none') {{\n",
       "            console.log([gd, 'removed!']);\n",
       "            Plotly.purge(gd);\n",
       "            observer.disconnect();\n",
       "        }}\n",
       "}});\n",
       "\n",
       "// Listen for the removal of the full notebook cells\n",
       "var notebookContainer = gd.closest('#notebook-container');\n",
       "if (notebookContainer) {{\n",
       "    x.observe(notebookContainer, {childList: true});\n",
       "}}\n",
       "\n",
       "// Listen for the clearing of the current output cell\n",
       "var outputEl = gd.closest('.output');\n",
       "if (outputEl) {{\n",
       "    x.observe(outputEl, {childList: true});\n",
       "}}\n",
       "\n",
       "                        })                };                });            </script>        </div>"
      ]
     },
     "metadata": {},
     "output_type": "display_data"
    }
   ],
   "source": [
    "fig = px.scatter(song_df, x = \"acousticness\", y = \"loudness\", hover_data = [\"track_name\"], \n",
    "                 title = \"acousticness vs. loudness\")\n",
    "fig"
   ]
  },
  {
   "cell_type": "markdown",
   "metadata": {},
   "source": [
    "The plot for energy vs. danceability has a weak upwards trend. This makes sense to me as higher energy would seem to imply that the song is easier to dance to. However, I expected a stronger correlation between the two variables. For the plot on acousticness vs. loudness, it seems there is a downwards trend. I'm not sure I expected this as I would assume that songs with higher acousticness would be louder. "
   ]
  },
  {
   "cell_type": "markdown",
   "metadata": {},
   "source": [
    "# Part 3: Web Scraping Fantasy Football\n",
    "\n",
    "## Part 3.1: Get a table (5 points)\n",
    "\n",
    "In Fantasy Football, real NFL players gain points for fans at home based on some scoring criteria (which differs based on the website, but in all cases more points is better). Use the `pd.read_html` function to pull in the table located at the following url from Week 1 of current Yahoo Fantasy Football season: https://football.fantasysports.yahoo.com/f1/whoshot?pos=ALL&week=1"
   ]
  },
  {
   "cell_type": "code",
   "execution_count": 221,
   "metadata": {},
   "outputs": [],
   "source": [
    "table = pd.read_html(\"https://football.fantasysports.yahoo.com/f1/whoshot?pos=ALL&week=1\")"
   ]
  },
  {
   "cell_type": "markdown",
   "metadata": {},
   "source": [
    "## Part 3.2: Build a clean Data Frame (10 points)\n",
    "\n",
    "Write a function `clean_nfl_df()` which takes the table from Part 3.1 as input and :\n",
    "\n",
    "- breaks up the `Name` column into three columns: `Name`, `Team`, `Pos` (position). For example, the first couple observations under the `Name` column as it is read in by default should be:\n",
    "\n",
    "| Name                                                      |\n",
    "|----------------------------------------------------------:|\n",
    "| New Player Note  Tyreek Hill Mia - WR Final W 36-34 @ LAC |\n",
    "| No new player Notes Dallas Dal - DEF Final W 40-0 @ NYG   |\n",
    "\n",
    "    this should be replaced with three columns:\n",
    "\n",
    "| Name             | Team | Pos |\n",
    "|-----------------:|-----:|----:|\n",
    "| Tyreek Hill      | Mia  | WR  |\n",
    "| Dallas           | Dal  | DEF |\n",
    "\n",
    "- breaks up the `Stats` column into different numeric columns based on the statistics. There should be:\n",
    "    * `Pass Yds`\n",
    "    * `Rec Yds`\n",
    "    * `Rush Yds`\n",
    "    * `Pass TD`\n",
    "    * `Rec TD`\n",
    "    * `Rush TD`\n",
    "    * `Rec`\n",
    "    * `Sack`\n",
    "    * `Int`\n",
    "    * `Fum Rec`\n",
    "    \n",
    "    so that the first couple observations:\n",
    "    \n",
    "| Stats                               |\n",
    "|------------------------------------:|\n",
    "| 11 Rec, 215 Rec Yds, 2 Rec TD       |\n",
    "| 7 Sack, 2 Int, 1 Fum Rec            |\n",
    "\n",
    "    becomes\n",
    "    \n",
    "| Pass Yds | Rec Yds | Rush Yds | Pass TD | Rec TD | Rush TD | Rec | Sack | Int | Fum Rec |\n",
    "|---------:|--------:|---------:|--------:|-------:|--------:|----:|-----:|----:|--------:|\n",
    "|   NaN    |  215    |    NaN   |   NaN   | 2      | NaN     | 11  | NaN  | NaN | NaN     |\n",
    "|   NaN    |  NaN    |    NaN   |   NaN   | NaN    | NaN     | NaN | 7    | 2   | 1       |\n",
    "\n",
    "- produces the final clean data frame whose first two rows look like:\n",
    "\n",
    "| Name             | Team | Pos | Pass Yds | Rec Yds | Rush Yds | Pass TD | Rec TD | Rush TD | Rec | Sack | Int | Fum Rec | Fan Pts   |\n",
    "|-----------------:|-----:|----:|---------:|--------:|---------:|--------:|-------:|--------:|----:|-----:|----:|--------:|----------:|\n",
    "| Tyreek Hill      | Mia  | WR  |   NaN    |  215    |    NaN   |   NaN   | 2      | NaN     | 11  | NaN  | NaN | NaN     | 39.00 |\n",
    "| Dallas           | Dal  | DEF |   NaN    |  NaN    |    NaN   |   NaN   | NaN    | NaN     | NaN | 7    | 2   | 1       | 37.00 |"
   ]
  },
  {
   "cell_type": "code",
   "execution_count": 219,
   "metadata": {},
   "outputs": [],
   "source": [
    "def clean_nfl_df(table):\n",
    "    \"\"\" cleans a table of NFL Fantasy Football data\n",
    "    \n",
    "    Args:\n",
    "        table (list): a list of tables scraped from the website\n",
    "    \n",
    "    Returns:\n",
    "        df_fantasy (pd.DataFrame): a clean dataframe with the info from the table\n",
    "    \"\"\"\n",
    "    \n",
    "    df_fantasy = pd.DataFrame()\n",
    "    \n",
    "    for index, row in table[0].iterrows():\n",
    "        row_dict = dict({})\n",
    "        \n",
    "        name_str = row[\"Name\"].split(\"-\")\n",
    "        left = name_str[0].split(\" \")\n",
    "        mid = name_str[1].split(\" \")\n",
    "    \n",
    "        row_dict[\"Name\"] = (left[-4] + \" \" + left[-3]).strip()\n",
    "        row_dict[\"Team\"] = left[-2]\n",
    "        row_dict[\"Pos\"] = mid[1]\n",
    "        \n",
    "        stat_str = row[\"Stats\"].split(\",\")\n",
    "        for stat in stat_str:\n",
    "            if \"Pass Yds\" in stat:\n",
    "                stat = stat.replace(\"Pass Yds\", \"\").strip()\n",
    "                row_dict[\"Pass Yds\"] = int(stat)\n",
    "                continue\n",
    "            if \"Rec Yds\" in stat:\n",
    "                stat = stat.replace(\"Rec Yds\", \"\").strip()\n",
    "                row_dict[\"Rec Yds\"] = int(stat)\n",
    "                continue\n",
    "            if \"Rush Yds\" in stat:\n",
    "                stat = stat.replace(\"Rush Yds\", \"\").strip()\n",
    "                row_dict[\"Rush Yds\"] = int(stat)\n",
    "                continue\n",
    "            if \"Pass TD\" in stat:\n",
    "                stat = stat.replace(\"Pass TD\", \"\").strip()\n",
    "                row_dict[\"Pass TD\"] = int(stat)\n",
    "                continue\n",
    "            if \"Rec TD\" in stat:\n",
    "                stat = stat.replace(\"Rec TD\", \"\").strip()\n",
    "                row_dict[\"Rec TD\"] = int(stat)\n",
    "                continue\n",
    "            if \"Rush TD\" in stat:\n",
    "                stat = stat.replace(\"Rush TD\", \"\").strip()\n",
    "                row_dict[\"Rush TD\"] = int(stat)\n",
    "                continue\n",
    "            if \"Fum Rec\" in stat:\n",
    "                stat = stat.replace(\"Fum Rec\", \"\").strip()\n",
    "                row_dict[\"Fum Rec\"] = int(stat)\n",
    "                continue\n",
    "            if \"Rec\" in stat:\n",
    "                stat = stat.replace(\"Rec\", \"\").strip()\n",
    "                row_dict[\"Rec\"] = int(stat)\n",
    "                continue\n",
    "            if \"Sack\" in stat:\n",
    "                stat = stat.replace(\"Sack\", \"\").strip()\n",
    "                row_dict[\"Sack\"] = int(stat)\n",
    "                continue\n",
    "            if \"Int\" in stat:\n",
    "                stat = stat.replace(\"Int\", \"\").strip()\n",
    "                row_dict[\"Int\"] = int(stat)\n",
    "                \n",
    "        row_dict[\"Fan Pts\"] = row[\"Fan Pts\"]\n",
    "        \n",
    "        row_series = pd.Series(row_dict)\n",
    "        df_fantasy = pd.concat([df_fantasy, row_series.to_frame().T])\n",
    "        \n",
    "    return df_fantasy"
   ]
  },
  {
   "cell_type": "code",
   "execution_count": 220,
   "metadata": {},
   "outputs": [
    {
     "data": {
      "text/html": [
       "<div>\n",
       "<style scoped>\n",
       "    .dataframe tbody tr th:only-of-type {\n",
       "        vertical-align: middle;\n",
       "    }\n",
       "\n",
       "    .dataframe tbody tr th {\n",
       "        vertical-align: top;\n",
       "    }\n",
       "\n",
       "    .dataframe thead th {\n",
       "        text-align: right;\n",
       "    }\n",
       "</style>\n",
       "<table border=\"1\" class=\"dataframe\">\n",
       "  <thead>\n",
       "    <tr style=\"text-align: right;\">\n",
       "      <th></th>\n",
       "      <th>Name</th>\n",
       "      <th>Team</th>\n",
       "      <th>Pos</th>\n",
       "      <th>Rec</th>\n",
       "      <th>Rec Yds</th>\n",
       "      <th>Rec TD</th>\n",
       "      <th>Fan Pts</th>\n",
       "      <th>Sack</th>\n",
       "      <th>Int</th>\n",
       "      <th>Fum Rec</th>\n",
       "      <th>Pass Yds</th>\n",
       "      <th>Pass TD</th>\n",
       "      <th>Rush Yds</th>\n",
       "      <th>Rush TD</th>\n",
       "    </tr>\n",
       "  </thead>\n",
       "  <tbody>\n",
       "    <tr>\n",
       "      <th>0</th>\n",
       "      <td>Tyreek Hill</td>\n",
       "      <td>Mia</td>\n",
       "      <td>WR</td>\n",
       "      <td>11</td>\n",
       "      <td>215</td>\n",
       "      <td>2</td>\n",
       "      <td>39.0</td>\n",
       "      <td>NaN</td>\n",
       "      <td>NaN</td>\n",
       "      <td>NaN</td>\n",
       "      <td>NaN</td>\n",
       "      <td>NaN</td>\n",
       "      <td>NaN</td>\n",
       "      <td>NaN</td>\n",
       "    </tr>\n",
       "    <tr>\n",
       "      <th>0</th>\n",
       "      <td>Dallas</td>\n",
       "      <td>Dal</td>\n",
       "      <td>DEF</td>\n",
       "      <td>NaN</td>\n",
       "      <td>NaN</td>\n",
       "      <td>NaN</td>\n",
       "      <td>37.0</td>\n",
       "      <td>7</td>\n",
       "      <td>2</td>\n",
       "      <td>1</td>\n",
       "      <td>NaN</td>\n",
       "      <td>NaN</td>\n",
       "      <td>NaN</td>\n",
       "      <td>NaN</td>\n",
       "    </tr>\n",
       "    <tr>\n",
       "      <th>0</th>\n",
       "      <td>Brandon Aiyuk</td>\n",
       "      <td>SF</td>\n",
       "      <td>WR</td>\n",
       "      <td>8</td>\n",
       "      <td>129</td>\n",
       "      <td>2</td>\n",
       "      <td>28.9</td>\n",
       "      <td>NaN</td>\n",
       "      <td>NaN</td>\n",
       "      <td>NaN</td>\n",
       "      <td>NaN</td>\n",
       "      <td>NaN</td>\n",
       "      <td>NaN</td>\n",
       "      <td>NaN</td>\n",
       "    </tr>\n",
       "    <tr>\n",
       "      <th>0</th>\n",
       "      <td>Tua Tagovailoa</td>\n",
       "      <td>Mia</td>\n",
       "      <td>QB</td>\n",
       "      <td>NaN</td>\n",
       "      <td>NaN</td>\n",
       "      <td>NaN</td>\n",
       "      <td>28.14</td>\n",
       "      <td>NaN</td>\n",
       "      <td>1</td>\n",
       "      <td>NaN</td>\n",
       "      <td>466</td>\n",
       "      <td>3</td>\n",
       "      <td>NaN</td>\n",
       "      <td>NaN</td>\n",
       "    </tr>\n",
       "    <tr>\n",
       "      <th>0</th>\n",
       "      <td>Aaron Jones</td>\n",
       "      <td>GB</td>\n",
       "      <td>RB</td>\n",
       "      <td>2</td>\n",
       "      <td>NaN</td>\n",
       "      <td>NaN</td>\n",
       "      <td>25.7</td>\n",
       "      <td>NaN</td>\n",
       "      <td>NaN</td>\n",
       "      <td>NaN</td>\n",
       "      <td>NaN</td>\n",
       "      <td>NaN</td>\n",
       "      <td>41</td>\n",
       "      <td>1</td>\n",
       "    </tr>\n",
       "    <tr>\n",
       "      <th>0</th>\n",
       "      <td>Mac Jones</td>\n",
       "      <td>NE</td>\n",
       "      <td>QB</td>\n",
       "      <td>NaN</td>\n",
       "      <td>NaN</td>\n",
       "      <td>NaN</td>\n",
       "      <td>25.14</td>\n",
       "      <td>NaN</td>\n",
       "      <td>1</td>\n",
       "      <td>NaN</td>\n",
       "      <td>316</td>\n",
       "      <td>3</td>\n",
       "      <td>NaN</td>\n",
       "      <td>NaN</td>\n",
       "    </tr>\n",
       "    <tr>\n",
       "      <th>0</th>\n",
       "      <td>Jakobi Meyers</td>\n",
       "      <td>LV</td>\n",
       "      <td>WR</td>\n",
       "      <td>9</td>\n",
       "      <td>81</td>\n",
       "      <td>2</td>\n",
       "      <td>24.6</td>\n",
       "      <td>NaN</td>\n",
       "      <td>NaN</td>\n",
       "      <td>NaN</td>\n",
       "      <td>NaN</td>\n",
       "      <td>NaN</td>\n",
       "      <td>NaN</td>\n",
       "      <td>NaN</td>\n",
       "    </tr>\n",
       "    <tr>\n",
       "      <th>0</th>\n",
       "      <td>Austin Ekeler</td>\n",
       "      <td>LAC</td>\n",
       "      <td>RB</td>\n",
       "      <td>4</td>\n",
       "      <td>NaN</td>\n",
       "      <td>NaN</td>\n",
       "      <td>24.4</td>\n",
       "      <td>NaN</td>\n",
       "      <td>NaN</td>\n",
       "      <td>NaN</td>\n",
       "      <td>NaN</td>\n",
       "      <td>NaN</td>\n",
       "      <td>117</td>\n",
       "      <td>1</td>\n",
       "    </tr>\n",
       "    <tr>\n",
       "      <th>0</th>\n",
       "      <td>Christian McCaffrey</td>\n",
       "      <td>SF</td>\n",
       "      <td>RB</td>\n",
       "      <td>3</td>\n",
       "      <td>NaN</td>\n",
       "      <td>NaN</td>\n",
       "      <td>24.4</td>\n",
       "      <td>NaN</td>\n",
       "      <td>NaN</td>\n",
       "      <td>NaN</td>\n",
       "      <td>NaN</td>\n",
       "      <td>NaN</td>\n",
       "      <td>152</td>\n",
       "      <td>1</td>\n",
       "    </tr>\n",
       "    <tr>\n",
       "      <th>0</th>\n",
       "      <td>Jordan Love</td>\n",
       "      <td>GB</td>\n",
       "      <td>QB</td>\n",
       "      <td>NaN</td>\n",
       "      <td>NaN</td>\n",
       "      <td>NaN</td>\n",
       "      <td>23.0</td>\n",
       "      <td>NaN</td>\n",
       "      <td>NaN</td>\n",
       "      <td>NaN</td>\n",
       "      <td>245</td>\n",
       "      <td>3</td>\n",
       "      <td>12</td>\n",
       "      <td>NaN</td>\n",
       "    </tr>\n",
       "    <tr>\n",
       "      <th>0</th>\n",
       "      <td>Tyler Allgeier</td>\n",
       "      <td>Atl</td>\n",
       "      <td>RB</td>\n",
       "      <td>3</td>\n",
       "      <td>NaN</td>\n",
       "      <td>NaN</td>\n",
       "      <td>22.9</td>\n",
       "      <td>NaN</td>\n",
       "      <td>NaN</td>\n",
       "      <td>NaN</td>\n",
       "      <td>NaN</td>\n",
       "      <td>NaN</td>\n",
       "      <td>75</td>\n",
       "      <td>2</td>\n",
       "    </tr>\n",
       "    <tr>\n",
       "      <th>0</th>\n",
       "      <td>Anthony Richardson</td>\n",
       "      <td>Ind</td>\n",
       "      <td>QB</td>\n",
       "      <td>NaN</td>\n",
       "      <td>NaN</td>\n",
       "      <td>NaN</td>\n",
       "      <td>21.92</td>\n",
       "      <td>NaN</td>\n",
       "      <td>1</td>\n",
       "      <td>NaN</td>\n",
       "      <td>223</td>\n",
       "      <td>1</td>\n",
       "      <td>NaN</td>\n",
       "      <td>NaN</td>\n",
       "    </tr>\n",
       "    <tr>\n",
       "      <th>0</th>\n",
       "      <td>Deshaun Watson</td>\n",
       "      <td>Cle</td>\n",
       "      <td>QB</td>\n",
       "      <td>NaN</td>\n",
       "      <td>NaN</td>\n",
       "      <td>NaN</td>\n",
       "      <td>21.66</td>\n",
       "      <td>NaN</td>\n",
       "      <td>1</td>\n",
       "      <td>NaN</td>\n",
       "      <td>154</td>\n",
       "      <td>1</td>\n",
       "      <td>NaN</td>\n",
       "      <td>NaN</td>\n",
       "    </tr>\n",
       "    <tr>\n",
       "      <th>0</th>\n",
       "      <td>Kendrick Bourne</td>\n",
       "      <td>NE</td>\n",
       "      <td>WR</td>\n",
       "      <td>6</td>\n",
       "      <td>64</td>\n",
       "      <td>2</td>\n",
       "      <td>21.4</td>\n",
       "      <td>NaN</td>\n",
       "      <td>NaN</td>\n",
       "      <td>NaN</td>\n",
       "      <td>NaN</td>\n",
       "      <td>NaN</td>\n",
       "      <td>NaN</td>\n",
       "      <td>NaN</td>\n",
       "    </tr>\n",
       "    <tr>\n",
       "      <th>0</th>\n",
       "      <td>Tony Pollard</td>\n",
       "      <td>Dal</td>\n",
       "      <td>RB</td>\n",
       "      <td>2</td>\n",
       "      <td>NaN</td>\n",
       "      <td>NaN</td>\n",
       "      <td>21.2</td>\n",
       "      <td>NaN</td>\n",
       "      <td>NaN</td>\n",
       "      <td>NaN</td>\n",
       "      <td>NaN</td>\n",
       "      <td>NaN</td>\n",
       "      <td>70</td>\n",
       "      <td>2</td>\n",
       "    </tr>\n",
       "    <tr>\n",
       "      <th>0</th>\n",
       "      <td>Stefon Diggs</td>\n",
       "      <td>Buf</td>\n",
       "      <td>WR</td>\n",
       "      <td>10</td>\n",
       "      <td>102</td>\n",
       "      <td>1</td>\n",
       "      <td>21.2</td>\n",
       "      <td>NaN</td>\n",
       "      <td>NaN</td>\n",
       "      <td>NaN</td>\n",
       "      <td>NaN</td>\n",
       "      <td>NaN</td>\n",
       "      <td>NaN</td>\n",
       "      <td>NaN</td>\n",
       "    </tr>\n",
       "    <tr>\n",
       "      <th>0</th>\n",
       "      <td>Justin Herbert</td>\n",
       "      <td>LAC</td>\n",
       "      <td>QB</td>\n",
       "      <td>NaN</td>\n",
       "      <td>NaN</td>\n",
       "      <td>NaN</td>\n",
       "      <td>20.86</td>\n",
       "      <td>NaN</td>\n",
       "      <td>NaN</td>\n",
       "      <td>NaN</td>\n",
       "      <td>229</td>\n",
       "      <td>1</td>\n",
       "      <td>17</td>\n",
       "      <td>NaN</td>\n",
       "    </tr>\n",
       "    <tr>\n",
       "      <th>0</th>\n",
       "      <td>Patrick Mahomes</td>\n",
       "      <td>KC</td>\n",
       "      <td>QB</td>\n",
       "      <td>NaN</td>\n",
       "      <td>NaN</td>\n",
       "      <td>NaN</td>\n",
       "      <td>20.54</td>\n",
       "      <td>NaN</td>\n",
       "      <td>1</td>\n",
       "      <td>NaN</td>\n",
       "      <td>226</td>\n",
       "      <td>2</td>\n",
       "      <td>NaN</td>\n",
       "      <td>NaN</td>\n",
       "    </tr>\n",
       "    <tr>\n",
       "      <th>0</th>\n",
       "      <td>Calvin Ridley</td>\n",
       "      <td>Jax</td>\n",
       "      <td>WR</td>\n",
       "      <td>8</td>\n",
       "      <td>101</td>\n",
       "      <td>1</td>\n",
       "      <td>20.1</td>\n",
       "      <td>NaN</td>\n",
       "      <td>NaN</td>\n",
       "      <td>NaN</td>\n",
       "      <td>NaN</td>\n",
       "      <td>NaN</td>\n",
       "      <td>NaN</td>\n",
       "      <td>NaN</td>\n",
       "    </tr>\n",
       "    <tr>\n",
       "      <th>0</th>\n",
       "      <td>New York</td>\n",
       "      <td>NYJ</td>\n",
       "      <td>DEF</td>\n",
       "      <td>NaN</td>\n",
       "      <td>NaN</td>\n",
       "      <td>NaN</td>\n",
       "      <td>20.0</td>\n",
       "      <td>5</td>\n",
       "      <td>3</td>\n",
       "      <td>1</td>\n",
       "      <td>NaN</td>\n",
       "      <td>NaN</td>\n",
       "      <td>NaN</td>\n",
       "      <td>NaN</td>\n",
       "    </tr>\n",
       "    <tr>\n",
       "      <th>0</th>\n",
       "      <td>Pittman Jr.</td>\n",
       "      <td>Ind</td>\n",
       "      <td>WR</td>\n",
       "      <td>8</td>\n",
       "      <td>97</td>\n",
       "      <td>1</td>\n",
       "      <td>19.7</td>\n",
       "      <td>NaN</td>\n",
       "      <td>NaN</td>\n",
       "      <td>NaN</td>\n",
       "      <td>NaN</td>\n",
       "      <td>NaN</td>\n",
       "      <td>NaN</td>\n",
       "      <td>NaN</td>\n",
       "    </tr>\n",
       "    <tr>\n",
       "      <th>0</th>\n",
       "      <td>Justin Jefferson</td>\n",
       "      <td>Min</td>\n",
       "      <td>WR</td>\n",
       "      <td>9</td>\n",
       "      <td>150</td>\n",
       "      <td>NaN</td>\n",
       "      <td>19.5</td>\n",
       "      <td>NaN</td>\n",
       "      <td>NaN</td>\n",
       "      <td>NaN</td>\n",
       "      <td>NaN</td>\n",
       "      <td>NaN</td>\n",
       "      <td>NaN</td>\n",
       "      <td>NaN</td>\n",
       "    </tr>\n",
       "    <tr>\n",
       "      <th>0</th>\n",
       "      <td>Arizona</td>\n",
       "      <td>Ari</td>\n",
       "      <td>DEF</td>\n",
       "      <td>NaN</td>\n",
       "      <td>NaN</td>\n",
       "      <td>NaN</td>\n",
       "      <td>19.0</td>\n",
       "      <td>6</td>\n",
       "      <td>1</td>\n",
       "      <td>2</td>\n",
       "      <td>NaN</td>\n",
       "      <td>NaN</td>\n",
       "      <td>NaN</td>\n",
       "      <td>NaN</td>\n",
       "    </tr>\n",
       "    <tr>\n",
       "      <th>0</th>\n",
       "      <td>Etienne Jr.</td>\n",
       "      <td>Jax</td>\n",
       "      <td>RB</td>\n",
       "      <td>5</td>\n",
       "      <td>NaN</td>\n",
       "      <td>NaN</td>\n",
       "      <td>18.9</td>\n",
       "      <td>NaN</td>\n",
       "      <td>NaN</td>\n",
       "      <td>NaN</td>\n",
       "      <td>NaN</td>\n",
       "      <td>NaN</td>\n",
       "      <td>77</td>\n",
       "      <td>1</td>\n",
       "    </tr>\n",
       "    <tr>\n",
       "      <th>0</th>\n",
       "      <td>Trevor Lawrence</td>\n",
       "      <td>Jax</td>\n",
       "      <td>QB</td>\n",
       "      <td>NaN</td>\n",
       "      <td>NaN</td>\n",
       "      <td>NaN</td>\n",
       "      <td>18.74</td>\n",
       "      <td>NaN</td>\n",
       "      <td>1</td>\n",
       "      <td>NaN</td>\n",
       "      <td>241</td>\n",
       "      <td>2</td>\n",
       "      <td>NaN</td>\n",
       "      <td>NaN</td>\n",
       "    </tr>\n",
       "  </tbody>\n",
       "</table>\n",
       "</div>"
      ],
      "text/plain": [
       "                  Name Team  Pos  Rec Rec Yds Rec TD Fan Pts Sack  Int  \\\n",
       "0          Tyreek Hill  Mia   WR   11     215      2    39.0  NaN  NaN   \n",
       "0               Dallas  Dal  DEF  NaN     NaN    NaN    37.0    7    2   \n",
       "0        Brandon Aiyuk   SF   WR    8     129      2    28.9  NaN  NaN   \n",
       "0       Tua Tagovailoa  Mia   QB  NaN     NaN    NaN   28.14  NaN    1   \n",
       "0          Aaron Jones   GB   RB    2     NaN    NaN    25.7  NaN  NaN   \n",
       "0            Mac Jones   NE   QB  NaN     NaN    NaN   25.14  NaN    1   \n",
       "0        Jakobi Meyers   LV   WR    9      81      2    24.6  NaN  NaN   \n",
       "0        Austin Ekeler  LAC   RB    4     NaN    NaN    24.4  NaN  NaN   \n",
       "0  Christian McCaffrey   SF   RB    3     NaN    NaN    24.4  NaN  NaN   \n",
       "0          Jordan Love   GB   QB  NaN     NaN    NaN    23.0  NaN  NaN   \n",
       "0       Tyler Allgeier  Atl   RB    3     NaN    NaN    22.9  NaN  NaN   \n",
       "0   Anthony Richardson  Ind   QB  NaN     NaN    NaN   21.92  NaN    1   \n",
       "0       Deshaun Watson  Cle   QB  NaN     NaN    NaN   21.66  NaN    1   \n",
       "0      Kendrick Bourne   NE   WR    6      64      2    21.4  NaN  NaN   \n",
       "0         Tony Pollard  Dal   RB    2     NaN    NaN    21.2  NaN  NaN   \n",
       "0         Stefon Diggs  Buf   WR   10     102      1    21.2  NaN  NaN   \n",
       "0       Justin Herbert  LAC   QB  NaN     NaN    NaN   20.86  NaN  NaN   \n",
       "0      Patrick Mahomes   KC   QB  NaN     NaN    NaN   20.54  NaN    1   \n",
       "0        Calvin Ridley  Jax   WR    8     101      1    20.1  NaN  NaN   \n",
       "0             New York  NYJ  DEF  NaN     NaN    NaN    20.0    5    3   \n",
       "0          Pittman Jr.  Ind   WR    8      97      1    19.7  NaN  NaN   \n",
       "0     Justin Jefferson  Min   WR    9     150    NaN    19.5  NaN  NaN   \n",
       "0              Arizona  Ari  DEF  NaN     NaN    NaN    19.0    6    1   \n",
       "0          Etienne Jr.  Jax   RB    5     NaN    NaN    18.9  NaN  NaN   \n",
       "0      Trevor Lawrence  Jax   QB  NaN     NaN    NaN   18.74  NaN    1   \n",
       "\n",
       "  Fum Rec Pass Yds Pass TD Rush Yds Rush TD  \n",
       "0     NaN      NaN     NaN      NaN     NaN  \n",
       "0       1      NaN     NaN      NaN     NaN  \n",
       "0     NaN      NaN     NaN      NaN     NaN  \n",
       "0     NaN      466       3      NaN     NaN  \n",
       "0     NaN      NaN     NaN       41       1  \n",
       "0     NaN      316       3      NaN     NaN  \n",
       "0     NaN      NaN     NaN      NaN     NaN  \n",
       "0     NaN      NaN     NaN      117       1  \n",
       "0     NaN      NaN     NaN      152       1  \n",
       "0     NaN      245       3       12     NaN  \n",
       "0     NaN      NaN     NaN       75       2  \n",
       "0     NaN      223       1      NaN     NaN  \n",
       "0     NaN      154       1      NaN     NaN  \n",
       "0     NaN      NaN     NaN      NaN     NaN  \n",
       "0     NaN      NaN     NaN       70       2  \n",
       "0     NaN      NaN     NaN      NaN     NaN  \n",
       "0     NaN      229       1       17     NaN  \n",
       "0     NaN      226       2      NaN     NaN  \n",
       "0     NaN      NaN     NaN      NaN     NaN  \n",
       "0       1      NaN     NaN      NaN     NaN  \n",
       "0     NaN      NaN     NaN      NaN     NaN  \n",
       "0     NaN      NaN     NaN      NaN     NaN  \n",
       "0       2      NaN     NaN      NaN     NaN  \n",
       "0     NaN      NaN     NaN       77       1  \n",
       "0     NaN      241       2      NaN     NaN  "
      ]
     },
     "execution_count": 220,
     "metadata": {},
     "output_type": "execute_result"
    }
   ],
   "source": [
    "df_fantasy = clean_nfl_df(table)\n",
    "df_fantasy"
   ]
  },
  {
   "cell_type": "markdown",
   "metadata": {},
   "source": [
    "### Part 3.3: More Cleaning (5 points)\n",
    "\n",
    "Go to the url from Part 2.1 in the browser and examine how the url changes when different positions or weeks are selected. Then, write the function `weekly_nfl_df()` which takes two arguments `pos` and `week`, and which uses your `clean_nfl_df()` function from Part 2.1 to produce a clean data frame for any position and any week (depending on when you complete this, there have only been 2-5 weeks so far; thus when you test this function only use 1 or 2 to be safe)."
   ]
  },
  {
   "cell_type": "code",
   "execution_count": 223,
   "metadata": {},
   "outputs": [],
   "source": [
    "def weekly_nfl_df(pos, week):\n",
    "    \"\"\" returns a clean dataframe for any position and any week\n",
    "    \n",
    "    Args:\n",
    "        pos (str): desired position (\"ALL\", \"QB\" ...)\n",
    "        week (str): desired week (1-5)\n",
    "        \n",
    "    Returns:\n",
    "        df_fantasy (pd.DataFrame): a clean dataframe for the table on the page with the given parameters\n",
    "    \n",
    "    \"\"\"\n",
    "    url = f\"https://football.fantasysports.yahoo.com/f1/whoshot?pos={pos}&week={week}\"\n",
    "    table = pd.read_html(url)\n",
    "    \n",
    "    df_fantasy = clean_nfl_df(table)\n",
    "    return df_fantasy"
   ]
  },
  {
   "cell_type": "code",
   "execution_count": 224,
   "metadata": {},
   "outputs": [
    {
     "data": {
      "text/html": [
       "<div>\n",
       "<style scoped>\n",
       "    .dataframe tbody tr th:only-of-type {\n",
       "        vertical-align: middle;\n",
       "    }\n",
       "\n",
       "    .dataframe tbody tr th {\n",
       "        vertical-align: top;\n",
       "    }\n",
       "\n",
       "    .dataframe thead th {\n",
       "        text-align: right;\n",
       "    }\n",
       "</style>\n",
       "<table border=\"1\" class=\"dataframe\">\n",
       "  <thead>\n",
       "    <tr style=\"text-align: right;\">\n",
       "      <th></th>\n",
       "      <th>Name</th>\n",
       "      <th>Team</th>\n",
       "      <th>Pos</th>\n",
       "      <th>Pass Yds</th>\n",
       "      <th>Pass TD</th>\n",
       "      <th>Int</th>\n",
       "      <th>Fan Pts</th>\n",
       "      <th>Rush Yds</th>\n",
       "      <th>Rush TD</th>\n",
       "    </tr>\n",
       "  </thead>\n",
       "  <tbody>\n",
       "    <tr>\n",
       "      <th>0</th>\n",
       "      <td>Daniel Jones</td>\n",
       "      <td>NYG</td>\n",
       "      <td>QB</td>\n",
       "      <td>321</td>\n",
       "      <td>2</td>\n",
       "      <td>1</td>\n",
       "      <td>31.74</td>\n",
       "      <td>NaN</td>\n",
       "      <td>NaN</td>\n",
       "    </tr>\n",
       "    <tr>\n",
       "      <th>0</th>\n",
       "      <td>Kirk Cousins</td>\n",
       "      <td>Min</td>\n",
       "      <td>QB</td>\n",
       "      <td>364</td>\n",
       "      <td>4</td>\n",
       "      <td>NaN</td>\n",
       "      <td>28.56</td>\n",
       "      <td>NaN</td>\n",
       "      <td>NaN</td>\n",
       "    </tr>\n",
       "    <tr>\n",
       "      <th>0</th>\n",
       "      <td>Russell Wilson</td>\n",
       "      <td>Den</td>\n",
       "      <td>QB</td>\n",
       "      <td>308</td>\n",
       "      <td>3</td>\n",
       "      <td>1</td>\n",
       "      <td>26.92</td>\n",
       "      <td>NaN</td>\n",
       "      <td>NaN</td>\n",
       "    </tr>\n",
       "    <tr>\n",
       "      <th>0</th>\n",
       "      <td>Jalen Hurts</td>\n",
       "      <td>Phi</td>\n",
       "      <td>QB</td>\n",
       "      <td>193</td>\n",
       "      <td>1</td>\n",
       "      <td>1</td>\n",
       "      <td>26.22</td>\n",
       "      <td>NaN</td>\n",
       "      <td>NaN</td>\n",
       "    </tr>\n",
       "    <tr>\n",
       "      <th>0</th>\n",
       "      <td>Joshua Dobbs</td>\n",
       "      <td>Ari</td>\n",
       "      <td>QB</td>\n",
       "      <td>228</td>\n",
       "      <td>1</td>\n",
       "      <td>NaN</td>\n",
       "      <td>25.22</td>\n",
       "      <td>41</td>\n",
       "      <td>NaN</td>\n",
       "    </tr>\n",
       "  </tbody>\n",
       "</table>\n",
       "</div>"
      ],
      "text/plain": [
       "             Name Team Pos Pass Yds Pass TD  Int Fan Pts Rush Yds Rush TD\n",
       "0    Daniel Jones  NYG  QB      321       2    1   31.74      NaN     NaN\n",
       "0    Kirk Cousins  Min  QB      364       4  NaN   28.56      NaN     NaN\n",
       "0  Russell Wilson  Den  QB      308       3    1   26.92      NaN     NaN\n",
       "0     Jalen Hurts  Phi  QB      193       1    1   26.22      NaN     NaN\n",
       "0    Joshua Dobbs  Ari  QB      228       1  NaN   25.22       41     NaN"
      ]
     },
     "execution_count": 224,
     "metadata": {},
     "output_type": "execute_result"
    }
   ],
   "source": [
    "df_fantasy = weekly_nfl_df(\"QB\", \"2\")\n",
    "df_fantasy.head()"
   ]
  },
  {
   "cell_type": "markdown",
   "metadata": {},
   "source": [
    "### Part 3.4: Using the function (5 points)\n",
    "\n",
    "Use your `weekly_nfl_df()` function from Part 2.3 to create a single data frame that includes the top fantasy Quarterbacks (`pos = 'QB'`) for the first 3 weeks of this season. **Note**: there may be multiple ways to do this, and you **must** wait until the morning of September 26 to be able to do all three weeks."
   ]
  },
  {
   "cell_type": "code",
   "execution_count": 226,
   "metadata": {},
   "outputs": [
    {
     "data": {
      "text/html": [
       "<div>\n",
       "<style scoped>\n",
       "    .dataframe tbody tr th:only-of-type {\n",
       "        vertical-align: middle;\n",
       "    }\n",
       "\n",
       "    .dataframe tbody tr th {\n",
       "        vertical-align: top;\n",
       "    }\n",
       "\n",
       "    .dataframe thead th {\n",
       "        text-align: right;\n",
       "    }\n",
       "</style>\n",
       "<table border=\"1\" class=\"dataframe\">\n",
       "  <thead>\n",
       "    <tr style=\"text-align: right;\">\n",
       "      <th></th>\n",
       "      <th>Name</th>\n",
       "      <th>Team</th>\n",
       "      <th>Pos</th>\n",
       "      <th>Pass Yds</th>\n",
       "      <th>Pass TD</th>\n",
       "      <th>Int</th>\n",
       "      <th>Fan Pts</th>\n",
       "      <th>Rush Yds</th>\n",
       "      <th>Rec</th>\n",
       "      <th>Rush TD</th>\n",
       "    </tr>\n",
       "  </thead>\n",
       "  <tbody>\n",
       "    <tr>\n",
       "      <th>0</th>\n",
       "      <td>Tua Tagovailoa</td>\n",
       "      <td>Mia</td>\n",
       "      <td>QB</td>\n",
       "      <td>466</td>\n",
       "      <td>3</td>\n",
       "      <td>1</td>\n",
       "      <td>28.14</td>\n",
       "      <td>NaN</td>\n",
       "      <td>NaN</td>\n",
       "      <td>NaN</td>\n",
       "    </tr>\n",
       "    <tr>\n",
       "      <th>0</th>\n",
       "      <td>Mac Jones</td>\n",
       "      <td>NE</td>\n",
       "      <td>QB</td>\n",
       "      <td>316</td>\n",
       "      <td>3</td>\n",
       "      <td>1</td>\n",
       "      <td>25.14</td>\n",
       "      <td>NaN</td>\n",
       "      <td>NaN</td>\n",
       "      <td>NaN</td>\n",
       "    </tr>\n",
       "    <tr>\n",
       "      <th>0</th>\n",
       "      <td>Jordan Love</td>\n",
       "      <td>GB</td>\n",
       "      <td>QB</td>\n",
       "      <td>245</td>\n",
       "      <td>3</td>\n",
       "      <td>NaN</td>\n",
       "      <td>23.0</td>\n",
       "      <td>12</td>\n",
       "      <td>NaN</td>\n",
       "      <td>NaN</td>\n",
       "    </tr>\n",
       "    <tr>\n",
       "      <th>0</th>\n",
       "      <td>Anthony Richardson</td>\n",
       "      <td>Ind</td>\n",
       "      <td>QB</td>\n",
       "      <td>223</td>\n",
       "      <td>1</td>\n",
       "      <td>1</td>\n",
       "      <td>21.92</td>\n",
       "      <td>NaN</td>\n",
       "      <td>NaN</td>\n",
       "      <td>NaN</td>\n",
       "    </tr>\n",
       "    <tr>\n",
       "      <th>0</th>\n",
       "      <td>Deshaun Watson</td>\n",
       "      <td>Cle</td>\n",
       "      <td>QB</td>\n",
       "      <td>154</td>\n",
       "      <td>1</td>\n",
       "      <td>1</td>\n",
       "      <td>21.66</td>\n",
       "      <td>NaN</td>\n",
       "      <td>NaN</td>\n",
       "      <td>NaN</td>\n",
       "    </tr>\n",
       "    <tr>\n",
       "      <th>...</th>\n",
       "      <td>...</td>\n",
       "      <td>...</td>\n",
       "      <td>...</td>\n",
       "      <td>...</td>\n",
       "      <td>...</td>\n",
       "      <td>...</td>\n",
       "      <td>...</td>\n",
       "      <td>...</td>\n",
       "      <td>...</td>\n",
       "      <td>...</td>\n",
       "    </tr>\n",
       "    <tr>\n",
       "      <th>0</th>\n",
       "      <td>Matthew Stafford</td>\n",
       "      <td>LAR</td>\n",
       "      <td>QB</td>\n",
       "      <td>269</td>\n",
       "      <td>1</td>\n",
       "      <td>2</td>\n",
       "      <td>13.46</td>\n",
       "      <td>NaN</td>\n",
       "      <td>NaN</td>\n",
       "      <td>NaN</td>\n",
       "    </tr>\n",
       "    <tr>\n",
       "      <th>0</th>\n",
       "      <td>Mac Jones</td>\n",
       "      <td>NE</td>\n",
       "      <td>QB</td>\n",
       "      <td>201</td>\n",
       "      <td>1</td>\n",
       "      <td>NaN</td>\n",
       "      <td>13.34</td>\n",
       "      <td>13</td>\n",
       "      <td>NaN</td>\n",
       "      <td>NaN</td>\n",
       "    </tr>\n",
       "    <tr>\n",
       "      <th>0</th>\n",
       "      <td>Gardner Minshew</td>\n",
       "      <td>Ind</td>\n",
       "      <td>QB</td>\n",
       "      <td>227</td>\n",
       "      <td>1</td>\n",
       "      <td>NaN</td>\n",
       "      <td>13.08</td>\n",
       "      <td>NaN</td>\n",
       "      <td>NaN</td>\n",
       "      <td>NaN</td>\n",
       "    </tr>\n",
       "    <tr>\n",
       "      <th>0</th>\n",
       "      <td>Justin Fields</td>\n",
       "      <td>Chi</td>\n",
       "      <td>QB</td>\n",
       "      <td>99</td>\n",
       "      <td>1</td>\n",
       "      <td>1</td>\n",
       "      <td>11.66</td>\n",
       "      <td>NaN</td>\n",
       "      <td>NaN</td>\n",
       "      <td>NaN</td>\n",
       "    </tr>\n",
       "    <tr>\n",
       "      <th>0</th>\n",
       "      <td>Baker Mayfield</td>\n",
       "      <td>TB</td>\n",
       "      <td>QB</td>\n",
       "      <td>146</td>\n",
       "      <td>1</td>\n",
       "      <td>1</td>\n",
       "      <td>11.04</td>\n",
       "      <td>NaN</td>\n",
       "      <td>NaN</td>\n",
       "      <td>NaN</td>\n",
       "    </tr>\n",
       "  </tbody>\n",
       "</table>\n",
       "<p>75 rows × 10 columns</p>\n",
       "</div>"
      ],
      "text/plain": [
       "                  Name Team Pos Pass Yds Pass TD  Int Fan Pts Rush Yds  Rec  \\\n",
       "0       Tua Tagovailoa  Mia  QB      466       3    1   28.14      NaN  NaN   \n",
       "0            Mac Jones   NE  QB      316       3    1   25.14      NaN  NaN   \n",
       "0          Jordan Love   GB  QB      245       3  NaN    23.0       12  NaN   \n",
       "0   Anthony Richardson  Ind  QB      223       1    1   21.92      NaN  NaN   \n",
       "0       Deshaun Watson  Cle  QB      154       1    1   21.66      NaN  NaN   \n",
       "..                 ...  ...  ..      ...     ...  ...     ...      ...  ...   \n",
       "0     Matthew Stafford  LAR  QB      269       1    2   13.46      NaN  NaN   \n",
       "0            Mac Jones   NE  QB      201       1  NaN   13.34       13  NaN   \n",
       "0      Gardner Minshew  Ind  QB      227       1  NaN   13.08      NaN  NaN   \n",
       "0        Justin Fields  Chi  QB       99       1    1   11.66      NaN  NaN   \n",
       "0       Baker Mayfield   TB  QB      146       1    1   11.04      NaN  NaN   \n",
       "\n",
       "   Rush TD  \n",
       "0      NaN  \n",
       "0      NaN  \n",
       "0      NaN  \n",
       "0      NaN  \n",
       "0      NaN  \n",
       "..     ...  \n",
       "0      NaN  \n",
       "0      NaN  \n",
       "0      NaN  \n",
       "0      NaN  \n",
       "0      NaN  \n",
       "\n",
       "[75 rows x 10 columns]"
      ]
     },
     "execution_count": 226,
     "metadata": {},
     "output_type": "execute_result"
    }
   ],
   "source": [
    "week1 = weekly_nfl_df(\"QB\", \"1\")\n",
    "week2 = weekly_nfl_df(\"QB\", \"2\")\n",
    "week3 = weekly_nfl_df(\"QB\", \"3\")\n",
    "\n",
    "df_qb = pd.concat([week1, week2, week3])\n",
    "df_qb"
   ]
  },
  {
   "cell_type": "markdown",
   "metadata": {},
   "source": [
    "### Part 3.5: Plotting and Interpretation (5 points)\n",
    "\n",
    "Make a graph which plots `Pass Yds` on the x-axis against `Fan Pts` on the y-axis, and colors the points based on `Pass TD`. Use `plotly` and include the `Name` and `Team` as `hover_data`. Make sure the graph is well labeled, titled, and includes a legend. Then, in a Markdown cell, discuss in **at least 3** sentences your interpretation of the graph.\n",
    "\n",
    "- **Note**: if you are not an american football fan, in brief the Quarterback's role is to throw the ball to other players in the hopes of scoring a touchdown (if you want a much more technical description, you may also read a bit [here](https://en.wikipedia.org/wiki/Quarterback))."
   ]
  },
  {
   "cell_type": "code",
   "execution_count": 227,
   "metadata": {},
   "outputs": [],
   "source": [
    "import plotly.express as px"
   ]
  },
  {
   "cell_type": "code",
   "execution_count": 229,
   "metadata": {},
   "outputs": [
    {
     "data": {
      "application/vnd.plotly.v1+json": {
       "config": {
        "plotlyServerURL": "https://plot.ly"
       },
       "data": [
        {
         "customdata": [
          [
           "Tua Tagovailoa",
           "Mia"
          ],
          [
           "Mac Jones",
           "NE"
          ],
          [
           "Jordan Love",
           "GB"
          ],
          [
           "Russell Wilson",
           "Den"
          ],
          [
           "Jared Goff",
           "Det"
          ],
          [
           "Josh Allen",
           "Buf"
          ],
          [
           "Jordan Love",
           "GB"
          ],
          [
           "Justin Herbert",
           "LAC"
          ],
          [
           "Kirk Cousins",
           "Min"
          ],
          [
           "Patrick Mahomes",
           "KC"
          ]
         ],
         "hovertemplate": "Pass TD=3<br>Pass Yds=%{x}<br>Fan Pts=%{y}<br>Name=%{customdata[0]}<br>Team=%{customdata[1]}<extra></extra>",
         "legendgroup": "3",
         "marker": {
          "color": "#636efa",
          "symbol": "circle"
         },
         "mode": "markers",
         "name": "3",
         "orientation": "v",
         "showlegend": true,
         "type": "scatter",
         "x": [
          466,
          316,
          245,
          308,
          323,
          274,
          151,
          405,
          367,
          272
         ],
         "xaxis": "x",
         "y": [
          28.14,
          25.14,
          23,
          26.92,
          23.92,
          23.66,
          20.34,
          29.3,
          26.68,
          25.68
         ],
         "yaxis": "y"
        },
        {
         "customdata": [
          [
           "Anthony Richardson",
           "Ind"
          ],
          [
           "Deshaun Watson",
           "Cle"
          ],
          [
           "Justin Herbert",
           "LAC"
          ],
          [
           "Sam Howell",
           "Was"
          ],
          [
           "Derek Carr",
           "NO"
          ],
          [
           "Justin Fields",
           "Chi"
          ],
          [
           "Jared Goff",
           "Det"
          ],
          [
           "Jalen Hurts",
           "Phi"
          ],
          [
           "Josh Allen",
           "Buf"
          ],
          [
           "Kenny Pickett",
           "Pit"
          ],
          [
           "Bryce Young",
           "Car"
          ],
          [
           "Zach Wilson",
           "NYJ"
          ],
          [
           "Geno Smith",
           "Sea"
          ],
          [
           "Jalen Hurts",
           "Phi"
          ],
          [
           "Joshua Dobbs",
           "Ari"
          ],
          [
           "Desmond Ridder",
           "Atl"
          ],
          [
           "Ryan Tannehill",
           "Ten"
          ],
          [
           "Baker Mayfield",
           "TB"
          ],
          [
           "Justin Fields",
           "Chi"
          ],
          [
           "Matthew Stafford",
           "LAR"
          ],
          [
           "Mac Jones",
           "NE"
          ],
          [
           "Bryce Young",
           "Car"
          ],
          [
           "Jordan Love",
           "GB"
          ],
          [
           "Josh Allen",
           "Buf"
          ],
          [
           "Jalen Hurts",
           "Phi"
          ],
          [
           "Jared Goff",
           "Det"
          ],
          [
           "Joshua Dobbs",
           "Ari"
          ],
          [
           "Geno Smith",
           "Sea"
          ],
          [
           "Trevor Lawrence",
           "Jax"
          ],
          [
           "Dak Prescott",
           "Dal"
          ],
          [
           "Russell Wilson",
           "Den"
          ],
          [
           "Matthew Stafford",
           "LAR"
          ],
          [
           "Mac Jones",
           "NE"
          ],
          [
           "Gardner Minshew",
           "Ind"
          ],
          [
           "Justin Fields",
           "Chi"
          ],
          [
           "Baker Mayfield",
           "TB"
          ]
         ],
         "hovertemplate": "Pass TD=1<br>Pass Yds=%{x}<br>Fan Pts=%{y}<br>Name=%{customdata[0]}<br>Team=%{customdata[1]}<extra></extra>",
         "legendgroup": "1",
         "marker": {
          "color": "#EF553B",
          "symbol": "circle"
         },
         "mode": "markers",
         "name": "1",
         "orientation": "v",
         "showlegend": true,
         "type": "scatter",
         "x": [
          223,
          154,
          229,
          202,
          305,
          216,
          253,
          170,
          236,
          232,
          146,
          140,
          112,
          193,
          228,
          237,
          246,
          317,
          211,
          307,
          231,
          153,
          259,
          218,
          277,
          243,
          189,
          296,
          279,
          249,
          306,
          269,
          201,
          227,
          99,
          146
         ],
         "xaxis": "x",
         "y": [
          21.92,
          21.66,
          20.86,
          16.18,
          15.6,
          15.54,
          14.02,
          12.5,
          12.04,
          11.68,
          9.54,
          9.2,
          9.08,
          26.22,
          25.22,
          22.38,
          21.04,
          18.38,
          16.74,
          15.98,
          14.74,
          13.52,
          25.26,
          22.32,
          21.88,
          19.02,
          17.06,
          16.44,
          15.36,
          15.36,
          15.24,
          13.46,
          13.34,
          13.08,
          11.66,
          11.04
         ],
         "yaxis": "y"
        },
        {
         "customdata": [
          [
           "Patrick Mahomes",
           "KC"
          ],
          [
           "Trevor Lawrence",
           "Jax"
          ],
          [
           "Kirk Cousins",
           "Min"
          ],
          [
           "Brock Purdy",
           "SF"
          ],
          [
           "Jimmy Garoppolo",
           "LV"
          ],
          [
           "Baker Mayfield",
           "TB"
          ],
          [
           "Russell Wilson",
           "Den"
          ],
          [
           "Daniel Jones",
           "NYG"
          ],
          [
           "Geno Smith",
           "Sea"
          ],
          [
           "Lamar Jackson",
           "Bal"
          ],
          [
           "Patrick Mahomes",
           "KC"
          ],
          [
           "Justin Herbert",
           "LAC"
          ],
          [
           "C.J. Stroud",
           "Hou"
          ],
          [
           "Sam Howell",
           "Was"
          ],
          [
           "Dak Prescott",
           "Dal"
          ],
          [
           "Joe Burrow",
           "Cin"
          ],
          [
           "Andy Dalton",
           "Car"
          ],
          [
           "Deshaun Watson",
           "Cle"
          ],
          [
           "Jimmy Garoppolo",
           "LV"
          ],
          [
           "C.J. Stroud",
           "Hou"
          ],
          [
           "Brock Purdy",
           "SF"
          ],
          [
           "Kenny Pickett",
           "Pit"
          ]
         ],
         "hovertemplate": "Pass TD=2<br>Pass Yds=%{x}<br>Fan Pts=%{y}<br>Name=%{customdata[0]}<br>Team=%{customdata[1]}<extra></extra>",
         "legendgroup": "2",
         "marker": {
          "color": "#00cc96",
          "symbol": "circle"
         },
         "mode": "markers",
         "name": "2",
         "orientation": "v",
         "showlegend": true,
         "type": "scatter",
         "x": [
          226,
          241,
          344,
          220,
          200,
          173,
          177,
          321,
          328,
          237,
          305,
          305,
          384,
          299,
          255,
          222,
          361,
          289,
          324,
          280,
          310,
          235
         ],
         "xaxis": "x",
         "y": [
          20.54,
          18.74,
          17.46,
          16.8,
          16.1,
          16.02,
          15.18,
          31.74,
          23.12,
          22.88,
          22.2,
          22.2,
          21.46,
          21.26,
          19.6,
          16.38,
          23.54,
          21.16,
          20.66,
          20.6,
          20.3,
          18.5
         ],
         "yaxis": "y"
        },
        {
         "customdata": [
          [
           "Kirk Cousins",
           "Min"
          ],
          [
           "Tua Tagovailoa",
           "Mia"
          ]
         ],
         "hovertemplate": "Pass TD=4<br>Pass Yds=%{x}<br>Fan Pts=%{y}<br>Name=%{customdata[0]}<br>Team=%{customdata[1]}<extra></extra>",
         "legendgroup": "4",
         "marker": {
          "color": "#FFA15A",
          "symbol": "circle"
         },
         "mode": "markers",
         "name": "4",
         "orientation": "v",
         "showlegend": true,
         "type": "scatter",
         "x": [
          364,
          309
         ],
         "xaxis": "x",
         "y": [
          28.56,
          28.36
         ],
         "yaxis": "y"
        }
       ],
       "layout": {
        "legend": {
         "title": {
          "text": "Pass TD"
         },
         "tracegroupgap": 0
        },
        "template": {
         "data": {
          "bar": [
           {
            "error_x": {
             "color": "#2a3f5f"
            },
            "error_y": {
             "color": "#2a3f5f"
            },
            "marker": {
             "line": {
              "color": "#E5ECF6",
              "width": 0.5
             },
             "pattern": {
              "fillmode": "overlay",
              "size": 10,
              "solidity": 0.2
             }
            },
            "type": "bar"
           }
          ],
          "barpolar": [
           {
            "marker": {
             "line": {
              "color": "#E5ECF6",
              "width": 0.5
             },
             "pattern": {
              "fillmode": "overlay",
              "size": 10,
              "solidity": 0.2
             }
            },
            "type": "barpolar"
           }
          ],
          "carpet": [
           {
            "aaxis": {
             "endlinecolor": "#2a3f5f",
             "gridcolor": "white",
             "linecolor": "white",
             "minorgridcolor": "white",
             "startlinecolor": "#2a3f5f"
            },
            "baxis": {
             "endlinecolor": "#2a3f5f",
             "gridcolor": "white",
             "linecolor": "white",
             "minorgridcolor": "white",
             "startlinecolor": "#2a3f5f"
            },
            "type": "carpet"
           }
          ],
          "choropleth": [
           {
            "colorbar": {
             "outlinewidth": 0,
             "ticks": ""
            },
            "type": "choropleth"
           }
          ],
          "contour": [
           {
            "colorbar": {
             "outlinewidth": 0,
             "ticks": ""
            },
            "colorscale": [
             [
              0,
              "#0d0887"
             ],
             [
              0.1111111111111111,
              "#46039f"
             ],
             [
              0.2222222222222222,
              "#7201a8"
             ],
             [
              0.3333333333333333,
              "#9c179e"
             ],
             [
              0.4444444444444444,
              "#bd3786"
             ],
             [
              0.5555555555555556,
              "#d8576b"
             ],
             [
              0.6666666666666666,
              "#ed7953"
             ],
             [
              0.7777777777777778,
              "#fb9f3a"
             ],
             [
              0.8888888888888888,
              "#fdca26"
             ],
             [
              1,
              "#f0f921"
             ]
            ],
            "type": "contour"
           }
          ],
          "contourcarpet": [
           {
            "colorbar": {
             "outlinewidth": 0,
             "ticks": ""
            },
            "type": "contourcarpet"
           }
          ],
          "heatmap": [
           {
            "colorbar": {
             "outlinewidth": 0,
             "ticks": ""
            },
            "colorscale": [
             [
              0,
              "#0d0887"
             ],
             [
              0.1111111111111111,
              "#46039f"
             ],
             [
              0.2222222222222222,
              "#7201a8"
             ],
             [
              0.3333333333333333,
              "#9c179e"
             ],
             [
              0.4444444444444444,
              "#bd3786"
             ],
             [
              0.5555555555555556,
              "#d8576b"
             ],
             [
              0.6666666666666666,
              "#ed7953"
             ],
             [
              0.7777777777777778,
              "#fb9f3a"
             ],
             [
              0.8888888888888888,
              "#fdca26"
             ],
             [
              1,
              "#f0f921"
             ]
            ],
            "type": "heatmap"
           }
          ],
          "heatmapgl": [
           {
            "colorbar": {
             "outlinewidth": 0,
             "ticks": ""
            },
            "colorscale": [
             [
              0,
              "#0d0887"
             ],
             [
              0.1111111111111111,
              "#46039f"
             ],
             [
              0.2222222222222222,
              "#7201a8"
             ],
             [
              0.3333333333333333,
              "#9c179e"
             ],
             [
              0.4444444444444444,
              "#bd3786"
             ],
             [
              0.5555555555555556,
              "#d8576b"
             ],
             [
              0.6666666666666666,
              "#ed7953"
             ],
             [
              0.7777777777777778,
              "#fb9f3a"
             ],
             [
              0.8888888888888888,
              "#fdca26"
             ],
             [
              1,
              "#f0f921"
             ]
            ],
            "type": "heatmapgl"
           }
          ],
          "histogram": [
           {
            "marker": {
             "pattern": {
              "fillmode": "overlay",
              "size": 10,
              "solidity": 0.2
             }
            },
            "type": "histogram"
           }
          ],
          "histogram2d": [
           {
            "colorbar": {
             "outlinewidth": 0,
             "ticks": ""
            },
            "colorscale": [
             [
              0,
              "#0d0887"
             ],
             [
              0.1111111111111111,
              "#46039f"
             ],
             [
              0.2222222222222222,
              "#7201a8"
             ],
             [
              0.3333333333333333,
              "#9c179e"
             ],
             [
              0.4444444444444444,
              "#bd3786"
             ],
             [
              0.5555555555555556,
              "#d8576b"
             ],
             [
              0.6666666666666666,
              "#ed7953"
             ],
             [
              0.7777777777777778,
              "#fb9f3a"
             ],
             [
              0.8888888888888888,
              "#fdca26"
             ],
             [
              1,
              "#f0f921"
             ]
            ],
            "type": "histogram2d"
           }
          ],
          "histogram2dcontour": [
           {
            "colorbar": {
             "outlinewidth": 0,
             "ticks": ""
            },
            "colorscale": [
             [
              0,
              "#0d0887"
             ],
             [
              0.1111111111111111,
              "#46039f"
             ],
             [
              0.2222222222222222,
              "#7201a8"
             ],
             [
              0.3333333333333333,
              "#9c179e"
             ],
             [
              0.4444444444444444,
              "#bd3786"
             ],
             [
              0.5555555555555556,
              "#d8576b"
             ],
             [
              0.6666666666666666,
              "#ed7953"
             ],
             [
              0.7777777777777778,
              "#fb9f3a"
             ],
             [
              0.8888888888888888,
              "#fdca26"
             ],
             [
              1,
              "#f0f921"
             ]
            ],
            "type": "histogram2dcontour"
           }
          ],
          "mesh3d": [
           {
            "colorbar": {
             "outlinewidth": 0,
             "ticks": ""
            },
            "type": "mesh3d"
           }
          ],
          "parcoords": [
           {
            "line": {
             "colorbar": {
              "outlinewidth": 0,
              "ticks": ""
             }
            },
            "type": "parcoords"
           }
          ],
          "pie": [
           {
            "automargin": true,
            "type": "pie"
           }
          ],
          "scatter": [
           {
            "fillpattern": {
             "fillmode": "overlay",
             "size": 10,
             "solidity": 0.2
            },
            "type": "scatter"
           }
          ],
          "scatter3d": [
           {
            "line": {
             "colorbar": {
              "outlinewidth": 0,
              "ticks": ""
             }
            },
            "marker": {
             "colorbar": {
              "outlinewidth": 0,
              "ticks": ""
             }
            },
            "type": "scatter3d"
           }
          ],
          "scattercarpet": [
           {
            "marker": {
             "colorbar": {
              "outlinewidth": 0,
              "ticks": ""
             }
            },
            "type": "scattercarpet"
           }
          ],
          "scattergeo": [
           {
            "marker": {
             "colorbar": {
              "outlinewidth": 0,
              "ticks": ""
             }
            },
            "type": "scattergeo"
           }
          ],
          "scattergl": [
           {
            "marker": {
             "colorbar": {
              "outlinewidth": 0,
              "ticks": ""
             }
            },
            "type": "scattergl"
           }
          ],
          "scattermapbox": [
           {
            "marker": {
             "colorbar": {
              "outlinewidth": 0,
              "ticks": ""
             }
            },
            "type": "scattermapbox"
           }
          ],
          "scatterpolar": [
           {
            "marker": {
             "colorbar": {
              "outlinewidth": 0,
              "ticks": ""
             }
            },
            "type": "scatterpolar"
           }
          ],
          "scatterpolargl": [
           {
            "marker": {
             "colorbar": {
              "outlinewidth": 0,
              "ticks": ""
             }
            },
            "type": "scatterpolargl"
           }
          ],
          "scatterternary": [
           {
            "marker": {
             "colorbar": {
              "outlinewidth": 0,
              "ticks": ""
             }
            },
            "type": "scatterternary"
           }
          ],
          "surface": [
           {
            "colorbar": {
             "outlinewidth": 0,
             "ticks": ""
            },
            "colorscale": [
             [
              0,
              "#0d0887"
             ],
             [
              0.1111111111111111,
              "#46039f"
             ],
             [
              0.2222222222222222,
              "#7201a8"
             ],
             [
              0.3333333333333333,
              "#9c179e"
             ],
             [
              0.4444444444444444,
              "#bd3786"
             ],
             [
              0.5555555555555556,
              "#d8576b"
             ],
             [
              0.6666666666666666,
              "#ed7953"
             ],
             [
              0.7777777777777778,
              "#fb9f3a"
             ],
             [
              0.8888888888888888,
              "#fdca26"
             ],
             [
              1,
              "#f0f921"
             ]
            ],
            "type": "surface"
           }
          ],
          "table": [
           {
            "cells": {
             "fill": {
              "color": "#EBF0F8"
             },
             "line": {
              "color": "white"
             }
            },
            "header": {
             "fill": {
              "color": "#C8D4E3"
             },
             "line": {
              "color": "white"
             }
            },
            "type": "table"
           }
          ]
         },
         "layout": {
          "annotationdefaults": {
           "arrowcolor": "#2a3f5f",
           "arrowhead": 0,
           "arrowwidth": 1
          },
          "autotypenumbers": "strict",
          "coloraxis": {
           "colorbar": {
            "outlinewidth": 0,
            "ticks": ""
           }
          },
          "colorscale": {
           "diverging": [
            [
             0,
             "#8e0152"
            ],
            [
             0.1,
             "#c51b7d"
            ],
            [
             0.2,
             "#de77ae"
            ],
            [
             0.3,
             "#f1b6da"
            ],
            [
             0.4,
             "#fde0ef"
            ],
            [
             0.5,
             "#f7f7f7"
            ],
            [
             0.6,
             "#e6f5d0"
            ],
            [
             0.7,
             "#b8e186"
            ],
            [
             0.8,
             "#7fbc41"
            ],
            [
             0.9,
             "#4d9221"
            ],
            [
             1,
             "#276419"
            ]
           ],
           "sequential": [
            [
             0,
             "#0d0887"
            ],
            [
             0.1111111111111111,
             "#46039f"
            ],
            [
             0.2222222222222222,
             "#7201a8"
            ],
            [
             0.3333333333333333,
             "#9c179e"
            ],
            [
             0.4444444444444444,
             "#bd3786"
            ],
            [
             0.5555555555555556,
             "#d8576b"
            ],
            [
             0.6666666666666666,
             "#ed7953"
            ],
            [
             0.7777777777777778,
             "#fb9f3a"
            ],
            [
             0.8888888888888888,
             "#fdca26"
            ],
            [
             1,
             "#f0f921"
            ]
           ],
           "sequentialminus": [
            [
             0,
             "#0d0887"
            ],
            [
             0.1111111111111111,
             "#46039f"
            ],
            [
             0.2222222222222222,
             "#7201a8"
            ],
            [
             0.3333333333333333,
             "#9c179e"
            ],
            [
             0.4444444444444444,
             "#bd3786"
            ],
            [
             0.5555555555555556,
             "#d8576b"
            ],
            [
             0.6666666666666666,
             "#ed7953"
            ],
            [
             0.7777777777777778,
             "#fb9f3a"
            ],
            [
             0.8888888888888888,
             "#fdca26"
            ],
            [
             1,
             "#f0f921"
            ]
           ]
          },
          "colorway": [
           "#636efa",
           "#EF553B",
           "#00cc96",
           "#ab63fa",
           "#FFA15A",
           "#19d3f3",
           "#FF6692",
           "#B6E880",
           "#FF97FF",
           "#FECB52"
          ],
          "font": {
           "color": "#2a3f5f"
          },
          "geo": {
           "bgcolor": "white",
           "lakecolor": "white",
           "landcolor": "#E5ECF6",
           "showlakes": true,
           "showland": true,
           "subunitcolor": "white"
          },
          "hoverlabel": {
           "align": "left"
          },
          "hovermode": "closest",
          "mapbox": {
           "style": "light"
          },
          "paper_bgcolor": "white",
          "plot_bgcolor": "#E5ECF6",
          "polar": {
           "angularaxis": {
            "gridcolor": "white",
            "linecolor": "white",
            "ticks": ""
           },
           "bgcolor": "#E5ECF6",
           "radialaxis": {
            "gridcolor": "white",
            "linecolor": "white",
            "ticks": ""
           }
          },
          "scene": {
           "xaxis": {
            "backgroundcolor": "#E5ECF6",
            "gridcolor": "white",
            "gridwidth": 2,
            "linecolor": "white",
            "showbackground": true,
            "ticks": "",
            "zerolinecolor": "white"
           },
           "yaxis": {
            "backgroundcolor": "#E5ECF6",
            "gridcolor": "white",
            "gridwidth": 2,
            "linecolor": "white",
            "showbackground": true,
            "ticks": "",
            "zerolinecolor": "white"
           },
           "zaxis": {
            "backgroundcolor": "#E5ECF6",
            "gridcolor": "white",
            "gridwidth": 2,
            "linecolor": "white",
            "showbackground": true,
            "ticks": "",
            "zerolinecolor": "white"
           }
          },
          "shapedefaults": {
           "line": {
            "color": "#2a3f5f"
           }
          },
          "ternary": {
           "aaxis": {
            "gridcolor": "white",
            "linecolor": "white",
            "ticks": ""
           },
           "baxis": {
            "gridcolor": "white",
            "linecolor": "white",
            "ticks": ""
           },
           "bgcolor": "#E5ECF6",
           "caxis": {
            "gridcolor": "white",
            "linecolor": "white",
            "ticks": ""
           }
          },
          "title": {
           "x": 0.05
          },
          "xaxis": {
           "automargin": true,
           "gridcolor": "white",
           "linecolor": "white",
           "ticks": "",
           "title": {
            "standoff": 15
           },
           "zerolinecolor": "white",
           "zerolinewidth": 2
          },
          "yaxis": {
           "automargin": true,
           "gridcolor": "white",
           "linecolor": "white",
           "ticks": "",
           "title": {
            "standoff": 15
           },
           "zerolinecolor": "white",
           "zerolinewidth": 2
          }
         }
        },
        "title": {
         "text": "Quarterback Stats"
        },
        "xaxis": {
         "anchor": "y",
         "domain": [
          0,
          1
         ],
         "title": {
          "text": "Pass Yds"
         }
        },
        "yaxis": {
         "anchor": "x",
         "domain": [
          0,
          1
         ],
         "title": {
          "text": "Fan Pts"
         }
        }
       }
      },
      "text/html": [
       "<div>                            <div id=\"d2c19911-d304-4c3d-8a06-af55efd92abe\" class=\"plotly-graph-div\" style=\"height:525px; width:100%;\"></div>            <script type=\"text/javascript\">                require([\"plotly\"], function(Plotly) {                    window.PLOTLYENV=window.PLOTLYENV || {};                                    if (document.getElementById(\"d2c19911-d304-4c3d-8a06-af55efd92abe\")) {                    Plotly.newPlot(                        \"d2c19911-d304-4c3d-8a06-af55efd92abe\",                        [{\"customdata\":[[\"Tua Tagovailoa\",\"Mia\"],[\"Mac Jones\",\"NE\"],[\"Jordan Love\",\"GB\"],[\"Russell Wilson\",\"Den\"],[\"Jared Goff\",\"Det\"],[\"Josh Allen\",\"Buf\"],[\"Jordan Love\",\"GB\"],[\"Justin Herbert\",\"LAC\"],[\"Kirk Cousins\",\"Min\"],[\"Patrick Mahomes\",\"KC\"]],\"hovertemplate\":\"Pass TD=3\\u003cbr\\u003ePass Yds=%{x}\\u003cbr\\u003eFan Pts=%{y}\\u003cbr\\u003eName=%{customdata[0]}\\u003cbr\\u003eTeam=%{customdata[1]}\\u003cextra\\u003e\\u003c\\u002fextra\\u003e\",\"legendgroup\":\"3\",\"marker\":{\"color\":\"#636efa\",\"symbol\":\"circle\"},\"mode\":\"markers\",\"name\":\"3\",\"orientation\":\"v\",\"showlegend\":true,\"x\":[466,316,245,308,323,274,151,405,367,272],\"xaxis\":\"x\",\"y\":[28.14,25.14,23.0,26.92,23.92,23.66,20.34,29.3,26.68,25.68],\"yaxis\":\"y\",\"type\":\"scatter\"},{\"customdata\":[[\"Anthony Richardson\",\"Ind\"],[\"Deshaun Watson\",\"Cle\"],[\"Justin Herbert\",\"LAC\"],[\"Sam Howell\",\"Was\"],[\"Derek Carr\",\"NO\"],[\"Justin Fields\",\"Chi\"],[\"Jared Goff\",\"Det\"],[\"Jalen Hurts\",\"Phi\"],[\"Josh Allen\",\"Buf\"],[\"Kenny Pickett\",\"Pit\"],[\"Bryce Young\",\"Car\"],[\"Zach Wilson\",\"NYJ\"],[\"Geno Smith\",\"Sea\"],[\"Jalen Hurts\",\"Phi\"],[\"Joshua Dobbs\",\"Ari\"],[\"Desmond Ridder\",\"Atl\"],[\"Ryan Tannehill\",\"Ten\"],[\"Baker Mayfield\",\"TB\"],[\"Justin Fields\",\"Chi\"],[\"Matthew Stafford\",\"LAR\"],[\"Mac Jones\",\"NE\"],[\"Bryce Young\",\"Car\"],[\"Jordan Love\",\"GB\"],[\"Josh Allen\",\"Buf\"],[\"Jalen Hurts\",\"Phi\"],[\"Jared Goff\",\"Det\"],[\"Joshua Dobbs\",\"Ari\"],[\"Geno Smith\",\"Sea\"],[\"Trevor Lawrence\",\"Jax\"],[\"Dak Prescott\",\"Dal\"],[\"Russell Wilson\",\"Den\"],[\"Matthew Stafford\",\"LAR\"],[\"Mac Jones\",\"NE\"],[\"Gardner Minshew\",\"Ind\"],[\"Justin Fields\",\"Chi\"],[\"Baker Mayfield\",\"TB\"]],\"hovertemplate\":\"Pass TD=1\\u003cbr\\u003ePass Yds=%{x}\\u003cbr\\u003eFan Pts=%{y}\\u003cbr\\u003eName=%{customdata[0]}\\u003cbr\\u003eTeam=%{customdata[1]}\\u003cextra\\u003e\\u003c\\u002fextra\\u003e\",\"legendgroup\":\"1\",\"marker\":{\"color\":\"#EF553B\",\"symbol\":\"circle\"},\"mode\":\"markers\",\"name\":\"1\",\"orientation\":\"v\",\"showlegend\":true,\"x\":[223,154,229,202,305,216,253,170,236,232,146,140,112,193,228,237,246,317,211,307,231,153,259,218,277,243,189,296,279,249,306,269,201,227,99,146],\"xaxis\":\"x\",\"y\":[21.92,21.66,20.86,16.18,15.6,15.54,14.02,12.5,12.04,11.68,9.54,9.2,9.08,26.22,25.22,22.38,21.04,18.38,16.74,15.98,14.74,13.52,25.26,22.32,21.88,19.02,17.06,16.44,15.36,15.36,15.24,13.46,13.34,13.08,11.66,11.04],\"yaxis\":\"y\",\"type\":\"scatter\"},{\"customdata\":[[\"Patrick Mahomes\",\"KC\"],[\"Trevor Lawrence\",\"Jax\"],[\"Kirk Cousins\",\"Min\"],[\"Brock Purdy\",\"SF\"],[\"Jimmy Garoppolo\",\"LV\"],[\"Baker Mayfield\",\"TB\"],[\"Russell Wilson\",\"Den\"],[\"Daniel Jones\",\"NYG\"],[\"Geno Smith\",\"Sea\"],[\"Lamar Jackson\",\"Bal\"],[\"Patrick Mahomes\",\"KC\"],[\"Justin Herbert\",\"LAC\"],[\"C.J. Stroud\",\"Hou\"],[\"Sam Howell\",\"Was\"],[\"Dak Prescott\",\"Dal\"],[\"Joe Burrow\",\"Cin\"],[\"Andy Dalton\",\"Car\"],[\"Deshaun Watson\",\"Cle\"],[\"Jimmy Garoppolo\",\"LV\"],[\"C.J. Stroud\",\"Hou\"],[\"Brock Purdy\",\"SF\"],[\"Kenny Pickett\",\"Pit\"]],\"hovertemplate\":\"Pass TD=2\\u003cbr\\u003ePass Yds=%{x}\\u003cbr\\u003eFan Pts=%{y}\\u003cbr\\u003eName=%{customdata[0]}\\u003cbr\\u003eTeam=%{customdata[1]}\\u003cextra\\u003e\\u003c\\u002fextra\\u003e\",\"legendgroup\":\"2\",\"marker\":{\"color\":\"#00cc96\",\"symbol\":\"circle\"},\"mode\":\"markers\",\"name\":\"2\",\"orientation\":\"v\",\"showlegend\":true,\"x\":[226,241,344,220,200,173,177,321,328,237,305,305,384,299,255,222,361,289,324,280,310,235],\"xaxis\":\"x\",\"y\":[20.54,18.74,17.46,16.8,16.1,16.02,15.18,31.74,23.12,22.88,22.2,22.2,21.46,21.26,19.6,16.38,23.54,21.16,20.66,20.6,20.3,18.5],\"yaxis\":\"y\",\"type\":\"scatter\"},{\"customdata\":[[\"Kirk Cousins\",\"Min\"],[\"Tua Tagovailoa\",\"Mia\"]],\"hovertemplate\":\"Pass TD=4\\u003cbr\\u003ePass Yds=%{x}\\u003cbr\\u003eFan Pts=%{y}\\u003cbr\\u003eName=%{customdata[0]}\\u003cbr\\u003eTeam=%{customdata[1]}\\u003cextra\\u003e\\u003c\\u002fextra\\u003e\",\"legendgroup\":\"4\",\"marker\":{\"color\":\"#FFA15A\",\"symbol\":\"circle\"},\"mode\":\"markers\",\"name\":\"4\",\"orientation\":\"v\",\"showlegend\":true,\"x\":[364,309],\"xaxis\":\"x\",\"y\":[28.56,28.36],\"yaxis\":\"y\",\"type\":\"scatter\"}],                        {\"template\":{\"data\":{\"histogram2dcontour\":[{\"type\":\"histogram2dcontour\",\"colorbar\":{\"outlinewidth\":0,\"ticks\":\"\"},\"colorscale\":[[0.0,\"#0d0887\"],[0.1111111111111111,\"#46039f\"],[0.2222222222222222,\"#7201a8\"],[0.3333333333333333,\"#9c179e\"],[0.4444444444444444,\"#bd3786\"],[0.5555555555555556,\"#d8576b\"],[0.6666666666666666,\"#ed7953\"],[0.7777777777777778,\"#fb9f3a\"],[0.8888888888888888,\"#fdca26\"],[1.0,\"#f0f921\"]]}],\"choropleth\":[{\"type\":\"choropleth\",\"colorbar\":{\"outlinewidth\":0,\"ticks\":\"\"}}],\"histogram2d\":[{\"type\":\"histogram2d\",\"colorbar\":{\"outlinewidth\":0,\"ticks\":\"\"},\"colorscale\":[[0.0,\"#0d0887\"],[0.1111111111111111,\"#46039f\"],[0.2222222222222222,\"#7201a8\"],[0.3333333333333333,\"#9c179e\"],[0.4444444444444444,\"#bd3786\"],[0.5555555555555556,\"#d8576b\"],[0.6666666666666666,\"#ed7953\"],[0.7777777777777778,\"#fb9f3a\"],[0.8888888888888888,\"#fdca26\"],[1.0,\"#f0f921\"]]}],\"heatmap\":[{\"type\":\"heatmap\",\"colorbar\":{\"outlinewidth\":0,\"ticks\":\"\"},\"colorscale\":[[0.0,\"#0d0887\"],[0.1111111111111111,\"#46039f\"],[0.2222222222222222,\"#7201a8\"],[0.3333333333333333,\"#9c179e\"],[0.4444444444444444,\"#bd3786\"],[0.5555555555555556,\"#d8576b\"],[0.6666666666666666,\"#ed7953\"],[0.7777777777777778,\"#fb9f3a\"],[0.8888888888888888,\"#fdca26\"],[1.0,\"#f0f921\"]]}],\"heatmapgl\":[{\"type\":\"heatmapgl\",\"colorbar\":{\"outlinewidth\":0,\"ticks\":\"\"},\"colorscale\":[[0.0,\"#0d0887\"],[0.1111111111111111,\"#46039f\"],[0.2222222222222222,\"#7201a8\"],[0.3333333333333333,\"#9c179e\"],[0.4444444444444444,\"#bd3786\"],[0.5555555555555556,\"#d8576b\"],[0.6666666666666666,\"#ed7953\"],[0.7777777777777778,\"#fb9f3a\"],[0.8888888888888888,\"#fdca26\"],[1.0,\"#f0f921\"]]}],\"contourcarpet\":[{\"type\":\"contourcarpet\",\"colorbar\":{\"outlinewidth\":0,\"ticks\":\"\"}}],\"contour\":[{\"type\":\"contour\",\"colorbar\":{\"outlinewidth\":0,\"ticks\":\"\"},\"colorscale\":[[0.0,\"#0d0887\"],[0.1111111111111111,\"#46039f\"],[0.2222222222222222,\"#7201a8\"],[0.3333333333333333,\"#9c179e\"],[0.4444444444444444,\"#bd3786\"],[0.5555555555555556,\"#d8576b\"],[0.6666666666666666,\"#ed7953\"],[0.7777777777777778,\"#fb9f3a\"],[0.8888888888888888,\"#fdca26\"],[1.0,\"#f0f921\"]]}],\"surface\":[{\"type\":\"surface\",\"colorbar\":{\"outlinewidth\":0,\"ticks\":\"\"},\"colorscale\":[[0.0,\"#0d0887\"],[0.1111111111111111,\"#46039f\"],[0.2222222222222222,\"#7201a8\"],[0.3333333333333333,\"#9c179e\"],[0.4444444444444444,\"#bd3786\"],[0.5555555555555556,\"#d8576b\"],[0.6666666666666666,\"#ed7953\"],[0.7777777777777778,\"#fb9f3a\"],[0.8888888888888888,\"#fdca26\"],[1.0,\"#f0f921\"]]}],\"mesh3d\":[{\"type\":\"mesh3d\",\"colorbar\":{\"outlinewidth\":0,\"ticks\":\"\"}}],\"scatter\":[{\"fillpattern\":{\"fillmode\":\"overlay\",\"size\":10,\"solidity\":0.2},\"type\":\"scatter\"}],\"parcoords\":[{\"type\":\"parcoords\",\"line\":{\"colorbar\":{\"outlinewidth\":0,\"ticks\":\"\"}}}],\"scatterpolargl\":[{\"type\":\"scatterpolargl\",\"marker\":{\"colorbar\":{\"outlinewidth\":0,\"ticks\":\"\"}}}],\"bar\":[{\"error_x\":{\"color\":\"#2a3f5f\"},\"error_y\":{\"color\":\"#2a3f5f\"},\"marker\":{\"line\":{\"color\":\"#E5ECF6\",\"width\":0.5},\"pattern\":{\"fillmode\":\"overlay\",\"size\":10,\"solidity\":0.2}},\"type\":\"bar\"}],\"scattergeo\":[{\"type\":\"scattergeo\",\"marker\":{\"colorbar\":{\"outlinewidth\":0,\"ticks\":\"\"}}}],\"scatterpolar\":[{\"type\":\"scatterpolar\",\"marker\":{\"colorbar\":{\"outlinewidth\":0,\"ticks\":\"\"}}}],\"histogram\":[{\"marker\":{\"pattern\":{\"fillmode\":\"overlay\",\"size\":10,\"solidity\":0.2}},\"type\":\"histogram\"}],\"scattergl\":[{\"type\":\"scattergl\",\"marker\":{\"colorbar\":{\"outlinewidth\":0,\"ticks\":\"\"}}}],\"scatter3d\":[{\"type\":\"scatter3d\",\"line\":{\"colorbar\":{\"outlinewidth\":0,\"ticks\":\"\"}},\"marker\":{\"colorbar\":{\"outlinewidth\":0,\"ticks\":\"\"}}}],\"scattermapbox\":[{\"type\":\"scattermapbox\",\"marker\":{\"colorbar\":{\"outlinewidth\":0,\"ticks\":\"\"}}}],\"scatterternary\":[{\"type\":\"scatterternary\",\"marker\":{\"colorbar\":{\"outlinewidth\":0,\"ticks\":\"\"}}}],\"scattercarpet\":[{\"type\":\"scattercarpet\",\"marker\":{\"colorbar\":{\"outlinewidth\":0,\"ticks\":\"\"}}}],\"carpet\":[{\"aaxis\":{\"endlinecolor\":\"#2a3f5f\",\"gridcolor\":\"white\",\"linecolor\":\"white\",\"minorgridcolor\":\"white\",\"startlinecolor\":\"#2a3f5f\"},\"baxis\":{\"endlinecolor\":\"#2a3f5f\",\"gridcolor\":\"white\",\"linecolor\":\"white\",\"minorgridcolor\":\"white\",\"startlinecolor\":\"#2a3f5f\"},\"type\":\"carpet\"}],\"table\":[{\"cells\":{\"fill\":{\"color\":\"#EBF0F8\"},\"line\":{\"color\":\"white\"}},\"header\":{\"fill\":{\"color\":\"#C8D4E3\"},\"line\":{\"color\":\"white\"}},\"type\":\"table\"}],\"barpolar\":[{\"marker\":{\"line\":{\"color\":\"#E5ECF6\",\"width\":0.5},\"pattern\":{\"fillmode\":\"overlay\",\"size\":10,\"solidity\":0.2}},\"type\":\"barpolar\"}],\"pie\":[{\"automargin\":true,\"type\":\"pie\"}]},\"layout\":{\"autotypenumbers\":\"strict\",\"colorway\":[\"#636efa\",\"#EF553B\",\"#00cc96\",\"#ab63fa\",\"#FFA15A\",\"#19d3f3\",\"#FF6692\",\"#B6E880\",\"#FF97FF\",\"#FECB52\"],\"font\":{\"color\":\"#2a3f5f\"},\"hovermode\":\"closest\",\"hoverlabel\":{\"align\":\"left\"},\"paper_bgcolor\":\"white\",\"plot_bgcolor\":\"#E5ECF6\",\"polar\":{\"bgcolor\":\"#E5ECF6\",\"angularaxis\":{\"gridcolor\":\"white\",\"linecolor\":\"white\",\"ticks\":\"\"},\"radialaxis\":{\"gridcolor\":\"white\",\"linecolor\":\"white\",\"ticks\":\"\"}},\"ternary\":{\"bgcolor\":\"#E5ECF6\",\"aaxis\":{\"gridcolor\":\"white\",\"linecolor\":\"white\",\"ticks\":\"\"},\"baxis\":{\"gridcolor\":\"white\",\"linecolor\":\"white\",\"ticks\":\"\"},\"caxis\":{\"gridcolor\":\"white\",\"linecolor\":\"white\",\"ticks\":\"\"}},\"coloraxis\":{\"colorbar\":{\"outlinewidth\":0,\"ticks\":\"\"}},\"colorscale\":{\"sequential\":[[0.0,\"#0d0887\"],[0.1111111111111111,\"#46039f\"],[0.2222222222222222,\"#7201a8\"],[0.3333333333333333,\"#9c179e\"],[0.4444444444444444,\"#bd3786\"],[0.5555555555555556,\"#d8576b\"],[0.6666666666666666,\"#ed7953\"],[0.7777777777777778,\"#fb9f3a\"],[0.8888888888888888,\"#fdca26\"],[1.0,\"#f0f921\"]],\"sequentialminus\":[[0.0,\"#0d0887\"],[0.1111111111111111,\"#46039f\"],[0.2222222222222222,\"#7201a8\"],[0.3333333333333333,\"#9c179e\"],[0.4444444444444444,\"#bd3786\"],[0.5555555555555556,\"#d8576b\"],[0.6666666666666666,\"#ed7953\"],[0.7777777777777778,\"#fb9f3a\"],[0.8888888888888888,\"#fdca26\"],[1.0,\"#f0f921\"]],\"diverging\":[[0,\"#8e0152\"],[0.1,\"#c51b7d\"],[0.2,\"#de77ae\"],[0.3,\"#f1b6da\"],[0.4,\"#fde0ef\"],[0.5,\"#f7f7f7\"],[0.6,\"#e6f5d0\"],[0.7,\"#b8e186\"],[0.8,\"#7fbc41\"],[0.9,\"#4d9221\"],[1,\"#276419\"]]},\"xaxis\":{\"gridcolor\":\"white\",\"linecolor\":\"white\",\"ticks\":\"\",\"title\":{\"standoff\":15},\"zerolinecolor\":\"white\",\"automargin\":true,\"zerolinewidth\":2},\"yaxis\":{\"gridcolor\":\"white\",\"linecolor\":\"white\",\"ticks\":\"\",\"title\":{\"standoff\":15},\"zerolinecolor\":\"white\",\"automargin\":true,\"zerolinewidth\":2},\"scene\":{\"xaxis\":{\"backgroundcolor\":\"#E5ECF6\",\"gridcolor\":\"white\",\"linecolor\":\"white\",\"showbackground\":true,\"ticks\":\"\",\"zerolinecolor\":\"white\",\"gridwidth\":2},\"yaxis\":{\"backgroundcolor\":\"#E5ECF6\",\"gridcolor\":\"white\",\"linecolor\":\"white\",\"showbackground\":true,\"ticks\":\"\",\"zerolinecolor\":\"white\",\"gridwidth\":2},\"zaxis\":{\"backgroundcolor\":\"#E5ECF6\",\"gridcolor\":\"white\",\"linecolor\":\"white\",\"showbackground\":true,\"ticks\":\"\",\"zerolinecolor\":\"white\",\"gridwidth\":2}},\"shapedefaults\":{\"line\":{\"color\":\"#2a3f5f\"}},\"annotationdefaults\":{\"arrowcolor\":\"#2a3f5f\",\"arrowhead\":0,\"arrowwidth\":1},\"geo\":{\"bgcolor\":\"white\",\"landcolor\":\"#E5ECF6\",\"subunitcolor\":\"white\",\"showland\":true,\"showlakes\":true,\"lakecolor\":\"white\"},\"title\":{\"x\":0.05},\"mapbox\":{\"style\":\"light\"}}},\"xaxis\":{\"anchor\":\"y\",\"domain\":[0.0,1.0],\"title\":{\"text\":\"Pass Yds\"}},\"yaxis\":{\"anchor\":\"x\",\"domain\":[0.0,1.0],\"title\":{\"text\":\"Fan Pts\"}},\"legend\":{\"title\":{\"text\":\"Pass TD\"},\"tracegroupgap\":0},\"title\":{\"text\":\"Quarterback Stats\"}},                        {\"responsive\": true}                    ).then(function(){\n",
       "                            \n",
       "var gd = document.getElementById('d2c19911-d304-4c3d-8a06-af55efd92abe');\n",
       "var x = new MutationObserver(function (mutations, observer) {{\n",
       "        var display = window.getComputedStyle(gd).display;\n",
       "        if (!display || display === 'none') {{\n",
       "            console.log([gd, 'removed!']);\n",
       "            Plotly.purge(gd);\n",
       "            observer.disconnect();\n",
       "        }}\n",
       "}});\n",
       "\n",
       "// Listen for the removal of the full notebook cells\n",
       "var notebookContainer = gd.closest('#notebook-container');\n",
       "if (notebookContainer) {{\n",
       "    x.observe(notebookContainer, {childList: true});\n",
       "}}\n",
       "\n",
       "// Listen for the clearing of the current output cell\n",
       "var outputEl = gd.closest('.output');\n",
       "if (outputEl) {{\n",
       "    x.observe(outputEl, {childList: true});\n",
       "}}\n",
       "\n",
       "                        })                };                });            </script>        </div>"
      ]
     },
     "metadata": {},
     "output_type": "display_data"
    }
   ],
   "source": [
    "fig = px.scatter(df_qb, x = \"Pass Yds\", y = \"Fan Pts\", color = \"Pass TD\", \n",
    "                 hover_data = [\"Name\", \"Team\"], title = \"Quarterback Stats\")\n",
    "\n",
    "fig.show()"
   ]
  },
  {
   "cell_type": "markdown",
   "metadata": {},
   "source": [
    "This graph shows pass yards mapped to fantasy points. There seems to be an upward trend, implying that higher pass yards are correlated with higher fantasy points. The graph also seems to depict that, although there is some overlap, passing touchdown does have an effect on where each grouping is placed, seeing as lower scores are shown lower on the graph and vice versa."
   ]
  },
  {
   "cell_type": "markdown",
   "metadata": {},
   "source": [
    "### Part 3.6: More Plotting and Interpretation(5 points)\n",
    "\n",
    "Use the `weekly_nfl_df()` function to create data frames for each of the four main offensive positions (QB, WR, RB, TE) **for the first four weeks** and then create, using subplots in a single plot, histograms for each positions' `Fan Pts`. Make sure the subplots are on the same scale, well labeled, and titled. Discuss the results in a few short sentences."
   ]
  },
  {
   "cell_type": "code",
   "execution_count": 230,
   "metadata": {},
   "outputs": [],
   "source": [
    "qb_week1 = weekly_nfl_df(\"QB\", \"1\")\n",
    "qb_week2 = weekly_nfl_df(\"QB\", \"2\")\n",
    "qb_week3 = weekly_nfl_df(\"QB\", \"3\")\n",
    "qb_week4 = weekly_nfl_df(\"QB\", \"4\")\n",
    "df_qb = pd.concat([qb_week1, qb_week2, qb_week3, qb_week4])\n",
    "\n",
    "wr_week1 = weekly_nfl_df(\"WR\", \"1\")\n",
    "wr_week2 = weekly_nfl_df(\"WR\", \"2\")\n",
    "wr_week3 = weekly_nfl_df(\"WR\", \"3\")\n",
    "wr_week4 = weekly_nfl_df(\"WR\", \"4\")\n",
    "df_wr = pd.concat([wr_week1, wr_week2, wr_week3, wr_week4])\n",
    "\n",
    "rb_week1 = weekly_nfl_df(\"RB\", \"1\")\n",
    "rb_week2 = weekly_nfl_df(\"RB\", \"2\")\n",
    "rb_week3 = weekly_nfl_df(\"RB\", \"3\")\n",
    "rb_week4 = weekly_nfl_df(\"RB\", \"4\")\n",
    "df_rb = pd.concat([rb_week1, rb_week2, rb_week3, rb_week4])\n",
    "\n",
    "te_week1 = weekly_nfl_df(\"TE\", \"1\")\n",
    "te_week2 = weekly_nfl_df(\"TE\", \"2\")\n",
    "te_week3 = weekly_nfl_df(\"TE\", \"3\")\n",
    "te_week4 = weekly_nfl_df(\"TE\", \"4\")\n",
    "df_te = pd.concat([te_week1, te_week2, te_week3, te_week4])"
   ]
  },
  {
   "cell_type": "code",
   "execution_count": 255,
   "metadata": {},
   "outputs": [],
   "source": [
    "import numpy as np\n",
    "import matplotlib.pyplot as plt"
   ]
  },
  {
   "cell_type": "code",
   "execution_count": 268,
   "metadata": {},
   "outputs": [
    {
     "data": {
      "image/png": "[encoded data removed]",
      "text/plain": [
       "<Figure size 800x800 with 4 Axes>"
      ]
     },
     "metadata": {},
     "output_type": "display_data"
    }
   ],
   "source": [
    "idx = 1\n",
    "for df in [df_qb, df_wr, df_rb, df_te]:\n",
    "    plt.subplot(2, 2, idx)\n",
    "    \n",
    "    plt.hist(df[\"Fan Pts\"], bins = 8)\n",
    "    plt.xlim(0, 50)\n",
    "    plt.ylim(0, 40)\n",
    "    \n",
    "    if idx in (3, 4):\n",
    "        plt.xlabel(\"fantasy points\")\n",
    "    if idx in (1, 3):\n",
    "        plt.ylabel(\"counts\")\n",
    "    \n",
    "    plt.gca().title.set_text(df.iloc[0, 2])\n",
    "    \n",
    "    idx += 1\n",
    "plt.gcf().set_size_inches(8, 8)"
   ]
  },
  {
   "cell_type": "markdown",
   "metadata": {},
   "source": [
    "Looking at the above subplot, we can see that all the plots are positively skewed (skewed to the right) although plot QB has the least skew, is the most centered. Plot TE seems to be condensed in the lower values while plot RB has the most range. All the plots are similar as they have the same shape."
   ]
  },
  {
   "cell_type": "markdown",
   "metadata": {},
   "source": [
    "# Part 4: Sketch and Begin Implementing a Pipeline\n",
    "\n",
    "We wish to create a data frame that includes all the spells for each class (a \"class\" is something like a \"wizard\", or a \"bard\") in Dungeons and Dragons 5th Edition, which you can find [here](http://dnd5e.wikidot.com/). Your final data frame would look something like:\n",
    "\n",
    "| Class     | Level     | Spell Name    | School      | Casting Time | Range                | Duration      | Components |\n",
    "|----------:|----------:|--------------:|------------:|-------------:|---------------------:|--------------:|-----------:|\n",
    "| Artificer | Cantrip   | Acid Splash   | Conjuration | 1 Action     | 60 Feet              | Instantaneous | V, S       |\n",
    "| Artificer | Cantrip   | Booming Blade | Evocation   | 1 Action     | Self (5-foot radius) | 1 Round       | S, M       |\n",
    "| ...       | ...       | ...           | ...         | ...          | ...                  | ...           | ...        |\n",
    "| Wizard    | 9th Level | Wish          | Conjuration | 1 Action     | Self                 | Instantaneous | V          |"
   ]
  },
  {
   "cell_type": "markdown",
   "metadata": {},
   "source": [
    "## Part 4.1: Poking Around (5 points)\n",
    "\n",
    "Go to the D&D 5th Edition linked above. Scroll down to the \"All Spells\" list and click on \"Artificer Spells\", spend a moment looking around at the page, then \"Bard Spells\" to do the same, and make note of the url of each. What do you note about the pages and url that should be pretty convenient for scraping the data we are interested in for all different types of spells? Discuss anything else you might notice about the pages that may be either tricky or convenient to deal with. Note that in our desired data frame, we include the \"Class\" and \"Level\" for each spell."
   ]
  },
  {
   "cell_type": "markdown",
   "metadata": {},
   "source": [
    "It would be convenient to scrape the webpages for each class because each url only differs by the class name: for example, http://dnd5e.wikidot.com/spells:bard versus http://dnd5e.wikidot.com/spells:artificer. A simple f-string will work here. Since the tables on the pages are laid out simply, we should be able to use pd.read_html to read in the data. Adding \"class\" to the dataframe would require an additional step as it's not included in the table, as with \"level\". It may be tricky to add the \"level\" information seeing as the webpage has the data tables separated under different tags; depending on how pd.read_html reads in the each table on the page, it may be hard to distinguish which level goes with each table. I don't suppose the R for Ritual Spell will confuse anything."
   ]
  },
  {
   "cell_type": "markdown",
   "metadata": {},
   "source": [
    "## Part 4.2: Sketch the Pipeline (5 points)\n",
    "\n",
    "First, in a markdown cell, write a bullet point list of tasks we need to get the data frame we want. I'll give you what the first bullet point should be, and you fill in the rest (there may be only one more, depending on how efficient you are in describing the tasks...):\n",
    "\n",
    "- Write a function that takes a class (string) as an argument and returns the tables from the class's DND wiki spell page in a dictionary for each spell level\n",
    "- ... \n",
    "\n",
    "Then, in a code cell, define **empty** functions that correspond to the tasks you identified as needing done. For example, the function for the first bullet point above might start with:\n",
    "\n",
    "```python\n",
    "def get_class_spell_dict(dnd_class):\n",
    "    \"\"\" takes a D&D class (string) and gets the spell tables and saves them in a dictionary\n",
    "    \n",
    "    Args:\n",
    "        dnd_class (str): the D&D class\n",
    "        \n",
    "    Returns:\n",
    "        table_dict (dict): a dictionary of tables, one for each spell level\n",
    "    \"\"\"\n",
    "    pass\n",
    "```"
   ]
  },
  {
   "cell_type": "markdown",
   "metadata": {},
   "source": [
    "   - Write a function that takes a class (string) as an argument and returns the tables from the class's DND wiki spell page in a dictionary for each spell level\n",
    "   - A function that takes the dictionary with spell level mapped to table as an argument and returns a data frame that includes all the spells for each class"
   ]
  },
  {
   "cell_type": "code",
   "execution_count": 156,
   "metadata": {},
   "outputs": [],
   "source": [
    "def create_spell_dataframe(table_dict):\n",
    "    \"\"\" compiles all tables for each level in a class into a singular dataframe with all spells\n",
    "    \n",
    "    Args:\n",
    "        table_dict (dict): a dictionary of tables, one for each spell level of a certain class\n",
    "        \n",
    "    Returns:\n",
    "        df_dnd_spells (pd.DataFrame): a dataframe that includes all the spells for each class\n",
    "    \"\"\"\n",
    "    pass"
   ]
  },
  {
   "cell_type": "markdown",
   "metadata": {},
   "source": [
    "## Part 4.3: Write the first function (5 points)\n",
    "\n",
    "Go ahead and write the first function that I defined the framework for in part 4.2, and then test it by getting the dictionary of Bard spell tables. Show that it works by printing out the head of the 2nd level Bard spells. Your final calls should be something like:\n",
    "\n",
    "```python\n",
    "bard_spell_tables = get_class_spell_dict(\"bard\")\n",
    "bard_spell_tables['Level 2'].head()\n",
    "```\n",
    "\n",
    "**Note**: depending on how you create the dictionary in your `get_class_spell_dict` function, you may not have `'Level 2'` as the key; that's fine. The top of the table should look like:\n",
    "\n",
    "| Spell Name       | School        | Casting Time | Range                | Duration      | Components |\n",
    "|-----------------:|--------------:|-------------:|---------------------:|--------------:|-----------:|\n",
    "| Aid              | Abjuration    | 1 Action     | 30 Feet              | 8 hours       | V, S, M    |\n",
    "| Animal Messenger | Enchantment   | 1 Action R   | 30 Feet              | 24 hours      | V, S, M    |"
   ]
  },
  {
   "cell_type": "code",
   "execution_count": 163,
   "metadata": {},
   "outputs": [],
   "source": [
    "def get_class_spell_dict(dnd_class):\n",
    "    \"\"\" takes a D&D class (string) and gets the spell tables and saves them in a dictionary\n",
    "    \n",
    "    Args:\n",
    "        dnd_class (str): the D&D class\n",
    "        \n",
    "    Returns:\n",
    "        table_dict (dict): a dictionary of tables, one for each spell level\n",
    "    \"\"\"\n",
    "    url = f\"http://dnd5e.wikidot.com/spells:{dnd_class}\"\n",
    "    table = pd.read_html(url)\n",
    "    \n",
    "    table_dict = dict({})\n",
    "    \n",
    "    i = 0\n",
    "    while i in range(len(table)):\n",
    "        if i == 0:\n",
    "            table_dict[\"Cantrip\"] = table[i]\n",
    "        else:\n",
    "            label = f\"Level {i}\"\n",
    "            table_dict[label] = table[i]\n",
    "        i += 1\n",
    "    \n",
    "    return table_dict"
   ]
  },
  {
   "cell_type": "code",
   "execution_count": 164,
   "metadata": {},
   "outputs": [
    {
     "data": {
      "text/html": [
       "<div>\n",
       "<style scoped>\n",
       "    .dataframe tbody tr th:only-of-type {\n",
       "        vertical-align: middle;\n",
       "    }\n",
       "\n",
       "    .dataframe tbody tr th {\n",
       "        vertical-align: top;\n",
       "    }\n",
       "\n",
       "    .dataframe thead th {\n",
       "        text-align: right;\n",
       "    }\n",
       "</style>\n",
       "<table border=\"1\" class=\"dataframe\">\n",
       "  <thead>\n",
       "    <tr style=\"text-align: right;\">\n",
       "      <th></th>\n",
       "      <th>Spell Name</th>\n",
       "      <th>School</th>\n",
       "      <th>Casting Time</th>\n",
       "      <th>Range</th>\n",
       "      <th>Duration</th>\n",
       "      <th>Components</th>\n",
       "    </tr>\n",
       "  </thead>\n",
       "  <tbody>\n",
       "    <tr>\n",
       "      <th>0</th>\n",
       "      <td>Aid</td>\n",
       "      <td>Abjuration</td>\n",
       "      <td>1 Action</td>\n",
       "      <td>30 Feet</td>\n",
       "      <td>8 hours</td>\n",
       "      <td>V, S, M</td>\n",
       "    </tr>\n",
       "    <tr>\n",
       "      <th>1</th>\n",
       "      <td>Animal Messenger</td>\n",
       "      <td>Enchantment</td>\n",
       "      <td>1 Action R</td>\n",
       "      <td>30 Feet</td>\n",
       "      <td>24 hours</td>\n",
       "      <td>V, S, M</td>\n",
       "    </tr>\n",
       "    <tr>\n",
       "      <th>2</th>\n",
       "      <td>Blindness/Deafness</td>\n",
       "      <td>Necromancy</td>\n",
       "      <td>1 Action</td>\n",
       "      <td>30 Feet</td>\n",
       "      <td>1 minute</td>\n",
       "      <td>V</td>\n",
       "    </tr>\n",
       "    <tr>\n",
       "      <th>3</th>\n",
       "      <td>Borrowed Knowledge</td>\n",
       "      <td>Divination</td>\n",
       "      <td>1 Action</td>\n",
       "      <td>Self</td>\n",
       "      <td>1 hour</td>\n",
       "      <td>V, S, M</td>\n",
       "    </tr>\n",
       "    <tr>\n",
       "      <th>4</th>\n",
       "      <td>Calm Emotions</td>\n",
       "      <td>Enchantment</td>\n",
       "      <td>1 Action</td>\n",
       "      <td>60 feet</td>\n",
       "      <td>Concentration, up to 1 minute</td>\n",
       "      <td>V, S</td>\n",
       "    </tr>\n",
       "  </tbody>\n",
       "</table>\n",
       "</div>"
      ],
      "text/plain": [
       "           Spell Name       School Casting Time    Range  \\\n",
       "0                 Aid   Abjuration     1 Action  30 Feet   \n",
       "1    Animal Messenger  Enchantment   1 Action R  30 Feet   \n",
       "2  Blindness/Deafness   Necromancy     1 Action  30 Feet   \n",
       "3  Borrowed Knowledge   Divination     1 Action     Self   \n",
       "4       Calm Emotions  Enchantment     1 Action  60 feet   \n",
       "\n",
       "                        Duration Components  \n",
       "0                        8 hours    V, S, M  \n",
       "1                       24 hours    V, S, M  \n",
       "2                       1 minute          V  \n",
       "3                         1 hour    V, S, M  \n",
       "4  Concentration, up to 1 minute       V, S  "
      ]
     },
     "execution_count": 164,
     "metadata": {},
     "output_type": "execute_result"
    }
   ],
   "source": [
    "bard_spell_tables = get_class_spell_dict(\"bard\")\n",
    "bard_spell_tables['Level 2'].head()"
   ]
  }
 ],
 "metadata": {
  "kernelspec": {
   "display_name": "Python 3 (ipykernel)",
   "language": "python",
   "name": "python3"
  },
  "language_info": {
   "codemirror_mode": {
    "name": "ipython",
    "version": 3
   },
   "file_extension": ".py",
   "mimetype": "text/x-python",
   "name": "python",
   "nbconvert_exporter": "python",
   "pygments_lexer": "ipython3",
   "version": "3.11.5"
  }
 },
 "nbformat": 4,
 "nbformat_minor": 4
}
