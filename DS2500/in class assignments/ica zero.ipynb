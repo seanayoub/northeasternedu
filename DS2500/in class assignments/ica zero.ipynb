{
 "cells": [
  {
   "cell_type": "markdown",
   "id": "62fac588",
   "metadata": {
    "slideshow": {
     "slide_type": "slide"
    }
   },
   "source": [
    "# In Class Exercise 1\n",
    "\n",
    "Re-introduce yourself to your neighbors by writing a quick markdown biography of yourself.  Be sure to use:\n",
    "- 2 different heading levels\n",
    "- a markdown table\n",
    "- a list\n",
    "- a link to some website\n",
    "- an image\n",
    "    - avoid pictures of yourself please\n",
    "    - link to something available online, see example above\n",
    "\n",
    "You're welcome to be funny, this is really an excuse to get warmed up with jupyter and markdown and meet each other.  \n",
    "\n",
    "When you're done, swap laptops with 2 classmates who will add their own silly positive review, praising and encouraging whatever you've shared.  \n",
    "\n",
    "Please be mindful:\n",
    "- everything you share should make all classmates feel safe and welcome\n",
    "- your response should be positive, take the moment to make somebody else smile and feel good :)\n"
   ]
  },
  {
   "cell_type": "markdown",
   "id": "3a0119f8",
   "metadata": {},
   "source": [
    "# DS 2500 ICA 1\n",
    "# Sean A.\n",
    "## about me...\n",
    "   [Student at Northeastern](northeastern.edu)\n",
    "        \n",
    "       - DS/Economics Major\n",
    "       - Clarinettist\n",
    "       - Writer\n",
    "![profile](https://encrypted-tbn0.gstatic.com/images?q=tbn:ANd9GcTvwa_IKym7IEIZdaGHLMahN8BOeJm9KBGlNA&usqp=CAU)"
   ]
  }
 ],
 "metadata": {
  "celltoolbar": "Slideshow",
  "kernelspec": {
   "display_name": "Python 3 (ipykernel)",
   "language": "python",
   "name": "python3"
  },
  "language_info": {
   "codemirror_mode": {
    "name": "ipython",
    "version": 3
   },
   "file_extension": ".py",
   "mimetype": "text/x-python",
   "name": "python",
   "nbconvert_exporter": "python",
   "pygments_lexer": "ipython3",
   "version": "3.11.1"
  }
 },
 "nbformat": 4,
 "nbformat_minor": 5
}
