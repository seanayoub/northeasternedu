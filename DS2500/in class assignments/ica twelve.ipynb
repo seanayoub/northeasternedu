{
 "cells": [
  {
   "cell_type": "markdown",
   "metadata": {
    "slideshow": {
     "slide_type": "slide"
    }
   },
   "source": [
    "# DS 2500 Day 12 \n",
    "\n",
    "Feb 21, 2023"
   ]
  },
  {
   "cell_type": "markdown",
   "metadata": {
    "slideshow": {
     "slide_type": "slide"
    }
   },
   "source": [
    "### In Class Assignment 1\n",
    "\n",
    "Quantitatively, which pair of the following apartments is most similar?\n",
    "\n",
    "|       | sq ft | bedrooms | bathrooms | toilets |\n",
    "|-------|------:|---------:|----------:|---------|\n",
    "| apt 0 |   850 |        2 |         1 | 1       |\n",
    "| apt 1 |  1000 |        2 |         2 | 2       |\n",
    "| apt 2 |  1300 |        3 |         2 | 2       |\n",
    "\n",
    "- Define and clearly explain how you quantify whether two apartments are similar or different\n",
    "- Build a dataframe and explicilty compute each pair's distance"
   ]
  },
  {
   "cell_type": "code",
   "execution_count": 1,
   "metadata": {},
   "outputs": [
    {
     "data": {
      "text/html": [
       "<div>\n",
       "<style scoped>\n",
       "    .dataframe tbody tr th:only-of-type {\n",
       "        vertical-align: middle;\n",
       "    }\n",
       "\n",
       "    .dataframe tbody tr th {\n",
       "        vertical-align: top;\n",
       "    }\n",
       "\n",
       "    .dataframe thead th {\n",
       "        text-align: right;\n",
       "    }\n",
       "</style>\n",
       "<table border=\"1\" class=\"dataframe\">\n",
       "  <thead>\n",
       "    <tr style=\"text-align: right;\">\n",
       "      <th></th>\n",
       "      <th>sq ft</th>\n",
       "      <th>bedrooms</th>\n",
       "      <th>bathrooms</th>\n",
       "      <th>toilets</th>\n",
       "    </tr>\n",
       "  </thead>\n",
       "  <tbody>\n",
       "    <tr>\n",
       "      <th>0</th>\n",
       "      <td>850</td>\n",
       "      <td>2</td>\n",
       "      <td>1</td>\n",
       "      <td>1</td>\n",
       "    </tr>\n",
       "    <tr>\n",
       "      <th>1</th>\n",
       "      <td>1000</td>\n",
       "      <td>2</td>\n",
       "      <td>2</td>\n",
       "      <td>2</td>\n",
       "    </tr>\n",
       "    <tr>\n",
       "      <th>2</th>\n",
       "      <td>1300</td>\n",
       "      <td>3</td>\n",
       "      <td>2</td>\n",
       "      <td>2</td>\n",
       "    </tr>\n",
       "  </tbody>\n",
       "</table>\n",
       "</div>"
      ],
      "text/plain": [
       "   sq ft  bedrooms  bathrooms  toilets\n",
       "0    850         2          1        1\n",
       "1   1000         2          2        2\n",
       "2   1300         3          2        2"
      ]
     },
     "execution_count": 1,
     "metadata": {},
     "output_type": "execute_result"
    }
   ],
   "source": [
    "import pandas as pd\n",
    "import numpy as np\n",
    "\n",
    "df_apt = pd.DataFrame({\"sq ft\": [850, 1000, 1300],\n",
    "                      \"bedrooms\": [2, 2, 3],\n",
    "                      \"bathrooms\": [1, 2, 2],\n",
    "                      \"toilets\": [1, 2, 2]})\n",
    "df_apt"
   ]
  },
  {
   "cell_type": "code",
   "execution_count": 2,
   "metadata": {},
   "outputs": [
    {
     "data": {
      "text/plain": [
       "sq ft        52500.000000\n",
       "bedrooms         0.333333\n",
       "bathrooms        0.333333\n",
       "toilets          0.333333\n",
       "dtype: float64"
      ]
     },
     "execution_count": 2,
     "metadata": {},
     "output_type": "execute_result"
    }
   ],
   "source": [
    "df_apt.var()"
   ]
  },
  {
   "cell_type": "code",
   "execution_count": 3,
   "metadata": {},
   "outputs": [
    {
     "data": {
      "text/plain": [
       "sq ft        1.0\n",
       "bedrooms     1.0\n",
       "bathrooms    1.0\n",
       "dtype: float64"
      ]
     },
     "execution_count": 3,
     "metadata": {},
     "output_type": "execute_result"
    }
   ],
   "source": [
    "for feat in df_apt.columns:\n",
    "    df_apt[feat] = df_apt[feat] / df_apt[feat].std()\n",
    "\n",
    "del df_apt[\"toilets\"]\n",
    "df_apt.var()"
   ]
  },
  {
   "cell_type": "code",
   "execution_count": 4,
   "metadata": {},
   "outputs": [
    {
     "name": "stdout",
     "output_type": "stream",
     "text": [
      "dist01: 1.8516401995451033 \n",
      "dist12: 2.171240593367237 \n",
      "dist20: 3.1396087108337016\n"
     ]
    }
   ],
   "source": [
    "dist01 = np.linalg.norm(df_apt.iloc[1, :] - df_apt.iloc[0, :])\n",
    "dist12 = np.linalg.norm(df_apt.iloc[1, :] - df_apt.iloc[2, :])\n",
    "dist20 = np.linalg.norm(df_apt.iloc[2, :] - df_apt.iloc[0, :])\n",
    "\n",
    "print(f\"dist01: {dist01} \\ndist12: {dist12} \\ndist20: {dist20}\")"
   ]
  },
  {
   "cell_type": "markdown",
   "metadata": {},
   "source": [
    "## In Class Exercise 2\n",
    "\n",
    "Build a K-NN classifier which estimates whether a passenger on the titanic `survived` given their `age`, `pclass` and `fare` features.\n",
    "- Discard any passengers which are missing a feature\n",
    "- Be mindful of scale normalization, you may need to adjust data a bit\n",
    "- Show the output of your classification as a confusion matrix plot, as shown above"
   ]
  },
  {
   "cell_type": "code",
   "execution_count": null,
   "metadata": {},
   "outputs": [],
   "source": [
    "import sklearn\n",
    "sklearn.__version__"
   ]
  },
  {
   "cell_type": "code",
   "execution_count": null,
   "metadata": {},
   "outputs": [],
   "source": [
    "df_titanic = sns.load_dataset(\"titanic\")\n",
    "df_titanic.head()"
   ]
  },
  {
   "cell_type": "code",
   "execution_count": null,
   "metadata": {},
   "outputs": [],
   "source": [
    "from sklearn.neighbors import KNeighborsClassifier\n",
    "import pandas as pd\n",
    "\n",
    "k = 5\n",
    "x_feat = [\"age\", \"pclass\", \"fare\"]\n",
    "y_feat = \"survived\"\n",
    "\n",
    "df_titanic = sns.load_dataset(\"titanic\")\n",
    "df_titanic.dropna(how = \"any\", inplace = True)\n",
    "\n",
    "for feat in x_feat:\n",
    "    df_titanic[feat] = df_titanic[feat] / df_titanic[feat].std()\n",
    "    \n",
    "x = df_titanic.loc[:, x_feat].values()\n",
    "y = df_titanic.loc[:, y_feat].values()\n",
    "\n",
    "knn_classifier = KNeighborsClassifier(n_neighbors = k)\n",
    "\n",
    "knn_classifier.fit(x, y)\n",
    "\n",
    "y_pred = knn_classifier.predict(x)"
   ]
  },
  {
   "cell_type": "code",
   "execution_count": null,
   "metadata": {},
   "outputs": [],
   "source": [
    "conf_mat = confusion_matrix(y = y, y_pred = y_pred)\n",
    "\n",
    "conf_map_disp = ConfusionMatrixDisplay(conf_mat, display_labels = np.unique(y))\n",
    "conf_map_disp.plot()\n",
    "\n",
    "plt.gcf().set_size_inches(7, 7)\n",
    "plt.grid(False)"
   ]
  }
 ],
 "metadata": {
  "celltoolbar": "Slideshow",
  "kernelspec": {
   "display_name": "Python 3 (ipykernel)",
   "language": "python",
   "name": "python3"
  },
  "language_info": {
   "codemirror_mode": {
    "name": "ipython",
    "version": 3
   },
   "file_extension": ".py",
   "mimetype": "text/x-python",
   "name": "python",
   "nbconvert_exporter": "python",
   "pygments_lexer": "ipython3",
   "version": "3.11.1"
  }
 },
 "nbformat": 4,
 "nbformat_minor": 4
}
