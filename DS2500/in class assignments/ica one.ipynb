{
 "cells": [
  {
   "cell_type": "markdown",
   "id": "02536274",
   "metadata": {
    "slideshow": {
     "slide_type": "slide"
    }
   },
   "source": [
    "# In Class Assignment A:\n",
    "- get users numerical grade (0 to 100)\n",
    "    - `input()`\n",
    "- print a message which tells the user their letter grade in the course (not the +/-)\n",
    "- (++) include the +/- on the grade, make an effort to avoid repetitive code\n",
    "    - hint0: there are a few different implementations, are sure yours is simplest?\n",
    "    - hint1: modulo operator\n"
   ]
  },
  {
   "cell_type": "code",
   "execution_count": null,
   "id": "d5102304",
   "metadata": {},
   "outputs": [],
   "source": [
    "grade = int(input(\"Enter your grade: \"))\n",
    "remainder = grade % 10\n",
    "    \n",
    "if grade >= 90:\n",
    "    letter = \"A\"\n",
    "elif grade >= 80:\n",
    "    letter = \"B\"\n",
    "elif grade >= 70:\n",
    "    letter = \"C\"\n",
    "elif grade >= 60:\n",
    "    letter = \"D\"\n",
    "else:\n",
    "    letter = \"F\"\n",
    "    \n",
    "if letter == \"F\":\n",
    "    print(\"Failed\")\n",
    "    \n",
    "if remainder <= 3:\n",
    "    print(f\"Your grade: {letter}-\")\n",
    "elif remainder >= 7:\n",
    "    print(f\"Your grade: {letter}+\")\n",
    "else:\n",
    "    print(f\"Your grade: {letter}\")"
   ]
  },
  {
   "cell_type": "markdown",
   "id": "6d77b6dc",
   "metadata": {
    "slideshow": {
     "slide_type": "slide"
    }
   },
   "source": [
    "# In class activity B (Lists & Strings):\n",
    "1. Replace the `# work here` comment cell with code which asks the user to `input()` a lowercase name and then `.append()`s it to all the relevant lists:\n",
    "    - `list_short`\n",
    "        - length of name is less than 5 chars\n",
    "    - `list_alpha`\n",
    "        - characters of name are in alpha order\n",
    "            - e.g. `bert` since `b` comes before `e` comes before `r` comes before `t`\n",
    "        - test if a name is alpha sorted via `list(name) == sorted(name)`\n",
    "    - `list_all`\n",
    "        - every name\n",
    "        \n",
    "        lmnopqrstuvwxyz\n",
    "2. Once complete, run this cell many times to test the following set of names ('abc', 'abcdefg', 'zy', 'zyxwvut'), run the `# observe each list...` cell and observe its output to confirm your code works properly.\n",
    "    \n",
    "(++) Use a dictionary in place of the 3x list implementation.  Note that we'll cover dictionaries shortly, we haven't introduced them just yet.  Be sure to build the 3x list implementation above first, then copy paste your work and modify for this stretch goal.\n"
   ]
  },
  {
   "cell_type": "code",
   "execution_count": null,
   "id": "40fae897",
   "metadata": {},
   "outputs": [],
   "source": [
    "# initialize empty list\n",
    "list_short = list()\n",
    "list_alpha = list()\n",
    "list_all = list()\n"
   ]
  },
  {
   "cell_type": "code",
   "execution_count": null,
   "id": "17500f7e",
   "metadata": {},
   "outputs": [],
   "source": [
    "# input name and append it to relevant lists\n",
    "name = input(\"Enter your name: \")\n",
    "\n",
    "list_all.append(name)\n",
    "\n",
    "if len(name) < 5:\n",
    "    list_short.append(name)\n",
    "    \n",
    "if list(name) == sorted(name):\n",
    "    list_alpha.append(name)"
   ]
  },
  {
   "cell_type": "code",
   "execution_count": null,
   "id": "085e271f",
   "metadata": {},
   "outputs": [],
   "source": [
    "# observe each list (there are cleaner ways to do this ... we'll get there!)\n",
    "print('short names:')\n",
    "print(list_short)\n",
    "\n",
    "print('alpha names:')\n",
    "print(list_alpha)\n",
    "\n",
    "print('all names:')\n",
    "print(list_all)\n"
   ]
  },
  {
   "cell_type": "markdown",
   "id": "13d76f13",
   "metadata": {},
   "source": [
    "# In Class Activity C\n",
    "\n",
    "Repeat ICA B, but use a dictionary in place of 3x lists.  Your dictionary should have keys: \n",
    "- 'all'\n",
    "- 'short' \n",
    "- 'alpha'\n",
    "\n",
    "The values associated with each key are lists of all the names which meet the criteria.  For example, if you were to run the given test case names: `'abc', 'abcdefg', 'zy', 'zyxwvut'` your code should build:\n",
    "\n",
    "```python\n",
    "name_dict = {'all': ['abc', 'abcdefg', 'zy', 'zyxwvut'],\n",
    "             'short': ['abc', 'zy'],\n",
    "             'alpha': ['abc', 'abcdefg']}\n",
    "```\n",
    "\n",
    "Please be sure to copy your work from above intead of replacing it so you can submit ICA B.\n"
   ]
  },
  {
   "cell_type": "code",
   "execution_count": null,
   "id": "b529614b",
   "metadata": {},
   "outputs": [],
   "source": [
    "name_dict = {}\n",
    "all_names = []\n",
    "short_names = []\n",
    "alpha_names = []\n",
    "\n",
    "name = input(\"Enter your name: \")\n",
    "\n",
    "all_names.append(name)\n",
    "if list(name) == sorted(name):\n",
    "    alpha_names.append(name)\n",
    "if len(name) < 5:\n",
    "    short_names.append(name)\n",
    "\n",
    "name_dict[\"all\"] = all_names\n",
    "name_dict[\"short\"] = short_names\n",
    "name_dict[\"alpha\"] = alpha_names\n",
    "print(name_dict)"
   ]
  }
 ],
 "metadata": {
  "celltoolbar": "Slideshow",
  "kernelspec": {
   "display_name": "Python 3 (ipykernel)",
   "language": "python",
   "name": "python3"
  },
  "language_info": {
   "codemirror_mode": {
    "name": "ipython",
    "version": 3
   },
   "file_extension": ".py",
   "mimetype": "text/x-python",
   "name": "python",
   "nbconvert_exporter": "python",
   "pygments_lexer": "ipython3",
   "version": "3.11.1"
  }
 },
 "nbformat": 4,
 "nbformat_minor": 5
}
