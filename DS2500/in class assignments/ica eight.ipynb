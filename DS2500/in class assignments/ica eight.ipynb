{
 "cells": [
  {
   "cell_type": "markdown",
   "id": "5a7c0c2d",
   "metadata": {
    "slideshow": {
     "slide_type": "slide"
    }
   },
   "source": [
    "# In Class Activity A\n",
    "\n",
    "- Build a new bank account with your own name and a starting balance of your choosing\n",
    "- Build another bank account with another name and balance\n",
    "    - any choice is fine\n",
    "- deposit 100 into your account\n",
    "- deactivate (and then reactivate) your account\n",
    "- withdraw half the balance of your account\n",
    "    - (++) can you do this programmatically ... having the computer compute half the balance of the account?\n"
   ]
  },
  {
   "cell_type": "code",
   "execution_count": 1,
   "id": "da993f2f",
   "metadata": {},
   "outputs": [],
   "source": [
    "class Account:\n",
    "    \"\"\" a bank account\n",
    "    \n",
    "    Attributes:\n",
    "        owner (str): owner of account\n",
    "        balance (float): how much money is in it\n",
    "        active (bool): true if account is open, false if account is closed.  \n",
    "            deposit() and withdraw() only work on active accounts\n",
    "    \"\"\"\n",
    "    \n",
    "    def __init__(self, owner, balance=0, active=True):\n",
    "        self.owner = owner\n",
    "        self.balance = balance\n",
    "        self.active = active\n",
    "        \n",
    "    def __repr__(self):\n",
    "        return f'Account(owner={self.owner}, balance={self.balance}, active={self.active})'\n",
    "        \n",
    "    def deposit(self, value):\n",
    "        \"\"\" add input value to account balance \n",
    "        \n",
    "        Args:\n",
    "            value (float): input value\n",
    "        \"\"\"\n",
    "        assert self.active, 'account is inactive'\n",
    "        self.balance = self.balance + value\n",
    "        \n",
    "    def withdraw(self, value):\n",
    "        \"\"\" withdraw value from account balance\n",
    "        \n",
    "        Args:\n",
    "            value (float): input value\n",
    "        \"\"\"\n",
    "        assert self.active, 'account is inactive'\n",
    "        \n",
    "        self.balance = self.balance - value\n",
    "        \n",
    "    def deactivate(self):\n",
    "        \"\"\" closes account, no more deposit / withdraws possible \"\"\"\n",
    "        self.active = False\n",
    "        \n",
    "    def activate(self):\n",
    "        \"\"\" activates account, deposit / withdraws possible \"\"\"\n",
    "        self.active = True    "
   ]
  },
  {
   "cell_type": "code",
   "execution_count": 2,
   "id": "d97eaa2c",
   "metadata": {},
   "outputs": [],
   "source": [
    "sean_checking = Account(\"sean\", 25)\n",
    "else_checking = Account(\"else\", 15)"
   ]
  },
  {
   "cell_type": "code",
   "execution_count": 3,
   "id": "b0692e23",
   "metadata": {},
   "outputs": [],
   "source": [
    "sean_checking.deposit(100)\n",
    "sean_checking.deactivate()\n",
    "sean_checking.activate()\n",
    "\n",
    "out = getattr(sean_checking, \"balance\") / 2\n",
    "sean_checking.withdraw(out)"
   ]
  },
  {
   "cell_type": "markdown",
   "id": "34500c47",
   "metadata": {
    "slideshow": {
     "slide_type": "slide"
    }
   },
   "source": [
    "# In Class Activity B:\n",
    "By copy-pasting and modifying the `Account` class above, create a new class `AccountTaxable` which has the following upgrades:\n",
    "- includes a new attribute `kind` which stores a string \n",
    "    - e.g. 'checking', 'savings', 'brokerage', 'creepy-secret-offshore-unethical-kind-of-thing'\n",
    "        - you needn't ensure the input is one of these particular strings\n",
    "- the method `AccountTaxable.withdraw()` now checks to ensure there is a sufficient balance in the account before operating.  If requested withdraw amount is greater than the balance, throw an error (i.e. `assert`)\n",
    "- add a new method `AccountTaxable.tax()` which accepts a single variable `rate` which is a float betweeen 0 and 1.  \n",
    "    - The `taxed_amount` is computed as `AccountTaxable.balance * rate`.  \n",
    "    - Reduce the balance by `taxed_amount`\n",
    "    - return `taxed_amount` \n",
    "        - so the user of our object can see how much tax was assessed\n",
    "    - throw an error if account type is 'creepy-secret-offshore-unethical-kind-of-thing'\n",
    "        - how silly of our user ... we couldn't tax these kinds of accounts!\n",
    "        \n",
    "While modifying the Class `AccountTaxable`, create a few objects (i.e. `bob_checking = AccountTaxable(...)`) and call the methods modified to ensure that the behavior you're after is implemented correctly.     \n"
   ]
  },
  {
   "cell_type": "code",
   "execution_count": 4,
   "id": "3b98d8e6",
   "metadata": {},
   "outputs": [],
   "source": [
    "class AccountTaxable:\n",
    "    \"\"\" a bank account\n",
    "    \n",
    "    Attributes:\n",
    "        owner (str): owner of account\n",
    "        kind (str): type of account (checking, savings...)\n",
    "        balance (float): how much money is in it\n",
    "        active (bool): true if account is open, false if account is closed.  \n",
    "            deposit() and withdraw() only work on active accounts\n",
    "    \"\"\"\n",
    "    def __init__(self, owner, kind, balance=0, active=True):\n",
    "        self.owner = owner\n",
    "        self.kind = kind\n",
    "        self.balance = balance\n",
    "        self.active = active\n",
    "        \n",
    "    def __repr__(self):\n",
    "        return f'Account(owner={self.owner}, kind={self.kind}, balance={self.balance}, active={self.active})'\n",
    "        \n",
    "    def deposit(self, value):\n",
    "        \"\"\" add input value to account balance \n",
    "        \n",
    "        Args:\n",
    "            value (float): input value\n",
    "        \"\"\"\n",
    "        assert self.active, 'account is inactive'\n",
    "        self.balance = self.balance + value\n",
    "        \n",
    "    def withdraw(self, value):\n",
    "        \"\"\" withdraw value from account balance\n",
    "        \n",
    "        Args:\n",
    "            value (float): input value\n",
    "        \"\"\"\n",
    "        assert self.active, 'account is inactive'\n",
    "        assert self.balance >= value\n",
    "        \n",
    "        self.balance = self.balance - value\n",
    "        \n",
    "    def deactivate(self):\n",
    "        \"\"\" closes account, no more deposit / withdraws possible \"\"\"\n",
    "        self.active = False\n",
    "        \n",
    "    def activate(self):\n",
    "        \"\"\" activates account, deposit / withdraws possible \"\"\"\n",
    "        self.active = True \n",
    "        \n",
    "    def tax(rate):\n",
    "        \"\"\" assess tax amount and remove funds from balance\n",
    "        \n",
    "        Args:\n",
    "            rate (float): value between 0 and 1\n",
    "        \"\"\"\n",
    "        assert self.kind != \"creepy-secret-offshore-unethical-kind-of-thing\"\n",
    "        \n",
    "        taxed_amount = self.balance * rate\n",
    "        self.balance -= taxed_amount\n",
    "        return taxed_amount"
   ]
  },
  {
   "cell_type": "markdown",
   "id": "b6d6838a",
   "metadata": {
    "slideshow": {
     "slide_type": "slide"
    }
   },
   "source": [
    "# In Class Activity C (if time)\n",
    "\n",
    "Build an `AccountSimple` class which is a bank account class having attributes:\n",
    "- owner (str)\n",
    "- balance (float)\n",
    "- heir_list (list of strings)\n",
    "    - default to empty list\n",
    "        - feels like a potential bug we've seen recently ...\n",
    "        \n",
    "Your `AccountSimple` should have methods:\n",
    "- `AccountSimple.__init__()`\n",
    "- (++)`AccountSimple.give_to_heirs()`\n",
    "    - the accounts balance is evenly distributed to all heirs\n",
    "        - account balance should be 0 after running this method\n",
    "    - returns a list of `AccountSimple` objects for each heir\n",
    "        - heir accounts created with proper owner & balance\n",
    "            - each heir account should be built with default `heir_list`\n"
   ]
  },
  {
   "cell_type": "code",
   "execution_count": 5,
   "id": "5ba4e2ff",
   "metadata": {},
   "outputs": [],
   "source": [
    "class AccountSimple:\n",
    "    \"\"\" a simple bank account\n",
    "    \n",
    "    Attributes:\n",
    "        owner (str): owner of account\n",
    "        balance (float): amount of money in account\n",
    "        heir_list (list): a list of strings, each an heir to the account\n",
    "    \"\"\"\n",
    "    def __init__(self, owner, balance = 0, heir_list = None):\n",
    "        self.owner = owner\n",
    "        self.balance = balance\n",
    "        self.heir_list = heir_list\n",
    "        \n",
    "    def __repr__(self):\n",
    "        return f\"Account(owner = {self.owner}, balance = {self.balance}, heir_list = {self.heir_list})\"\n",
    "    \n",
    "    def give_to_heirs():\n",
    "        \"\"\" distributes funds evenly among heirs\n",
    "        \"\"\"\n",
    "        assert self.heir_list != None\n",
    "        \n",
    "        amt = self.balance / len(heir_list)\n",
    "        for item in self.heir_list:\n",
    "            item_account = AccountSimple(item, amt)\n",
    "        self.balance = 0"
   ]
  }
 ],
 "metadata": {
  "celltoolbar": "Slideshow",
  "kernelspec": {
   "display_name": "Python 3 (ipykernel)",
   "language": "python",
   "name": "python3"
  },
  "language_info": {
   "codemirror_mode": {
    "name": "ipython",
    "version": 3
   },
   "file_extension": ".py",
   "mimetype": "text/x-python",
   "name": "python",
   "nbconvert_exporter": "python",
   "pygments_lexer": "ipython3",
   "version": "3.11.1"
  }
 },
 "nbformat": 4,
 "nbformat_minor": 5
}
