{
 "cells": [
  {
   "cell_type": "markdown",
   "metadata": {
    "slideshow": {
     "slide_type": "slide"
    }
   },
   "source": [
    "## In Class Activity A\n",
    "A horrible autograder assigns students arbitrary grades for the quizzes they take.\n",
    "Let's assume that:\n",
    "- `n_student=5` students take each quiz\n",
    "- `n_quiz=3` quizzes are taken\n",
    "\n",
    "1. Record all student grades in a two dimensional `np.array`\n",
    "    - **together:** should a student be a row or a column?\n",
    "    - make up all the grades, use simple values to allow for easy testing (e.g. 0, 1, 2, 3, ...)\n",
    "1. Use the functions we just learned to answer:\n",
    "    1. what's the mean score among all the students and quizzes?\n",
    "    1. what's the mean score of the student who was had the highest average?\n",
    "    1. which quiz had the lowest mean score?\n",
    "        - we don't want the score, we want to know which quiz it was, 0, 1 or 2\n"
   ]
  },
  {
   "cell_type": "code",
   "execution_count": 1,
   "metadata": {},
   "outputs": [
    {
     "data": {
      "text/plain": [
       "array([[ 1,  2,  3],\n",
       "       [ 4,  5,  6],\n",
       "       [ 7,  8,  9],\n",
       "       [10, 11, 12],\n",
       "       [13, 14, 15]])"
      ]
     },
     "execution_count": 1,
     "metadata": {},
     "output_type": "execute_result"
    }
   ],
   "source": [
    "import numpy as np\n",
    "\n",
    "grade = np.arange(1,16).reshape(5, 3)\n",
    "grade"
   ]
  },
  {
   "cell_type": "code",
   "execution_count": 2,
   "metadata": {},
   "outputs": [],
   "source": [
    "# 2.A\n",
    "grade.mean()\n",
    "# = 8.0\n",
    "\n",
    "# 2.B\n",
    "grade.mean(axis = 1)\n",
    "# array([2., 5., 8., 11., 14.])\n",
    "# = 14.0\n",
    "\n",
    "# 2.C\n",
    "grade.mean(axis = 0);\n",
    "# array[7., 8., 9.]\n",
    "# the first quiz had the lowest mean score"
   ]
  },
  {
   "cell_type": "markdown",
   "metadata": {
    "slideshow": {
     "slide_type": "slide"
    }
   },
   "source": [
    "# In Class Activity B\n",
    "\n",
    "Complete steps 1 and 2 of the process above to build [tic-tac-toe](https://en.wikipedia.org/wiki/Tic-tac-toe), playable via user `input()`s in jupyter.\n",
    "\n",
    "- know there isn't one \"right\" answer here, though some designs are certainly more complex than others\n",
    "- as a guide, it may help to know my function includes 3 functions but you're welcome to build differently\n",
    "- test cases for user interfaces are tough to write, feel free to describe with a bit of text or show example output (as lab0: part 1 does)\n"
   ]
  },
  {
   "cell_type": "markdown",
   "metadata": {},
   "source": [
    "## Step 1. Program Design\n",
    "user interface\n",
    "    \n",
    "    - user one input\n",
    "    - user two input\n",
    "        - requery if invalid input\n",
    "\n",
    "program function\n",
    "    \n",
    "    conduct round:\n",
    "    - evaluate inputs\n",
    "    - plot tic/tac/toe inputs into numpy array\n",
    "    - print array\n",
    "   *conduct round until one player gets three in a row or forced draw*"
   ]
  },
  {
   "cell_type": "code",
   "execution_count": null,
   "metadata": {},
   "outputs": [],
   "source": [
    "import numpy as np\n",
    "\n",
    "def conduct_round(board):\n",
    "    \"\"\" conducts a round of tic/tac/toe\n",
    "    \n",
    "    args:\n",
    "    -------\n",
    "        board (np.array): a 3x3 array representing a tic/tac/toe board\n",
    "    \n",
    "    returns:\n",
    "    -------\n",
    "        board (np.array): an updated array showing the board at the end of the round\n",
    "    \n",
    "    \"\"\"\n",
    "    # validate correct inputs given\n",
    "    if True:\n",
    "        user1_rsp = input(\"please input a row, column index: \")\n",
    "        user2_rsp = input(\"please input a row, column index: \")\n",
    "        \n",
    "        # assert board[row1, col1] and board[row2, col2] == 0, \"please select a different square\"\n",
    "        # assert board[row1, col1] != board[row2, col2], \"please select separate squares\"\n",
    "        \n",
    "        # user1_rsp -> row1, col1\n",
    "        # user2_rsp -> row2, col2\n",
    "    \n",
    "    # plot inputs into numpy array\n",
    "    board[row1, col1] = \"X\"\n",
    "    board[row2, col2] = \"O\"\n",
    "    \n",
    "    # determine round outcome (win? draw?)\n",
    "    # conditional if/elif block\n",
    "        # check for three in a row horizontally/vertically/diagonally\n",
    "        # check if all boxes are full for a draw\n",
    "    \n",
    "    # display board\n",
    "    print(board)\n",
    "    return board\n",
    "    \n",
    "# initialize board\n",
    "board = np.zeros(3)\n",
    "\n",
    "conduct_round(board)"
   ]
  }
 ],
 "metadata": {
  "celltoolbar": "Slideshow",
  "kernelspec": {
   "display_name": "Python 3 (ipykernel)",
   "language": "python",
   "name": "python3"
  },
  "language_info": {
   "codemirror_mode": {
    "name": "ipython",
    "version": 3
   },
   "file_extension": ".py",
   "mimetype": "text/x-python",
   "name": "python",
   "nbconvert_exporter": "python",
   "pygments_lexer": "ipython3",
   "version": "3.11.1"
  }
 },
 "nbformat": 4,
 "nbformat_minor": 4
}
