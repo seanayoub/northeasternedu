{
 "cells": [
  {
   "cell_type": "markdown",
   "id": "7b79a60a",
   "metadata": {
    "slideshow": {
     "slide_type": "slide"
    }
   },
   "source": [
    "# DS2500 Lesson10\n",
    "\n",
    "Feb 14, 2023"
   ]
  },
  {
   "cell_type": "markdown",
   "id": "e94193e5",
   "metadata": {
    "slideshow": {
     "slide_type": "slide"
    }
   },
   "source": [
    "## In Class Activity A\n",
    "\n",
    "1. Add an `Employee.input_time()` method which adds income for time worked by an employee.  \n",
    "2. Complete the `Employee.compute_tax()` method below.  Specifications are given in the docstring below.  For **every** `Employee`:\n",
    "    - income_tax_threshold = 100\n",
    "    - income_tax_rate = .1\n",
    "    \n",
    "You are given test cases for the completed `Employee` class just below.  Be sure to study these test cases to ensure you understand the expected behavior before implementing the methods.\n"
   ]
  },
  {
   "cell_type": "code",
   "execution_count": 5,
   "id": "4e9ce3a7",
   "metadata": {},
   "outputs": [],
   "source": [
    "class Employee: \n",
    "    \"\"\" stores accounting information for a single employee\n",
    "    \n",
    "    Attributes:\n",
    "        name (str): employee name\n",
    "        rate_day (float): how much money an employee makes in a day\n",
    "        income (float): total amount owed to the employee\n",
    "    \"\"\"\n",
    "    income_tax_threshold = 100\n",
    "    income_tax_rate = .1   \n",
    "        \n",
    "    def __init__(self, name, rate_day, income=0):\n",
    "        self.name = name\n",
    "        self.rate_day = rate_day\n",
    "        self.income = 0\n",
    "        \n",
    "    def __repr__(self):\n",
    "        return f'Employee(name={self.name}, rate_day={self.rate_day}, income={self.income})'\n",
    "    \n",
    "    def input_time(self, day):\n",
    "        \"\"\" adds income for time worked by an employee\n",
    "        \n",
    "        Args:\n",
    "            day (float): number of days worked\n",
    "        \"\"\"\n",
    "        self.income += day * self.rate_day\n",
    "    \n",
    "    def compute_tax(self):\n",
    "        \"\"\" computes taxes the employee owes\n",
    "        \n",
    "        - no taxes are paid on the first Employee.income_tax_threshold \n",
    "            dollars an employee makes.\n",
    "        - any more income is taxed at a rate of Employee.income_tax_rate\n",
    "        \n",
    "        For example, when income_tax_threshold =100 and income_tax_rate=.1:\n",
    "        - an employee whose income is 40 has a tax of 0\n",
    "        - an employee whose income is 101 has a tax of .1\n",
    "            - (1 dollar above threshold taxed at a rate of .1)\n",
    "        \"\"\"\n",
    "        taxable_income = max(self.income - Employee.income_tax_threshold, 0)\n",
    "        return taxable_income * Employee.income_tax_rate"
   ]
  },
  {
   "cell_type": "code",
   "execution_count": 6,
   "id": "f5c64f9b",
   "metadata": {},
   "outputs": [],
   "source": [
    "# tests: __init__() and __repr__()\n",
    "bob_employee = Employee(name='Bob Lastname', rate_day=3)\n",
    "assert str(bob_employee) == 'Employee(name=Bob Lastname, rate_day=3, income=0)'\n",
    "\n",
    "# test: input_time()\n",
    "bob_employee.input_time(day=100)\n",
    "assert str(bob_employee) == 'Employee(name=Bob Lastname, rate_day=3, income=300)'\n",
    "\n",
    "# test: compute_tax()\n",
    "assert bob_employee.compute_tax() == 20\n",
    "\n",
    "# test: compute_tax where income is less than taxable threshold\n",
    "mo_employee = Employee(name='Mo Lastname', rate_day=10) \n",
    "assert mo_employee.compute_tax() == 0\n",
    "\n",
    "# test: input_time with a different rate\n",
    "mo_employee.input_time(day=18)\n",
    "assert str(mo_employee) == 'Employee(name=Mo Lastname, rate_day=10, income=180)'"
   ]
  },
  {
   "cell_type": "markdown",
   "id": "dd93e6e3",
   "metadata": {
    "slideshow": {
     "slide_type": "slide"
    }
   },
   "source": [
    "# In Class Activity B\n",
    "\n",
    "1. Complete the `EmployeeWithActive` class definition below by:\n",
    "    - adding a `activate()` method which sets attribute `active=True`\n",
    "    - adding a `deactivate()` method which sets attribute `active=False`\n",
    "    - adding a `EmployeeWithActive.input_time()` method which `assert()`s `active=True` before inputting time\n",
    "        - we shouldn't repeat the code in `Employee.input_time()` ...\n",
    "        - ... is there a way we can specify a method from a particular class?\n",
    "    \n",
    "2. Ensure your code works by writing a few quick test cases which validate the behavior\n",
    "    \n",
    "3. Check-your-understanding questions:\n",
    "    - After defining `EmployeeWithActive`, does `Employee` now have attribute `active`?  Why or why not?\n",
    "    - From your implementation of `EmployeeWithActive`:\n",
    "```python\n",
    "employee_with_active = EmployeeWithActive(name='asdf', rate_day=1)\n",
    "employee_with_active.input_time(day=10)\n",
    "```\n",
    "        - how/when is `EmployeeWithActive.input_time()` called immediately above?\n",
    "        - how/when is `Employee.input_time()` called immediately above?\n"
   ]
  },
  {
   "cell_type": "code",
   "execution_count": 8,
   "id": "2e4e3b23",
   "metadata": {},
   "outputs": [],
   "source": [
    "class EmployeeWithActive(Employee):\n",
    "    \"\"\" subclass of Employee, also includes active state\n",
    "    \n",
    "    checks to ensure only active employees `input_time()`, otherwise\n",
    "    throws an error\n",
    "    \n",
    "    Attributes:\n",
    "        active_bool (bool): True if employee is active\n",
    "    \"\"\"\n",
    "    def __init__(self, name, rate_day, active=True, income=0): \n",
    "        # notice: to call __init__ with this syntax, we pass self\n",
    "        Employee.__init__(self=self, name=name, rate_day=rate_day, income=income)\n",
    "        \n",
    "        self.active = active\n",
    "        \n",
    "    def __repr__(self):\n",
    "        return f'EmployeeWithActive(name={self.name}, rate_day={self.rate_day}, active={self.active}, income={self.income})'\n",
    "        \n",
    "    def activate(self):\n",
    "        \"\"\" activates an employee \"\"\"\n",
    "        self.active = True\n",
    "        \n",
    "    def deactivate(self):\n",
    "        \"\"\" deactivates an employee \"\"\"\n",
    "        self.active = False\n",
    "        \n",
    "    def input_time(self, day):\n",
    "        assert self.active\n",
    "        Employee.input_time(self, day)"
   ]
  },
  {
   "cell_type": "code",
   "execution_count": 12,
   "id": "1193dbd4",
   "metadata": {},
   "outputs": [
    {
     "ename": "AssertionError",
     "evalue": "",
     "output_type": "error",
     "traceback": [
      "\u001b[1;31m---------------------------------------------------------------------------\u001b[0m",
      "\u001b[1;31mAssertionError\u001b[0m                            Traceback (most recent call last)",
      "Cell \u001b[1;32mIn[12], line 3\u001b[0m\n\u001b[0;32m      1\u001b[0m name \u001b[38;5;241m=\u001b[39m EmployeeWithActive(\u001b[38;5;124m\"\u001b[39m\u001b[38;5;124mname\u001b[39m\u001b[38;5;124m\"\u001b[39m, \u001b[38;5;241m10\u001b[39m)\n\u001b[0;32m      2\u001b[0m name\u001b[38;5;241m.\u001b[39mdeactivate()\n\u001b[1;32m----> 3\u001b[0m \u001b[43mname\u001b[49m\u001b[38;5;241;43m.\u001b[39;49m\u001b[43minput_time\u001b[49m\u001b[43m(\u001b[49m\u001b[38;5;241;43m10\u001b[39;49m\u001b[43m)\u001b[49m\n",
      "Cell \u001b[1;32mIn[8], line 28\u001b[0m, in \u001b[0;36mEmployeeWithActive.input_time\u001b[1;34m(self, day)\u001b[0m\n\u001b[0;32m     27\u001b[0m \u001b[38;5;28;01mdef\u001b[39;00m \u001b[38;5;21minput_time\u001b[39m(\u001b[38;5;28mself\u001b[39m, day):\n\u001b[1;32m---> 28\u001b[0m     \u001b[38;5;28;01massert\u001b[39;00m \u001b[38;5;28mself\u001b[39m\u001b[38;5;241m.\u001b[39mactive\n\u001b[0;32m     29\u001b[0m     Employee\u001b[38;5;241m.\u001b[39minput_time(\u001b[38;5;28mself\u001b[39m, day)\n",
      "\u001b[1;31mAssertionError\u001b[0m: "
     ]
    }
   ],
   "source": [
    "name = EmployeeWithActive(\"name\", 10)\n",
    "name.deactivate()\n",
    "name.input_time(10)"
   ]
  },
  {
   "cell_type": "markdown",
   "id": "0d871682",
   "metadata": {},
   "source": [
    "Employee does not have the attribute \"active\" because attributes within a subclass are only available to that subclass."
   ]
  }
 ],
 "metadata": {
  "celltoolbar": "Slideshow",
  "kernelspec": {
   "display_name": "Python 3 (ipykernel)",
   "language": "python",
   "name": "python3"
  },
  "language_info": {
   "codemirror_mode": {
    "name": "ipython",
    "version": 3
   },
   "file_extension": ".py",
   "mimetype": "text/x-python",
   "name": "python",
   "nbconvert_exporter": "python",
   "pygments_lexer": "ipython3",
   "version": "3.11.1"
  }
 },
 "nbformat": 4,
 "nbformat_minor": 5
}
