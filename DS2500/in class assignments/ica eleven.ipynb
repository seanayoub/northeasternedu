{
 "cells": [
  {
   "cell_type": "markdown",
   "id": "0c4ff280",
   "metadata": {
    "slideshow": {
     "slide_type": "slide"
    }
   },
   "source": [
    "### In Class Assignment A\n",
    "For each column in the dataset below:\n",
    "1. identify\n",
    "1. compute\n",
    "1. justify \n",
    "\n",
    "which of the \n",
    "\n",
    "- mean\n",
    "- median\n",
    "- mode \n",
    "\n",
    "is the best measure of the average of the data."
   ]
  },
  {
   "cell_type": "code",
   "execution_count": 2,
   "id": "04f5457d",
   "metadata": {
    "scrolled": true,
    "slideshow": {
     "slide_type": "-"
    }
   },
   "outputs": [
    {
     "data": {
      "text/html": [
       "<div>\n",
       "<style scoped>\n",
       "    .dataframe tbody tr th:only-of-type {\n",
       "        vertical-align: middle;\n",
       "    }\n",
       "\n",
       "    .dataframe tbody tr th {\n",
       "        vertical-align: top;\n",
       "    }\n",
       "\n",
       "    .dataframe thead th {\n",
       "        text-align: right;\n",
       "    }\n",
       "</style>\n",
       "<table border=\"1\" class=\"dataframe\">\n",
       "  <thead>\n",
       "    <tr style=\"text-align: right;\">\n",
       "      <th></th>\n",
       "      <th>x</th>\n",
       "      <th>y</th>\n",
       "      <th>zip code</th>\n",
       "    </tr>\n",
       "  </thead>\n",
       "  <tbody>\n",
       "    <tr>\n",
       "      <th>0</th>\n",
       "      <td>-10</td>\n",
       "      <td>0.1</td>\n",
       "      <td>2215</td>\n",
       "    </tr>\n",
       "    <tr>\n",
       "      <th>1</th>\n",
       "      <td>10</td>\n",
       "      <td>1.0</td>\n",
       "      <td>2215</td>\n",
       "    </tr>\n",
       "    <tr>\n",
       "      <th>2</th>\n",
       "      <td>-10</td>\n",
       "      <td>10.0</td>\n",
       "      <td>2215</td>\n",
       "    </tr>\n",
       "    <tr>\n",
       "      <th>3</th>\n",
       "      <td>10</td>\n",
       "      <td>100.0</td>\n",
       "      <td>2215</td>\n",
       "    </tr>\n",
       "    <tr>\n",
       "      <th>4</th>\n",
       "      <td>-10</td>\n",
       "      <td>1000.0</td>\n",
       "      <td>2215</td>\n",
       "    </tr>\n",
       "    <tr>\n",
       "      <th>5</th>\n",
       "      <td>10</td>\n",
       "      <td>10000.0</td>\n",
       "      <td>90210</td>\n",
       "    </tr>\n",
       "  </tbody>\n",
       "</table>\n",
       "</div>"
      ],
      "text/plain": [
       "    x        y  zip code\n",
       "0 -10      0.1      2215\n",
       "1  10      1.0      2215\n",
       "2 -10     10.0      2215\n",
       "3  10    100.0      2215\n",
       "4 -10   1000.0      2215\n",
       "5  10  10000.0     90210"
      ]
     },
     "execution_count": 2,
     "metadata": {},
     "output_type": "execute_result"
    }
   ],
   "source": [
    "import pandas as pd\n",
    "\n",
    "df = pd.DataFrame({'x': [-10, 10, -10, 10, -10, 10],\n",
    "                   'y': [.1, 1, 10, 100, 1000, 10000],\n",
    "                   'zip code': [2215, 2215, 2215, 2215, 2215, 90210]})\n",
    "\n",
    "df"
   ]
  },
  {
   "cell_type": "code",
   "execution_count": 3,
   "id": "27df1dcd",
   "metadata": {},
   "outputs": [
    {
     "data": {
      "text/plain": [
       "x              0.0\n",
       "y             55.0\n",
       "zip code    2215.0\n",
       "dtype: float64"
      ]
     },
     "execution_count": 3,
     "metadata": {},
     "output_type": "execute_result"
    }
   ],
   "source": [
    "df.median(axis = 0)"
   ]
  },
  {
   "cell_type": "code",
   "execution_count": 4,
   "id": "ba64ca1c",
   "metadata": {},
   "outputs": [
    {
     "data": {
      "text/plain": [
       "x               0.000000\n",
       "y            1851.850000\n",
       "zip code    16880.833333\n",
       "dtype: float64"
      ]
     },
     "execution_count": 4,
     "metadata": {},
     "output_type": "execute_result"
    }
   ],
   "source": [
    "df.mean(axis = 0)"
   ]
  },
  {
   "cell_type": "code",
   "execution_count": 5,
   "id": "0eae1f60",
   "metadata": {},
   "outputs": [
    {
     "data": {
      "text/plain": [
       "-10    3\n",
       " 10    3\n",
       "Name: x, dtype: int64"
      ]
     },
     "execution_count": 5,
     "metadata": {},
     "output_type": "execute_result"
    }
   ],
   "source": [
    "df['x'].value_counts()"
   ]
  },
  {
   "cell_type": "code",
   "execution_count": 6,
   "id": "3ad8170a",
   "metadata": {},
   "outputs": [
    {
     "data": {
      "text/plain": [
       "0.1        1\n",
       "1.0        1\n",
       "10.0       1\n",
       "100.0      1\n",
       "1000.0     1\n",
       "10000.0    1\n",
       "Name: y, dtype: int64"
      ]
     },
     "execution_count": 6,
     "metadata": {},
     "output_type": "execute_result"
    }
   ],
   "source": [
    "df[\"y\"].value_counts()"
   ]
  },
  {
   "cell_type": "code",
   "execution_count": 7,
   "id": "8be13934",
   "metadata": {},
   "outputs": [
    {
     "data": {
      "text/plain": [
       "2215     5\n",
       "90210    1\n",
       "Name: zip code, dtype: int64"
      ]
     },
     "execution_count": 7,
     "metadata": {},
     "output_type": "execute_result"
    }
   ],
   "source": [
    "df[\"zip code\"].value_counts()"
   ]
  },
  {
   "cell_type": "markdown",
   "id": "a07ca22b",
   "metadata": {
    "slideshow": {
     "slide_type": "slide"
    }
   },
   "source": [
    "## In Class Assignment B\n",
    "\n",
    "    set A: 4, 6, 8, 6, 2, 10\n",
    "\n",
    "    set B: -100, 100, -100, 100\n",
    "\n",
    "1. Using your intuition and the definitions of sample mean and sample variance, tell which set:\n",
    "- has the largest sample mean\n",
    "- has the largest sample variance\n",
    "\n",
    "2. Then, with pencil and paper, compute the sample mean and sample variance of each.\n",
    "\n",
    "3. Finally, use pandas to compute the sample mean and variance of each set to validate your solution"
   ]
  },
  {
   "cell_type": "code",
   "execution_count": 11,
   "id": "7207f54e",
   "metadata": {},
   "outputs": [
    {
     "data": {
      "text/plain": [
       "8.0"
      ]
     },
     "execution_count": 11,
     "metadata": {},
     "output_type": "execute_result"
    }
   ],
   "source": [
    "a = [4, 6, 8, 6, 2, 10]\n",
    "pd.Series(a).var()"
   ]
  },
  {
   "cell_type": "code",
   "execution_count": 10,
   "id": "68e7a8ff",
   "metadata": {},
   "outputs": [
    {
     "data": {
      "text/plain": [
       "13333.333333333334"
      ]
     },
     "execution_count": 10,
     "metadata": {},
     "output_type": "execute_result"
    }
   ],
   "source": [
    "b = [-100, 100, -100, 100]\n",
    "pd.Series(b).var()"
   ]
  },
  {
   "cell_type": "markdown",
   "id": "16b740cf",
   "metadata": {
    "slideshow": {
     "slide_type": "slide"
    }
   },
   "source": [
    "## In Class Assignment C\n",
    "\n",
    "Each of the scatters below shows two features, each with a mean of 0.  Match the scatter above with the covariance matrices below (each scatter corresponds to a unique covariance matrix).\n",
    "\n",
    "<img src=\"https://i.ibb.co/kcN8TvM/cov-match.png\" alt=\"Drawing\" style=\"width: 800px;\"/>"
   ]
  },
  {
   "cell_type": "markdown",
   "id": "b42d40a1",
   "metadata": {},
   "source": [
    "- A <- 4\n",
    "- B <- 1\n",
    "- C <- 2\n",
    "- D <- 5\n",
    "- E <- 0\n",
    "- F <- 3"
   ]
  }
 ],
 "metadata": {
  "celltoolbar": "Slideshow",
  "kernelspec": {
   "display_name": "Python 3 (ipykernel)",
   "language": "python",
   "name": "python3"
  },
  "language_info": {
   "codemirror_mode": {
    "name": "ipython",
    "version": 3
   },
   "file_extension": ".py",
   "mimetype": "text/x-python",
   "name": "python",
   "nbconvert_exporter": "python",
   "pygments_lexer": "ipython3",
   "version": "3.11.1"
  }
 },
 "nbformat": 4,
 "nbformat_minor": 5
}
