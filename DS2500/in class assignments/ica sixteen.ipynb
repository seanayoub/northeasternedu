{
 "cells": [
  {
   "cell_type": "markdown",
   "metadata": {
    "slideshow": {
     "slide_type": "slide"
    }
   },
   "source": [
    "## In Class Assignment 1\n",
    "\n",
    "1. Using the dataset of taxi cab rides, lets see how much progress we can make reverse-engineering the pricing structure into the form:\n",
    "\n",
    "`total` = a_0 + a_1 * `distance` + a_2 * `tolls` + a_3 * `tip` + a_4 * `fare` + a_5 * `passengers`\n",
    "\n",
    "so that one can predict the cost of future rides.\n",
    "\n",
    "2. Are you sure that this formula is the same that the taxi uses?  Explain why or why not\n",
    "    - synthesize your real world knowledge of cab rides with the results\n",
    "\n",
    "3. (++) We expect `tip` and `tolls` to be passed directly onto customer (forcing their `a_i` coefficient to be exactly one above).  How can we build a model which accomplishes this while still optimizing the other coefficients?"
   ]
  },
  {
   "cell_type": "code",
   "execution_count": 11,
   "metadata": {},
   "outputs": [
    {
     "data": {
      "text/html": [
       "<div>\n",
       "<style scoped>\n",
       "    .dataframe tbody tr th:only-of-type {\n",
       "        vertical-align: middle;\n",
       "    }\n",
       "\n",
       "    .dataframe tbody tr th {\n",
       "        vertical-align: top;\n",
       "    }\n",
       "\n",
       "    .dataframe thead th {\n",
       "        text-align: right;\n",
       "    }\n",
       "</style>\n",
       "<table border=\"1\" class=\"dataframe\">\n",
       "  <thead>\n",
       "    <tr style=\"text-align: right;\">\n",
       "      <th></th>\n",
       "      <th>pickup</th>\n",
       "      <th>dropoff</th>\n",
       "      <th>passengers</th>\n",
       "      <th>distance</th>\n",
       "      <th>fare</th>\n",
       "      <th>tip</th>\n",
       "      <th>tolls</th>\n",
       "      <th>total</th>\n",
       "      <th>color</th>\n",
       "      <th>payment</th>\n",
       "      <th>pickup_zone</th>\n",
       "      <th>dropoff_zone</th>\n",
       "      <th>pickup_borough</th>\n",
       "      <th>dropoff_borough</th>\n",
       "    </tr>\n",
       "  </thead>\n",
       "  <tbody>\n",
       "    <tr>\n",
       "      <th>0</th>\n",
       "      <td>2019-03-23 20:21:09</td>\n",
       "      <td>2019-03-23 20:27:24</td>\n",
       "      <td>1</td>\n",
       "      <td>1.60</td>\n",
       "      <td>7.0</td>\n",
       "      <td>2.15</td>\n",
       "      <td>0.0</td>\n",
       "      <td>12.95</td>\n",
       "      <td>yellow</td>\n",
       "      <td>credit card</td>\n",
       "      <td>Lenox Hill West</td>\n",
       "      <td>UN/Turtle Bay South</td>\n",
       "      <td>Manhattan</td>\n",
       "      <td>Manhattan</td>\n",
       "    </tr>\n",
       "    <tr>\n",
       "      <th>1</th>\n",
       "      <td>2019-03-04 16:11:55</td>\n",
       "      <td>2019-03-04 16:19:00</td>\n",
       "      <td>1</td>\n",
       "      <td>0.79</td>\n",
       "      <td>5.0</td>\n",
       "      <td>0.00</td>\n",
       "      <td>0.0</td>\n",
       "      <td>9.30</td>\n",
       "      <td>yellow</td>\n",
       "      <td>cash</td>\n",
       "      <td>Upper West Side South</td>\n",
       "      <td>Upper West Side South</td>\n",
       "      <td>Manhattan</td>\n",
       "      <td>Manhattan</td>\n",
       "    </tr>\n",
       "    <tr>\n",
       "      <th>2</th>\n",
       "      <td>2019-03-27 17:53:01</td>\n",
       "      <td>2019-03-27 18:00:25</td>\n",
       "      <td>1</td>\n",
       "      <td>1.37</td>\n",
       "      <td>7.5</td>\n",
       "      <td>2.36</td>\n",
       "      <td>0.0</td>\n",
       "      <td>14.16</td>\n",
       "      <td>yellow</td>\n",
       "      <td>credit card</td>\n",
       "      <td>Alphabet City</td>\n",
       "      <td>West Village</td>\n",
       "      <td>Manhattan</td>\n",
       "      <td>Manhattan</td>\n",
       "    </tr>\n",
       "    <tr>\n",
       "      <th>3</th>\n",
       "      <td>2019-03-10 01:23:59</td>\n",
       "      <td>2019-03-10 01:49:51</td>\n",
       "      <td>1</td>\n",
       "      <td>7.70</td>\n",
       "      <td>27.0</td>\n",
       "      <td>6.15</td>\n",
       "      <td>0.0</td>\n",
       "      <td>36.95</td>\n",
       "      <td>yellow</td>\n",
       "      <td>credit card</td>\n",
       "      <td>Hudson Sq</td>\n",
       "      <td>Yorkville West</td>\n",
       "      <td>Manhattan</td>\n",
       "      <td>Manhattan</td>\n",
       "    </tr>\n",
       "    <tr>\n",
       "      <th>4</th>\n",
       "      <td>2019-03-30 13:27:42</td>\n",
       "      <td>2019-03-30 13:37:14</td>\n",
       "      <td>3</td>\n",
       "      <td>2.16</td>\n",
       "      <td>9.0</td>\n",
       "      <td>1.10</td>\n",
       "      <td>0.0</td>\n",
       "      <td>13.40</td>\n",
       "      <td>yellow</td>\n",
       "      <td>credit card</td>\n",
       "      <td>Midtown East</td>\n",
       "      <td>Yorkville West</td>\n",
       "      <td>Manhattan</td>\n",
       "      <td>Manhattan</td>\n",
       "    </tr>\n",
       "  </tbody>\n",
       "</table>\n",
       "</div>"
      ],
      "text/plain": [
       "               pickup             dropoff  passengers  distance  fare   tip  \\\n",
       "0 2019-03-23 20:21:09 2019-03-23 20:27:24           1      1.60   7.0  2.15   \n",
       "1 2019-03-04 16:11:55 2019-03-04 16:19:00           1      0.79   5.0  0.00   \n",
       "2 2019-03-27 17:53:01 2019-03-27 18:00:25           1      1.37   7.5  2.36   \n",
       "3 2019-03-10 01:23:59 2019-03-10 01:49:51           1      7.70  27.0  6.15   \n",
       "4 2019-03-30 13:27:42 2019-03-30 13:37:14           3      2.16   9.0  1.10   \n",
       "\n",
       "   tolls  total   color      payment            pickup_zone  \\\n",
       "0    0.0  12.95  yellow  credit card        Lenox Hill West   \n",
       "1    0.0   9.30  yellow         cash  Upper West Side South   \n",
       "2    0.0  14.16  yellow  credit card          Alphabet City   \n",
       "3    0.0  36.95  yellow  credit card              Hudson Sq   \n",
       "4    0.0  13.40  yellow  credit card           Midtown East   \n",
       "\n",
       "            dropoff_zone pickup_borough dropoff_borough  \n",
       "0    UN/Turtle Bay South      Manhattan       Manhattan  \n",
       "1  Upper West Side South      Manhattan       Manhattan  \n",
       "2           West Village      Manhattan       Manhattan  \n",
       "3         Yorkville West      Manhattan       Manhattan  \n",
       "4         Yorkville West      Manhattan       Manhattan  "
      ]
     },
     "execution_count": 11,
     "metadata": {},
     "output_type": "execute_result"
    }
   ],
   "source": [
    "from sklearn.linear_model import LinearRegression\n",
    "from sklearn.metrics import r2_score\n",
    "import seaborn as sns\n",
    "import pandas as pd\n",
    "\n",
    "df_taxi = sns.load_dataset('taxis')\n",
    "df_taxi.head()"
   ]
  },
  {
   "cell_type": "code",
   "execution_count": 12,
   "metadata": {},
   "outputs": [
    {
     "data": {
      "text/plain": [
       "(                  pickup             dropoff  passengers  distance  fare  \\\n",
       " 0    2019-03-23 20:21:09 2019-03-23 20:27:24           1      1.60   7.0   \n",
       " 1    2019-03-04 16:11:55 2019-03-04 16:19:00           1      0.79   5.0   \n",
       " 2    2019-03-27 17:53:01 2019-03-27 18:00:25           1      1.37   7.5   \n",
       " 3    2019-03-10 01:23:59 2019-03-10 01:49:51           1      7.70  27.0   \n",
       " 4    2019-03-30 13:27:42 2019-03-30 13:37:14           3      2.16   9.0   \n",
       " ...                  ...                 ...         ...       ...   ...   \n",
       " 6428 2019-03-31 09:51:53 2019-03-31 09:55:27           1      0.75   4.5   \n",
       " 6429 2019-03-31 17:38:00 2019-03-31 18:34:23           1     18.74  58.0   \n",
       " 6430 2019-03-23 22:55:18 2019-03-23 23:14:25           1      4.14  16.0   \n",
       " 6431 2019-03-04 10:09:25 2019-03-04 10:14:29           1      1.12   6.0   \n",
       " 6432 2019-03-13 19:31:22 2019-03-13 19:48:02           1      3.85  15.0   \n",
       " \n",
       "        tip  tolls  total   color      payment            pickup_zone  \\\n",
       " 0     2.15    0.0  12.95  yellow  credit card        Lenox Hill West   \n",
       " 1     0.00    0.0   9.30  yellow         cash  Upper West Side South   \n",
       " 2     2.36    0.0  14.16  yellow  credit card          Alphabet City   \n",
       " 3     6.15    0.0  36.95  yellow  credit card              Hudson Sq   \n",
       " 4     1.10    0.0  13.40  yellow  credit card           Midtown East   \n",
       " ...    ...    ...    ...     ...          ...                    ...   \n",
       " 6428  1.06    0.0   6.36   green  credit card      East Harlem North   \n",
       " 6429  0.00    0.0  58.80   green  credit card                Jamaica   \n",
       " 6430  0.00    0.0  17.30   green         cash    Crown Heights North   \n",
       " 6431  0.00    0.0   6.80   green  credit card          East New York   \n",
       " 6432  3.36    0.0  20.16   green  credit card            Boerum Hill   \n",
       " \n",
       "                           dropoff_zone pickup_borough dropoff_borough  \n",
       " 0                  UN/Turtle Bay South      Manhattan       Manhattan  \n",
       " 1                Upper West Side South      Manhattan       Manhattan  \n",
       " 2                         West Village      Manhattan       Manhattan  \n",
       " 3                       Yorkville West      Manhattan       Manhattan  \n",
       " 4                       Yorkville West      Manhattan       Manhattan  \n",
       " ...                                ...            ...             ...  \n",
       " 6428              Central Harlem North      Manhattan       Manhattan  \n",
       " 6429  East Concourse/Concourse Village         Queens           Bronx  \n",
       " 6430                    Bushwick North       Brooklyn        Brooklyn  \n",
       " 6431      East Flatbush/Remsen Village       Brooklyn        Brooklyn  \n",
       " 6432                   Windsor Terrace       Brooklyn        Brooklyn  \n",
       " \n",
       " [6433 rows x 14 columns],\n",
       " ['distance', 'tolls', 'tip', 'passenger'],\n",
       " 'total')"
      ]
     },
     "execution_count": 12,
     "metadata": {},
     "output_type": "execute_result"
    }
   ],
   "source": [
    "y_feat = \"total\"\n",
    "x_feat_list = [\"distance\", \"tolls\", \"tip\", \"passenger\"]\n",
    "\n",
    "disp_regress = (df_taxi, x_feat_list, y_feat)\n",
    "disp_regress"
   ]
  },
  {
   "cell_type": "markdown",
   "metadata": {
    "slideshow": {
     "slide_type": "slide"
    }
   },
   "source": [
    "# In Class Assignment 2\n",
    "\n",
    "For the `first_month_covid_us.csv` dataset\n",
    "1. scatter `day` & `total_cases`\n",
    "    - between February 22 and March 22, 2020 (whole csv)\n",
    "1. fit an exponential model to the data\n",
    "1. compute / print a (not cross validated) r2 value of the exponential model\n",
    "1. (extra) print a string which shows the model itself\n",
    "\n",
    "\n",
    "$$ \\hat{y} = \\alpha_0 e^{a_1 x} $$"
   ]
  },
  {
   "cell_type": "code",
   "execution_count": 13,
   "metadata": {},
   "outputs": [
    {
     "data": {
      "text/html": [
       "<div>\n",
       "<style scoped>\n",
       "    .dataframe tbody tr th:only-of-type {\n",
       "        vertical-align: middle;\n",
       "    }\n",
       "\n",
       "    .dataframe tbody tr th {\n",
       "        vertical-align: top;\n",
       "    }\n",
       "\n",
       "    .dataframe thead th {\n",
       "        text-align: right;\n",
       "    }\n",
       "</style>\n",
       "<table border=\"1\" class=\"dataframe\">\n",
       "  <thead>\n",
       "    <tr style=\"text-align: right;\">\n",
       "      <th></th>\n",
       "      <th>day</th>\n",
       "      <th>total_cases</th>\n",
       "    </tr>\n",
       "    <tr>\n",
       "      <th>date</th>\n",
       "      <th></th>\n",
       "      <th></th>\n",
       "    </tr>\n",
       "  </thead>\n",
       "  <tbody>\n",
       "    <tr>\n",
       "      <th>2020-02-22</th>\n",
       "      <td>0</td>\n",
       "      <td>7.0</td>\n",
       "    </tr>\n",
       "    <tr>\n",
       "      <th>2020-02-23</th>\n",
       "      <td>1</td>\n",
       "      <td>8.0</td>\n",
       "    </tr>\n",
       "    <tr>\n",
       "      <th>2020-02-24</th>\n",
       "      <td>2</td>\n",
       "      <td>9.0</td>\n",
       "    </tr>\n",
       "    <tr>\n",
       "      <th>2020-02-25</th>\n",
       "      <td>3</td>\n",
       "      <td>10.0</td>\n",
       "    </tr>\n",
       "    <tr>\n",
       "      <th>2020-02-26</th>\n",
       "      <td>4</td>\n",
       "      <td>12.0</td>\n",
       "    </tr>\n",
       "  </tbody>\n",
       "</table>\n",
       "</div>"
      ],
      "text/plain": [
       "            day  total_cases\n",
       "date                        \n",
       "2020-02-22    0          7.0\n",
       "2020-02-23    1          8.0\n",
       "2020-02-24    2          9.0\n",
       "2020-02-25    3         10.0\n",
       "2020-02-26    4         12.0"
      ]
     },
     "execution_count": 13,
     "metadata": {},
     "output_type": "execute_result"
    }
   ],
   "source": [
    "df_covid = pd.read_csv(\"first_month_covid_us.csv\", index_col = \"date\")\n",
    "\n",
    "df_covid.head()"
   ]
  },
  {
   "cell_type": "code",
   "execution_count": 15,
   "metadata": {},
   "outputs": [
    {
     "ename": "NameError",
     "evalue": "name 'y_true' is not defined",
     "output_type": "error",
     "traceback": [
      "\u001b[1;31m---------------------------------------------------------------------------\u001b[0m",
      "\u001b[1;31mNameError\u001b[0m                                 Traceback (most recent call last)",
      "Cell \u001b[1;32mIn[15], line 14\u001b[0m\n\u001b[0;32m     11\u001b[0m reg\u001b[38;5;241m.\u001b[39mfit(x, np\u001b[38;5;241m.\u001b[39mlog(y))\n\u001b[0;32m     12\u001b[0m y_hat \u001b[38;5;241m=\u001b[39m np\u001b[38;5;241m.\u001b[39mexp(reg\u001b[38;5;241m.\u001b[39mpredict(x))\n\u001b[1;32m---> 14\u001b[0m r2_exp \u001b[38;5;241m=\u001b[39m r2_score(y_true \u001b[38;5;241m=\u001b[39m \u001b[43my_true\u001b[49m, y_pred \u001b[38;5;241m=\u001b[39m y_hat)\n\u001b[0;32m     16\u001b[0m a_0_pred \u001b[38;5;241m=\u001b[39m reg\u001b[38;5;241m.\u001b[39mintercept_\n\u001b[0;32m     17\u001b[0m a_1_pred \u001b[38;5;241m=\u001b[39m reg\u001b[38;5;241m.\u001b[39mcoef_[\u001b[38;5;241m0\u001b[39m]\n",
      "\u001b[1;31mNameError\u001b[0m: name 'y_true' is not defined"
     ]
    }
   ],
   "source": [
    "import numpy as np\n",
    "\n",
    "x_feat = \"day\"\n",
    "y_feat = \"total_cases\"\n",
    "\n",
    "x = df_covid.loc[:, x_feat].values\n",
    "y = df_covid.loc[:, y_feat].values\n",
    "x = x.reshape(-1, 1)\n",
    "\n",
    "reg = LinearRegression()\n",
    "reg.fit(x, np.log(y))\n",
    "y_hat = np.exp(reg.predict(x))\n",
    "\n",
    "r2_exp = r2_score(y_true = y_true, y_pred = y_hat)\n",
    "\n",
    "a_0_pred = reg.intercept_\n",
    "a_1_pred = reg.coef_[0]\n",
    "alpha0_pred = np.exp(a_0_pred)"
   ]
  },
  {
   "cell_type": "markdown",
   "metadata": {
    "slideshow": {
     "slide_type": "slide"
    }
   },
   "source": [
    "# ICA 3\n",
    "Using the x and y data generated below:\n",
    "\n",
    "1. Write a function `fit_plot_poly(x, y, degree)`:\n",
    "    - projects raw x in to polynomial features of some `degree`\n",
    "    - fits a polynomial regression model\n",
    "    - plots the result\n",
    "        - add degree of model in title\n",
    "        \n",
    "1. Loop over your `fit_plot_poly()` function to fit polynomials of degree 0, 1, 2, 3, ... 10 and respond to the questions below:\n",
    "    - what do you notice about r^2 as the degree of the polynomial increases\n",
    "    - is the polynomial with the highest r^2 the best model (hint: no).  Why not?\n",
    "        - (++) for a more compelling example, try reducing the number of observations to 11 ...\n",
    "            - its tough to see the behavior of the polynomial between the 11 observatoins (should look piecewise linear).  try making and predicting a finer grained x in your `fit_plot_poly()` which allows you to observe the polynomial's behavior\n",
    "   "
   ]
  },
  {
   "cell_type": "code",
   "execution_count": 42,
   "metadata": {},
   "outputs": [
    {
     "data": {
      "text/plain": [
       "<matplotlib.collections.PathCollection at 0x7f15c496ea10>"
      ]
     },
     "execution_count": 42,
     "metadata": {},
     "output_type": "execute_result"
    },
    {
     "data": {
      "image/png": "[encoded data removed]",
      "text/plain": [
       "<Figure size 432x288 with 1 Axes>"
      ]
     },
     "metadata": {},
     "output_type": "display_data"
    }
   ],
   "source": [
    "# initialize a polynomial and its domain\n",
    "coef = np.array([0, 1, -1, 1])\n",
    "x = np.linspace(-2, 2, 11)\n",
    "x, y = get_poly_data(coef=coef, x=x, std_dev=1)\n",
    "plt.scatter(x, y)"
   ]
  },
  {
   "cell_type": "code",
   "execution_count": null,
   "metadata": {},
   "outputs": [],
   "source": [
    "def fit_plot_poly(x, y, degree):\n",
    "    \"\"\" fits and plots a polynomial of a given degree\n",
    "    \n",
    "    Args:\n",
    "        x (np.array): (n_samples, 1) array of x inputs\n",
    "        y (np.array): (n_samples, 1) array of y inputs\n",
    "        degree (int): max degree of polynomial\n",
    "    \"\"\"\n",
    "    # create poly. from x\n",
    "    poly_project = PolynomialFeatures(degree = degree)\n",
    "    x_poly = poly_project.fit_transform(x)\n",
    "    \n",
    "    reg = LinearRegression(fit_intercept = False)\n",
    "    reg.fit(x_poly, y)"
   ]
  }
 ],
 "metadata": {
  "celltoolbar": "Slideshow",
  "kernelspec": {
   "display_name": "Python 3 (ipykernel)",
   "language": "python",
   "name": "python3"
  },
  "language_info": {
   "codemirror_mode": {
    "name": "ipython",
    "version": 3
   },
   "file_extension": ".py",
   "mimetype": "text/x-python",
   "name": "python",
   "nbconvert_exporter": "python",
   "pygments_lexer": "ipython3",
   "version": "3.11.1"
  }
 },
 "nbformat": 4,
 "nbformat_minor": 4
}
