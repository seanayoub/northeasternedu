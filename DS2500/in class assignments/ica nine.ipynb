{
 "cells": [
  {
   "cell_type": "markdown",
   "id": "544ae3c3",
   "metadata": {
    "slideshow": {
     "slide_type": "slide"
    }
   },
   "source": [
    "# In Class Activity A\n",
    "\n",
    "Build a TimeDelta object which passes the assert statements below.  Be sure to properly document your class definition.\n"
   ]
  },
  {
   "cell_type": "code",
   "execution_count": 6,
   "id": "4cdb64a0",
   "metadata": {},
   "outputs": [],
   "source": [
    "class TimeDelta:\n",
    "    \"\"\" a measurement of time between two moments\n",
    "    \n",
    "    Attributes:\n",
    "        second (int): seconds between two moments\n",
    "        minute (int): minutes between two moments\n",
    "        hour (int): hours between two moments\n",
    "    \"\"\"\n",
    "    def __init__(self, second = 0, minute = 0, hour = 0):\n",
    "        self.second = second % 60\n",
    "        \n",
    "        minute = (second // 60) + minute\n",
    "        \n",
    "        self.minute = minute % 60\n",
    "        self.hour = (minute // 60) + hour\n",
    "        \n",
    "    def __repr__(self):\n",
    "        return f\"TimeDelta(second = {self.second}, minute = {self.minute}, hour = {self.hour})\""
   ]
  },
  {
   "cell_type": "code",
   "execution_count": 7,
   "id": "a6e55b0a",
   "metadata": {},
   "outputs": [],
   "source": [
    "# build a 'TimeDelta', representing a period of time\n",
    "x = TimeDelta(second=100)\n",
    "assert str(x) == \"TimeDelta(second = 40, minute = 1, hour = 0)\"\n",
    "\n",
    "# build another time delta\n",
    "y = TimeDelta(second=100, minute=70)\n",
    "assert str(y) == \"TimeDelta(second = 40, minute = 11, hour = 1)\""
   ]
  },
  {
   "cell_type": "markdown",
   "id": "146c3310",
   "metadata": {},
   "source": [
    "# In Class Activity B\n",
    "\n",
    "Add a subtraction method to `TimeDelta` above so that it passes the asserts given below.\n",
    "\n",
    "**Hint:** I [wonder](https://docs.python.org/3/library/operator.html#mapping-operators-to-functions) what method name python looks for to do a subtraction operation? ... this is the one we should be building.\n",
    "\n",
    "(++) This might feel redundant, is there a way we could re-use existing operations to build subtraction?\n"
   ]
  },
  {
   "cell_type": "code",
   "execution_count": 8,
   "id": "caee69a7",
   "metadata": {},
   "outputs": [],
   "source": [
    "class TimeDelta:\n",
    "    \"\"\" a measurement of time between two moments\n",
    "    \n",
    "    Attributes:\n",
    "        second (int): seconds between two moments\n",
    "        minute (int): minutes between two moments\n",
    "        hour (int): hours between two moments\n",
    "    \"\"\"\n",
    "    def __init__(self, second = 0, minute = 0, hour = 0):\n",
    "        self.second = second % 60\n",
    "        \n",
    "        minute = (second // 60) + minute\n",
    "        \n",
    "        self.minute = minute % 60\n",
    "        self.hour = (minute // 60) + hour\n",
    "        \n",
    "    def __repr__(self):\n",
    "        return f\"TimeDelta(second = {self.second}, minute = {self.minute}, hour = {self.hour})\"\n",
    "    \n",
    "    def __sub__(self, other):\n",
    "        \"\"\" subtract time (must be two TimeDelta objects)\n",
    "        \n",
    "        Args:\n",
    "            other (TimeDelta): other TimeDelta object\n",
    "        \"\"\"\n",
    "        assert isinstance(other, TimeDelta), \\\n",
    "            \"TimeDelta can only be subtracted from another TimeDelta\"\n",
    "        \n",
    "        return TimeDelta(second = self.second - other.second,\n",
    "                         minute = self.minute - other.minute,\n",
    "                         hour = self.hour - other.hour)"
   ]
  },
  {
   "cell_type": "code",
   "execution_count": 12,
   "id": "13194963",
   "metadata": {},
   "outputs": [],
   "source": [
    "# build a 'TimeDelta', representing a period of time\n",
    "a = TimeDelta(second=1, minute=2, hour=3)\n",
    "b = TimeDelta(second=4, minute=5, hour=6)\n",
    "\n",
    "# notice: we can now subtract one timedelta from another\n",
    "assert str(b - a) == 'TimeDelta(second = 3, minute = 3, hour = 3)'"
   ]
  },
  {
   "cell_type": "markdown",
   "id": "8f8ccc35",
   "metadata": {},
   "source": [
    "# In Class Activity C\n",
    "\n",
    "Complete the `WordListWithStats` class definition below so that it passes the asserts which follow\n",
    "- `add_word()`\n",
    "- overload any operators used in the assert statement (`+` and `len()`)\n",
    "\n",
    "(++) We'd rather have two interfaces to build these objects:\n",
    "- passing `word_list` (in current `__init__()` method)\n",
    "- passing both `char_count` and `word_list`\n",
    "\n",
    "Is there some way to build an alternate constructor (hint: class method) which can support both interfaces?  \n",
    "- Which interface should be the official `__init__()` while the other is `from_something()`?  \n",
    "- study (and imitate) the class method in `TimeDelta2.from_string()`\n"
   ]
  },
  {
   "cell_type": "code",
   "execution_count": 17,
   "id": "b9ec4800",
   "metadata": {},
   "outputs": [],
   "source": [
    "from collections import defaultdict\n",
    "\n",
    "class WordListWithStats:\n",
    "    \"\"\" manages a list of words and character count across words \n",
    "    \n",
    "    Attributes:\n",
    "        word_list (list): a list of words\n",
    "        char_count (dict): keys are characters, values are how many\n",
    "            times character appears in all words in self.word_list\n",
    "    \"\"\"\n",
    "    def __init__(self, word_list=tuple()):\n",
    "        # init empty attribues\n",
    "        self.char_count = defaultdict(lambda: 0)\n",
    "        self.word_list = list()\n",
    "        \n",
    "        for word in word_list:\n",
    "            self.add_word(word)\n",
    "            \n",
    "    def add_word(self, word):\n",
    "        \"\"\" adds a word to the list and updates char_count\n",
    "        \n",
    "        Args:\n",
    "            word (str): a word\n",
    "        \"\"\"     \n",
    "        self.word_list.append(word)\n",
    "        \n",
    "        # update char_count\n",
    "        for c in word:\n",
    "            self.char_count[c] += 1\n",
    "            \n",
    "    def rm_word(self, word):\n",
    "        \"\"\" removes a word from list, updates char_count \n",
    "        \n",
    "        Args:\n",
    "            word (str): a word\n",
    "        \"\"\"\n",
    "        self.word_list.remove(word)      \n",
    "        for c in word:\n",
    "            self.char_count[c] -= 1\n",
    "            \n",
    "            if not self.char_count[c]:\n",
    "                # delete key if value is 0\n",
    "                del self.char_count[c]\n",
    "         \n",
    "    def __add__(self, other):\n",
    "        \"\"\" adds two WordListWithStats\n",
    "        \n",
    "        Args\n",
    "            Other (WordListWithStats):\n",
    "        \"\"\"\n",
    "        assert isinstance(other, WordListWithStats)\n",
    "        \n",
    "        word_list_both = self.word_list + other.word_list\n",
    "        return WordListWithStats(word_list = word_list_both)\n",
    "    \n",
    "    def __len__(self):\n",
    "        \"\"\" how many words are in word list \"\"\"\n",
    "        return len(self.word_list)"
   ]
  },
  {
   "cell_type": "code",
   "execution_count": 18,
   "id": "acab92c5",
   "metadata": {},
   "outputs": [],
   "source": [
    "day_tup = 'monday', 'tuesday', 'wednesday'\n",
    "day_list_with_stat = WordListWithStats(day_tup)\n",
    "assert day_list_with_stat.word_list == ['monday', 'tuesday', 'wednesday']\n",
    "\n",
    "day_list_with_stat.rm_word('wednesday')\n",
    "assert day_list_with_stat.word_list == ['monday', 'tuesday']\n",
    "assert dict(day_list_with_stat.char_count) == {'m': 1, 'o': 1, 'n': 1, 'd': 2, \n",
    "                                               'a': 2, 'y': 2, 't': 1, 'u': 1, \n",
    "                                               'e': 1, 's': 1}"
   ]
  },
  {
   "cell_type": "code",
   "execution_count": 19,
   "id": "d760a48b",
   "metadata": {},
   "outputs": [],
   "source": [
    "beatles_tup = 'paul', 'george', 'ringo', 'john'\n",
    "beatles_list_with_stat = WordListWithStats(beatles_tup)\n",
    "sum_list_with_stat = beatles_list_with_stat + day_list_with_stat\n",
    "assert sum_list_with_stat.word_list == ['paul', 'george', 'ringo', 'john', 'monday', 'tuesday']\n",
    "assert dict(sum_list_with_stat.char_count) == {'p': 1, 'a': 3, 'u': 2, 'l': 1, 'g': 3,\n",
    "                                               'e': 3, 'o': 4, 'r': 2, 'i': 1, 'n': 3,\n",
    "                                               'j': 1, 'h': 1, 'm': 1, 'd': 2, 'y': 2,\n",
    "                                               't': 1, 's': 1}"
   ]
  },
  {
   "cell_type": "code",
   "execution_count": 20,
   "id": "f3a32a35",
   "metadata": {},
   "outputs": [],
   "source": [
    "assert len(sum_list_with_stat) == 6"
   ]
  }
 ],
 "metadata": {
  "celltoolbar": "Slideshow",
  "kernelspec": {
   "display_name": "Python 3 (ipykernel)",
   "language": "python",
   "name": "python3"
  },
  "language_info": {
   "codemirror_mode": {
    "name": "ipython",
    "version": 3
   },
   "file_extension": ".py",
   "mimetype": "text/x-python",
   "name": "python",
   "nbconvert_exporter": "python",
   "pygments_lexer": "ipython3",
   "version": "3.11.1"
  }
 },
 "nbformat": 4,
 "nbformat_minor": 5
}
