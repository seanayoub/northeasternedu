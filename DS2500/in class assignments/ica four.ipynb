{
 "cells": [
  {
   "cell_type": "markdown",
   "metadata": {
    "slideshow": {
     "slide_type": "slide"
    }
   },
   "source": [
    "# In Class Activity A\n",
    "\n",
    "In a particular game a die is rolled such that:\n",
    "- a player earns 10 points 1/2 of the time\n",
    "- a player earns 20 points 1/3 of the time\n",
    "- a player earns 30 points 1/6 of the time\n",
    "\n",
    "Create a single call to `random.choices` which simulates 4 players being assigned points as above.  (Your output should be a list of 4 items)\n"
   ]
  },
  {
   "cell_type": "code",
   "execution_count": null,
   "metadata": {},
   "outputs": [],
   "source": [
    "import random\n",
    "random.choices([10,20,30], weights = [(1/2), (1/3), (1/6)], k = 4)"
   ]
  },
  {
   "cell_type": "markdown",
   "metadata": {
    "slideshow": {
     "slide_type": "slide"
    }
   },
   "source": [
    "## In Class Activity B\n",
    "1. Build an array by:\n",
    "- getting 100 equally spaced values from 11 to 42\n",
    "- reshaping it into an array with 5 columns\n",
    "2. How much memory does the computer use to store the array above if ...\n",
    "    - ... each item in array is a `float`\n",
    "    - ... each item in array is an 8 bit unsigned integer `np.uint8`\n",
    "        - is anything lost in this representation? (explain in comment please)\n",
    "3. (++) Build an `11x11` checkerboard matrix.  A `3x3` checkerboard is shown below for reference:\n",
    "$$ \\begin{bmatrix} 0 & 1 & 0 \\\\ 1 & 0 & 1 \\\\ 0 & 1 & 0 \\end{bmatrix} $$\n",
    "- hint: try `[0, 1] * 3`, how could you use this?\n",
    "- hint: you can slice matrices just like tuples / lists\n",
    "    - `x[1:3]` gets the second and third items in an array\n"
   ]
  },
  {
   "cell_type": "code",
   "execution_count": 35,
   "metadata": {},
   "outputs": [],
   "source": [
    "# Part 1\n",
    "import numpy as np\n",
    "\n",
    "x = np.linspace(11., 42., 100)\n",
    "x.reshape(5, -1);"
   ]
  },
  {
   "cell_type": "code",
   "execution_count": 34,
   "metadata": {},
   "outputs": [],
   "source": [
    "# Part 2\n",
    "x.nbytes\n",
    "# = 800\n",
    "\n",
    "x = x.round().astype(np.uint8)\n",
    "x.nbytes;\n",
    "# = 100\n",
    "\n",
    "# using this representation, we lose the ablity to see the spacing between each element and instead have an array with 100 integers"
   ]
  },
  {
   "cell_type": "code",
   "execution_count": 70,
   "metadata": {},
   "outputs": [],
   "source": [
    "# Part 3\n",
    "c = np.zeros((11, 11), dtype = int)\n",
    "c[1::2, ::2] = 1\n",
    "c[::2, 1::2] = 1"
   ]
  },
  {
   "cell_type": "markdown",
   "metadata": {
    "slideshow": {
     "slide_type": "slide"
    }
   },
   "source": [
    "## In Class Activity C\n",
    "\n",
    "Using a single array slice, extract all values which match each value below in the matrix `x`\n",
    "- 1\n",
    "- 2\n",
    "- 3\n",
    "- 4\n",
    "- 5\n",
    "\n",
    "- extract the last column of x\n",
    "- extract the last row of x\n",
    "- extract the first three elements of the last column of x\n"
   ]
  },
  {
   "cell_type": "code",
   "execution_count": null,
   "metadata": {},
   "outputs": [],
   "source": [
    "x = np.array([[0., 1., 3., 0., 5., 5.],\n",
    "              [0., 0., 3., 0., 0., 0.],\n",
    "              [0., 2., 3., 0., 0., 0.],\n",
    "              [0., 0., 3., 4., 4., 4.],\n",
    "              [0., 0., 3., 4., 4., 4.],\n",
    "              [0., 0., 3., 4., 4., 4.]])\n",
    "# 1\n",
    "x[:1, 1:2]\n",
    "\n",
    "# 2\n",
    "x[2:3, 1:2]\n",
    "\n",
    "# 3\n",
    "x[::, 2:3]\n",
    "\n",
    "# 4\n",
    "x[3::, 3::]\n",
    "\n",
    "# 5\n",
    "x[:1, 4:6]\n",
    "\n",
    "# last column\n",
    "x[:, 5:]\n",
    "\n",
    "# last row\n",
    "x[5:]\n",
    "\n",
    "# first three elements in last column\n",
    "x[5:, :2];"
   ]
  }
 ],
 "metadata": {
  "celltoolbar": "Slideshow",
  "kernelspec": {
   "display_name": "Python 3 (ipykernel)",
   "language": "python",
   "name": "python3"
  },
  "language_info": {
   "codemirror_mode": {
    "name": "ipython",
    "version": 3
   },
   "file_extension": ".py",
   "mimetype": "text/x-python",
   "name": "python",
   "nbconvert_exporter": "python",
   "pygments_lexer": "ipython3",
   "version": "3.11.1"
  }
 },
 "nbformat": 4,
 "nbformat_minor": 4
}
