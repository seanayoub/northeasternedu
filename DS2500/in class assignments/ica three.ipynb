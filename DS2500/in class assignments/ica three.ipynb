{
 "cells": [
  {
   "cell_type": "markdown",
   "id": "97ee2b5b",
   "metadata": {
    "slideshow": {
     "slide_type": "slide"
    }
   },
   "source": [
    "# In Class Assignment A\n",
    "\n",
    "Use `input()` to ask:\n",
    "- user0 for their 5 favorite ice cream flavors  \n",
    "- user1 for their 5 favorite ice cream flavors\n",
    "\n",
    "Print a message which tells both users\n",
    "- how many favorite colors they have in common\n",
    "    - capitalization counts: \"Chocolate\" is a different ice cream than \"chocolate\"\n",
    "- (if any favorite color exists): print them\n"
   ]
  },
  {
   "cell_type": "code",
   "execution_count": null,
   "id": "c92ccde4",
   "metadata": {},
   "outputs": [],
   "source": [
    "user0 = set({})\n",
    "user1 = set({})\n",
    "\n",
    "# asks users for top five flavors and adds answers to their respective set\n",
    "for i in range(5):\n",
    "    ans0 = input(\"User 0: What's one of your favorite ice cream flavors? \")\n",
    "    ans1 = input(\"User 1: What's one of your favorite ice cream flavors? \")\n",
    "    user0.add(ans0)\n",
    "    user1.add(ans1)\n",
    "\n",
    "# finds and prints flavors in common\n",
    "common = user0 & user1\n",
    "print(f\"\\nYou have {len(common)} flavors in common: {common}\")"
   ]
  },
  {
   "cell_type": "markdown",
   "id": "a618b1a3",
   "metadata": {
    "slideshow": {
     "slide_type": "slide"
    }
   },
   "source": [
    "### In Class Acitivity B:\n",
    "\n",
    "My son's favorite song is \"Wheels on the Bus\" ([here's a version done by the legend himself](https://www.youtube.com/watch?v=8d8Vo72Kbrk)).  He can't get enough of it, the rest of us certainly can.  (Full disclosure, he's a bit older now and into a cartoon which is driving us mad ... but allow me some pedagogical license as \"wheels on the bus\" is a better ICA...)\n",
    "\n",
    "\n",
    "Here's how it goes:\n",
    "\n",
    "```\n",
    "The wheels on the bus goes round and round, round and round, round and round\n",
    "the wheels on the bus goes round and round ... All through the town.\n",
    "```\n",
    "\n",
    "There is a structure to each verse of the song, if:\n",
    "\n",
    "``` python\n",
    "noun = 'wheels on the bus'\n",
    "move = 'go round and round'\n",
    "```\n",
    "\n",
    "a verse can be written as:\n",
    "\n",
    "    The <noun> on the bus goes <noise>, <noise>, <noise>\n",
    "    the <noun> on the bus go <noise> ... All through the town\n",
    "\n",
    "\n",
    "\n",
    "Using the following table of noun-noise pairs, write a loop which prints all verses according to the pattern above:\n",
    "\n",
    "| Noun            | Noise                                    |\n",
    "|-----------------|------------------------------------------|\n",
    "| Wheels          | round and round                          |\n",
    "| Babies          | wah, wah, wah                            |\n",
    "| DS2500 students | we <3 python |\n",
    "\n",
    "Together:\n",
    " - how can we store the noun noise together, as pairs?\n",
    " - how can we repeat the noise, gluing it together with `', '`?\n",
    " \n",
    "(++) rewrite your program to so it takes some input for the number of repetitions of `<noun>`.  Previously we had assumed it was always 3:\n",
    "\n",
    "    The <noun> on the bus goes <noise>, <noise>, <noise>\n",
    "    \n",
    "but if your program assigns `num_reps=4` then it will write:\n",
    "\n",
    "    The <noun> on the bus goes <noise>, <noise>, <noise>, <noise>\n",
    "    \n",
    "(++) allow `num_reps` to change per individual noun-noise pair\n"
   ]
  },
  {
   "cell_type": "code",
   "execution_count": null,
   "id": "faabc0c5",
   "metadata": {},
   "outputs": [],
   "source": [
    "noun = [\"wheels\", \"babies\", \"ds 2500 students\"]\n",
    "noise = [\"round and round\", \"wah, wah, wah\", \"we <3 python\"]\n",
    "\n",
    "for i in range(len(noun)):\n",
    "    num_reps = int(input(\"Number of Repitions: \"))\n",
    "    repeat = \", \".join([noise[i]] * num_reps)\n",
    "    \n",
    "    print(f\"\\nthe {noun[i]} on the bus goes {repeat}\")\n",
    "    print(f\"the {noun[i]} on the bus goes {noise[i]}... all through the town\")"
   ]
  },
  {
   "cell_type": "markdown",
   "id": "6612acc7",
   "metadata": {
    "slideshow": {
     "slide_type": "slide"
    }
   },
   "source": [
    "## In Class Assignment C: \n",
    "\n",
    "For every vowel, get a word from the user which contains that vowel, store in a dictionary.  Re-query the user if their input doesn't contain the vowel.  \n",
    "\n",
    "Example output dictionary:\n",
    "\n",
    "```python\n",
    "vowel_dict = {'a': 'apple',\n",
    "              'e': 'peel',\n",
    "              'i': 'pineapple',\n",
    "              'o': 'obtuse',\n",
    "              'u': 'umbrella'}\n",
    "```\n",
    "\n",
    "### Suggested Milestones (baby steps!):\n",
    "- build an empty `vowel_dict`\n",
    "- query for input, add it to vowel_dict (use any key)\n",
    "- query for input starting with 'a', add it to `vowel_dict`, even if its invalid (use key 'a')\n",
    "- query for input starting with 'a', add it to `vowel_dict` only if its valid\n",
    "- query for input starting with 'a', add it to `vowel_dict` only if its valid, otherwise re-query as needed\n",
    "    - see example above\n",
    "- add a loop to above program so it works for `aeiou`\n",
    "\n",
    "## ++ If you have time:\n",
    "- make it a function\n",
    "    - docstring!\n",
    "- by default, you function should ask for a word for each vowel ... but allow the user of your function to specify their own list of required characters (not necessarily `'aeiou'`)\n"
   ]
  },
  {
   "cell_type": "code",
   "execution_count": null,
   "id": "d0423043",
   "metadata": {},
   "outputs": [],
   "source": [
    "vowels = (\"a\", \"e\", \"i\", \"o\", \"u\")\n",
    "vowel_dict = dict({})\n",
    "    \n",
    "for item in vowels:\n",
    "    while True:\n",
    "        word = input(f\"Enter a word containing {item}: \")\n",
    "        if item in word:\n",
    "            vowel_dict[item] = word\n",
    "            break\n",
    "        else:\n",
    "            print(f\"Please enter a word containing {item}\")"
   ]
  }
 ],
 "metadata": {
  "celltoolbar": "Slideshow",
  "kernelspec": {
   "display_name": "Python 3 (ipykernel)",
   "language": "python",
   "name": "python3"
  },
  "language_info": {
   "codemirror_mode": {
    "name": "ipython",
    "version": 3
   },
   "file_extension": ".py",
   "mimetype": "text/x-python",
   "name": "python",
   "nbconvert_exporter": "python",
   "pygments_lexer": "ipython3",
   "version": "3.11.1"
  }
 },
 "nbformat": 4,
 "nbformat_minor": 5
}
