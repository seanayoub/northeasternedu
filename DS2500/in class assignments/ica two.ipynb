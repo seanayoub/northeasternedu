{
 "cells": [
  {
   "cell_type": "markdown",
   "id": "079c3ab7",
   "metadata": {
    "slideshow": {
     "slide_type": "slide"
    }
   },
   "source": [
    "# In Class Assignment A\n",
    " \n",
    "Slice the string `ascii_letters` below to:\n",
    "- produce the 10th through the 15th letters of the alphabet (lowercase).  please include the 15th letter of hte alphabet in your output\n",
    "- produce all \"odd\" indexed characters ('bdfh...')\n",
    "- produce the first 3 letters\n",
    "- produce the last 10 letters\n",
    "- reverse the order of the string\n"
   ]
  },
  {
   "cell_type": "code",
   "execution_count": null,
   "id": "e4c7f106",
   "metadata": {},
   "outputs": [],
   "source": [
    "from string import ascii_letters\n",
    "# 10th through 15th letter\n",
    "ascii_letters[9:15]\n",
    "\n",
    "# odd-indexed characters\n",
    "ascii_letters[1::2]\n",
    "\n",
    "# first three letters\n",
    "ascii_letters[:3]\n",
    "\n",
    "# last ten letters\n",
    "ascii_letters[-10:]\n",
    "\n",
    "# reverse order\n",
    "ascii_letters[::-1]"
   ]
  },
  {
   "cell_type": "markdown",
   "id": "1d7ef492",
   "metadata": {},
   "source": [
    "# In Class Activity B\n",
    "\n",
    "Not only do test cases validate that your function works, they specify its behavior!  By studying the given test cases, you can fully understand what the function should be doing.\n",
    "\n",
    "For example, after studying the test cases, you can complete the `evaluate_rps()` function below, which evaluates a round of [rock, paper, scissors](https://en.wikipedia.org/wiki/Rock_paper_scissors).  Be sure to [document your code:\n",
    "](https://course.ccs.neu.edu/ds2500/python_style.html):\n",
    "- function docstring\n",
    "- comments\n",
    "- \"chunks\" of code which do similar things\n",
    "- variable names which are short and descriptive\n",
    "\n",
    "++ If you're done early, see if you can simplify your implementation as much as possible.  I found an early return statement (a return in some if block where the function continues afterwards) to be helpful here.\n"
   ]
  },
  {
   "cell_type": "code",
   "execution_count": 44,
   "id": "f26a7acb",
   "metadata": {},
   "outputs": [],
   "source": [
    "def evaluate_rps(user0, user1):\n",
    "    \"\"\"\n",
    "    evaluates a round of rock, paper, scissors\n",
    "\n",
    "    Parameters\n",
    "    ----------\n",
    "    user0 (string): response - \"rock\", \"paper\", or \"scissors\"\n",
    "    user1 (string): response - \"rock\", \"paper\", or \"scissors\"\n",
    "\n",
    "    Returns\n",
    "    -------\n",
    "    -1: tie\n",
    "    0: user0 wins\n",
    "    1: user1 wins\n",
    "\n",
    "    \"\"\"\n",
    "    # validate inputs\n",
    "    rps_tuple = \"rock\", \"paper\", \"scissors\"\n",
    "    assert user0 in rps_tuple, \"invalid user0 input\"  \n",
    "    assert user1 in rps_tuple, \"invalid user1 input\"\n",
    "    \n",
    "    # tie?\n",
    "    if user0 == user1:\n",
    "        return -1\n",
    "    \n",
    "    # consolidate\n",
    "    answer = (user0, user1)\n",
    "    win = [(\"paper\", \"rock\"), (\"scissors\", \"paper\"), (\"rock\", \"scissors\")]\n",
    "    lose = [(\"rock\", \"paper\"), (\"paper\", \"scissors\"), (\"scissors\", \"rock\")]\n",
    "    \n",
    "    # compare\n",
    "    if answer in win:\n",
    "        return 0\n",
    "    elif answer in lose:\n",
    "        return 1"
   ]
  },
  {
   "cell_type": "code",
   "execution_count": 45,
   "id": "f9ed76cb",
   "metadata": {},
   "outputs": [],
   "source": [
    "# paper beats rock\n",
    "assert evaluate_rps('paper', 'rock') == 0\n",
    "assert evaluate_rps('rock', 'paper') == 1\n",
    "\n",
    "# scissors beats paper\n",
    "assert evaluate_rps('scissors', 'paper') == 0\n",
    "assert evaluate_rps('paper', 'scissors') == 1\n",
    "\n",
    "# rock beats scissors\n",
    "assert evaluate_rps('rock', 'scissors') == 0\n",
    "assert evaluate_rps('scissors', 'rock') == 1\n",
    "\n",
    "# ties\n",
    "assert evaluate_rps('scissors', 'scissors') == -1\n",
    "assert evaluate_rps('rock', 'rock') == -1\n",
    "assert evaluate_rps('paper', 'paper') == -1\n"
   ]
  }
 ],
 "metadata": {
  "celltoolbar": "Slideshow",
  "kernelspec": {
   "display_name": "Python 3 (ipykernel)",
   "language": "python",
   "name": "python3"
  },
  "language_info": {
   "codemirror_mode": {
    "name": "ipython",
    "version": 3
   },
   "file_extension": ".py",
   "mimetype": "text/x-python",
   "name": "python",
   "nbconvert_exporter": "python",
   "pygments_lexer": "ipython3",
   "version": "3.11.1"
  }
 },
 "nbformat": 4,
 "nbformat_minor": 5
}
