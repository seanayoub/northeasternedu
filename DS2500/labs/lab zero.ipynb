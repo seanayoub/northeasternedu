{
 "cells": [
  {
   "cell_type": "markdown",
   "id": "d325377c",
   "metadata": {},
   "source": [
    "# Lab 0: Hangman\n",
    "\n",
    "### Instructions:\n",
    "- perform a fresh `restart & run all` before submitting\n",
    "- [lab rubric](https://course.ccs.neu.edu/ds2500/admin_syllabus.html?highlight=rubric#weekly-lab-ds-2501)\n",
    "- work in groups of 2-5\n",
    "- be collaborative and kind\n",
    "    - ask questions of others\n",
    "    - invite questions from others\n",
    "- each student will submit their own lab file\n",
    "- please do not share code files \n",
    "    - however, unlike HW, you're welcome to look at each other's ungraded work\n",
    "\n",
    "### Goal: Build hangman\n",
    "\n",
    "If you haven't had the pleasure, familiarize yourself with [hangman](https://hangmanwordgame.com/) (tip: use \"single player - untimed\").  Our goal is to build hangman so it can be played in jupyter.  (Admittedly, we can't hide the target word as easily for our game player ... but let's just not worry about this.)\n"
   ]
  },
  {
   "cell_type": "markdown",
   "id": "451425f9",
   "metadata": {},
   "source": [
    "# Part A:\n",
    "\n",
    "Complete the function `get_input()` below.  Study the docstring and test cases below to understand its behavior.\n"
   ]
  },
  {
   "cell_type": "code",
   "execution_count": 1,
   "id": "328e4236",
   "metadata": {},
   "outputs": [],
   "source": [
    "def get_input(set_guessed):\n",
    "    \"\"\" get user's input character\n",
    "    \n",
    "    re-queries if \n",
    "        - character already guessed\n",
    "        - input isn't a single character\n",
    "    \n",
    "    Args:\n",
    "        set_guessed (set): set of characters already guessed\n",
    "        \n",
    "    Returns:\n",
    "        char (str): user's input character\n",
    "    \"\"\"\n",
    "    print(f\"already guessed: {set_guessed}\")\n",
    "    \n",
    "    if True:\n",
    "        char = input(\"enter a character: \")\n",
    "        assert char not in set_guessed, \"please enter a new character\"\n",
    "        assert len(char) == 1, \"please enter a one-digit character\"\n",
    "    \n",
    "    return char"
   ]
  },
  {
   "cell_type": "code",
   "execution_count": 2,
   "id": "cf72ec3c",
   "metadata": {},
   "outputs": [
    {
     "name": "stdout",
     "output_type": "stream",
     "text": [
      "already guessed: {'a', 'b', 'c'}\n",
      "enter a character: x\n"
     ]
    },
    {
     "data": {
      "text/plain": [
       "'x'"
      ]
     },
     "execution_count": 2,
     "metadata": {},
     "output_type": "execute_result"
    }
   ],
   "source": [
    "get_input(set_guessed={'a', 'b', 'c'})"
   ]
  },
  {
   "cell_type": "markdown",
   "id": "216daa40",
   "metadata": {},
   "source": [
    "##  Part A: Test Cases\n",
    "\n",
    "A test case is a set of inputs and expected outputs to a function.  They are useful to:\n",
    "- define the behavior of a program\n",
    "    - pro tip: study them before building!\n",
    "- confirm that the program works as expected\n",
    "    - if you give these inputs, then a working program will give expected outputs\n",
    "\n",
    "For example:\n",
    "\n",
    "### case0:\n",
    "When running `get_input(set_guessed={'a', 'b', 'c'})`:\n",
    "```\n",
    "already guessed: {'c', 'b', 'a'}\n",
    "input a character:d\n",
    "```\n",
    "with `Out[]`:\n",
    "```\n",
    "'d'\n",
    "```\n",
    "\n",
    "So that if we run `get_input(set_guessed={'a', 'b', 'c'})`, and input `d` when prompted, the function should return `d`.  Because its a single character which isn't already in `set_guessed`, its a valid input so our function should return it.  We see it in `Out[]` because our function returns the user's choice, which Jupyter then repeats because its the last line in a code cell.\n",
    "\n",
    "### case1:\n",
    "When running `get_input(set_guessed={'a', 'b', 'c'})`:\n",
    "```\n",
    "already guessed: {'c', 'b', 'a'}\n",
    "input a character:a\n",
    "invalid input, character already guessed\n",
    "input a character:b\n",
    "invalid input, character already guessed\n",
    "input a character:c\n",
    "invalid input, character already guessed\n",
    "input a character:d\n",
    "```\n",
    "with `Out[]`:\n",
    "```\n",
    "'d'\n",
    "```\n",
    "\n",
    "### case2:\n",
    "\n",
    "```\n",
    "already guessed: {'c', 'b', 'a'}\n",
    "input a character:this input is way too many characters\n",
    "invalid input, please input a single character\n",
    "input a character:\n",
    "invalid input, please input a single character\n",
    "input a character:x\n",
    "```\n",
    "with `Out[]`:\n",
    "```\n",
    "'x'\n",
    "```\n",
    "\n",
    "Notice that the `input a character:` without any following text immediately above represents pressing enter at the prompt without giving any characters.\n"
   ]
  },
  {
   "cell_type": "markdown",
   "id": "a973b615",
   "metadata": {},
   "source": [
    "# Part B:\n",
    "\n",
    "Complete the function `get_s_feedback()` below.  Study the docstring and test cases below to understand its behavior.\n"
   ]
  },
  {
   "cell_type": "code",
   "execution_count": 3,
   "id": "79df3d47",
   "metadata": {},
   "outputs": [],
   "source": [
    "def get_s_feedback(s_target, set_guessed, fill = '*'):\n",
    "    \"\"\" gets user feedback (unguessed letters replaced with fill)\n",
    "    \n",
    "    args:\n",
    "        s_target (str): target word\n",
    "        set_guessed (set): set of character which have been guessed\n",
    "        fill (str): replaces unguessed characters in output\n",
    "        \n",
    "    returns:\n",
    "        s_feedback (str): user feedback\n",
    "    \"\"\"\n",
    "    s_feedback = \"\"\n",
    "    \n",
    "    for char in s_target:\n",
    "        if char in set_guessed:\n",
    "            s_feedback += char\n",
    "        else:\n",
    "            s_feedback += fill\n",
    "            \n",
    "    return s_feedback"
   ]
  },
  {
   "cell_type": "markdown",
   "id": "6a613816",
   "metadata": {},
   "source": [
    "## Part B: Test Cases\n"
   ]
  },
  {
   "cell_type": "code",
   "execution_count": 4,
   "id": "b02e9dc0",
   "metadata": {},
   "outputs": [],
   "source": [
    "assert get_s_feedback(s_target='abc', set_guessed={'a'}, fill='*') == 'a**'\n",
    "assert get_s_feedback(s_target='abc', set_guessed={'a', 'b', 'c'}, fill='*') == 'abc'\n",
    "assert get_s_feedback(s_target='abc', set_guessed=set(), fill='*') == '***'\n",
    "assert get_s_feedback(s_target='abcabc', set_guessed={'a'}, fill='!') == 'a!!a!!'\n",
    "assert get_s_feedback(s_target='abcabc', set_guessed={'a', 'b'}, fill='*') == 'ab*ab*'"
   ]
  },
  {
   "cell_type": "markdown",
   "id": "8a2faadb",
   "metadata": {},
   "source": [
    "# Putting it all together\n",
    "\n",
    "The given function `play_hangman()` below plays hangman.  Once you've completed part A and B, you can run it to play hangman (look what you built, how cool!).  You needn't do anything in particular here, it is included just for your own satisfaction."
   ]
  },
  {
   "cell_type": "code",
   "execution_count": 5,
   "id": "e1290993",
   "metadata": {},
   "outputs": [],
   "source": [
    "def play_hangman(s_target, n_wrong_guess=10):\n",
    "    \"\"\" plays hangman by printing messages to command line\n",
    "    \n",
    "    Args:\n",
    "        s_target (str): target word to guess\n",
    "        n_wrong_guess (int): number of incorrect guesses until user loses game\n",
    "        \n",
    "    Returns:\n",
    "        n_wrong_guess (int): number of incorrect guesses remaining at end\n",
    "            of game.  This value is zero for all games which are lost.\n",
    "    \"\"\"\n",
    "    # initialize guess set to empty set\n",
    "    set_guessed = set()\n",
    "    \n",
    "    while n_wrong_guess > 0:\n",
    "        # get & print user feedback on current progress\n",
    "        s_feedback = get_s_feedback(s_target=s_target, \n",
    "                                    set_guessed=set_guessed)\n",
    "              \n",
    "        if s_feedback == s_target:\n",
    "            # user has won, print msg and quit function\n",
    "            print(f'you win!  the target was: {s_target} ({n_wrong_guess} wrong guesses remain)')\n",
    "            return n_wrong_guess\n",
    "        \n",
    "        # get input, add it to guessed set\n",
    "        print(f'\\n\\nprogress towards target: {s_feedback} ({n_wrong_guess} wrong guesses remain)')\n",
    "        char = get_input(set_guessed)\n",
    "        set_guessed.add(char)\n",
    "        \n",
    "        if char not in s_target:\n",
    "            # character guess was wrong, update \"wrong-guesses\" remaining\n",
    "            n_wrong_guess -= 1\n",
    "            \n",
    "    # user has run out of wrong guesses, print update\n",
    "    print(f'you didnt win this time, the target was: {s_target}')\n",
    "    \n",
    "    return n_wrong_guess"
   ]
  }
 ],
 "metadata": {
  "kernelspec": {
   "display_name": "Python 3 (ipykernel)",
   "language": "python",
   "name": "python3"
  },
  "language_info": {
   "codemirror_mode": {
    "name": "ipython",
    "version": 3
   },
   "file_extension": ".py",
   "mimetype": "text/x-python",
   "name": "python",
   "nbconvert_exporter": "python",
   "pygments_lexer": "ipython3",
   "version": "3.11.1"
  }
 },
 "nbformat": 4,
 "nbformat_minor": 5
}
