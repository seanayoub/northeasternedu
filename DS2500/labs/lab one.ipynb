{
 "cells": [
  {
   "cell_type": "markdown",
   "id": "c231f506",
   "metadata": {},
   "source": [
    "# Lab1: Tic-Tac-Toe\n",
    "\n",
    "### Instructions:\n",
    "- perform a fresh `restart & run all` before submitting\n",
    "- [lab rubric](https://course.ccs.neu.edu/ds2500/admin_syllabus.html?highlight=rubric#weekly-lab-ds-2501)\n",
    "\n",
    "## Goal\n",
    "\n",
    "Build a tic-tac-toe script which is capable of allowing two people to play tic tac toe by inputting their choices into the computer.  It may help to see example input / output in Part C to get a sense of how things will be put together before starting.\n"
   ]
  },
  {
   "cell_type": "markdown",
   "id": "27982fd5",
   "metadata": {},
   "source": [
    "# You are given `get_position()`\n",
    "\n",
    "Use the `get_position()` function below to get a user's desired position.\n"
   ]
  },
  {
   "cell_type": "code",
   "execution_count": 1,
   "id": "0719e83f",
   "metadata": {},
   "outputs": [],
   "source": [
    "import numpy as np\n",
    "\n",
    "def get_position(player_idx):\n",
    "    \"\"\" gets a user's move via input().  no user input validation\n",
    "    \n",
    "    see also: get_apply_input()\n",
    "    \n",
    "    Args:\n",
    "        player_idx (int): player idx (used to call \n",
    "            the player by name)\n",
    "\n",
    "    Returns:\n",
    "        row_idx (int): a row index\n",
    "        col_idx (int): a col index\n",
    "    \"\"\"\n",
    "    # get input from user\n",
    "    pos = input(f'player {player_idx} input position: ')\n",
    "    \n",
    "    # parse user's input\n",
    "    row_idx, col_idx = pos.split(',')\n",
    "    row_idx = int(row_idx)\n",
    "    col_idx = int(col_idx)\n",
    "    \n",
    "    return row_idx, col_idx"
   ]
  },
  {
   "cell_type": "markdown",
   "id": "6964c68c",
   "metadata": {},
   "source": [
    "# Part A: `get_apply_input()`\n",
    "\n",
    "Using the `get_position()` function above, complete the `get_apply_input()` function below."
   ]
  },
  {
   "cell_type": "code",
   "execution_count": 2,
   "id": "36c23134",
   "metadata": {},
   "outputs": [],
   "source": [
    "def get_apply_input(board, player_idx):\n",
    "    \"\"\" gets input from user and applies their mark\n",
    "    \n",
    "    re-query if input given does not refer to a \n",
    "    position on the board currently marked as board_null\n",
    "    \n",
    "    Args:\n",
    "        board (np.array): a 3x3 tic-tac-toe board\n",
    "        player_idx (int): player whose turn is being taken\n",
    "            (either 1 or 2)\n",
    "            \n",
    "    Returns:\n",
    "        board (np.array): a 3x3 tic-tac-toe board\n",
    "            which has recorded \n",
    "    \"\"\"    \n",
    "    assert player_idx in (1, 2), 'invalid player_idx'\n",
    "    \n",
    "    # query user\n",
    "    if True:\n",
    "        row_idx, col_idx = get_position(player_idx)\n",
    "        assert board[row_idx, col_idx] == 0, \"occupied square\"\n",
    "       \n",
    "    # update board\n",
    "    board[row_idx, col_idx] = player_idx\n",
    "    return board"
   ]
  },
  {
   "cell_type": "markdown",
   "id": "b7a27da4",
   "metadata": {},
   "source": [
    "# Part B: `get_win_set()`\n",
    "\n",
    "Complete the `get_win_set()` function below."
   ]
  },
  {
   "cell_type": "code",
   "execution_count": 3,
   "id": "cd45e527",
   "metadata": {},
   "outputs": [],
   "source": [
    "def get_win_set(board):    \n",
    "    \"\"\" returns a set of winning values in a board\n",
    "    \n",
    "    Args:\n",
    "        board (np.array): a square tic-tac-toe board\n",
    "        \n",
    "    Returns:\n",
    "        win_set (set): a set of items which fill an\n",
    "            entire row, column, diagonal or off-diagonal\n",
    "            (off-diagonal is top-right to bottom-left)\n",
    "    \"\"\"\n",
    "    win_set = set({})\n",
    "    \n",
    "    # test horizontal and veritcal\n",
    "    for i in range(3):\n",
    "        row = set(board[i])\n",
    "        col = set(board[:, i])\n",
    "        \n",
    "        if len(row) == 1:\n",
    "            win_set.add(row.pop())  \n",
    "        if len(col) == 1:\n",
    "            win_set.add(col.pop())\n",
    "    \n",
    "    # test diagonal and reverse diagonal\n",
    "    diag = set(np.diagonal(board))\n",
    "    rdig = set(np.fliplr(board).diagonal())\n",
    "    \n",
    "    if len(diag) == 1:\n",
    "        win_set.add(diag.pop())\n",
    "    elif len(rdig) == 1:\n",
    "        win_set.add(rdig.pop())\n",
    "    \n",
    "    # win set\n",
    "    return win_set"
   ]
  },
  {
   "cell_type": "code",
   "execution_count": 4,
   "id": "19dfb6fc",
   "metadata": {},
   "outputs": [],
   "source": [
    "assert get_win_set(board=np.zeros((3, 3))) == {0}\n",
    "assert get_win_set(board=np.array([[0, 0, 0],\n",
    "                                   [1, 1, 1],\n",
    "                                   [2, 2, 2]])) == {0, 1, 2}\n",
    "assert get_win_set(board=np.array([[1, 0, 0],\n",
    "                                   [1, 2, 2],\n",
    "                                   [1, 2, 2]])) == {1}\n",
    "assert get_win_set(board=np.array([[1, 0, 0],\n",
    "                                   [1, 0, 0],\n",
    "                                   [1, 0, 0]])) == {0, 1}\n",
    "assert get_win_set(board=np.array([[0, 1, 0],\n",
    "                                   [0, 1, 0],\n",
    "                                   [0, 1, 0]])) == {0, 1}\n",
    "assert get_win_set(board=np.array([[0, 0, 1],\n",
    "                                   [0, 0, 1],\n",
    "                                   [0, 0, 1]])) == {0, 1}\n",
    "assert get_win_set(board=np.array([[1, 1, 1],\n",
    "                                   [0, 0, 0],\n",
    "                                   [0, 0, 0]])) == {0, 1}\n",
    "assert get_win_set(board=np.array([[0, 0, 0],\n",
    "                                   [1, 1, 1],\n",
    "                                   [0, 0, 0]])) == {0, 1}\n",
    "assert get_win_set(board=np.array([[0, 0, 0],\n",
    "                                   [0, 0, 0],\n",
    "                                   [1, 1, 1]])) == {0, 1}\n",
    "assert get_win_set(board=np.array([[1, 0, 0],\n",
    "                                   [0, 1, 0],\n",
    "                                   [0, 0, 1]])) == {1}\n",
    "assert get_win_set(board=np.array([[0, 0, 1],\n",
    "                                   [0, 1, 0],\n",
    "                                   [1, 0, 0]])) == {1}"
   ]
  },
  {
   "cell_type": "markdown",
   "id": "a3a9163c",
   "metadata": {},
   "source": [
    "# Part C: Putting it all together in `play_tic_tac()`\n",
    "\n",
    "Complete the function `play_tic_tac()` below which plays tic-tac-toe.  In addition to the example output shown below, the game should also stop if there are not any valid moves remaining."
   ]
  },
  {
   "cell_type": "code",
   "execution_count": 7,
   "id": "df089108",
   "metadata": {},
   "outputs": [],
   "source": [
    "import numpy as np\n",
    "\n",
    "def play_tic_tac():\n",
    "    \"\"\" plays a game of tic-tac-toe on a 3x3 board\n",
    "    \n",
    "    \"\"\"\n",
    "    board = np.zeros((3, 3))\n",
    "    \n",
    "    while True:\n",
    "        for i in range(1, 3):\n",
    "            print(board)\n",
    "            board = get_apply_input(board, i)\n",
    "            win_set = get_win_set(board)\n",
    "            \n",
    "            z = set([i])\n",
    "            if set(z).issubset(win_set):\n",
    "                print(board)\n",
    "                print(f\"player {i} wins!\")\n",
    "                return\n",
    "            "
   ]
  },
  {
   "cell_type": "code",
   "execution_count": 8,
   "id": "de212298",
   "metadata": {},
   "outputs": [
    {
     "name": "stdout",
     "output_type": "stream",
     "text": [
      "[[0. 0. 0.]\n",
      " [0. 0. 0.]\n",
      " [0. 0. 0.]]\n",
      "player 1 input position: 1,1\n",
      "[[0. 0. 0.]\n",
      " [0. 1. 0.]\n",
      " [0. 0. 0.]]\n",
      "player 2 input position: 0,2\n",
      "[[0. 0. 2.]\n",
      " [0. 1. 0.]\n",
      " [0. 0. 0.]]\n",
      "player 1 input position: 2,2\n",
      "[[0. 0. 2.]\n",
      " [0. 1. 0.]\n",
      " [0. 0. 1.]]\n",
      "player 2 input position: 1,0\n",
      "[[0. 0. 2.]\n",
      " [2. 1. 0.]\n",
      " [0. 0. 1.]]\n",
      "player 1 input position: 0,0\n",
      "[[1. 0. 2.]\n",
      " [2. 1. 0.]\n",
      " [0. 0. 1.]]\n",
      "player 1 wins!\n"
     ]
    }
   ],
   "source": [
    "play_tic_tac()"
   ]
  }
 ],
 "metadata": {
  "kernelspec": {
   "display_name": "Python 3 (ipykernel)",
   "language": "python",
   "name": "python3"
  },
  "language_info": {
   "codemirror_mode": {
    "name": "ipython",
    "version": 3
   },
   "file_extension": ".py",
   "mimetype": "text/x-python",
   "name": "python",
   "nbconvert_exporter": "python",
   "pygments_lexer": "ipython3",
   "version": "3.11.1"
  }
 },
 "nbformat": 4,
 "nbformat_minor": 5
}
