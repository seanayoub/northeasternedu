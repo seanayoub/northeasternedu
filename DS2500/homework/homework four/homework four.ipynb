{
 "cells": [
  {
   "cell_type": "markdown",
   "metadata": {},
   "source": [
    "# DS 2500 HW 4"
   ]
  },
  {
   "cell_type": "markdown",
   "metadata": {},
   "source": [
    "## Part 1: Covariance Matching (18 auto points)\n",
    "\n",
    "\n",
    "<img src=\"https://i.ibb.co/K7DY3mx/cov3by3.png\" alt=\"Drawing\" style=\"width: 600px;\"/>\n",
    "\n",
    "\n",
    "$$\\Sigma_0 =\\begin{bmatrix} \n",
    "5 & 1\\\\ \n",
    "1 & 2\n",
    "\\end{bmatrix}, \n",
    "\\Sigma_1 =\\begin{bmatrix} \n",
    "4 & 0\\\\ \n",
    "0 & 0\n",
    "\\end{bmatrix}, \n",
    "\\Sigma_2 =\\begin{bmatrix} \n",
    "1 & -1\\\\ \n",
    "-1 & 7\n",
    "\\end{bmatrix}, \n",
    "\\Sigma_3 =\\begin{bmatrix} \n",
    "7 & 4\\\\ \n",
    "4 & 5\n",
    "\\end{bmatrix}, \n",
    "\\Sigma_4 =\\begin{bmatrix} \n",
    "5 & 3\\\\ \n",
    "3 & 2\n",
    "\\end{bmatrix}$$\n",
    "\n",
    "$$\\Sigma_5 =\\begin{bmatrix} \n",
    "6 & 2\\\\ \n",
    "2 & 6\n",
    "\\end{bmatrix}, \n",
    "\\Sigma_6 =\\begin{bmatrix} \n",
    "4 & -2\\\\ \n",
    "-2 & 5\n",
    "\\end{bmatrix}, \n",
    "\\Sigma_7 =\\begin{bmatrix} \n",
    "1 & -2\\\\ \n",
    "-2 & 5\n",
    "\\end{bmatrix}, \n",
    "\\Sigma_8 =\\begin{bmatrix} \n",
    "2 & 0\\\\ \n",
    "0 & 2\n",
    "\\end{bmatrix}$$"
   ]
  },
  {
   "cell_type": "code",
   "execution_count": 1,
   "metadata": {},
   "outputs": [
    {
     "data": {
      "text/plain": [
       "{'A': 0, 'B': 7, 'C': 5, 'D': 8, 'E': 5, 'F': 6, 'G': 1, 'H': 4, 'I': 2}"
      ]
     },
     "execution_count": 1,
     "metadata": {},
     "output_type": "execute_result"
    }
   ],
   "source": [
    "part1_dict = {'A': 0, 'B': 7, 'C': 5, 'D': 8, 'E': 5, 'F': 6, 'G': 1, 'H': 4, 'I': 2}\n",
    "\n",
    "part1_dict"
   ]
  },
  {
   "cell_type": "markdown",
   "metadata": {},
   "source": [
    "# Part 2: Scale in Covariance & Correlation (15 points + 1)"
   ]
  },
  {
   "cell_type": "code",
   "execution_count": 2,
   "metadata": {},
   "outputs": [],
   "source": [
    "import pandas as pd\n",
    "\n",
    "df_covid = pd.read_csv('covid_data.csv', index_col='date')"
   ]
  },
  {
   "cell_type": "code",
   "execution_count": 3,
   "metadata": {},
   "outputs": [
    {
     "data": {
      "text/html": [
       "<div>\n",
       "<style scoped>\n",
       "    .dataframe tbody tr th:only-of-type {\n",
       "        vertical-align: middle;\n",
       "    }\n",
       "\n",
       "    .dataframe tbody tr th {\n",
       "        vertical-align: top;\n",
       "    }\n",
       "\n",
       "    .dataframe thead th {\n",
       "        text-align: right;\n",
       "    }\n",
       "</style>\n",
       "<table border=\"1\" class=\"dataframe\">\n",
       "  <thead>\n",
       "    <tr style=\"text-align: right;\">\n",
       "      <th></th>\n",
       "      <th>MA</th>\n",
       "      <th>CA</th>\n",
       "      <th>NEU</th>\n",
       "    </tr>\n",
       "  </thead>\n",
       "  <tbody>\n",
       "    <tr>\n",
       "      <th>MA</th>\n",
       "      <td>4.217750e+06</td>\n",
       "      <td>2.351385e+07</td>\n",
       "      <td>6864.562272</td>\n",
       "    </tr>\n",
       "    <tr>\n",
       "      <th>CA</th>\n",
       "      <td>2.351385e+07</td>\n",
       "      <td>1.980773e+08</td>\n",
       "      <td>40762.364969</td>\n",
       "    </tr>\n",
       "    <tr>\n",
       "      <th>NEU</th>\n",
       "      <td>6.864562e+03</td>\n",
       "      <td>4.076236e+04</td>\n",
       "      <td>30.653335</td>\n",
       "    </tr>\n",
       "  </tbody>\n",
       "</table>\n",
       "</div>"
      ],
      "text/plain": [
       "               MA            CA           NEU\n",
       "MA   4.217750e+06  2.351385e+07   6864.562272\n",
       "CA   2.351385e+07  1.980773e+08  40762.364969\n",
       "NEU  6.864562e+03  4.076236e+04     30.653335"
      ]
     },
     "execution_count": 3,
     "metadata": {},
     "output_type": "execute_result"
    }
   ],
   "source": [
    "df_covid.cov()"
   ]
  },
  {
   "cell_type": "markdown",
   "metadata": {},
   "source": [
    "This problem uses `covid_data.csv` which measures the total new daily COVID cases each day in Massachusetts, California and NEU.  \n",
    "\n",
    "For example, if feature `MA` is 1 on 3/16/2021 then there was 1 reported new COVID case on 3/16/2021.\n",
    "\n",
    "One might (incorrectly) reason:\n",
    "\n",
    "    \"The covariance between MA and CA is about 23 million, which is much larger than the covariance between CA and NEU (about 4 thousand).  Therefore, I conclude that infections in MA and CA must change more consistently together than CA and NEU.\"\n",
    "\n",
    "Identify and correct this interpretation:"
   ]
  },
  {
   "cell_type": "code",
   "execution_count": 4,
   "metadata": {},
   "outputs": [
    {
     "data": {
      "text/html": [
       "<div>\n",
       "<style scoped>\n",
       "    .dataframe tbody tr th:only-of-type {\n",
       "        vertical-align: middle;\n",
       "    }\n",
       "\n",
       "    .dataframe tbody tr th {\n",
       "        vertical-align: top;\n",
       "    }\n",
       "\n",
       "    .dataframe thead th {\n",
       "        text-align: right;\n",
       "    }\n",
       "</style>\n",
       "<table border=\"1\" class=\"dataframe\">\n",
       "  <thead>\n",
       "    <tr style=\"text-align: right;\">\n",
       "      <th></th>\n",
       "      <th>MA</th>\n",
       "      <th>CA</th>\n",
       "      <th>NEU</th>\n",
       "    </tr>\n",
       "  </thead>\n",
       "  <tbody>\n",
       "    <tr>\n",
       "      <th>MA</th>\n",
       "      <td>1.000000</td>\n",
       "      <td>0.813516</td>\n",
       "      <td>0.603717</td>\n",
       "    </tr>\n",
       "    <tr>\n",
       "      <th>CA</th>\n",
       "      <td>0.813516</td>\n",
       "      <td>1.000000</td>\n",
       "      <td>0.523122</td>\n",
       "    </tr>\n",
       "    <tr>\n",
       "      <th>NEU</th>\n",
       "      <td>0.603717</td>\n",
       "      <td>0.523122</td>\n",
       "      <td>1.000000</td>\n",
       "    </tr>\n",
       "  </tbody>\n",
       "</table>\n",
       "</div>"
      ],
      "text/plain": [
       "           MA        CA       NEU\n",
       "MA   1.000000  0.813516  0.603717\n",
       "CA   0.813516  1.000000  0.523122\n",
       "NEU  0.603717  0.523122  1.000000"
      ]
     },
     "execution_count": 4,
     "metadata": {},
     "output_type": "execute_result"
    }
   ],
   "source": [
    "df_covid.corr()"
   ]
  },
  {
   "cell_type": "markdown",
   "metadata": {},
   "source": [
    "before trying to analyze the covariances, it's helpful to divide each covariance value by its respective standard deviation to find the **correlation coefficient**. this value - between -1 and 1 - removes the effects of the scale and generalizes the relationship between the two variables. in this case, cov(MA, CA) > cov(CA, NEU) because its correlation coefficient (0.81) indicates a **stronger** relationship than the other (0.52). the difference in NU's relationship to the other states may be due to the sample size and the population represented by each category."
   ]
  },
  {
   "cell_type": "markdown",
   "metadata": {},
   "source": [
    "# Part 3: Beans!\n",
    "\n",
    "In this problem we'll use the k-Nearest Neighbor classifier to classify the species of plant that a bean comes from [a very large collection of bean image data](https://archive.ics.uci.edu/ml/datasets/Dry+Bean+Dataset).\n",
    "- use the csv loaded below\n",
    "- each subpart requires the completion of all previous sub-parts\n",
    "- **you are intended to make scale normalization / cross validation errors in earlier parts**\n",
    "    - these will be addressed in later parts"
   ]
  },
  {
   "cell_type": "code",
   "execution_count": 5,
   "metadata": {},
   "outputs": [
    {
     "data": {
      "text/html": [
       "<div>\n",
       "<style scoped>\n",
       "    .dataframe tbody tr th:only-of-type {\n",
       "        vertical-align: middle;\n",
       "    }\n",
       "\n",
       "    .dataframe tbody tr th {\n",
       "        vertical-align: top;\n",
       "    }\n",
       "\n",
       "    .dataframe thead th {\n",
       "        text-align: right;\n",
       "    }\n",
       "</style>\n",
       "<table border=\"1\" class=\"dataframe\">\n",
       "  <thead>\n",
       "    <tr style=\"text-align: right;\">\n",
       "      <th></th>\n",
       "      <th>Area</th>\n",
       "      <th>Perimeter</th>\n",
       "      <th>MajorAxisLength</th>\n",
       "      <th>MinorAxisLength</th>\n",
       "      <th>AspectRation</th>\n",
       "      <th>Eccentricity</th>\n",
       "      <th>ConvexArea</th>\n",
       "      <th>EquivDiameter</th>\n",
       "      <th>Extent</th>\n",
       "      <th>Solidity</th>\n",
       "      <th>roundness</th>\n",
       "      <th>Compactness</th>\n",
       "      <th>ShapeFactor1</th>\n",
       "      <th>ShapeFactor2</th>\n",
       "      <th>ShapeFactor3</th>\n",
       "      <th>ShapeFactor4</th>\n",
       "      <th>Class</th>\n",
       "    </tr>\n",
       "  </thead>\n",
       "  <tbody>\n",
       "    <tr>\n",
       "      <th>0</th>\n",
       "      <td>28395</td>\n",
       "      <td>610.291</td>\n",
       "      <td>208.178117</td>\n",
       "      <td>173.888747</td>\n",
       "      <td>1.197191</td>\n",
       "      <td>0.549812</td>\n",
       "      <td>28715</td>\n",
       "      <td>190.141097</td>\n",
       "      <td>0.763923</td>\n",
       "      <td>0.988856</td>\n",
       "      <td>0.958027</td>\n",
       "      <td>0.913358</td>\n",
       "      <td>0.007332</td>\n",
       "      <td>0.003147</td>\n",
       "      <td>0.834222</td>\n",
       "      <td>0.998724</td>\n",
       "      <td>SEKER</td>\n",
       "    </tr>\n",
       "    <tr>\n",
       "      <th>1</th>\n",
       "      <td>28734</td>\n",
       "      <td>638.018</td>\n",
       "      <td>200.524796</td>\n",
       "      <td>182.734419</td>\n",
       "      <td>1.097356</td>\n",
       "      <td>0.411785</td>\n",
       "      <td>29172</td>\n",
       "      <td>191.272750</td>\n",
       "      <td>0.783968</td>\n",
       "      <td>0.984986</td>\n",
       "      <td>0.887034</td>\n",
       "      <td>0.953861</td>\n",
       "      <td>0.006979</td>\n",
       "      <td>0.003564</td>\n",
       "      <td>0.909851</td>\n",
       "      <td>0.998430</td>\n",
       "      <td>SEKER</td>\n",
       "    </tr>\n",
       "    <tr>\n",
       "      <th>2</th>\n",
       "      <td>29380</td>\n",
       "      <td>624.110</td>\n",
       "      <td>212.826130</td>\n",
       "      <td>175.931143</td>\n",
       "      <td>1.209713</td>\n",
       "      <td>0.562727</td>\n",
       "      <td>29690</td>\n",
       "      <td>193.410904</td>\n",
       "      <td>0.778113</td>\n",
       "      <td>0.989559</td>\n",
       "      <td>0.947849</td>\n",
       "      <td>0.908774</td>\n",
       "      <td>0.007244</td>\n",
       "      <td>0.003048</td>\n",
       "      <td>0.825871</td>\n",
       "      <td>0.999066</td>\n",
       "      <td>SEKER</td>\n",
       "    </tr>\n",
       "    <tr>\n",
       "      <th>3</th>\n",
       "      <td>30008</td>\n",
       "      <td>645.884</td>\n",
       "      <td>210.557999</td>\n",
       "      <td>182.516516</td>\n",
       "      <td>1.153638</td>\n",
       "      <td>0.498616</td>\n",
       "      <td>30724</td>\n",
       "      <td>195.467062</td>\n",
       "      <td>0.782681</td>\n",
       "      <td>0.976696</td>\n",
       "      <td>0.903936</td>\n",
       "      <td>0.928329</td>\n",
       "      <td>0.007017</td>\n",
       "      <td>0.003215</td>\n",
       "      <td>0.861794</td>\n",
       "      <td>0.994199</td>\n",
       "      <td>SEKER</td>\n",
       "    </tr>\n",
       "    <tr>\n",
       "      <th>4</th>\n",
       "      <td>30140</td>\n",
       "      <td>620.134</td>\n",
       "      <td>201.847882</td>\n",
       "      <td>190.279279</td>\n",
       "      <td>1.060798</td>\n",
       "      <td>0.333680</td>\n",
       "      <td>30417</td>\n",
       "      <td>195.896503</td>\n",
       "      <td>0.773098</td>\n",
       "      <td>0.990893</td>\n",
       "      <td>0.984877</td>\n",
       "      <td>0.970516</td>\n",
       "      <td>0.006697</td>\n",
       "      <td>0.003665</td>\n",
       "      <td>0.941900</td>\n",
       "      <td>0.999166</td>\n",
       "      <td>SEKER</td>\n",
       "    </tr>\n",
       "  </tbody>\n",
       "</table>\n",
       "</div>"
      ],
      "text/plain": [
       "    Area  Perimeter  MajorAxisLength  MinorAxisLength  AspectRation  \\\n",
       "0  28395    610.291       208.178117       173.888747      1.197191   \n",
       "1  28734    638.018       200.524796       182.734419      1.097356   \n",
       "2  29380    624.110       212.826130       175.931143      1.209713   \n",
       "3  30008    645.884       210.557999       182.516516      1.153638   \n",
       "4  30140    620.134       201.847882       190.279279      1.060798   \n",
       "\n",
       "   Eccentricity  ConvexArea  EquivDiameter    Extent  Solidity  roundness  \\\n",
       "0      0.549812       28715     190.141097  0.763923  0.988856   0.958027   \n",
       "1      0.411785       29172     191.272750  0.783968  0.984986   0.887034   \n",
       "2      0.562727       29690     193.410904  0.778113  0.989559   0.947849   \n",
       "3      0.498616       30724     195.467062  0.782681  0.976696   0.903936   \n",
       "4      0.333680       30417     195.896503  0.773098  0.990893   0.984877   \n",
       "\n",
       "   Compactness  ShapeFactor1  ShapeFactor2  ShapeFactor3  ShapeFactor4  Class  \n",
       "0     0.913358      0.007332      0.003147      0.834222      0.998724  SEKER  \n",
       "1     0.953861      0.006979      0.003564      0.909851      0.998430  SEKER  \n",
       "2     0.908774      0.007244      0.003048      0.825871      0.999066  SEKER  \n",
       "3     0.928329      0.007017      0.003215      0.861794      0.994199  SEKER  \n",
       "4     0.970516      0.006697      0.003665      0.941900      0.999166  SEKER  "
      ]
     },
     "execution_count": 5,
     "metadata": {},
     "output_type": "execute_result"
    }
   ],
   "source": [
    "import pandas as pd\n",
    "\n",
    "df_bean = pd.read_csv('dry_bean.csv')\n",
    "\n",
    "df_bean.head()"
   ]
  },
  {
   "cell_type": "markdown",
   "metadata": {},
   "source": [
    "## Part 3.1: a not-quite-right K-NN classifier  (12 points)\n",
    "Build a 21-Nearest Neighbor classifier which is `fit` and `predict`s on the whole, raw dataset."
   ]
  },
  {
   "cell_type": "code",
   "execution_count": 6,
   "metadata": {},
   "outputs": [],
   "source": [
    "from sklearn.neighbors import KNeighborsClassifier\n",
    "import numpy as np\n",
    "\n",
    "k = 21\n",
    "\n",
    "# prepare x input\n",
    "x_feat_list = [\"Area\", \"Perimeter\", \"MajorAxisLength\", \"MinorAxisLength\",\n",
    "               \"AspectRation\", \"Eccentricity\", \"ConvexArea\", \"EquivDiameter\", \n",
    "               \"Extent\", \"Solidity\", \"roundness\", \"Compactness\", \"ShapeFactor1\",\n",
    "               \"ShapeFactor2\", \"ShapeFactor3\", \"ShapeFactor4\"]\n",
    "x = df_bean.loc[:, x_feat_list].values\n",
    "\n",
    "# prepare y input\n",
    "y_feat = \"Class\"\n",
    "y_true = df_bean.loc[:, y_feat].values\n",
    "\n",
    "# initialize knn_classifier and fit\n",
    "knn_classifier = KNeighborsClassifier(n_neighbors = k)\n",
    "knn_classifier.fit(x, y_true)\n",
    "\n",
    "# estimate each penguin's species\n",
    "y_pred = knn_classifier.predict(x)"
   ]
  },
  {
   "cell_type": "markdown",
   "metadata": {},
   "source": [
    "## Part 3.2: Confusion Matrix (12 points)\n",
    "Plot the confusion matrix which results part 3.1.\n",
    "\n",
    "Using the confusion matrix, identify the bean with lowest accuracy (% of these beans classified correctly)\n",
    "- explicitly compute accuracy for this particular bean\n",
    "    - you may manually copy and paste values from the confusion matrix into a new cell\n",
    "        - e.g. `387 / (387 + 3 + 10)` or similar\n",
    "- telling which other bean it is most commonly mistaken for\n",
    "\n",
    "Your response should be one or two sentences."
   ]
  },
  {
   "cell_type": "code",
   "execution_count": 7,
   "metadata": {},
   "outputs": [
    {
     "data": {
      "text/plain": [
       "<Figure size 700x700 with 0 Axes>"
      ]
     },
     "metadata": {},
     "output_type": "display_data"
    },
    {
     "data": {
      "image/png": "[encoded data removed]",
      "text/plain": [
       "<Figure size 640x480 with 2 Axes>"
      ]
     },
     "metadata": {},
     "output_type": "display_data"
    }
   ],
   "source": [
    "from sklearn.metrics import confusion_matrix, ConfusionMatrixDisplay\n",
    "import matplotlib.pyplot as plt\n",
    "import seaborn as sns\n",
    "\n",
    "conf_mat = confusion_matrix(y_true = y_true, y_pred = y_pred)\n",
    "conf_mat_disp = ConfusionMatrixDisplay(conf_mat, display_labels = np.unique(y_true))\n",
    "\n",
    "plt.gcf().set_size_inches(7, 7)\n",
    "conf_mat_disp.plot()\n",
    "plt.xticks(rotation = 90)\n",
    "plt.suptitle(\"bean classification confusion matrix\")\n",
    "sns.set(font_scale = .5)\n",
    "plt.grid(False)"
   ]
  },
  {
   "cell_type": "code",
   "execution_count": 8,
   "metadata": {},
   "outputs": [
    {
     "data": {
      "text/plain": [
       "{'barbunya': 0.9171270718232044,\n",
       " 'bombay': 0.9998526703499079,\n",
       " 'cali': 0.929060773480663,\n",
       " 'dermason': 0.9197790055248619,\n",
       " 'horoz': 0.9093186003683241,\n",
       " 'seker': 0.912707182320442,\n",
       " 'sira': 0.8833885819521179}"
      ]
     },
     "execution_count": 8,
     "metadata": {},
     "output_type": "execute_result"
    }
   ],
   "source": [
    "def accuracy(tp, tn, fp, fn):\n",
    "    \"\"\" computes accuracy for a given sample\n",
    "    \n",
    "    args:\n",
    "        tp (int): value true positive\n",
    "        tn (int): value true negative\n",
    "        fp (int): value false positive\n",
    "        fn (int): value false negative\n",
    "        \n",
    "    returns:\n",
    "        acc (float): accuracy value\n",
    "    \"\"\"\n",
    "    return (tp + tn) / (tn + fp + fn + tp)\n",
    "\n",
    "acc_dict = {\"barbunya\": accuracy(632, 11818, 435, 690),\n",
    "           \"bombay\": accuracy(520, 13053, 0, 2),\n",
    "           \"cali\": accuracy(1167, 11445, 500, 463),\n",
    "           \"dermason\": accuracy(3209, 9277, 752, 337),\n",
    "           \"horoz\": accuracy(1295, 11049, 598, 633),\n",
    "           \"seker\": accuracy(1100, 11290, 258, 927),\n",
    "           \"sira\": accuracy(2063, 9929, 1046, 537)}\n",
    "acc_dict"
   ]
  },
  {
   "cell_type": "markdown",
   "metadata": {},
   "source": [
    "the bean with the lowest accuracy was **sira** and it was most commonly mistaken for **seker**"
   ]
  },
  {
   "cell_type": "markdown",
   "metadata": {},
   "source": [
    "## Part 3.3: Scale Normalization (10 points)\n",
    "- In a few sentences, describe how the scale of the data may be causing issues in the classifier's performance. \n",
    "    - Explicitly compute the variance of the raw `df_bean` dataset and refer to it in your explanation.\n",
    "- Build a new dataframe which resolves this issue\n",
    "    - don't retrain and assess the classifier just yet ... we have another problem to fix too (see part 3.4)"
   ]
  },
  {
   "cell_type": "code",
   "execution_count": 9,
   "metadata": {},
   "outputs": [
    {
     "name": "stderr",
     "output_type": "stream",
     "text": [
      "C:\\Users\\ayoub\\AppData\\Local\\Temp\\ipykernel_1180\\1461227889.py:1: FutureWarning: The default value of numeric_only in DataFrame.var is deprecated. In a future version, it will default to False. In addition, specifying 'numeric_only=None' is deprecated. Select only valid columns or specify the value of numeric_only to silence this warning.\n",
      "  df_bean.var()\n"
     ]
    },
    {
     "data": {
      "text/plain": [
       "Area               8.599026e+08\n",
       "Perimeter          4.592007e+04\n",
       "MajorAxisLength    7.343494e+03\n",
       "MinorAxisLength    2.022309e+03\n",
       "AspectRation       6.085026e-02\n",
       "Eccentricity       8.464324e-03\n",
       "ConvexArea         8.865456e+08\n",
       "EquivDiameter      3.501932e+03\n",
       "Extent             2.409471e-03\n",
       "Solidity           2.171913e-05\n",
       "roundness          3.542617e-03\n",
       "Compactness        3.808552e-03\n",
       "ShapeFactor1       1.272380e-06\n",
       "ShapeFactor2       3.550668e-07\n",
       "ShapeFactor3       9.800238e-03\n",
       "ShapeFactor4       1.906595e-05\n",
       "dtype: float64"
      ]
     },
     "execution_count": 9,
     "metadata": {},
     "output_type": "execute_result"
    }
   ],
   "source": [
    "df_bean.var()"
   ]
  },
  {
   "cell_type": "code",
   "execution_count": 17,
   "metadata": {},
   "outputs": [
    {
     "data": {
      "text/plain": [
       "Area               1.0\n",
       "Perimeter          1.0\n",
       "MajorAxisLength    1.0\n",
       "MinorAxisLength    1.0\n",
       "AspectRation       1.0\n",
       "Eccentricity       1.0\n",
       "ConvexArea         1.0\n",
       "EquivDiameter      1.0\n",
       "Extent             1.0\n",
       "Solidity           1.0\n",
       "roundness          1.0\n",
       "Compactness        1.0\n",
       "ShapeFactor1       1.0\n",
       "ShapeFactor2       1.0\n",
       "ShapeFactor3       1.0\n",
       "ShapeFactor4       1.0\n",
       "dtype: float64"
      ]
     },
     "execution_count": 17,
     "metadata": {},
     "output_type": "execute_result"
    }
   ],
   "source": [
    "df_bean_scaled = pd.DataFrame()\n",
    "\n",
    "for feat in x_feat_list:\n",
    "    df_bean_scaled[feat] = df_bean[feat] / df_bean[feat].std()\n",
    "    \n",
    "df_bean_scaled.var()"
   ]
  },
  {
   "cell_type": "markdown",
   "metadata": {},
   "source": [
    "the original classifier used data with variance - by normalizing the scale, it accounts for the fact that each of the values are of different types. this will nullify the effect of the variance, as seen above, and the classifier will be able to better distinguish the samples."
   ]
  },
  {
   "cell_type": "markdown",
   "metadata": {},
   "source": [
    "## Part 3.4: Cross Validation (16 points)\n",
    "In a few sentences, describe how the confusion matrix shown in part 3.2 may overstate how accurate the classifier would be in predicting the species of some new bean.\n",
    "\n",
    "Copy and paste the code from parts 3.1 & 3.2 (don't worry about DRY here) to resolve the issues raised in parts 3.3 and 3.4."
   ]
  },
  {
   "cell_type": "markdown",
   "metadata": {},
   "source": [
    "the confusion matrix above may overstate how accurate the classifier was in its prediction - the variance values for each of the individual features are flunctuant and removing the standard deviation cleans the values and ironically makes the classifier more accurate."
   ]
  },
  {
   "cell_type": "code",
   "execution_count": 19,
   "metadata": {},
   "outputs": [],
   "source": [
    "from sklearn.model_selection import StratifiedKFold\n",
    "from copy import copy\n",
    "\n",
    "k = 21\n",
    "# prepare x input\n",
    "x_feat_list = [\"Area\", \"Perimeter\", \"MajorAxisLength\", \"MinorAxisLength\",\n",
    "               \"AspectRation\", \"Eccentricity\", \"ConvexArea\", \"EquivDiameter\", \n",
    "               \"Extent\", \"Solidity\", \"roundness\", \"Compactness\", \"ShapeFactor1\",\n",
    "               \"ShapeFactor2\", \"ShapeFactor3\", \"ShapeFactor4\"]\n",
    "x = df_bean_scaled.loc[:, x_feat_list].values\n",
    "\n",
    "# prepare y input\n",
    "y_feat = \"Class\"\n",
    "y_true = df_bean.loc[:, y_feat].values\n",
    "\n",
    "# initialize knn_classifier and kfold object\n",
    "knn_classifier = KNeighborsClassifier(n_neighbors = k)\n",
    "kfold = StratifiedKFold(n_splits=3)\n",
    "\n",
    "# allocate an empty array to store predictions in\n",
    "y_pred = copy(y_true)\n",
    "\n",
    "for train_idx, test_idx in kfold.split(x, y_true):\n",
    "    # build arrays which correspond to x, y train /test\n",
    "    x_test = x[test_idx, :]\n",
    "    x_train = x[train_idx, :]\n",
    "    y_true_train = y_true[train_idx]\n",
    "    \n",
    "    # fit and estimate\n",
    "    knn_classifier.fit(x_train, y_true_train)\n",
    "    y_pred[test_idx] = knn_classifier.predict(x_test)"
   ]
  },
  {
   "cell_type": "code",
   "execution_count": 20,
   "metadata": {},
   "outputs": [
    {
     "data": {
      "text/plain": [
       "<Figure size 700x700 with 0 Axes>"
      ]
     },
     "metadata": {},
     "output_type": "display_data"
    },
    {
     "data": {
      "image/png": "[encoded data removed]",
      "text/plain": [
       "<Figure size 640x480 with 2 Axes>"
      ]
     },
     "metadata": {},
     "output_type": "display_data"
    }
   ],
   "source": [
    "conf_mat = confusion_matrix(y_true = y_true, y_pred = y_pred)\n",
    "conf_mat_disp = ConfusionMatrixDisplay(conf_mat, display_labels = np.unique(y_true))\n",
    "\n",
    "plt.gcf().set_size_inches(7, 7)\n",
    "conf_mat_disp.plot()\n",
    "plt.xticks(rotation = 90)\n",
    "plt.suptitle(\"bean classification confusion matrix pt.2\")\n",
    "sns.set(font_scale = .5)\n",
    "plt.grid(False)"
   ]
  }
 ],
 "metadata": {
  "kernelspec": {
   "display_name": "Python 3 (ipykernel)",
   "language": "python",
   "name": "python3"
  },
  "language_info": {
   "codemirror_mode": {
    "name": "ipython",
    "version": 3
   },
   "file_extension": ".py",
   "mimetype": "text/x-python",
   "name": "python",
   "nbconvert_exporter": "python",
   "pygments_lexer": "ipython3",
   "version": "3.11.1"
  }
 },
 "nbformat": 4,
 "nbformat_minor": 4
}
