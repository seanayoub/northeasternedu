{
 "cells": [
  {
   "cell_type": "markdown",
   "metadata": {},
   "source": [
    "# DS 2500 HW 7"
   ]
  },
  {
   "cell_type": "code",
   "execution_count": 1,
   "metadata": {},
   "outputs": [],
   "source": [
    "from copy import copy\n",
    "import pandas as pd\n",
    "\n",
    "class BayesNetwork:\n",
    "    \"\"\" bayes net, computes full joint table\n",
    "\n",
    "    Attributes:\n",
    "        df_joint (pd.DataFrame): a column per random variable plus another col\n",
    "            for probability.  each row contains the outcomes of the\n",
    "            corresponding random variable or the joint prob of entire row\n",
    "    \"\"\"\n",
    "    def __init__(self):\n",
    "        self.df_joint = pd.DataFrame({\"prob\": [1.0]})\n",
    "\n",
    "    def add_prior_node(self, rv_name, prob_dist):\n",
    "        \"\"\" adds a node to joint distribution table\n",
    "\n",
    "        Args:\n",
    "            rv_name (str): name of random variable (must be unique in df_joint)\n",
    "            prob_dist (dict): keys are outcomes of random variable, values are\n",
    "                probability of each\n",
    "        \"\"\"\n",
    "        assert rv_name not in self.df_joint.columns, \\\n",
    "            f\"non-unique node: {rv_name}\"\n",
    "        \n",
    "        row_list = list()\n",
    "        for key, value in prob_dist.items():\n",
    "            new_row = {\"prob\": value, rv_name: key}\n",
    "            row_list.append(new_row)\n",
    "            \n",
    "        self.df_joint = pd.DataFrame(row_list)    \n",
    "\n",
    "    def add_conditional_node(self, cond_dist):\n",
    "        \"\"\" adds a nodes to joint distribution table\n",
    "\n",
    "        Args:\n",
    "            cond_dist (ConditionalProb): a conditional probability of some new\n",
    "                random variable.  (conditioned on random variables already in\n",
    "                df_joint)\n",
    "        \"\"\"\n",
    "        # check that all conditioned variables are in joint already\n",
    "        assert set(cond_dist.condition_list).issubset(self.df_joint.columns), \\\n",
    "            f\"condition rvs not in joint table: {cond_dist.condition_list}\"\n",
    "        \n",
    "        # check that target variable is not in joint already\n",
    "        assert cond_dist.target not in self.df_joint.columns, \\\n",
    "            f\"random variable already in network: {cond_dist.target}\"\n",
    "        \n",
    "        table = copy(self.df_joint)\n",
    "        row_list = list()\n",
    "        \n",
    "        # computes conditional probabilities, adds new row to joint table\n",
    "        for item in cond_dist.condition_list:\n",
    "            for outcome, prob in cond_dist.cond_prob_dict.items():\n",
    "                for idx, row in self.df_joint.iterrows():\n",
    "                    for key, value in prob.items():\n",
    "                        if set(row).issuperset(outcome):\n",
    "                            star = row[\"prob\"]\n",
    "                            cond = row[item]\n",
    "                            \n",
    "                            new_row = {\"prob\": star * value,\n",
    "                                       item: cond,\n",
    "                                       cond_dist.target: key}\n",
    "                            row_list.append(new_row)\n",
    "        \n",
    "        # struggling to merge table and row_list\n",
    "        self.df_joint = pd.DataFrame(row_list)\n",
    "\n",
    "    def get_prob(self, state):\n",
    "        \"\"\" sums all rows which satisfy state (marginalization)\n",
    "\n",
    "        Args:\n",
    "            state (dict): keys are random variable, values are corresponding\n",
    "                outcomes\n",
    "                \n",
    "        Returns:\n",
    "            prob (float): probability of the given state\n",
    "        \"\"\"\n",
    "\n",
    "    def get_conditional_prob(self, state, condition):\n",
    "        \"\"\" computes conditional probability of state given condition:\n",
    "\n",
    "        P(ABC|XYZ) = P(ABCXYZ) / P(XYZ)\n",
    "\n",
    "        above ABC are state variables while XYZ are conditional variables\n",
    "\n",
    "        Args:\n",
    "            state (dict): keys are random variable, values are corresponding\n",
    "                outcomes\n",
    "            condition (dict): keys are random variable, values are\n",
    "                corresponding outcomes\n",
    "                \n",
    "        Returns:\n",
    "            prob (float): probability of the given state given condition\n",
    "        \"\"\"\n",
    "        # check that no variable is in state & conditional\n",
    "        rv_double = set(state.keys()).intersection(condition.keys())\n",
    "        assert not rv_double, \\\n",
    "            f\"same random variable before & after conditional: {rv_double}\"\n"
   ]
  },
  {
   "cell_type": "markdown",
   "metadata": {},
   "source": [
    "# Part 1: `BayesNetwork.add_prior_node` (20 points)\n",
    "\n",
    "We validate whether the nodes have been added properly by constructing a known example: \n",
    "\n",
    "<img src=\"https://miro.medium.com/max/640/1*9OsQV0PqM2juaOtGqoRISw.jpeg\" width=500>\n",
    "\n",
    "and comparing output `bayes_net.df_joint` to expected dataframes, which are stored in the [expected_csv](expected_csv) folder."
   ]
  },
  {
   "cell_type": "code",
   "execution_count": 2,
   "metadata": {
    "scrolled": true
   },
   "outputs": [
    {
     "data": {
      "text/html": [
       "<div>\n",
       "<style scoped>\n",
       "    .dataframe tbody tr th:only-of-type {\n",
       "        vertical-align: middle;\n",
       "    }\n",
       "\n",
       "    .dataframe tbody tr th {\n",
       "        vertical-align: top;\n",
       "    }\n",
       "\n",
       "    .dataframe thead th {\n",
       "        text-align: right;\n",
       "    }\n",
       "</style>\n",
       "<table border=\"1\" class=\"dataframe\">\n",
       "  <thead>\n",
       "    <tr style=\"text-align: right;\">\n",
       "      <th></th>\n",
       "      <th>prob</th>\n",
       "      <th>Cloudy</th>\n",
       "    </tr>\n",
       "  </thead>\n",
       "  <tbody>\n",
       "    <tr>\n",
       "      <th>0</th>\n",
       "      <td>0.5</td>\n",
       "      <td>c0</td>\n",
       "    </tr>\n",
       "    <tr>\n",
       "      <th>1</th>\n",
       "      <td>0.5</td>\n",
       "      <td>c1</td>\n",
       "    </tr>\n",
       "  </tbody>\n",
       "</table>\n",
       "</div>"
      ],
      "text/plain": [
       "   prob Cloudy\n",
       "0   0.5     c0\n",
       "1   0.5     c1"
      ]
     },
     "execution_count": 2,
     "metadata": {},
     "output_type": "execute_result"
    }
   ],
   "source": [
    "# for example, after adding the cloudy node to the network, bayes_net.df_joint should look as below:\n",
    "df_expected = pd.read_csv('expected_csv/prob_cloudy.csv', index_col=False)\n",
    "df_expected"
   ]
  },
  {
   "cell_type": "code",
   "execution_count": 3,
   "metadata": {
    "scrolled": true
   },
   "outputs": [
    {
     "data": {
      "text/html": [
       "<div>\n",
       "<style scoped>\n",
       "    .dataframe tbody tr th:only-of-type {\n",
       "        vertical-align: middle;\n",
       "    }\n",
       "\n",
       "    .dataframe tbody tr th {\n",
       "        vertical-align: top;\n",
       "    }\n",
       "\n",
       "    .dataframe thead th {\n",
       "        text-align: right;\n",
       "    }\n",
       "</style>\n",
       "<table border=\"1\" class=\"dataframe\">\n",
       "  <thead>\n",
       "    <tr style=\"text-align: right;\">\n",
       "      <th></th>\n",
       "      <th>prob</th>\n",
       "      <th>Cloudy</th>\n",
       "    </tr>\n",
       "  </thead>\n",
       "  <tbody>\n",
       "    <tr>\n",
       "      <th>0</th>\n",
       "      <td>0.5</td>\n",
       "      <td>c0</td>\n",
       "    </tr>\n",
       "    <tr>\n",
       "      <th>1</th>\n",
       "      <td>0.5</td>\n",
       "      <td>c1</td>\n",
       "    </tr>\n",
       "  </tbody>\n",
       "</table>\n",
       "</div>"
      ],
      "text/plain": [
       "   prob Cloudy\n",
       "0   0.5     c0\n",
       "1   0.5     c1"
      ]
     },
     "execution_count": 3,
     "metadata": {},
     "output_type": "execute_result"
    }
   ],
   "source": [
    "# build bayes net with cloudy node\n",
    "bayes_net = BayesNetwork()\n",
    "bayes_net.add_prior_node('Cloudy', prob_dist={'c0': .5, 'c1': .5})\n",
    "\n",
    "# manually check output dataframe (just this first time, to see how to debug below)\n",
    "bayes_net.df_joint"
   ]
  },
  {
   "cell_type": "code",
   "execution_count": 4,
   "metadata": {},
   "outputs": [],
   "source": [
    "from df_compare import assert_df_equal_no_idx\n",
    "\n",
    "assert_df_equal_no_idx(bayes_net.df_joint, df_expected)"
   ]
  },
  {
   "cell_type": "markdown",
   "metadata": {},
   "source": [
    "# Part 2: `BayesNetwork.add_conditional_node` (25 points)\n",
    "\n",
    "Hint:\n",
    "- Inspect and study the given output DataFrames via their [expected_csv](expected_csv) before implementing!"
   ]
  },
  {
   "cell_type": "code",
   "execution_count": 5,
   "metadata": {
    "scrolled": true
   },
   "outputs": [
    {
     "name": "stdout",
     "output_type": "stream",
     "text": [
      "   prob Cloudy Rain\n",
      "0   0.4     c1   r1\n",
      "1   0.1     c1   r0\n",
      "2   0.1     c0   r1\n",
      "3   0.4     c0   r0\n"
     ]
    }
   ],
   "source": [
    "from conditional import ConditionalProb\n",
    "\n",
    "# add rain conditional prob\n",
    "cond_prob_rain = \\\n",
    "    ConditionalProb(target='Rain',\n",
    "                    condition_list=['Cloudy'],\n",
    "                    cond_prob_dict={('c1',): {'r1': .8, 'r0': .2},\n",
    "                                    ('c0',): {'r1': .2, 'r0': .8}})\n",
    "\n",
    "bayes_net.add_conditional_node(cond_prob_rain)\n",
    "print(bayes_net.df_joint)\n",
    "\n",
    "# check that rain conditional prob was added properly\n",
    "df_joint_expected = pd.read_csv('expected_csv/prob_cloudy_rain.csv', index_col=False)\n",
    "assert_df_equal_no_idx(df_joint_expected, bayes_net.df_joint)"
   ]
  },
  {
   "cell_type": "code",
   "execution_count": 6,
   "metadata": {},
   "outputs": [
    {
     "data": {
      "text/html": [
       "<div>\n",
       "<style scoped>\n",
       "    .dataframe tbody tr th:only-of-type {\n",
       "        vertical-align: middle;\n",
       "    }\n",
       "\n",
       "    .dataframe tbody tr th {\n",
       "        vertical-align: top;\n",
       "    }\n",
       "\n",
       "    .dataframe thead th {\n",
       "        text-align: right;\n",
       "    }\n",
       "</style>\n",
       "<table border=\"1\" class=\"dataframe\">\n",
       "  <thead>\n",
       "    <tr style=\"text-align: right;\">\n",
       "      <th></th>\n",
       "      <th>prob</th>\n",
       "      <th>Cloudy</th>\n",
       "      <th>Rain</th>\n",
       "    </tr>\n",
       "  </thead>\n",
       "  <tbody>\n",
       "    <tr>\n",
       "      <th>0</th>\n",
       "      <td>0.1</td>\n",
       "      <td>c0</td>\n",
       "      <td>r1</td>\n",
       "    </tr>\n",
       "    <tr>\n",
       "      <th>1</th>\n",
       "      <td>0.4</td>\n",
       "      <td>c0</td>\n",
       "      <td>r0</td>\n",
       "    </tr>\n",
       "    <tr>\n",
       "      <th>2</th>\n",
       "      <td>0.4</td>\n",
       "      <td>c1</td>\n",
       "      <td>r1</td>\n",
       "    </tr>\n",
       "    <tr>\n",
       "      <th>3</th>\n",
       "      <td>0.1</td>\n",
       "      <td>c1</td>\n",
       "      <td>r0</td>\n",
       "    </tr>\n",
       "  </tbody>\n",
       "</table>\n",
       "</div>"
      ],
      "text/plain": [
       "   prob Cloudy Rain\n",
       "0   0.1     c0   r1\n",
       "1   0.4     c0   r0\n",
       "2   0.4     c1   r1\n",
       "3   0.1     c1   r0"
      ]
     },
     "execution_count": 6,
     "metadata": {},
     "output_type": "execute_result"
    }
   ],
   "source": [
    "df_joint_expected"
   ]
  },
  {
   "cell_type": "code",
   "execution_count": 7,
   "metadata": {},
   "outputs": [
    {
     "name": "stdout",
     "output_type": "stream",
     "text": [
      "   prob Cloudy Sprinkler\n",
      "0  0.04     c1        s1\n",
      "1  0.36     c1        s0\n",
      "2  0.01     c1        s1\n",
      "3  0.09     c1        s0\n",
      "4  0.05     c0        s1\n",
      "5  0.05     c0        s0\n",
      "6  0.20     c0        s1\n",
      "7  0.20     c0        s0\n"
     ]
    },
    {
     "ename": "AssertionError",
     "evalue": "DataFrame are different\n\nDataFrame shape mismatch\n[left]:  (8, 4)\n[right]: (8, 3)",
     "output_type": "error",
     "traceback": [
      "\u001b[1;31m---------------------------------------------------------------------------\u001b[0m",
      "\u001b[1;31mAssertionError\u001b[0m                            Traceback (most recent call last)",
      "Cell \u001b[1;32mIn[7], line 12\u001b[0m\n\u001b[0;32m     10\u001b[0m \u001b[38;5;66;03m# check that sprinkler conditional prob was added properly\u001b[39;00m\n\u001b[0;32m     11\u001b[0m df_joint_expected \u001b[38;5;241m=\u001b[39m pd\u001b[38;5;241m.\u001b[39mread_csv(\u001b[38;5;124m'\u001b[39m\u001b[38;5;124mexpected_csv/prob_cloudy_rain_sprinkler.csv\u001b[39m\u001b[38;5;124m'\u001b[39m, index_col\u001b[38;5;241m=\u001b[39m\u001b[38;5;28;01mFalse\u001b[39;00m)\n\u001b[1;32m---> 12\u001b[0m \u001b[43massert_df_equal_no_idx\u001b[49m\u001b[43m(\u001b[49m\u001b[43mdf_joint_expected\u001b[49m\u001b[43m,\u001b[49m\u001b[43m \u001b[49m\u001b[43mbayes_net\u001b[49m\u001b[38;5;241;43m.\u001b[39;49m\u001b[43mdf_joint\u001b[49m\u001b[43m)\u001b[49m\n",
      "File \u001b[1;32m~\\Downloads\\df_compare.py:37\u001b[0m, in \u001b[0;36massert_df_equal_no_idx\u001b[1;34m(df0, df1)\u001b[0m\n\u001b[0;32m     34\u001b[0m df0 \u001b[38;5;241m=\u001b[39m standardize_df(df0)\n\u001b[0;32m     35\u001b[0m df1 \u001b[38;5;241m=\u001b[39m standardize_df(df1)\n\u001b[1;32m---> 37\u001b[0m \u001b[43mpd\u001b[49m\u001b[38;5;241;43m.\u001b[39;49m\u001b[43mtesting\u001b[49m\u001b[38;5;241;43m.\u001b[39;49m\u001b[43massert_frame_equal\u001b[49m\u001b[43m(\u001b[49m\u001b[43mdf0\u001b[49m\u001b[43m,\u001b[49m\u001b[43m \u001b[49m\u001b[43mdf1\u001b[49m\u001b[43m)\u001b[49m\n",
      "    \u001b[1;31m[... skipping hidden 1 frame]\u001b[0m\n",
      "File \u001b[1;32m~\\AppData\\Local\\Programs\\Python\\Python311\\Lib\\site-packages\\pandas\\_testing\\asserters.py:679\u001b[0m, in \u001b[0;36mraise_assert_detail\u001b[1;34m(obj, message, left, right, diff, index_values)\u001b[0m\n\u001b[0;32m    676\u001b[0m \u001b[38;5;28;01mif\u001b[39;00m diff \u001b[38;5;129;01mis\u001b[39;00m \u001b[38;5;129;01mnot\u001b[39;00m \u001b[38;5;28;01mNone\u001b[39;00m:\n\u001b[0;32m    677\u001b[0m     msg \u001b[38;5;241m+\u001b[39m\u001b[38;5;241m=\u001b[39m \u001b[38;5;124mf\u001b[39m\u001b[38;5;124m\"\u001b[39m\u001b[38;5;130;01m\\n\u001b[39;00m\u001b[38;5;124m[diff]: \u001b[39m\u001b[38;5;132;01m{\u001b[39;00mdiff\u001b[38;5;132;01m}\u001b[39;00m\u001b[38;5;124m\"\u001b[39m\n\u001b[1;32m--> 679\u001b[0m \u001b[38;5;28;01mraise\u001b[39;00m \u001b[38;5;167;01mAssertionError\u001b[39;00m(msg)\n",
      "\u001b[1;31mAssertionError\u001b[0m: DataFrame are different\n\nDataFrame shape mismatch\n[left]:  (8, 4)\n[right]: (8, 3)"
     ]
    }
   ],
   "source": [
    "# add sprinkler conditional prob\n",
    "cond_prob_sprinkler = \\\n",
    "    ConditionalProb(target='Sprinkler',\n",
    "                    condition_list=['Cloudy'],\n",
    "                    cond_prob_dict={('c1',): {'s1': .1, 's0': .9},\n",
    "                                    ('c0',): {'s1': .5, 's0': .5}})\n",
    "bayes_net.add_conditional_node(cond_prob_sprinkler)\n",
    "print(bayes_net.df_joint)\n",
    "\n",
    "# check that sprinkler conditional prob was added properly\n",
    "df_joint_expected = pd.read_csv('expected_csv/prob_cloudy_rain_sprinkler.csv', index_col=False)\n",
    "assert_df_equal_no_idx(df_joint_expected, bayes_net.df_joint)"
   ]
  },
  {
   "cell_type": "code",
   "execution_count": 8,
   "metadata": {},
   "outputs": [
    {
     "data": {
      "text/html": [
       "<div>\n",
       "<style scoped>\n",
       "    .dataframe tbody tr th:only-of-type {\n",
       "        vertical-align: middle;\n",
       "    }\n",
       "\n",
       "    .dataframe tbody tr th {\n",
       "        vertical-align: top;\n",
       "    }\n",
       "\n",
       "    .dataframe thead th {\n",
       "        text-align: right;\n",
       "    }\n",
       "</style>\n",
       "<table border=\"1\" class=\"dataframe\">\n",
       "  <thead>\n",
       "    <tr style=\"text-align: right;\">\n",
       "      <th></th>\n",
       "      <th>prob</th>\n",
       "      <th>Cloudy</th>\n",
       "      <th>Rain</th>\n",
       "      <th>Sprinkler</th>\n",
       "    </tr>\n",
       "  </thead>\n",
       "  <tbody>\n",
       "    <tr>\n",
       "      <th>0</th>\n",
       "      <td>0.05</td>\n",
       "      <td>c0</td>\n",
       "      <td>r1</td>\n",
       "      <td>s1</td>\n",
       "    </tr>\n",
       "    <tr>\n",
       "      <th>1</th>\n",
       "      <td>0.05</td>\n",
       "      <td>c0</td>\n",
       "      <td>r1</td>\n",
       "      <td>s0</td>\n",
       "    </tr>\n",
       "    <tr>\n",
       "      <th>2</th>\n",
       "      <td>0.20</td>\n",
       "      <td>c0</td>\n",
       "      <td>r0</td>\n",
       "      <td>s1</td>\n",
       "    </tr>\n",
       "    <tr>\n",
       "      <th>3</th>\n",
       "      <td>0.20</td>\n",
       "      <td>c0</td>\n",
       "      <td>r0</td>\n",
       "      <td>s0</td>\n",
       "    </tr>\n",
       "    <tr>\n",
       "      <th>4</th>\n",
       "      <td>0.04</td>\n",
       "      <td>c1</td>\n",
       "      <td>r1</td>\n",
       "      <td>s1</td>\n",
       "    </tr>\n",
       "    <tr>\n",
       "      <th>5</th>\n",
       "      <td>0.36</td>\n",
       "      <td>c1</td>\n",
       "      <td>r1</td>\n",
       "      <td>s0</td>\n",
       "    </tr>\n",
       "    <tr>\n",
       "      <th>6</th>\n",
       "      <td>0.01</td>\n",
       "      <td>c1</td>\n",
       "      <td>r0</td>\n",
       "      <td>s1</td>\n",
       "    </tr>\n",
       "    <tr>\n",
       "      <th>7</th>\n",
       "      <td>0.09</td>\n",
       "      <td>c1</td>\n",
       "      <td>r0</td>\n",
       "      <td>s0</td>\n",
       "    </tr>\n",
       "  </tbody>\n",
       "</table>\n",
       "</div>"
      ],
      "text/plain": [
       "   prob Cloudy Rain Sprinkler\n",
       "0  0.05     c0   r1        s1\n",
       "1  0.05     c0   r1        s0\n",
       "2  0.20     c0   r0        s1\n",
       "3  0.20     c0   r0        s0\n",
       "4  0.04     c1   r1        s1\n",
       "5  0.36     c1   r1        s0\n",
       "6  0.01     c1   r0        s1\n",
       "7  0.09     c1   r0        s0"
      ]
     },
     "execution_count": 8,
     "metadata": {},
     "output_type": "execute_result"
    }
   ],
   "source": [
    "df_joint_expected"
   ]
  },
  {
   "cell_type": "code",
   "execution_count": 9,
   "metadata": {},
   "outputs": [
    {
     "ename": "AssertionError",
     "evalue": "condition rvs not in joint table: ['Rain', 'Sprinkler']",
     "output_type": "error",
     "traceback": [
      "\u001b[1;31m---------------------------------------------------------------------------\u001b[0m",
      "\u001b[1;31mAssertionError\u001b[0m                            Traceback (most recent call last)",
      "Cell \u001b[1;32mIn[9], line 9\u001b[0m\n\u001b[0;32m      1\u001b[0m \u001b[38;5;66;03m# add wet grass conditional prob\u001b[39;00m\n\u001b[0;32m      2\u001b[0m cond_prob_grass_wet \u001b[38;5;241m=\u001b[39m \\\n\u001b[0;32m      3\u001b[0m     ConditionalProb(target\u001b[38;5;241m=\u001b[39m\u001b[38;5;124m'\u001b[39m\u001b[38;5;124mWetGrass\u001b[39m\u001b[38;5;124m'\u001b[39m,\n\u001b[0;32m      4\u001b[0m                     condition_list\u001b[38;5;241m=\u001b[39m[\u001b[38;5;124m'\u001b[39m\u001b[38;5;124mRain\u001b[39m\u001b[38;5;124m'\u001b[39m, \u001b[38;5;124m'\u001b[39m\u001b[38;5;124mSprinkler\u001b[39m\u001b[38;5;124m'\u001b[39m],\n\u001b[1;32m   (...)\u001b[0m\n\u001b[0;32m      7\u001b[0m                                     (\u001b[38;5;124m'\u001b[39m\u001b[38;5;124mr1\u001b[39m\u001b[38;5;124m'\u001b[39m, \u001b[38;5;124m'\u001b[39m\u001b[38;5;124ms0\u001b[39m\u001b[38;5;124m'\u001b[39m): {\u001b[38;5;124m'\u001b[39m\u001b[38;5;124mw1\u001b[39m\u001b[38;5;124m'\u001b[39m: \u001b[38;5;241m0.9\u001b[39m, \u001b[38;5;124m'\u001b[39m\u001b[38;5;124mw0\u001b[39m\u001b[38;5;124m'\u001b[39m: \u001b[38;5;241m.1\u001b[39m},\n\u001b[0;32m      8\u001b[0m                                     (\u001b[38;5;124m'\u001b[39m\u001b[38;5;124mr0\u001b[39m\u001b[38;5;124m'\u001b[39m, \u001b[38;5;124m'\u001b[39m\u001b[38;5;124ms0\u001b[39m\u001b[38;5;124m'\u001b[39m): {\u001b[38;5;124m'\u001b[39m\u001b[38;5;124mw1\u001b[39m\u001b[38;5;124m'\u001b[39m: \u001b[38;5;241m0.0\u001b[39m, \u001b[38;5;124m'\u001b[39m\u001b[38;5;124mw0\u001b[39m\u001b[38;5;124m'\u001b[39m: \u001b[38;5;241m1\u001b[39m}})\n\u001b[1;32m----> 9\u001b[0m \u001b[43mbayes_net\u001b[49m\u001b[38;5;241;43m.\u001b[39;49m\u001b[43madd_conditional_node\u001b[49m\u001b[43m(\u001b[49m\u001b[43mcond_prob_grass_wet\u001b[49m\u001b[43m)\u001b[49m\n\u001b[0;32m     11\u001b[0m \u001b[38;5;66;03m# check that wet grass conditional prob was added properly\u001b[39;00m\n\u001b[0;32m     12\u001b[0m df_joint_expected \u001b[38;5;241m=\u001b[39m pd\u001b[38;5;241m.\u001b[39mread_csv(\u001b[38;5;124m'\u001b[39m\u001b[38;5;124mexpected_csv/prob_cloudy_rain_sprinkler_grass.csv\u001b[39m\u001b[38;5;124m'\u001b[39m, index_col\u001b[38;5;241m=\u001b[39m\u001b[38;5;28;01mFalse\u001b[39;00m)\n",
      "Cell \u001b[1;32mIn[1], line 42\u001b[0m, in \u001b[0;36mBayesNetwork.add_conditional_node\u001b[1;34m(self, cond_dist)\u001b[0m\n\u001b[0;32m     34\u001b[0m \u001b[38;5;250m\u001b[39m\u001b[38;5;124;03m\"\"\" adds a nodes to joint distribution table\u001b[39;00m\n\u001b[0;32m     35\u001b[0m \n\u001b[0;32m     36\u001b[0m \u001b[38;5;124;03mArgs:\u001b[39;00m\n\u001b[1;32m   (...)\u001b[0m\n\u001b[0;32m     39\u001b[0m \u001b[38;5;124;03m        df_joint)\u001b[39;00m\n\u001b[0;32m     40\u001b[0m \u001b[38;5;124;03m\"\"\"\u001b[39;00m\n\u001b[0;32m     41\u001b[0m \u001b[38;5;66;03m# check that all conditioned variables are in joint already\u001b[39;00m\n\u001b[1;32m---> 42\u001b[0m \u001b[38;5;28;01massert\u001b[39;00m \u001b[38;5;28mset\u001b[39m(cond_dist\u001b[38;5;241m.\u001b[39mcondition_list)\u001b[38;5;241m.\u001b[39missubset(\u001b[38;5;28mself\u001b[39m\u001b[38;5;241m.\u001b[39mdf_joint\u001b[38;5;241m.\u001b[39mcolumns), \\\n\u001b[0;32m     43\u001b[0m     \u001b[38;5;124mf\u001b[39m\u001b[38;5;124m\"\u001b[39m\u001b[38;5;124mcondition rvs not in joint table: \u001b[39m\u001b[38;5;132;01m{\u001b[39;00mcond_dist\u001b[38;5;241m.\u001b[39mcondition_list\u001b[38;5;132;01m}\u001b[39;00m\u001b[38;5;124m\"\u001b[39m\n\u001b[0;32m     45\u001b[0m \u001b[38;5;66;03m# check that target variable is not in joint already\u001b[39;00m\n\u001b[0;32m     46\u001b[0m \u001b[38;5;28;01massert\u001b[39;00m cond_dist\u001b[38;5;241m.\u001b[39mtarget \u001b[38;5;129;01mnot\u001b[39;00m \u001b[38;5;129;01min\u001b[39;00m \u001b[38;5;28mself\u001b[39m\u001b[38;5;241m.\u001b[39mdf_joint\u001b[38;5;241m.\u001b[39mcolumns, \\\n\u001b[0;32m     47\u001b[0m     \u001b[38;5;124mf\u001b[39m\u001b[38;5;124m\"\u001b[39m\u001b[38;5;124mrandom variable already in network: \u001b[39m\u001b[38;5;132;01m{\u001b[39;00mcond_dist\u001b[38;5;241m.\u001b[39mtarget\u001b[38;5;132;01m}\u001b[39;00m\u001b[38;5;124m\"\u001b[39m\n",
      "\u001b[1;31mAssertionError\u001b[0m: condition rvs not in joint table: ['Rain', 'Sprinkler']"
     ]
    }
   ],
   "source": [
    "# add wet grass conditional prob\n",
    "cond_prob_grass_wet = \\\n",
    "    ConditionalProb(target='WetGrass',\n",
    "                    condition_list=['Rain', 'Sprinkler'],\n",
    "                    cond_prob_dict={('r1', 's1'): {'w1': .99, 'w0': .01},\n",
    "                                    ('r0', 's1'): {'w1': 0.9, 'w0': .1},\n",
    "                                    ('r1', 's0'): {'w1': 0.9, 'w0': .1},\n",
    "                                    ('r0', 's0'): {'w1': 0.0, 'w0': 1}})\n",
    "bayes_net.add_conditional_node(cond_prob_grass_wet)\n",
    "\n",
    "# check that wet grass conditional prob was added properly\n",
    "df_joint_expected = pd.read_csv('expected_csv/prob_cloudy_rain_sprinkler_grass.csv', index_col=False)\n",
    "assert_df_equal_no_idx(df_joint_expected, bayes_net.df_joint)"
   ]
  },
  {
   "cell_type": "code",
   "execution_count": 10,
   "metadata": {},
   "outputs": [
    {
     "data": {
      "text/html": [
       "<div>\n",
       "<style scoped>\n",
       "    .dataframe tbody tr th:only-of-type {\n",
       "        vertical-align: middle;\n",
       "    }\n",
       "\n",
       "    .dataframe tbody tr th {\n",
       "        vertical-align: top;\n",
       "    }\n",
       "\n",
       "    .dataframe thead th {\n",
       "        text-align: right;\n",
       "    }\n",
       "</style>\n",
       "<table border=\"1\" class=\"dataframe\">\n",
       "  <thead>\n",
       "    <tr style=\"text-align: right;\">\n",
       "      <th></th>\n",
       "      <th>prob</th>\n",
       "      <th>Cloudy</th>\n",
       "      <th>Rain</th>\n",
       "      <th>Sprinkler</th>\n",
       "    </tr>\n",
       "  </thead>\n",
       "  <tbody>\n",
       "    <tr>\n",
       "      <th>0</th>\n",
       "      <td>0.05</td>\n",
       "      <td>c0</td>\n",
       "      <td>r1</td>\n",
       "      <td>s1</td>\n",
       "    </tr>\n",
       "    <tr>\n",
       "      <th>1</th>\n",
       "      <td>0.05</td>\n",
       "      <td>c0</td>\n",
       "      <td>r1</td>\n",
       "      <td>s0</td>\n",
       "    </tr>\n",
       "    <tr>\n",
       "      <th>2</th>\n",
       "      <td>0.20</td>\n",
       "      <td>c0</td>\n",
       "      <td>r0</td>\n",
       "      <td>s1</td>\n",
       "    </tr>\n",
       "    <tr>\n",
       "      <th>3</th>\n",
       "      <td>0.20</td>\n",
       "      <td>c0</td>\n",
       "      <td>r0</td>\n",
       "      <td>s0</td>\n",
       "    </tr>\n",
       "    <tr>\n",
       "      <th>4</th>\n",
       "      <td>0.04</td>\n",
       "      <td>c1</td>\n",
       "      <td>r1</td>\n",
       "      <td>s1</td>\n",
       "    </tr>\n",
       "    <tr>\n",
       "      <th>5</th>\n",
       "      <td>0.36</td>\n",
       "      <td>c1</td>\n",
       "      <td>r1</td>\n",
       "      <td>s0</td>\n",
       "    </tr>\n",
       "    <tr>\n",
       "      <th>6</th>\n",
       "      <td>0.01</td>\n",
       "      <td>c1</td>\n",
       "      <td>r0</td>\n",
       "      <td>s1</td>\n",
       "    </tr>\n",
       "    <tr>\n",
       "      <th>7</th>\n",
       "      <td>0.09</td>\n",
       "      <td>c1</td>\n",
       "      <td>r0</td>\n",
       "      <td>s0</td>\n",
       "    </tr>\n",
       "  </tbody>\n",
       "</table>\n",
       "</div>"
      ],
      "text/plain": [
       "   prob Cloudy Rain Sprinkler\n",
       "0  0.05     c0   r1        s1\n",
       "1  0.05     c0   r1        s0\n",
       "2  0.20     c0   r0        s1\n",
       "3  0.20     c0   r0        s0\n",
       "4  0.04     c1   r1        s1\n",
       "5  0.36     c1   r1        s0\n",
       "6  0.01     c1   r0        s1\n",
       "7  0.09     c1   r0        s0"
      ]
     },
     "execution_count": 10,
     "metadata": {},
     "output_type": "execute_result"
    }
   ],
   "source": [
    "df_joint_expected"
   ]
  },
  {
   "cell_type": "markdown",
   "metadata": {},
   "source": [
    "# Part 3: `BayesNet.get_prob` (20 points)"
   ]
  },
  {
   "cell_type": "code",
   "execution_count": null,
   "metadata": {},
   "outputs": [],
   "source": [
    "from math import isclose\n",
    "\n",
    "assert isclose(bayes_net.get_prob({'Cloudy': 'c1'}), .5)\n",
    "\n",
    "assert isclose(bayes_net.get_prob({'Sprinkler': 's1', 'Cloudy': 'c1'}), .05)\n",
    "assert isclose(bayes_net.get_prob({'Sprinkler': 's1', 'Cloudy': 'c0'}), .25)\n",
    "assert isclose(bayes_net.get_prob({'Sprinkler': 's1'}), .3)\n",
    "\n",
    "assert isclose(bayes_net.get_prob({'Rain': 'r1', 'Cloudy': 'c1'}), .4)\n",
    "assert isclose(bayes_net.get_prob({'Rain': 'r1', 'Cloudy': 'c0'}), .1)\n",
    "assert isclose(bayes_net.get_prob({'Rain': 'r1'}), .5)"
   ]
  },
  {
   "cell_type": "markdown",
   "metadata": {},
   "source": [
    "#### extra math note (not needed for HW completion, helpful for probability fluency though)\n",
    "\n",
    "The chunks of three assert statements immediately above demonstrate marginalization: \n",
    "\n",
    "- there's only two ways sprinkler is on: \n",
    "    - when its cloudy or clear outside (.3 = .05 + .25)\n",
    "- there's only two ways its raining:     \n",
    "    - when its cloudy or clear outside (.5 = .1 + .4)"
   ]
  },
  {
   "cell_type": "markdown",
   "metadata": {},
   "source": [
    "# Part 4: `BayesNet.get_conditional_prob` (15 points)\n",
    "\n",
    "To validate `.get_conditional_prob()` we reproduce known conditional probs from the bayes net definition:"
   ]
  },
  {
   "cell_type": "code",
   "execution_count": null,
   "metadata": {},
   "outputs": [],
   "source": [
    "# whats the prob the sprinkler is on given its cloudy?\n",
    "assert isclose(bayes_net.get_conditional_prob(state={'Sprinkler': 's1'}, condition={'Cloudy': 'c1'}), .1)"
   ]
  },
  {
   "cell_type": "code",
   "execution_count": null,
   "metadata": {},
   "outputs": [],
   "source": [
    "# whats the prob its not raining given its not cloudy?\n",
    "assert isclose(bayes_net.get_conditional_prob(state={'Rain': 'r0'}, condition={'Cloudy': 'c0'}), .8)"
   ]
  },
  {
   "cell_type": "code",
   "execution_count": null,
   "metadata": {},
   "outputs": [],
   "source": [
    "# whats the prob lawn is wet given sprinkler is on and its raining?\n",
    "assert isclose(bayes_net.get_conditional_prob(state={'WetGrass': 'w1'}, condition={'Sprinkler': 's1',\n",
    "                                                                                    'Rain': 'r1'}), .99)"
   ]
  },
  {
   "cell_type": "markdown",
   "metadata": {},
   "source": [
    "# Part 5: Gardening (15 points)\n",
    "\n",
    "A gardener wants their newly planted lawn to have (at least) a 70% chance of being wet while using their sprinkler as little as possible, to conserve water.  Each morning they step outside their house and observe only if it is cloudy or not.  With only this evidence, they want to know whether they must turn their sprinkler on.\n",
    "\n",
    "- on clear days, should the gardener turn on their sprinkler?\n",
    "- on cloudy days, should the gardener turn on their sprinkler?\n",
    "- is it possible for the gardener to always ensure at least 70% chance of having a wet lawn?\n",
    "\n",
    "Call a few methods of the bayes net above to investigate the questions immediately above.  Write a summary of results in 2-3 sentences which is easily understood by a garener who knows little of probability or Bayes Nets."
   ]
  },
  {
   "cell_type": "markdown",
   "metadata": {},
   "source": [
    "# Part 6: Memory Analysis (5 points)\n",
    "\n",
    "Let's consider the liver disease bayes net example shown in class.  Assuming it has 40 total nodes, and each is binary, how much memory would it cost to store the probability column of `df_joint` as shown above?  Assume that every combination of variables must be stored as a float which uses `np.ones(1).nbytes / 1e6` megabytes of space.\n",
    "\n",
    "Summarize your computation in 2 sentences so a non-technical reader can understand the drawback.  (Note: this memory problem lies with our implementation, there are methods to avoid it)\n",
    "\n",
    "Hint:\n",
    "- its a big number, don't try this line of code as you'll run out of memory before you get an answer:\n",
    "    - `np.ones(2 ** 40).nbytes / 1e6` megabytes of space"
   ]
  }
 ],
 "metadata": {
  "kernelspec": {
   "display_name": "Python 3 (ipykernel)",
   "language": "python",
   "name": "python3"
  },
  "language_info": {
   "codemirror_mode": {
    "name": "ipython",
    "version": 3
   },
   "file_extension": ".py",
   "mimetype": "text/x-python",
   "name": "python",
   "nbconvert_exporter": "python",
   "pygments_lexer": "ipython3",
   "version": "3.11.1"
  }
 },
 "nbformat": 4,
 "nbformat_minor": 4
}
