{
 "cells": [
  {
   "cell_type": "code",
   "execution_count": 1,
   "id": "d5a26f06",
   "metadata": {},
   "outputs": [
    {
     "data": {
      "text/html": [
       "<div>\n",
       "<style scoped>\n",
       "    .dataframe tbody tr th:only-of-type {\n",
       "        vertical-align: middle;\n",
       "    }\n",
       "\n",
       "    .dataframe tbody tr th {\n",
       "        vertical-align: top;\n",
       "    }\n",
       "\n",
       "    .dataframe thead th {\n",
       "        text-align: right;\n",
       "    }\n",
       "</style>\n",
       "<table border=\"1\" class=\"dataframe\">\n",
       "  <thead>\n",
       "    <tr style=\"text-align: right;\">\n",
       "      <th></th>\n",
       "      <th>Date</th>\n",
       "      <th>Median Sale Price</th>\n",
       "      <th>Average Sale Price</th>\n",
       "      <th>County</th>\n",
       "    </tr>\n",
       "  </thead>\n",
       "  <tbody>\n",
       "    <tr>\n",
       "      <th>0</th>\n",
       "      <td>Jan 2001</td>\n",
       "      <td>393638.73</td>\n",
       "      <td>646535.35</td>\n",
       "      <td>Fairfield</td>\n",
       "    </tr>\n",
       "    <tr>\n",
       "      <th>1</th>\n",
       "      <td>Feb 2001</td>\n",
       "      <td>374604.75</td>\n",
       "      <td>652568.27</td>\n",
       "      <td>Fairfield</td>\n",
       "    </tr>\n",
       "    <tr>\n",
       "      <th>2</th>\n",
       "      <td>Mar 2001</td>\n",
       "      <td>400118.38</td>\n",
       "      <td>619265.04</td>\n",
       "      <td>Fairfield</td>\n",
       "    </tr>\n",
       "    <tr>\n",
       "      <th>3</th>\n",
       "      <td>Apr 2001</td>\n",
       "      <td>396878.55</td>\n",
       "      <td>617362.17</td>\n",
       "      <td>Fairfield</td>\n",
       "    </tr>\n",
       "    <tr>\n",
       "      <th>4</th>\n",
       "      <td>May 2001</td>\n",
       "      <td>427616.39</td>\n",
       "      <td>613559.53</td>\n",
       "      <td>Fairfield</td>\n",
       "    </tr>\n",
       "  </tbody>\n",
       "</table>\n",
       "</div>"
      ],
      "text/plain": [
       "       Date  Median Sale Price  Average Sale Price     County\n",
       "0  Jan 2001          393638.73           646535.35  Fairfield\n",
       "1  Feb 2001          374604.75           652568.27  Fairfield\n",
       "2  Mar 2001          400118.38           619265.04  Fairfield\n",
       "3  Apr 2001          396878.55           617362.17  Fairfield\n",
       "4  May 2001          427616.39           613559.53  Fairfield"
      ]
     },
     "execution_count": 1,
     "metadata": {},
     "output_type": "execute_result"
    }
   ],
   "source": [
    "import pandas as pd\n",
    "df_homes = pd.read_csv(\"Monthly_Sale_Price_of_Single_Family_Homes_in_CT.csv\")\n",
    "df_homes.head()"
   ]
  },
  {
   "cell_type": "code",
   "execution_count": 2,
   "id": "823f0be4",
   "metadata": {},
   "outputs": [
    {
     "data": {
      "text/plain": [
       "Date                   Jan 2001\n",
       "Median Sale Price     393638.73\n",
       "Average Sale Price    646535.35\n",
       "County                Fairfield\n",
       "Name: 0, dtype: object"
      ]
     },
     "execution_count": 2,
     "metadata": {},
     "output_type": "execute_result"
    }
   ],
   "source": [
    "df_homes.iloc[0]"
   ]
  },
  {
   "cell_type": "markdown",
   "id": "0bf07c48",
   "metadata": {
    "slideshow": {
     "slide_type": "slide"
    }
   },
   "source": [
    "from data.gov, this dataset records the average and median sale price of a single family home for each county in connecticut. \n",
    "\n",
    "features:\n",
    "- date: month/year the data was recorded (from 2001 ot present)\n",
    "- median sale price: of homes in that county\n",
    "- average sale price: of homes in that county\n",
    "- county: in ct\n",
    "\n",
    "in a time with much economic uncertainty, **it's becoming increasingly difficult to buy a home.** on top of the already tumultuous, the supply of homes has decreased. this project aims to explore the trends in single-family home prices over the years. the data in this set looks specifically at connecticut state and ranges from 2001 to the present, which encapsulates the effect of both the pandamic and the recession in 2008. \n",
    "\n",
    "using machine learning techniques, it's possible to discover the counties in connecticut that are more stable / fluctuant in their prices and where changes are more elastic. this may provide potential homebuyers some context and narrow their choice of where to move. it's also possible to cluster the data based on county and compare them to each othe: economically speaking, which geographic areas people are pushing/pulling away from?\n",
    "\n",
    "it may be possible to locate a similar dataset that shows the demographics of homebuyers, as it's been seen that women and people of color struggle much more in such a competitive market (especially on the financial side (obtaining loans, mortgages))\n",
    "\n",
    "--\n",
    "\n",
    "i've linked a few articles that illustrate some current issues home-buyers are facing:\n",
    "- https://www.nytimes.com/2022/11/11/realestate/first-time-buyers-housing-market.html\n",
    "- https://www.bostonglobe.com/2022/10/07/business/more-people-greater-boston-are-giving-up-buying-house-thats-bad-news-renters/\n",
    "- https://www.jchs.harvard.edu/blog/homebuying-challenges-tight-housing-market-perspectives-brockton-massachusetts"
   ]
  }
 ],
 "metadata": {
  "kernelspec": {
   "display_name": "Python 3 (ipykernel)",
   "language": "python",
   "name": "python3"
  },
  "language_info": {
   "codemirror_mode": {
    "name": "ipython",
    "version": 3
   },
   "file_extension": ".py",
   "mimetype": "text/x-python",
   "name": "python",
   "nbconvert_exporter": "python",
   "pygments_lexer": "ipython3",
   "version": "3.11.1"
  }
 },
 "nbformat": 4,
 "nbformat_minor": 5
}
